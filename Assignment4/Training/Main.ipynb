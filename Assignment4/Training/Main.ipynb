{
  "nbformat": 4,
  "nbformat_minor": 0,
  "metadata": {
    "colab": {
      "name": "Untitled13.ipynb",
      "provenance": []
    },
    "kernelspec": {
      "name": "python3",
      "display_name": "Python 3"
    },
    "accelerator": "GPU"
  },
  "cells": [
    {
      "cell_type": "markdown",
      "metadata": {
        "id": "XD_Z0yrgFpC_",
        "colab_type": "text"
      },
      "source": [
        "#Mount drive"
      ]
    },
    {
      "cell_type": "code",
      "metadata": {
        "id": "ufn3RbWaCCML",
        "colab_type": "code",
        "colab": {
          "base_uri": "https://localhost:8080/",
          "height": 71
        },
        "outputId": "ad8757bb-e032-44e1-f934-d2b2b3a906c6"
      },
      "source": [
        "from google.colab import drive\n",
        "drive.mount('/content/gdrive')\n",
        "%cd /content/gdrive/My\\ Drive/EVA2/Assignment4"
      ],
      "execution_count": 1,
      "outputs": [
        {
          "output_type": "stream",
          "text": [
            "Drive already mounted at /content/gdrive; to attempt to forcibly remount, call drive.mount(\"/content/gdrive\", force_remount=True).\n",
            "/content/gdrive/My Drive/EVA2/Assignment4\n"
          ],
          "name": "stdout"
        }
      ]
    },
    {
      "cell_type": "markdown",
      "metadata": {
        "id": "ZTgmNC9eFuTo",
        "colab_type": "text"
      },
      "source": [
        "#Installing requirements"
      ]
    },
    {
      "cell_type": "code",
      "metadata": {
        "id": "BxKWaodV4c93",
        "colab_type": "code",
        "colab": {
          "base_uri": "https://localhost:8080/",
          "height": 768
        },
        "outputId": "02b49f12-ae2d-4c06-c683-50ad2aca3fa1"
      },
      "source": [
        "!pip install torch-lr-finder\n",
        "!pip install torch-lr-finder -v --global-option=\"amp\"\n",
        "!pip install facenet-pytorch"
      ],
      "execution_count": 2,
      "outputs": [
        {
          "output_type": "stream",
          "text": [
            "Requirement already satisfied: torch-lr-finder in /usr/local/lib/python3.6/dist-packages (0.2.0)\n",
            "Requirement already satisfied: numpy in /usr/local/lib/python3.6/dist-packages (from torch-lr-finder) (1.18.5)\n",
            "Requirement already satisfied: torch>=0.4.1 in /usr/local/lib/python3.6/dist-packages (from torch-lr-finder) (1.6.0+cu101)\n",
            "Requirement already satisfied: packaging in /usr/local/lib/python3.6/dist-packages (from torch-lr-finder) (20.4)\n",
            "Requirement already satisfied: tqdm in /usr/local/lib/python3.6/dist-packages (from torch-lr-finder) (4.41.1)\n",
            "Requirement already satisfied: matplotlib in /usr/local/lib/python3.6/dist-packages (from torch-lr-finder) (3.2.2)\n",
            "Requirement already satisfied: future in /usr/local/lib/python3.6/dist-packages (from torch>=0.4.1->torch-lr-finder) (0.16.0)\n",
            "Requirement already satisfied: six in /usr/local/lib/python3.6/dist-packages (from packaging->torch-lr-finder) (1.15.0)\n",
            "Requirement already satisfied: pyparsing>=2.0.2 in /usr/local/lib/python3.6/dist-packages (from packaging->torch-lr-finder) (2.4.7)\n",
            "Requirement already satisfied: cycler>=0.10 in /usr/local/lib/python3.6/dist-packages (from matplotlib->torch-lr-finder) (0.10.0)\n",
            "Requirement already satisfied: python-dateutil>=2.1 in /usr/local/lib/python3.6/dist-packages (from matplotlib->torch-lr-finder) (2.8.1)\n",
            "Requirement already satisfied: kiwisolver>=1.0.1 in /usr/local/lib/python3.6/dist-packages (from matplotlib->torch-lr-finder) (1.2.0)\n",
            "/usr/local/lib/python3.6/dist-packages/pip/_internal/commands/install.py:283: UserWarning: Disabling all use of wheels due to the use of --build-options / --global-options / --install-options.\n",
            "  cmdoptions.check_install_build_global(options)\n",
            "Created temporary directory: /tmp/pip-ephem-wheel-cache-7simjypg\n",
            "Created temporary directory: /tmp/pip-req-tracker-qlybkqn1\n",
            "Created requirements tracker '/tmp/pip-req-tracker-qlybkqn1'\n",
            "Created temporary directory: /tmp/pip-install-zxm44i0m\n",
            "Requirement already satisfied: torch-lr-finder in /usr/local/lib/python3.6/dist-packages (0.2.0)\n",
            "Requirement already satisfied: torch>=0.4.1 in /usr/local/lib/python3.6/dist-packages (from torch-lr-finder) (1.6.0+cu101)\n",
            "Requirement already satisfied: numpy in /usr/local/lib/python3.6/dist-packages (from torch-lr-finder) (1.18.5)\n",
            "Requirement already satisfied: tqdm in /usr/local/lib/python3.6/dist-packages (from torch-lr-finder) (4.41.1)\n",
            "Requirement already satisfied: matplotlib in /usr/local/lib/python3.6/dist-packages (from torch-lr-finder) (3.2.2)\n",
            "Requirement already satisfied: packaging in /usr/local/lib/python3.6/dist-packages (from torch-lr-finder) (20.4)\n",
            "Requirement already satisfied: future in /usr/local/lib/python3.6/dist-packages (from torch>=0.4.1->torch-lr-finder) (0.16.0)\n",
            "Requirement already satisfied: pyparsing!=2.0.4,!=2.1.2,!=2.1.6,>=2.0.1 in /usr/local/lib/python3.6/dist-packages (from matplotlib->torch-lr-finder) (2.4.7)\n",
            "Requirement already satisfied: cycler>=0.10 in /usr/local/lib/python3.6/dist-packages (from matplotlib->torch-lr-finder) (0.10.0)\n",
            "Requirement already satisfied: python-dateutil>=2.1 in /usr/local/lib/python3.6/dist-packages (from matplotlib->torch-lr-finder) (2.8.1)\n",
            "Requirement already satisfied: kiwisolver>=1.0.1 in /usr/local/lib/python3.6/dist-packages (from matplotlib->torch-lr-finder) (1.2.0)\n",
            "Requirement already satisfied: six in /usr/local/lib/python3.6/dist-packages (from packaging->torch-lr-finder) (1.15.0)\n",
            "Cleaning up...\n",
            "Removed build tracker '/tmp/pip-req-tracker-qlybkqn1'\n",
            "Requirement already satisfied: facenet-pytorch in /usr/local/lib/python3.6/dist-packages (2.3.1)\n",
            "Requirement already satisfied: requests in /usr/local/lib/python3.6/dist-packages (from facenet-pytorch) (2.23.0)\n",
            "Requirement already satisfied: pillow in /usr/local/lib/python3.6/dist-packages (from facenet-pytorch) (7.0.0)\n",
            "Requirement already satisfied: torchvision in /usr/local/lib/python3.6/dist-packages (from facenet-pytorch) (0.7.0+cu101)\n",
            "Requirement already satisfied: numpy in /usr/local/lib/python3.6/dist-packages (from facenet-pytorch) (1.18.5)\n",
            "Requirement already satisfied: certifi>=2017.4.17 in /usr/local/lib/python3.6/dist-packages (from requests->facenet-pytorch) (2020.6.20)\n",
            "Requirement already satisfied: urllib3!=1.25.0,!=1.25.1,<1.26,>=1.21.1 in /usr/local/lib/python3.6/dist-packages (from requests->facenet-pytorch) (1.24.3)\n",
            "Requirement already satisfied: idna<3,>=2.5 in /usr/local/lib/python3.6/dist-packages (from requests->facenet-pytorch) (2.10)\n",
            "Requirement already satisfied: chardet<4,>=3.0.2 in /usr/local/lib/python3.6/dist-packages (from requests->facenet-pytorch) (3.0.4)\n",
            "Requirement already satisfied: torch==1.6.0 in /usr/local/lib/python3.6/dist-packages (from torchvision->facenet-pytorch) (1.6.0+cu101)\n",
            "Requirement already satisfied: future in /usr/local/lib/python3.6/dist-packages (from torch==1.6.0->torchvision->facenet-pytorch) (0.16.0)\n"
          ],
          "name": "stdout"
        }
      ]
    },
    {
      "cell_type": "markdown",
      "metadata": {
        "id": "b3k8t-wNF7ca",
        "colab_type": "text"
      },
      "source": [
        "#removing redundant files, adding folder structure"
      ]
    },
    {
      "cell_type": "code",
      "metadata": {
        "id": "ZIxG2u8QYzeh",
        "colab_type": "code",
        "colab": {}
      },
      "source": [
        "import os\n",
        "!rm -rf /content/ZData/\n",
        "!mkdir /content/ZData/\n",
        "!mkdir /content/ZData/Train\n",
        "!mkdir /content/ZData/Val\n",
        "!tar -xf lfw-funneled.tar --directory /content/ZData/\n",
        "!unzip -q extra_data.zip -d /content/ZData/extra_data/\n",
        "for p,d,f in os.walk('/content/ZData/extra_data/'):\n",
        "  for f1 in f:\n",
        "    if f1=='Thumbs.db':\n",
        "      os.remove(p+'/'+f1)\n",
        "!mv /content/ZData/extra_data/* /content/ZData/lfw_funneled/\n",
        "!rm -rf /content/ZData/extra_data"
      ],
      "execution_count": 7,
      "outputs": []
    },
    {
      "cell_type": "markdown",
      "metadata": {
        "id": "uwkW9MgQGERJ",
        "colab_type": "text"
      },
      "source": [
        "#Managing Imports"
      ]
    },
    {
      "cell_type": "code",
      "metadata": {
        "id": "W6NqdhELKK2V",
        "colab_type": "code",
        "colab": {
          "base_uri": "https://localhost:8080/",
          "height": 34
        },
        "outputId": "7ab069e1-425e-4919-d8ec-eefbc8630159"
      },
      "source": [
        "from torch import nn, optim\n",
        "from torch.optim import lr_scheduler\n",
        "from torchvision import models\n",
        "import torch.nn.functional as F\n",
        "from facenet_pytorch import MTCNN, InceptionResnetV1\n",
        "import cv2\n",
        "import os\n",
        "import sys\n",
        "import matplotlib.pyplot as plt\n",
        "from Transform_utils.transforme_album import Data\n",
        "import general_utils\n",
        "import torch\n",
        "import torchvision\n",
        "import cudas\n",
        "import shutil"
      ],
      "execution_count": 3,
      "outputs": [
        {
          "output_type": "stream",
          "text": [
            "CUDA Available? True\n"
          ],
          "name": "stdout"
        }
      ]
    },
    {
      "cell_type": "markdown",
      "metadata": {
        "id": "Omhmv2DRxGwK",
        "colab_type": "text"
      },
      "source": [
        "#taking data from lfw with size>4 and 10 extra folders"
      ]
    },
    {
      "cell_type": "code",
      "metadata": {
        "id": "_nfzW9RfcSKI",
        "colab_type": "code",
        "colab": {}
      },
      "source": [
        "from tqdm.autonotebook import tqdm\n",
        "count=0\n",
        "mtcnn = MTCNN(post_process=False)\n",
        "for p,d,f in os.walk('/content/ZData/lfw_funneled/'):\n",
        "  for d1 in d:\n",
        "    for p2,d2,f2 in os.walk(p+d1+'/'):\n",
        "      if len(f2)>3:\n",
        "        count = count+1\n",
        "        if not os.path.exists('/content/ZData/Train/'+d1+'/'):\n",
        "             os.makedirs('/content/ZData/Train/'+d1+'/')\n",
        "             os.makedirs('/content/ZData/Val/'+d1+'/')\n",
        "        count1 = 0\n",
        "        for fx in f2:\n",
        "          count1=count1+1\n",
        "          im = cv2.imread(p2+fx)\n",
        "          if im is not None:\n",
        "            face = mtcnn(im)\n",
        "            if face is not None:\n",
        "              cv2.imwrite(p2+fx, face.permute(1, 2, 0).int().numpy())\n",
        "            else:\n",
        "              !rm -rf p2+fx\n",
        "          else:\n",
        "            !rm -rf p2+fx"
      ],
      "execution_count": 14,
      "outputs": []
    },
    {
      "cell_type": "markdown",
      "metadata": {
        "id": "J05r5HjjxRYx",
        "colab_type": "text"
      },
      "source": [
        "#Split 70:30 in train and val"
      ]
    },
    {
      "cell_type": "code",
      "metadata": {
        "id": "8TdlAe9XqiQ4",
        "colab_type": "code",
        "colab": {}
      },
      "source": [
        "count=0\n",
        "for p,d,f in os.walk('/content/ZData/lfw_funneled/'): \n",
        "  for d1 in d:\n",
        "    for p2,d2,f2 in os.walk(p+d1+'/'):\n",
        "      if len(f2)>9:\n",
        "        count = count+1\n",
        "        if not os.path.exists('/content/ZData/Train/'+d1+'/'):\n",
        "             os.makedirs('/content/ZData/Train/'+d1+'/')\n",
        "             os.makedirs('/content/ZData/Val/'+d1+'/')\n",
        "        count1 = 0\n",
        "        for fx in f2:\n",
        "          count1=count1+1\n",
        "          if count1<0.7*len(f2):\n",
        "            shutil.copy(p2+fx, '/content/ZData/Train/'+d1+'/')\n",
        "          else:\n",
        "            shutil.copy(p2+fx, '/content/ZData/Val/'+d1+'/')\n",
        "!rm -rf /content/ZData/lfw_funneled/"
      ],
      "execution_count": 10,
      "outputs": []
    },
    {
      "cell_type": "code",
      "metadata": {
        "id": "zmKUWN8JhnRp",
        "colab_type": "code",
        "colab": {}
      },
      "source": [
        "import zipfile\n",
        "myZipFile = zipfile.ZipFile(\"zip_620.zip\", \"w\" )\n",
        "for p,d,f in os.walk('/content/ZData/'):\n",
        "  for f1 in f:\n",
        "    myZipFile.write(p+'/'+f1, p+'/'+f1 )"
      ],
      "execution_count": 11,
      "outputs": []
    },
    {
      "cell_type": "markdown",
      "metadata": {
        "id": "uVfYYL4LKlVv",
        "colab_type": "text"
      },
      "source": [
        "#Data loading"
      ]
    },
    {
      "cell_type": "code",
      "metadata": {
        "id": "wJuUaY_9EkLJ",
        "colab_type": "code",
        "colab": {
          "base_uri": "https://localhost:8080/",
          "height": 51
        },
        "outputId": "cb0b9e51-c588-460d-f704-05dddfe7fe44"
      },
      "source": [
        "data = Data()\n",
        "trainset = data.getTrainDataSet(train=True)\n",
        "testset =  data.getTestDataSet(train=False)\n",
        "trainloader = data.getDataLoader(trainset, 128)\n",
        "trainloader1 = data.getDataLoader(trainset, 8)\n",
        "testloader = data.getDataLoader(testset, 128)\n",
        "testloader1 = data.getDataLoader(testset, 8)\n",
        "classes = trainset.classes"
      ],
      "execution_count": 4,
      "outputs": [
        {
          "output_type": "stream",
          "text": [
            "Train Data size 3054\n",
            "Test Data size 1449\n"
          ],
          "name": "stdout"
        }
      ]
    },
    {
      "cell_type": "markdown",
      "metadata": {
        "id": "OUJdSZs1KguT",
        "colab_type": "text"
      },
      "source": [
        "#Display Images"
      ]
    },
    {
      "cell_type": "code",
      "metadata": {
        "id": "OEI95I27G-Ki",
        "colab_type": "code",
        "colab": {
          "base_uri": "https://localhost:8080/",
          "height": 298
        },
        "outputId": "f750f4d7-b74c-4251-fc8f-09d20016368f"
      },
      "source": [
        "# get some random training images\n",
        "dataiter = iter(trainloader1)\n",
        "images, labels = dataiter.next()\n",
        "print(images.shape)\n",
        "general_utils.imshow(torchvision.utils.make_grid(images))\n",
        "print('\\n\\n','\\n'.join('%5s' % classes[labels[j]] for j in range(8)))"
      ],
      "execution_count": 5,
      "outputs": [
        {
          "output_type": "stream",
          "text": [
            "Clipping input data to the valid range for imshow with RGB data ([0..1] for floats or [0..255] for integers).\n"
          ],
          "name": "stderr"
        },
        {
          "output_type": "stream",
          "text": [
            "torch.Size([8, 3, 160, 160])\n",
            "\n",
            "\n",
            " George_W_Bush\n",
            "Recep_Tayyip_Erdogan\n",
            "Venus_Williams\n",
            "Tom_Ridge\n",
            "Jacques_Chirac\n",
            "George_W_Bush\n",
            "Deepika_Padukone\n",
            "Jean_Chretien\n"
          ],
          "name": "stdout"
        },
        {
          "output_type": "display_data",
          "data": {
            "image/png": "[encoded data removed]",
            "text/plain": [
              "<Figure size 432x288 with 1 Axes>"
            ]
          },
          "metadata": {
            "tags": [],
            "needs_background": "light"
          }
        }
      ]
    },
    {
      "cell_type": "markdown",
      "metadata": {
        "id": "u8Tn8ifQGncT",
        "colab_type": "text"
      },
      "source": [
        "#Model Loading and updation"
      ]
    },
    {
      "cell_type": "code",
      "metadata": {
        "id": "MpoWNnkEHut4",
        "colab_type": "code",
        "colab": {
          "base_uri": "https://localhost:8080/",
          "height": 34
        },
        "outputId": "007ed35a-0629-45ee-b1b7-2e33bd826248"
      },
      "source": [
        "class Flatten(nn.Module):\n",
        "    def __init__(self):\n",
        "        super(Flatten, self).__init__()\n",
        "        \n",
        "    def forward(self, x):\n",
        "        x = x.view(x.size(0), -1)\n",
        "        return x\n",
        "class normalize(nn.Module):\n",
        "    def __init__(self):\n",
        "        super(normalize, self).__init__()\n",
        "        \n",
        "    def forward(self, x):\n",
        "        x = F.normalize(x, p=2, dim=1)\n",
        "        return x\n",
        "        \n",
        "from models.inception_resnet_v1 import InceptionResnetV1\n",
        "device = torch.device(\"cuda\" if cudas.cuda else \"cpu\")\n",
        "print('Running on device: {}'.format(device))\n",
        "model_ft = InceptionResnetV1(pretrained='vggface2', classify=False, num_classes = len(classes))\n",
        "list(model_ft.children())[-6:]\n",
        "layer_list = list(model_ft.children())[-5:] # all final layers\n",
        "model_ft = nn.Sequential(*list(model_ft.children())[:-5])\n",
        "\n",
        "for param in model_ft.parameters():\n",
        "    param.requires_grad = False"
      ],
      "execution_count": 15,
      "outputs": [
        {
          "output_type": "stream",
          "text": [
            "Running on device: cuda\n"
          ],
          "name": "stdout"
        }
      ]
    },
    {
      "cell_type": "code",
      "metadata": {
        "id": "BvXbFMxKXE_3",
        "colab_type": "code",
        "colab": {}
      },
      "source": [
        "model_ft.avgpool_1a = nn.AdaptiveAvgPool2d(output_size=1)\n",
        "model_ft.last_linear = nn.Sequential(\n",
        "    Flatten(),\n",
        "    nn.Linear(in_features=1792, out_features=512, bias=False),\n",
        "    normalize()\n",
        ")\n",
        "model_ft.logits = nn.Linear(512, len(classes))\n",
        "#model_ft.softmax = nn.Softmax(dim=1)\n",
        "net = model_ft.to(device)"
      ],
      "execution_count": 18,
      "outputs": []
    },
    {
      "cell_type": "markdown",
      "metadata": {
        "id": "clmqt0wTG9tX",
        "colab_type": "text"
      },
      "source": [
        "#Summary"
      ]
    },
    {
      "cell_type": "code",
      "metadata": {
        "id": "f-fu5FOzK5x_",
        "colab_type": "code",
        "colab": {
          "base_uri": "https://localhost:8080/",
          "height": 1000
        },
        "outputId": "066e0f17-be4b-4997-ac64-af5695a416a8"
      },
      "source": [
        "print(net)"
      ],
      "execution_count": 19,
      "outputs": [
        {
          "output_type": "stream",
          "text": [
            "Sequential(\n",
            "  (0): BasicConv2d(\n",
            "    (conv): Conv2d(3, 32, kernel_size=(3, 3), stride=(2, 2), bias=False)\n",
            "    (bn): BatchNorm2d(32, eps=0.001, momentum=0.1, affine=True, track_running_stats=True)\n",
            "    (relu): ReLU()\n",
            "  )\n",
            "  (1): BasicConv2d(\n",
            "    (conv): Conv2d(32, 32, kernel_size=(3, 3), stride=(1, 1), bias=False)\n",
            "    (bn): BatchNorm2d(32, eps=0.001, momentum=0.1, affine=True, track_running_stats=True)\n",
            "    (relu): ReLU()\n",
            "  )\n",
            "  (2): BasicConv2d(\n",
            "    (conv): Conv2d(32, 64, kernel_size=(3, 3), stride=(1, 1), padding=(1, 1), bias=False)\n",
            "    (bn): BatchNorm2d(64, eps=0.001, momentum=0.1, affine=True, track_running_stats=True)\n",
            "    (relu): ReLU()\n",
            "  )\n",
            "  (3): MaxPool2d(kernel_size=3, stride=2, padding=0, dilation=1, ceil_mode=False)\n",
            "  (4): BasicConv2d(\n",
            "    (conv): Conv2d(64, 80, kernel_size=(1, 1), stride=(1, 1), bias=False)\n",
            "    (bn): BatchNorm2d(80, eps=0.001, momentum=0.1, affine=True, track_running_stats=True)\n",
            "    (relu): ReLU()\n",
            "  )\n",
            "  (5): BasicConv2d(\n",
            "    (conv): Conv2d(80, 192, kernel_size=(3, 3), stride=(1, 1), bias=False)\n",
            "    (bn): BatchNorm2d(192, eps=0.001, momentum=0.1, affine=True, track_running_stats=True)\n",
            "    (relu): ReLU()\n",
            "  )\n",
            "  (6): BasicConv2d(\n",
            "    (conv): Conv2d(192, 256, kernel_size=(3, 3), stride=(2, 2), bias=False)\n",
            "    (bn): BatchNorm2d(256, eps=0.001, momentum=0.1, affine=True, track_running_stats=True)\n",
            "    (relu): ReLU()\n",
            "  )\n",
            "  (7): Sequential(\n",
            "    (0): Block35(\n",
            "      (branch0): BasicConv2d(\n",
            "        (conv): Conv2d(256, 32, kernel_size=(1, 1), stride=(1, 1), bias=False)\n",
            "        (bn): BatchNorm2d(32, eps=0.001, momentum=0.1, affine=True, track_running_stats=True)\n",
            "        (relu): ReLU()\n",
            "      )\n",
            "      (branch1): Sequential(\n",
            "        (0): BasicConv2d(\n",
            "          (conv): Conv2d(256, 32, kernel_size=(1, 1), stride=(1, 1), bias=False)\n",
            "          (bn): BatchNorm2d(32, eps=0.001, momentum=0.1, affine=True, track_running_stats=True)\n",
            "          (relu): ReLU()\n",
            "        )\n",
            "        (1): BasicConv2d(\n",
            "          (conv): Conv2d(32, 32, kernel_size=(3, 3), stride=(1, 1), padding=(1, 1), bias=False)\n",
            "          (bn): BatchNorm2d(32, eps=0.001, momentum=0.1, affine=True, track_running_stats=True)\n",
            "          (relu): ReLU()\n",
            "        )\n",
            "      )\n",
            "      (branch2): Sequential(\n",
            "        (0): BasicConv2d(\n",
            "          (conv): Conv2d(256, 32, kernel_size=(1, 1), stride=(1, 1), bias=False)\n",
            "          (bn): BatchNorm2d(32, eps=0.001, momentum=0.1, affine=True, track_running_stats=True)\n",
            "          (relu): ReLU()\n",
            "        )\n",
            "        (1): BasicConv2d(\n",
            "          (conv): Conv2d(32, 32, kernel_size=(3, 3), stride=(1, 1), padding=(1, 1), bias=False)\n",
            "          (bn): BatchNorm2d(32, eps=0.001, momentum=0.1, affine=True, track_running_stats=True)\n",
            "          (relu): ReLU()\n",
            "        )\n",
            "        (2): BasicConv2d(\n",
            "          (conv): Conv2d(32, 32, kernel_size=(3, 3), stride=(1, 1), padding=(1, 1), bias=False)\n",
            "          (bn): BatchNorm2d(32, eps=0.001, momentum=0.1, affine=True, track_running_stats=True)\n",
            "          (relu): ReLU()\n",
            "        )\n",
            "      )\n",
            "      (conv2d): Conv2d(96, 256, kernel_size=(1, 1), stride=(1, 1))\n",
            "      (relu): ReLU()\n",
            "    )\n",
            "    (1): Block35(\n",
            "      (branch0): BasicConv2d(\n",
            "        (conv): Conv2d(256, 32, kernel_size=(1, 1), stride=(1, 1), bias=False)\n",
            "        (bn): BatchNorm2d(32, eps=0.001, momentum=0.1, affine=True, track_running_stats=True)\n",
            "        (relu): ReLU()\n",
            "      )\n",
            "      (branch1): Sequential(\n",
            "        (0): BasicConv2d(\n",
            "          (conv): Conv2d(256, 32, kernel_size=(1, 1), stride=(1, 1), bias=False)\n",
            "          (bn): BatchNorm2d(32, eps=0.001, momentum=0.1, affine=True, track_running_stats=True)\n",
            "          (relu): ReLU()\n",
            "        )\n",
            "        (1): BasicConv2d(\n",
            "          (conv): Conv2d(32, 32, kernel_size=(3, 3), stride=(1, 1), padding=(1, 1), bias=False)\n",
            "          (bn): BatchNorm2d(32, eps=0.001, momentum=0.1, affine=True, track_running_stats=True)\n",
            "          (relu): ReLU()\n",
            "        )\n",
            "      )\n",
            "      (branch2): Sequential(\n",
            "        (0): BasicConv2d(\n",
            "          (conv): Conv2d(256, 32, kernel_size=(1, 1), stride=(1, 1), bias=False)\n",
            "          (bn): BatchNorm2d(32, eps=0.001, momentum=0.1, affine=True, track_running_stats=True)\n",
            "          (relu): ReLU()\n",
            "        )\n",
            "        (1): BasicConv2d(\n",
            "          (conv): Conv2d(32, 32, kernel_size=(3, 3), stride=(1, 1), padding=(1, 1), bias=False)\n",
            "          (bn): BatchNorm2d(32, eps=0.001, momentum=0.1, affine=True, track_running_stats=True)\n",
            "          (relu): ReLU()\n",
            "        )\n",
            "        (2): BasicConv2d(\n",
            "          (conv): Conv2d(32, 32, kernel_size=(3, 3), stride=(1, 1), padding=(1, 1), bias=False)\n",
            "          (bn): BatchNorm2d(32, eps=0.001, momentum=0.1, affine=True, track_running_stats=True)\n",
            "          (relu): ReLU()\n",
            "        )\n",
            "      )\n",
            "      (conv2d): Conv2d(96, 256, kernel_size=(1, 1), stride=(1, 1))\n",
            "      (relu): ReLU()\n",
            "    )\n",
            "    (2): Block35(\n",
            "      (branch0): BasicConv2d(\n",
            "        (conv): Conv2d(256, 32, kernel_size=(1, 1), stride=(1, 1), bias=False)\n",
            "        (bn): BatchNorm2d(32, eps=0.001, momentum=0.1, affine=True, track_running_stats=True)\n",
            "        (relu): ReLU()\n",
            "      )\n",
            "      (branch1): Sequential(\n",
            "        (0): BasicConv2d(\n",
            "          (conv): Conv2d(256, 32, kernel_size=(1, 1), stride=(1, 1), bias=False)\n",
            "          (bn): BatchNorm2d(32, eps=0.001, momentum=0.1, affine=True, track_running_stats=True)\n",
            "          (relu): ReLU()\n",
            "        )\n",
            "        (1): BasicConv2d(\n",
            "          (conv): Conv2d(32, 32, kernel_size=(3, 3), stride=(1, 1), padding=(1, 1), bias=False)\n",
            "          (bn): BatchNorm2d(32, eps=0.001, momentum=0.1, affine=True, track_running_stats=True)\n",
            "          (relu): ReLU()\n",
            "        )\n",
            "      )\n",
            "      (branch2): Sequential(\n",
            "        (0): BasicConv2d(\n",
            "          (conv): Conv2d(256, 32, kernel_size=(1, 1), stride=(1, 1), bias=False)\n",
            "          (bn): BatchNorm2d(32, eps=0.001, momentum=0.1, affine=True, track_running_stats=True)\n",
            "          (relu): ReLU()\n",
            "        )\n",
            "        (1): BasicConv2d(\n",
            "          (conv): Conv2d(32, 32, kernel_size=(3, 3), stride=(1, 1), padding=(1, 1), bias=False)\n",
            "          (bn): BatchNorm2d(32, eps=0.001, momentum=0.1, affine=True, track_running_stats=True)\n",
            "          (relu): ReLU()\n",
            "        )\n",
            "        (2): BasicConv2d(\n",
            "          (conv): Conv2d(32, 32, kernel_size=(3, 3), stride=(1, 1), padding=(1, 1), bias=False)\n",
            "          (bn): BatchNorm2d(32, eps=0.001, momentum=0.1, affine=True, track_running_stats=True)\n",
            "          (relu): ReLU()\n",
            "        )\n",
            "      )\n",
            "      (conv2d): Conv2d(96, 256, kernel_size=(1, 1), stride=(1, 1))\n",
            "      (relu): ReLU()\n",
            "    )\n",
            "    (3): Block35(\n",
            "      (branch0): BasicConv2d(\n",
            "        (conv): Conv2d(256, 32, kernel_size=(1, 1), stride=(1, 1), bias=False)\n",
            "        (bn): BatchNorm2d(32, eps=0.001, momentum=0.1, affine=True, track_running_stats=True)\n",
            "        (relu): ReLU()\n",
            "      )\n",
            "      (branch1): Sequential(\n",
            "        (0): BasicConv2d(\n",
            "          (conv): Conv2d(256, 32, kernel_size=(1, 1), stride=(1, 1), bias=False)\n",
            "          (bn): BatchNorm2d(32, eps=0.001, momentum=0.1, affine=True, track_running_stats=True)\n",
            "          (relu): ReLU()\n",
            "        )\n",
            "        (1): BasicConv2d(\n",
            "          (conv): Conv2d(32, 32, kernel_size=(3, 3), stride=(1, 1), padding=(1, 1), bias=False)\n",
            "          (bn): BatchNorm2d(32, eps=0.001, momentum=0.1, affine=True, track_running_stats=True)\n",
            "          (relu): ReLU()\n",
            "        )\n",
            "      )\n",
            "      (branch2): Sequential(\n",
            "        (0): BasicConv2d(\n",
            "          (conv): Conv2d(256, 32, kernel_size=(1, 1), stride=(1, 1), bias=False)\n",
            "          (bn): BatchNorm2d(32, eps=0.001, momentum=0.1, affine=True, track_running_stats=True)\n",
            "          (relu): ReLU()\n",
            "        )\n",
            "        (1): BasicConv2d(\n",
            "          (conv): Conv2d(32, 32, kernel_size=(3, 3), stride=(1, 1), padding=(1, 1), bias=False)\n",
            "          (bn): BatchNorm2d(32, eps=0.001, momentum=0.1, affine=True, track_running_stats=True)\n",
            "          (relu): ReLU()\n",
            "        )\n",
            "        (2): BasicConv2d(\n",
            "          (conv): Conv2d(32, 32, kernel_size=(3, 3), stride=(1, 1), padding=(1, 1), bias=False)\n",
            "          (bn): BatchNorm2d(32, eps=0.001, momentum=0.1, affine=True, track_running_stats=True)\n",
            "          (relu): ReLU()\n",
            "        )\n",
            "      )\n",
            "      (conv2d): Conv2d(96, 256, kernel_size=(1, 1), stride=(1, 1))\n",
            "      (relu): ReLU()\n",
            "    )\n",
            "    (4): Block35(\n",
            "      (branch0): BasicConv2d(\n",
            "        (conv): Conv2d(256, 32, kernel_size=(1, 1), stride=(1, 1), bias=False)\n",
            "        (bn): BatchNorm2d(32, eps=0.001, momentum=0.1, affine=True, track_running_stats=True)\n",
            "        (relu): ReLU()\n",
            "      )\n",
            "      (branch1): Sequential(\n",
            "        (0): BasicConv2d(\n",
            "          (conv): Conv2d(256, 32, kernel_size=(1, 1), stride=(1, 1), bias=False)\n",
            "          (bn): BatchNorm2d(32, eps=0.001, momentum=0.1, affine=True, track_running_stats=True)\n",
            "          (relu): ReLU()\n",
            "        )\n",
            "        (1): BasicConv2d(\n",
            "          (conv): Conv2d(32, 32, kernel_size=(3, 3), stride=(1, 1), padding=(1, 1), bias=False)\n",
            "          (bn): BatchNorm2d(32, eps=0.001, momentum=0.1, affine=True, track_running_stats=True)\n",
            "          (relu): ReLU()\n",
            "        )\n",
            "      )\n",
            "      (branch2): Sequential(\n",
            "        (0): BasicConv2d(\n",
            "          (conv): Conv2d(256, 32, kernel_size=(1, 1), stride=(1, 1), bias=False)\n",
            "          (bn): BatchNorm2d(32, eps=0.001, momentum=0.1, affine=True, track_running_stats=True)\n",
            "          (relu): ReLU()\n",
            "        )\n",
            "        (1): BasicConv2d(\n",
            "          (conv): Conv2d(32, 32, kernel_size=(3, 3), stride=(1, 1), padding=(1, 1), bias=False)\n",
            "          (bn): BatchNorm2d(32, eps=0.001, momentum=0.1, affine=True, track_running_stats=True)\n",
            "          (relu): ReLU()\n",
            "        )\n",
            "        (2): BasicConv2d(\n",
            "          (conv): Conv2d(32, 32, kernel_size=(3, 3), stride=(1, 1), padding=(1, 1), bias=False)\n",
            "          (bn): BatchNorm2d(32, eps=0.001, momentum=0.1, affine=True, track_running_stats=True)\n",
            "          (relu): ReLU()\n",
            "        )\n",
            "      )\n",
            "      (conv2d): Conv2d(96, 256, kernel_size=(1, 1), stride=(1, 1))\n",
            "      (relu): ReLU()\n",
            "    )\n",
            "  )\n",
            "  (8): Mixed_6a(\n",
            "    (branch0): BasicConv2d(\n",
            "      (conv): Conv2d(256, 384, kernel_size=(3, 3), stride=(2, 2), bias=False)\n",
            "      (bn): BatchNorm2d(384, eps=0.001, momentum=0.1, affine=True, track_running_stats=True)\n",
            "      (relu): ReLU()\n",
            "    )\n",
            "    (branch1): Sequential(\n",
            "      (0): BasicConv2d(\n",
            "        (conv): Conv2d(256, 192, kernel_size=(1, 1), stride=(1, 1), bias=False)\n",
            "        (bn): BatchNorm2d(192, eps=0.001, momentum=0.1, affine=True, track_running_stats=True)\n",
            "        (relu): ReLU()\n",
            "      )\n",
            "      (1): BasicConv2d(\n",
            "        (conv): Conv2d(192, 192, kernel_size=(3, 3), stride=(1, 1), padding=(1, 1), bias=False)\n",
            "        (bn): BatchNorm2d(192, eps=0.001, momentum=0.1, affine=True, track_running_stats=True)\n",
            "        (relu): ReLU()\n",
            "      )\n",
            "      (2): BasicConv2d(\n",
            "        (conv): Conv2d(192, 256, kernel_size=(3, 3), stride=(2, 2), bias=False)\n",
            "        (bn): BatchNorm2d(256, eps=0.001, momentum=0.1, affine=True, track_running_stats=True)\n",
            "        (relu): ReLU()\n",
            "      )\n",
            "    )\n",
            "    (branch2): MaxPool2d(kernel_size=3, stride=2, padding=0, dilation=1, ceil_mode=False)\n",
            "  )\n",
            "  (9): Sequential(\n",
            "    (0): Block17(\n",
            "      (branch0): BasicConv2d(\n",
            "        (conv): Conv2d(896, 128, kernel_size=(1, 1), stride=(1, 1), bias=False)\n",
            "        (bn): BatchNorm2d(128, eps=0.001, momentum=0.1, affine=True, track_running_stats=True)\n",
            "        (relu): ReLU()\n",
            "      )\n",
            "      (branch1): Sequential(\n",
            "        (0): BasicConv2d(\n",
            "          (conv): Conv2d(896, 128, kernel_size=(1, 1), stride=(1, 1), bias=False)\n",
            "          (bn): BatchNorm2d(128, eps=0.001, momentum=0.1, affine=True, track_running_stats=True)\n",
            "          (relu): ReLU()\n",
            "        )\n",
            "        (1): BasicConv2d(\n",
            "          (conv): Conv2d(128, 128, kernel_size=(1, 7), stride=(1, 1), padding=(0, 3), bias=False)\n",
            "          (bn): BatchNorm2d(128, eps=0.001, momentum=0.1, affine=True, track_running_stats=True)\n",
            "          (relu): ReLU()\n",
            "        )\n",
            "        (2): BasicConv2d(\n",
            "          (conv): Conv2d(128, 128, kernel_size=(7, 1), stride=(1, 1), padding=(3, 0), bias=False)\n",
            "          (bn): BatchNorm2d(128, eps=0.001, momentum=0.1, affine=True, track_running_stats=True)\n",
            "          (relu): ReLU()\n",
            "        )\n",
            "      )\n",
            "      (conv2d): Conv2d(256, 896, kernel_size=(1, 1), stride=(1, 1))\n",
            "      (relu): ReLU()\n",
            "    )\n",
            "    (1): Block17(\n",
            "      (branch0): BasicConv2d(\n",
            "        (conv): Conv2d(896, 128, kernel_size=(1, 1), stride=(1, 1), bias=False)\n",
            "        (bn): BatchNorm2d(128, eps=0.001, momentum=0.1, affine=True, track_running_stats=True)\n",
            "        (relu): ReLU()\n",
            "      )\n",
            "      (branch1): Sequential(\n",
            "        (0): BasicConv2d(\n",
            "          (conv): Conv2d(896, 128, kernel_size=(1, 1), stride=(1, 1), bias=False)\n",
            "          (bn): BatchNorm2d(128, eps=0.001, momentum=0.1, affine=True, track_running_stats=True)\n",
            "          (relu): ReLU()\n",
            "        )\n",
            "        (1): BasicConv2d(\n",
            "          (conv): Conv2d(128, 128, kernel_size=(1, 7), stride=(1, 1), padding=(0, 3), bias=False)\n",
            "          (bn): BatchNorm2d(128, eps=0.001, momentum=0.1, affine=True, track_running_stats=True)\n",
            "          (relu): ReLU()\n",
            "        )\n",
            "        (2): BasicConv2d(\n",
            "          (conv): Conv2d(128, 128, kernel_size=(7, 1), stride=(1, 1), padding=(3, 0), bias=False)\n",
            "          (bn): BatchNorm2d(128, eps=0.001, momentum=0.1, affine=True, track_running_stats=True)\n",
            "          (relu): ReLU()\n",
            "        )\n",
            "      )\n",
            "      (conv2d): Conv2d(256, 896, kernel_size=(1, 1), stride=(1, 1))\n",
            "      (relu): ReLU()\n",
            "    )\n",
            "    (2): Block17(\n",
            "      (branch0): BasicConv2d(\n",
            "        (conv): Conv2d(896, 128, kernel_size=(1, 1), stride=(1, 1), bias=False)\n",
            "        (bn): BatchNorm2d(128, eps=0.001, momentum=0.1, affine=True, track_running_stats=True)\n",
            "        (relu): ReLU()\n",
            "      )\n",
            "      (branch1): Sequential(\n",
            "        (0): BasicConv2d(\n",
            "          (conv): Conv2d(896, 128, kernel_size=(1, 1), stride=(1, 1), bias=False)\n",
            "          (bn): BatchNorm2d(128, eps=0.001, momentum=0.1, affine=True, track_running_stats=True)\n",
            "          (relu): ReLU()\n",
            "        )\n",
            "        (1): BasicConv2d(\n",
            "          (conv): Conv2d(128, 128, kernel_size=(1, 7), stride=(1, 1), padding=(0, 3), bias=False)\n",
            "          (bn): BatchNorm2d(128, eps=0.001, momentum=0.1, affine=True, track_running_stats=True)\n",
            "          (relu): ReLU()\n",
            "        )\n",
            "        (2): BasicConv2d(\n",
            "          (conv): Conv2d(128, 128, kernel_size=(7, 1), stride=(1, 1), padding=(3, 0), bias=False)\n",
            "          (bn): BatchNorm2d(128, eps=0.001, momentum=0.1, affine=True, track_running_stats=True)\n",
            "          (relu): ReLU()\n",
            "        )\n",
            "      )\n",
            "      (conv2d): Conv2d(256, 896, kernel_size=(1, 1), stride=(1, 1))\n",
            "      (relu): ReLU()\n",
            "    )\n",
            "    (3): Block17(\n",
            "      (branch0): BasicConv2d(\n",
            "        (conv): Conv2d(896, 128, kernel_size=(1, 1), stride=(1, 1), bias=False)\n",
            "        (bn): BatchNorm2d(128, eps=0.001, momentum=0.1, affine=True, track_running_stats=True)\n",
            "        (relu): ReLU()\n",
            "      )\n",
            "      (branch1): Sequential(\n",
            "        (0): BasicConv2d(\n",
            "          (conv): Conv2d(896, 128, kernel_size=(1, 1), stride=(1, 1), bias=False)\n",
            "          (bn): BatchNorm2d(128, eps=0.001, momentum=0.1, affine=True, track_running_stats=True)\n",
            "          (relu): ReLU()\n",
            "        )\n",
            "        (1): BasicConv2d(\n",
            "          (conv): Conv2d(128, 128, kernel_size=(1, 7), stride=(1, 1), padding=(0, 3), bias=False)\n",
            "          (bn): BatchNorm2d(128, eps=0.001, momentum=0.1, affine=True, track_running_stats=True)\n",
            "          (relu): ReLU()\n",
            "        )\n",
            "        (2): BasicConv2d(\n",
            "          (conv): Conv2d(128, 128, kernel_size=(7, 1), stride=(1, 1), padding=(3, 0), bias=False)\n",
            "          (bn): BatchNorm2d(128, eps=0.001, momentum=0.1, affine=True, track_running_stats=True)\n",
            "          (relu): ReLU()\n",
            "        )\n",
            "      )\n",
            "      (conv2d): Conv2d(256, 896, kernel_size=(1, 1), stride=(1, 1))\n",
            "      (relu): ReLU()\n",
            "    )\n",
            "    (4): Block17(\n",
            "      (branch0): BasicConv2d(\n",
            "        (conv): Conv2d(896, 128, kernel_size=(1, 1), stride=(1, 1), bias=False)\n",
            "        (bn): BatchNorm2d(128, eps=0.001, momentum=0.1, affine=True, track_running_stats=True)\n",
            "        (relu): ReLU()\n",
            "      )\n",
            "      (branch1): Sequential(\n",
            "        (0): BasicConv2d(\n",
            "          (conv): Conv2d(896, 128, kernel_size=(1, 1), stride=(1, 1), bias=False)\n",
            "          (bn): BatchNorm2d(128, eps=0.001, momentum=0.1, affine=True, track_running_stats=True)\n",
            "          (relu): ReLU()\n",
            "        )\n",
            "        (1): BasicConv2d(\n",
            "          (conv): Conv2d(128, 128, kernel_size=(1, 7), stride=(1, 1), padding=(0, 3), bias=False)\n",
            "          (bn): BatchNorm2d(128, eps=0.001, momentum=0.1, affine=True, track_running_stats=True)\n",
            "          (relu): ReLU()\n",
            "        )\n",
            "        (2): BasicConv2d(\n",
            "          (conv): Conv2d(128, 128, kernel_size=(7, 1), stride=(1, 1), padding=(3, 0), bias=False)\n",
            "          (bn): BatchNorm2d(128, eps=0.001, momentum=0.1, affine=True, track_running_stats=True)\n",
            "          (relu): ReLU()\n",
            "        )\n",
            "      )\n",
            "      (conv2d): Conv2d(256, 896, kernel_size=(1, 1), stride=(1, 1))\n",
            "      (relu): ReLU()\n",
            "    )\n",
            "    (5): Block17(\n",
            "      (branch0): BasicConv2d(\n",
            "        (conv): Conv2d(896, 128, kernel_size=(1, 1), stride=(1, 1), bias=False)\n",
            "        (bn): BatchNorm2d(128, eps=0.001, momentum=0.1, affine=True, track_running_stats=True)\n",
            "        (relu): ReLU()\n",
            "      )\n",
            "      (branch1): Sequential(\n",
            "        (0): BasicConv2d(\n",
            "          (conv): Conv2d(896, 128, kernel_size=(1, 1), stride=(1, 1), bias=False)\n",
            "          (bn): BatchNorm2d(128, eps=0.001, momentum=0.1, affine=True, track_running_stats=True)\n",
            "          (relu): ReLU()\n",
            "        )\n",
            "        (1): BasicConv2d(\n",
            "          (conv): Conv2d(128, 128, kernel_size=(1, 7), stride=(1, 1), padding=(0, 3), bias=False)\n",
            "          (bn): BatchNorm2d(128, eps=0.001, momentum=0.1, affine=True, track_running_stats=True)\n",
            "          (relu): ReLU()\n",
            "        )\n",
            "        (2): BasicConv2d(\n",
            "          (conv): Conv2d(128, 128, kernel_size=(7, 1), stride=(1, 1), padding=(3, 0), bias=False)\n",
            "          (bn): BatchNorm2d(128, eps=0.001, momentum=0.1, affine=True, track_running_stats=True)\n",
            "          (relu): ReLU()\n",
            "        )\n",
            "      )\n",
            "      (conv2d): Conv2d(256, 896, kernel_size=(1, 1), stride=(1, 1))\n",
            "      (relu): ReLU()\n",
            "    )\n",
            "    (6): Block17(\n",
            "      (branch0): BasicConv2d(\n",
            "        (conv): Conv2d(896, 128, kernel_size=(1, 1), stride=(1, 1), bias=False)\n",
            "        (bn): BatchNorm2d(128, eps=0.001, momentum=0.1, affine=True, track_running_stats=True)\n",
            "        (relu): ReLU()\n",
            "      )\n",
            "      (branch1): Sequential(\n",
            "        (0): BasicConv2d(\n",
            "          (conv): Conv2d(896, 128, kernel_size=(1, 1), stride=(1, 1), bias=False)\n",
            "          (bn): BatchNorm2d(128, eps=0.001, momentum=0.1, affine=True, track_running_stats=True)\n",
            "          (relu): ReLU()\n",
            "        )\n",
            "        (1): BasicConv2d(\n",
            "          (conv): Conv2d(128, 128, kernel_size=(1, 7), stride=(1, 1), padding=(0, 3), bias=False)\n",
            "          (bn): BatchNorm2d(128, eps=0.001, momentum=0.1, affine=True, track_running_stats=True)\n",
            "          (relu): ReLU()\n",
            "        )\n",
            "        (2): BasicConv2d(\n",
            "          (conv): Conv2d(128, 128, kernel_size=(7, 1), stride=(1, 1), padding=(3, 0), bias=False)\n",
            "          (bn): BatchNorm2d(128, eps=0.001, momentum=0.1, affine=True, track_running_stats=True)\n",
            "          (relu): ReLU()\n",
            "        )\n",
            "      )\n",
            "      (conv2d): Conv2d(256, 896, kernel_size=(1, 1), stride=(1, 1))\n",
            "      (relu): ReLU()\n",
            "    )\n",
            "    (7): Block17(\n",
            "      (branch0): BasicConv2d(\n",
            "        (conv): Conv2d(896, 128, kernel_size=(1, 1), stride=(1, 1), bias=False)\n",
            "        (bn): BatchNorm2d(128, eps=0.001, momentum=0.1, affine=True, track_running_stats=True)\n",
            "        (relu): ReLU()\n",
            "      )\n",
            "      (branch1): Sequential(\n",
            "        (0): BasicConv2d(\n",
            "          (conv): Conv2d(896, 128, kernel_size=(1, 1), stride=(1, 1), bias=False)\n",
            "          (bn): BatchNorm2d(128, eps=0.001, momentum=0.1, affine=True, track_running_stats=True)\n",
            "          (relu): ReLU()\n",
            "        )\n",
            "        (1): BasicConv2d(\n",
            "          (conv): Conv2d(128, 128, kernel_size=(1, 7), stride=(1, 1), padding=(0, 3), bias=False)\n",
            "          (bn): BatchNorm2d(128, eps=0.001, momentum=0.1, affine=True, track_running_stats=True)\n",
            "          (relu): ReLU()\n",
            "        )\n",
            "        (2): BasicConv2d(\n",
            "          (conv): Conv2d(128, 128, kernel_size=(7, 1), stride=(1, 1), padding=(3, 0), bias=False)\n",
            "          (bn): BatchNorm2d(128, eps=0.001, momentum=0.1, affine=True, track_running_stats=True)\n",
            "          (relu): ReLU()\n",
            "        )\n",
            "      )\n",
            "      (conv2d): Conv2d(256, 896, kernel_size=(1, 1), stride=(1, 1))\n",
            "      (relu): ReLU()\n",
            "    )\n",
            "    (8): Block17(\n",
            "      (branch0): BasicConv2d(\n",
            "        (conv): Conv2d(896, 128, kernel_size=(1, 1), stride=(1, 1), bias=False)\n",
            "        (bn): BatchNorm2d(128, eps=0.001, momentum=0.1, affine=True, track_running_stats=True)\n",
            "        (relu): ReLU()\n",
            "      )\n",
            "      (branch1): Sequential(\n",
            "        (0): BasicConv2d(\n",
            "          (conv): Conv2d(896, 128, kernel_size=(1, 1), stride=(1, 1), bias=False)\n",
            "          (bn): BatchNorm2d(128, eps=0.001, momentum=0.1, affine=True, track_running_stats=True)\n",
            "          (relu): ReLU()\n",
            "        )\n",
            "        (1): BasicConv2d(\n",
            "          (conv): Conv2d(128, 128, kernel_size=(1, 7), stride=(1, 1), padding=(0, 3), bias=False)\n",
            "          (bn): BatchNorm2d(128, eps=0.001, momentum=0.1, affine=True, track_running_stats=True)\n",
            "          (relu): ReLU()\n",
            "        )\n",
            "        (2): BasicConv2d(\n",
            "          (conv): Conv2d(128, 128, kernel_size=(7, 1), stride=(1, 1), padding=(3, 0), bias=False)\n",
            "          (bn): BatchNorm2d(128, eps=0.001, momentum=0.1, affine=True, track_running_stats=True)\n",
            "          (relu): ReLU()\n",
            "        )\n",
            "      )\n",
            "      (conv2d): Conv2d(256, 896, kernel_size=(1, 1), stride=(1, 1))\n",
            "      (relu): ReLU()\n",
            "    )\n",
            "    (9): Block17(\n",
            "      (branch0): BasicConv2d(\n",
            "        (conv): Conv2d(896, 128, kernel_size=(1, 1), stride=(1, 1), bias=False)\n",
            "        (bn): BatchNorm2d(128, eps=0.001, momentum=0.1, affine=True, track_running_stats=True)\n",
            "        (relu): ReLU()\n",
            "      )\n",
            "      (branch1): Sequential(\n",
            "        (0): BasicConv2d(\n",
            "          (conv): Conv2d(896, 128, kernel_size=(1, 1), stride=(1, 1), bias=False)\n",
            "          (bn): BatchNorm2d(128, eps=0.001, momentum=0.1, affine=True, track_running_stats=True)\n",
            "          (relu): ReLU()\n",
            "        )\n",
            "        (1): BasicConv2d(\n",
            "          (conv): Conv2d(128, 128, kernel_size=(1, 7), stride=(1, 1), padding=(0, 3), bias=False)\n",
            "          (bn): BatchNorm2d(128, eps=0.001, momentum=0.1, affine=True, track_running_stats=True)\n",
            "          (relu): ReLU()\n",
            "        )\n",
            "        (2): BasicConv2d(\n",
            "          (conv): Conv2d(128, 128, kernel_size=(7, 1), stride=(1, 1), padding=(3, 0), bias=False)\n",
            "          (bn): BatchNorm2d(128, eps=0.001, momentum=0.1, affine=True, track_running_stats=True)\n",
            "          (relu): ReLU()\n",
            "        )\n",
            "      )\n",
            "      (conv2d): Conv2d(256, 896, kernel_size=(1, 1), stride=(1, 1))\n",
            "      (relu): ReLU()\n",
            "    )\n",
            "  )\n",
            "  (10): Mixed_7a(\n",
            "    (branch0): Sequential(\n",
            "      (0): BasicConv2d(\n",
            "        (conv): Conv2d(896, 256, kernel_size=(1, 1), stride=(1, 1), bias=False)\n",
            "        (bn): BatchNorm2d(256, eps=0.001, momentum=0.1, affine=True, track_running_stats=True)\n",
            "        (relu): ReLU()\n",
            "      )\n",
            "      (1): BasicConv2d(\n",
            "        (conv): Conv2d(256, 384, kernel_size=(3, 3), stride=(2, 2), bias=False)\n",
            "        (bn): BatchNorm2d(384, eps=0.001, momentum=0.1, affine=True, track_running_stats=True)\n",
            "        (relu): ReLU()\n",
            "      )\n",
            "    )\n",
            "    (branch1): Sequential(\n",
            "      (0): BasicConv2d(\n",
            "        (conv): Conv2d(896, 256, kernel_size=(1, 1), stride=(1, 1), bias=False)\n",
            "        (bn): BatchNorm2d(256, eps=0.001, momentum=0.1, affine=True, track_running_stats=True)\n",
            "        (relu): ReLU()\n",
            "      )\n",
            "      (1): BasicConv2d(\n",
            "        (conv): Conv2d(256, 256, kernel_size=(3, 3), stride=(2, 2), bias=False)\n",
            "        (bn): BatchNorm2d(256, eps=0.001, momentum=0.1, affine=True, track_running_stats=True)\n",
            "        (relu): ReLU()\n",
            "      )\n",
            "    )\n",
            "    (branch2): Sequential(\n",
            "      (0): BasicConv2d(\n",
            "        (conv): Conv2d(896, 256, kernel_size=(1, 1), stride=(1, 1), bias=False)\n",
            "        (bn): BatchNorm2d(256, eps=0.001, momentum=0.1, affine=True, track_running_stats=True)\n",
            "        (relu): ReLU()\n",
            "      )\n",
            "      (1): BasicConv2d(\n",
            "        (conv): Conv2d(256, 256, kernel_size=(3, 3), stride=(1, 1), padding=(1, 1), bias=False)\n",
            "        (bn): BatchNorm2d(256, eps=0.001, momentum=0.1, affine=True, track_running_stats=True)\n",
            "        (relu): ReLU()\n",
            "      )\n",
            "      (2): BasicConv2d(\n",
            "        (conv): Conv2d(256, 256, kernel_size=(3, 3), stride=(2, 2), bias=False)\n",
            "        (bn): BatchNorm2d(256, eps=0.001, momentum=0.1, affine=True, track_running_stats=True)\n",
            "        (relu): ReLU()\n",
            "      )\n",
            "    )\n",
            "    (branch3): MaxPool2d(kernel_size=3, stride=2, padding=0, dilation=1, ceil_mode=False)\n",
            "  )\n",
            "  (11): Sequential(\n",
            "    (0): Block8(\n",
            "      (branch0): BasicConv2d(\n",
            "        (conv): Conv2d(1792, 192, kernel_size=(1, 1), stride=(1, 1), bias=False)\n",
            "        (bn): BatchNorm2d(192, eps=0.001, momentum=0.1, affine=True, track_running_stats=True)\n",
            "        (relu): ReLU()\n",
            "      )\n",
            "      (branch1): Sequential(\n",
            "        (0): BasicConv2d(\n",
            "          (conv): Conv2d(1792, 192, kernel_size=(1, 1), stride=(1, 1), bias=False)\n",
            "          (bn): BatchNorm2d(192, eps=0.001, momentum=0.1, affine=True, track_running_stats=True)\n",
            "          (relu): ReLU()\n",
            "        )\n",
            "        (1): BasicConv2d(\n",
            "          (conv): Conv2d(192, 192, kernel_size=(1, 3), stride=(1, 1), padding=(0, 1), bias=False)\n",
            "          (bn): BatchNorm2d(192, eps=0.001, momentum=0.1, affine=True, track_running_stats=True)\n",
            "          (relu): ReLU()\n",
            "        )\n",
            "        (2): BasicConv2d(\n",
            "          (conv): Conv2d(192, 192, kernel_size=(3, 1), stride=(1, 1), padding=(1, 0), bias=False)\n",
            "          (bn): BatchNorm2d(192, eps=0.001, momentum=0.1, affine=True, track_running_stats=True)\n",
            "          (relu): ReLU()\n",
            "        )\n",
            "      )\n",
            "      (conv2d): Conv2d(384, 1792, kernel_size=(1, 1), stride=(1, 1))\n",
            "      (relu): ReLU()\n",
            "    )\n",
            "    (1): Block8(\n",
            "      (branch0): BasicConv2d(\n",
            "        (conv): Conv2d(1792, 192, kernel_size=(1, 1), stride=(1, 1), bias=False)\n",
            "        (bn): BatchNorm2d(192, eps=0.001, momentum=0.1, affine=True, track_running_stats=True)\n",
            "        (relu): ReLU()\n",
            "      )\n",
            "      (branch1): Sequential(\n",
            "        (0): BasicConv2d(\n",
            "          (conv): Conv2d(1792, 192, kernel_size=(1, 1), stride=(1, 1), bias=False)\n",
            "          (bn): BatchNorm2d(192, eps=0.001, momentum=0.1, affine=True, track_running_stats=True)\n",
            "          (relu): ReLU()\n",
            "        )\n",
            "        (1): BasicConv2d(\n",
            "          (conv): Conv2d(192, 192, kernel_size=(1, 3), stride=(1, 1), padding=(0, 1), bias=False)\n",
            "          (bn): BatchNorm2d(192, eps=0.001, momentum=0.1, affine=True, track_running_stats=True)\n",
            "          (relu): ReLU()\n",
            "        )\n",
            "        (2): BasicConv2d(\n",
            "          (conv): Conv2d(192, 192, kernel_size=(3, 1), stride=(1, 1), padding=(1, 0), bias=False)\n",
            "          (bn): BatchNorm2d(192, eps=0.001, momentum=0.1, affine=True, track_running_stats=True)\n",
            "          (relu): ReLU()\n",
            "        )\n",
            "      )\n",
            "      (conv2d): Conv2d(384, 1792, kernel_size=(1, 1), stride=(1, 1))\n",
            "      (relu): ReLU()\n",
            "    )\n",
            "    (2): Block8(\n",
            "      (branch0): BasicConv2d(\n",
            "        (conv): Conv2d(1792, 192, kernel_size=(1, 1), stride=(1, 1), bias=False)\n",
            "        (bn): BatchNorm2d(192, eps=0.001, momentum=0.1, affine=True, track_running_stats=True)\n",
            "        (relu): ReLU()\n",
            "      )\n",
            "      (branch1): Sequential(\n",
            "        (0): BasicConv2d(\n",
            "          (conv): Conv2d(1792, 192, kernel_size=(1, 1), stride=(1, 1), bias=False)\n",
            "          (bn): BatchNorm2d(192, eps=0.001, momentum=0.1, affine=True, track_running_stats=True)\n",
            "          (relu): ReLU()\n",
            "        )\n",
            "        (1): BasicConv2d(\n",
            "          (conv): Conv2d(192, 192, kernel_size=(1, 3), stride=(1, 1), padding=(0, 1), bias=False)\n",
            "          (bn): BatchNorm2d(192, eps=0.001, momentum=0.1, affine=True, track_running_stats=True)\n",
            "          (relu): ReLU()\n",
            "        )\n",
            "        (2): BasicConv2d(\n",
            "          (conv): Conv2d(192, 192, kernel_size=(3, 1), stride=(1, 1), padding=(1, 0), bias=False)\n",
            "          (bn): BatchNorm2d(192, eps=0.001, momentum=0.1, affine=True, track_running_stats=True)\n",
            "          (relu): ReLU()\n",
            "        )\n",
            "      )\n",
            "      (conv2d): Conv2d(384, 1792, kernel_size=(1, 1), stride=(1, 1))\n",
            "      (relu): ReLU()\n",
            "    )\n",
            "    (3): Block8(\n",
            "      (branch0): BasicConv2d(\n",
            "        (conv): Conv2d(1792, 192, kernel_size=(1, 1), stride=(1, 1), bias=False)\n",
            "        (bn): BatchNorm2d(192, eps=0.001, momentum=0.1, affine=True, track_running_stats=True)\n",
            "        (relu): ReLU()\n",
            "      )\n",
            "      (branch1): Sequential(\n",
            "        (0): BasicConv2d(\n",
            "          (conv): Conv2d(1792, 192, kernel_size=(1, 1), stride=(1, 1), bias=False)\n",
            "          (bn): BatchNorm2d(192, eps=0.001, momentum=0.1, affine=True, track_running_stats=True)\n",
            "          (relu): ReLU()\n",
            "        )\n",
            "        (1): BasicConv2d(\n",
            "          (conv): Conv2d(192, 192, kernel_size=(1, 3), stride=(1, 1), padding=(0, 1), bias=False)\n",
            "          (bn): BatchNorm2d(192, eps=0.001, momentum=0.1, affine=True, track_running_stats=True)\n",
            "          (relu): ReLU()\n",
            "        )\n",
            "        (2): BasicConv2d(\n",
            "          (conv): Conv2d(192, 192, kernel_size=(3, 1), stride=(1, 1), padding=(1, 0), bias=False)\n",
            "          (bn): BatchNorm2d(192, eps=0.001, momentum=0.1, affine=True, track_running_stats=True)\n",
            "          (relu): ReLU()\n",
            "        )\n",
            "      )\n",
            "      (conv2d): Conv2d(384, 1792, kernel_size=(1, 1), stride=(1, 1))\n",
            "      (relu): ReLU()\n",
            "    )\n",
            "    (4): Block8(\n",
            "      (branch0): BasicConv2d(\n",
            "        (conv): Conv2d(1792, 192, kernel_size=(1, 1), stride=(1, 1), bias=False)\n",
            "        (bn): BatchNorm2d(192, eps=0.001, momentum=0.1, affine=True, track_running_stats=True)\n",
            "        (relu): ReLU()\n",
            "      )\n",
            "      (branch1): Sequential(\n",
            "        (0): BasicConv2d(\n",
            "          (conv): Conv2d(1792, 192, kernel_size=(1, 1), stride=(1, 1), bias=False)\n",
            "          (bn): BatchNorm2d(192, eps=0.001, momentum=0.1, affine=True, track_running_stats=True)\n",
            "          (relu): ReLU()\n",
            "        )\n",
            "        (1): BasicConv2d(\n",
            "          (conv): Conv2d(192, 192, kernel_size=(1, 3), stride=(1, 1), padding=(0, 1), bias=False)\n",
            "          (bn): BatchNorm2d(192, eps=0.001, momentum=0.1, affine=True, track_running_stats=True)\n",
            "          (relu): ReLU()\n",
            "        )\n",
            "        (2): BasicConv2d(\n",
            "          (conv): Conv2d(192, 192, kernel_size=(3, 1), stride=(1, 1), padding=(1, 0), bias=False)\n",
            "          (bn): BatchNorm2d(192, eps=0.001, momentum=0.1, affine=True, track_running_stats=True)\n",
            "          (relu): ReLU()\n",
            "        )\n",
            "      )\n",
            "      (conv2d): Conv2d(384, 1792, kernel_size=(1, 1), stride=(1, 1))\n",
            "      (relu): ReLU()\n",
            "    )\n",
            "  )\n",
            "  (12): Block8(\n",
            "    (branch0): BasicConv2d(\n",
            "      (conv): Conv2d(1792, 192, kernel_size=(1, 1), stride=(1, 1), bias=False)\n",
            "      (bn): BatchNorm2d(192, eps=0.001, momentum=0.1, affine=True, track_running_stats=True)\n",
            "      (relu): ReLU()\n",
            "    )\n",
            "    (branch1): Sequential(\n",
            "      (0): BasicConv2d(\n",
            "        (conv): Conv2d(1792, 192, kernel_size=(1, 1), stride=(1, 1), bias=False)\n",
            "        (bn): BatchNorm2d(192, eps=0.001, momentum=0.1, affine=True, track_running_stats=True)\n",
            "        (relu): ReLU()\n",
            "      )\n",
            "      (1): BasicConv2d(\n",
            "        (conv): Conv2d(192, 192, kernel_size=(1, 3), stride=(1, 1), padding=(0, 1), bias=False)\n",
            "        (bn): BatchNorm2d(192, eps=0.001, momentum=0.1, affine=True, track_running_stats=True)\n",
            "        (relu): ReLU()\n",
            "      )\n",
            "      (2): BasicConv2d(\n",
            "        (conv): Conv2d(192, 192, kernel_size=(3, 1), stride=(1, 1), padding=(1, 0), bias=False)\n",
            "        (bn): BatchNorm2d(192, eps=0.001, momentum=0.1, affine=True, track_running_stats=True)\n",
            "        (relu): ReLU()\n",
            "      )\n",
            "    )\n",
            "    (conv2d): Conv2d(384, 1792, kernel_size=(1, 1), stride=(1, 1))\n",
            "  )\n",
            "  (avgpool_1a): AdaptiveAvgPool2d(output_size=1)\n",
            "  (last_linear): Sequential(\n",
            "    (0): Flatten()\n",
            "    (1): Linear(in_features=1792, out_features=512, bias=False)\n",
            "    (2): normalize()\n",
            "  )\n",
            "  (logits): Linear(in_features=512, out_features=620, bias=True)\n",
            ")\n"
          ],
          "name": "stdout"
        }
      ]
    },
    {
      "cell_type": "markdown",
      "metadata": {
        "id": "KOXdjY9jGhqm",
        "colab_type": "text"
      },
      "source": [
        "#finding peak LR"
      ]
    },
    {
      "cell_type": "code",
      "metadata": {
        "id": "d3hzlOnJ3Mgj",
        "colab_type": "code",
        "colab": {}
      },
      "source": [
        "from torch_lr_finder import LRFinder\n",
        "import torch.optim as optim\n",
        "criterion = nn.CrossEntropyLoss()\n",
        "optimizer = optim.SGD(net.parameters(), lr=1e-3, momentum=0.9, weight_decay=0.0025)\n",
        "scheduler = torch.optim.lr_scheduler.StepLR(optimizer, step_size=1, gamma=1.5)"
      ],
      "execution_count": 11,
      "outputs": []
    },
    {
      "cell_type": "code",
      "metadata": {
        "id": "6E0M9V1X3V9N",
        "colab_type": "code",
        "colab": {
          "base_uri": "https://localhost:8080/",
          "height": 1000
        },
        "outputId": "cc3aa70e-9dcd-4782-c6bb-754005db25f9"
      },
      "source": [
        "from tqdm.notebook import tqdm\n",
        "from Train_Test_utils.traine import train\n",
        "from Train_Test_utils.teste import test\n",
        "test_acc = []\n",
        "train_acc = []\n",
        "trainloss_ = []\n",
        "testloss_ = []\n",
        "lr_ = []\n",
        "loss=1000\n",
        "loss1= 1000\n",
        "for epoch in range(25):  # loop over the dataset multiple times\n",
        "    for param_group in optimizer.param_groups:\n",
        "      print(\"lr= \",param_group['lr'])\n",
        "      lr_.append(param_group['lr'])\n",
        "    trainacc, loss = train(net, device, trainloader, optimizer, criterion, epoch)\n",
        "    train_acc.append(trainacc)\n",
        "    testacc, loss1 = test(net, device, testloader, criterion)\n",
        "    test_acc.append(testacc)\n",
        "    trainloss_.append(loss)\n",
        "    testloss_.append(loss1)\n",
        "    scheduler.step()\n",
        "print('Finished Training')"
      ],
      "execution_count": 12,
      "outputs": [
        {
          "output_type": "stream",
          "text": [
            "\r  0%|          | 0/28 [00:00<?, ?it/s]"
          ],
          "name": "stderr"
        },
        {
          "output_type": "stream",
          "text": [
            "lr=  0.001\n"
          ],
          "name": "stdout"
        },
        {
          "output_type": "stream",
          "text": [
            "Epoch= 0 Loss=5.11686372756958 Batch_id=27 Accuracy=7.14: 100%|██████████| 28/28 [00:09<00:00,  2.81it/s]\n",
            "100%|██████████| 8/8 [00:02<00:00,  3.37it/s]\n",
            "  0%|          | 0/28 [00:00<?, ?it/s]"
          ],
          "name": "stderr"
        },
        {
          "output_type": "stream",
          "text": [
            "Test Loss= 5.1106086 Test Accuracy= 5.074626865671642\n",
            "lr=  0.0015\n"
          ],
          "name": "stdout"
        },
        {
          "output_type": "stream",
          "text": [
            "Epoch= 1 Loss=5.07840633392334 Batch_id=27 Accuracy=21.43: 100%|██████████| 28/28 [00:09<00:00,  2.84it/s]\n",
            "100%|██████████| 8/8 [00:02<00:00,  3.55it/s]\n",
            "  0%|          | 0/28 [00:00<?, ?it/s]"
          ],
          "name": "stderr"
        },
        {
          "output_type": "stream",
          "text": [
            "Test Loss= 5.080062 Test Accuracy= 18.407960199004975\n",
            "lr=  0.0022500000000000003\n"
          ],
          "name": "stdout"
        },
        {
          "output_type": "stream",
          "text": [
            "Epoch= 2 Loss=5.035275936126709 Batch_id=27 Accuracy=23.81: 100%|██████████| 28/28 [00:10<00:00,  2.80it/s]\n",
            "100%|██████████| 8/8 [00:02<00:00,  3.18it/s]\n",
            "  0%|          | 0/28 [00:00<?, ?it/s]"
          ],
          "name": "stderr"
        },
        {
          "output_type": "stream",
          "text": [
            "Test Loss= 5.0227537 Test Accuracy= 17.611940298507463\n",
            "lr=  0.0033750000000000004\n"
          ],
          "name": "stdout"
        },
        {
          "output_type": "stream",
          "text": [
            "Epoch= 3 Loss=4.98677921295166 Batch_id=27 Accuracy=19.05: 100%|██████████| 28/28 [00:10<00:00,  2.72it/s]\n",
            "100%|██████████| 8/8 [00:02<00:00,  3.43it/s]\n",
            "  0%|          | 0/28 [00:00<?, ?it/s]"
          ],
          "name": "stderr"
        },
        {
          "output_type": "stream",
          "text": [
            "Test Loss= 5.0137997 Test Accuracy= 16.51741293532338\n",
            "lr=  0.005062500000000001\n"
          ],
          "name": "stdout"
        },
        {
          "output_type": "stream",
          "text": [
            "Epoch= 4 Loss=4.996512413024902 Batch_id=27 Accuracy=7.14: 100%|██████████| 28/28 [00:10<00:00,  2.69it/s]\n",
            "100%|██████████| 8/8 [00:02<00:00,  3.35it/s]\n",
            "  0%|          | 0/28 [00:00<?, ?it/s]"
          ],
          "name": "stderr"
        },
        {
          "output_type": "stream",
          "text": [
            "Test Loss= 4.936263 Test Accuracy= 16.019900497512438\n",
            "lr=  0.0075937500000000015\n"
          ],
          "name": "stdout"
        },
        {
          "output_type": "stream",
          "text": [
            "Epoch= 5 Loss=4.720737934112549 Batch_id=27 Accuracy=26.19: 100%|██████████| 28/28 [00:10<00:00,  2.73it/s]\n",
            "100%|██████████| 8/8 [00:02<00:00,  3.51it/s]\n",
            "  0%|          | 0/28 [00:00<?, ?it/s]"
          ],
          "name": "stderr"
        },
        {
          "output_type": "stream",
          "text": [
            "Test Loss= 4.9062433 Test Accuracy= 15.82089552238806\n",
            "lr=  0.011390625000000001\n"
          ],
          "name": "stdout"
        },
        {
          "output_type": "stream",
          "text": [
            "Epoch= 6 Loss=4.7757744789123535 Batch_id=27 Accuracy=16.67: 100%|██████████| 28/28 [00:09<00:00,  2.80it/s]\n",
            "100%|██████████| 8/8 [00:02<00:00,  3.55it/s]\n",
            "  0%|          | 0/28 [00:00<?, ?it/s]"
          ],
          "name": "stderr"
        },
        {
          "output_type": "stream",
          "text": [
            "Test Loss= 4.6646957 Test Accuracy= 15.422885572139304\n",
            "lr=  0.017085937500000002\n"
          ],
          "name": "stdout"
        },
        {
          "output_type": "stream",
          "text": [
            "Epoch= 7 Loss=4.624238967895508 Batch_id=27 Accuracy=14.29: 100%|██████████| 28/28 [00:09<00:00,  2.80it/s]\n",
            "100%|██████████| 8/8 [00:02<00:00,  3.47it/s]\n",
            "  0%|          | 0/28 [00:00<?, ?it/s]"
          ],
          "name": "stderr"
        },
        {
          "output_type": "stream",
          "text": [
            "Test Loss= 4.578554 Test Accuracy= 15.323383084577115\n",
            "lr=  0.025628906250000003\n"
          ],
          "name": "stdout"
        },
        {
          "output_type": "stream",
          "text": [
            "Epoch= 8 Loss=4.434576511383057 Batch_id=27 Accuracy=14.29: 100%|██████████| 28/28 [00:10<00:00,  2.78it/s]\n",
            "100%|██████████| 8/8 [00:02<00:00,  3.30it/s]\n",
            "  0%|          | 0/28 [00:00<?, ?it/s]"
          ],
          "name": "stderr"
        },
        {
          "output_type": "stream",
          "text": [
            "Test Loss= 4.3569665 Test Accuracy= 15.323383084577115\n",
            "lr=  0.03844335937500001\n"
          ],
          "name": "stdout"
        },
        {
          "output_type": "stream",
          "text": [
            "Epoch= 9 Loss=4.46047830581665 Batch_id=27 Accuracy=9.52: 100%|██████████| 28/28 [00:10<00:00,  2.75it/s]\n",
            "100%|██████████| 8/8 [00:02<00:00,  3.36it/s]\n",
            "  0%|          | 0/28 [00:00<?, ?it/s]"
          ],
          "name": "stderr"
        },
        {
          "output_type": "stream",
          "text": [
            "Test Loss= 4.1429005 Test Accuracy= 16.019900497512438\n",
            "lr=  0.057665039062500006\n"
          ],
          "name": "stdout"
        },
        {
          "output_type": "stream",
          "text": [
            "Epoch= 10 Loss=4.134932994842529 Batch_id=27 Accuracy=11.90: 100%|██████████| 28/28 [00:10<00:00,  2.78it/s]\n",
            "100%|██████████| 8/8 [00:02<00:00,  3.40it/s]\n",
            "  0%|          | 0/28 [00:00<?, ?it/s]"
          ],
          "name": "stderr"
        },
        {
          "output_type": "stream",
          "text": [
            "Test Loss= 4.2326922 Test Accuracy= 17.412935323383085\n",
            "lr=  0.08649755859375001\n"
          ],
          "name": "stdout"
        },
        {
          "output_type": "stream",
          "text": [
            "Epoch= 11 Loss=3.788393259048462 Batch_id=27 Accuracy=26.19: 100%|██████████| 28/28 [00:10<00:00,  2.77it/s]\n",
            "100%|██████████| 8/8 [00:02<00:00,  3.45it/s]\n",
            "  0%|          | 0/28 [00:00<?, ?it/s]"
          ],
          "name": "stderr"
        },
        {
          "output_type": "stream",
          "text": [
            "Test Loss= 3.926857 Test Accuracy= 22.786069651741293\n",
            "lr=  0.129746337890625\n"
          ],
          "name": "stdout"
        },
        {
          "output_type": "stream",
          "text": [
            "Epoch= 12 Loss=3.641719341278076 Batch_id=27 Accuracy=28.57: 100%|██████████| 28/28 [00:10<00:00,  2.76it/s]\n",
            "100%|██████████| 8/8 [00:02<00:00,  3.43it/s]\n",
            "  0%|          | 0/28 [00:00<?, ?it/s]"
          ],
          "name": "stderr"
        },
        {
          "output_type": "stream",
          "text": [
            "Test Loss= 4.0075035 Test Accuracy= 25.870646766169155\n",
            "lr=  0.1946195068359375\n"
          ],
          "name": "stdout"
        },
        {
          "output_type": "stream",
          "text": [
            "Epoch= 13 Loss=3.692678451538086 Batch_id=27 Accuracy=35.71: 100%|██████████| 28/28 [00:10<00:00,  2.78it/s]\n",
            "100%|██████████| 8/8 [00:02<00:00,  3.48it/s]\n",
            "  0%|          | 0/28 [00:00<?, ?it/s]"
          ],
          "name": "stderr"
        },
        {
          "output_type": "stream",
          "text": [
            "Test Loss= 3.7199674 Test Accuracy= 30.746268656716417\n",
            "lr=  0.29192926025390625\n"
          ],
          "name": "stdout"
        },
        {
          "output_type": "stream",
          "text": [
            "Epoch= 14 Loss=3.633040189743042 Batch_id=27 Accuracy=33.33: 100%|██████████| 28/28 [00:10<00:00,  2.78it/s]\n",
            "100%|██████████| 8/8 [00:02<00:00,  3.40it/s]\n",
            "  0%|          | 0/28 [00:00<?, ?it/s]"
          ],
          "name": "stderr"
        },
        {
          "output_type": "stream",
          "text": [
            "Test Loss= 3.6536753 Test Accuracy= 34.92537313432836\n",
            "lr=  0.43789389038085935\n"
          ],
          "name": "stdout"
        },
        {
          "output_type": "stream",
          "text": [
            "Epoch= 15 Loss=3.738349199295044 Batch_id=27 Accuracy=28.57: 100%|██████████| 28/28 [00:10<00:00,  2.79it/s]\n",
            "100%|██████████| 8/8 [00:02<00:00,  3.37it/s]\n",
            "  0%|          | 0/28 [00:00<?, ?it/s]"
          ],
          "name": "stderr"
        },
        {
          "output_type": "stream",
          "text": [
            "Test Loss= 3.423308 Test Accuracy= 38.10945273631841\n",
            "lr=  0.656840835571289\n"
          ],
          "name": "stdout"
        },
        {
          "output_type": "stream",
          "text": [
            "Epoch= 16 Loss=3.300739049911499 Batch_id=27 Accuracy=40.48: 100%|██████████| 28/28 [00:10<00:00,  2.77it/s]\n",
            "100%|██████████| 8/8 [00:02<00:00,  3.44it/s]\n",
            "  0%|          | 0/28 [00:00<?, ?it/s]"
          ],
          "name": "stderr"
        },
        {
          "output_type": "stream",
          "text": [
            "Test Loss= 3.206047 Test Accuracy= 40.0\n",
            "lr=  0.9852612533569336\n"
          ],
          "name": "stdout"
        },
        {
          "output_type": "stream",
          "text": [
            "Epoch= 17 Loss=2.884655475616455 Batch_id=27 Accuracy=45.24: 100%|██████████| 28/28 [00:10<00:00,  2.74it/s]\n",
            "100%|██████████| 8/8 [00:02<00:00,  3.43it/s]\n",
            "  0%|          | 0/28 [00:00<?, ?it/s]"
          ],
          "name": "stderr"
        },
        {
          "output_type": "stream",
          "text": [
            "Test Loss= 3.3417597 Test Accuracy= 41.492537313432834\n",
            "lr=  1.4778918800354004\n"
          ],
          "name": "stdout"
        },
        {
          "output_type": "stream",
          "text": [
            "Epoch= 18 Loss=2.6601741313934326 Batch_id=27 Accuracy=54.76: 100%|██████████| 28/28 [00:10<00:00,  2.71it/s]\n",
            "100%|██████████| 8/8 [00:02<00:00,  3.57it/s]\n",
            "  0%|          | 0/28 [00:00<?, ?it/s]"
          ],
          "name": "stderr"
        },
        {
          "output_type": "stream",
          "text": [
            "Test Loss= 3.1934154 Test Accuracy= 43.88059701492537\n",
            "lr=  2.2168378200531005\n"
          ],
          "name": "stdout"
        },
        {
          "output_type": "stream",
          "text": [
            "Epoch= 19 Loss=2.826389789581299 Batch_id=27 Accuracy=52.38: 100%|██████████| 28/28 [00:10<00:00,  2.78it/s]\n",
            "100%|██████████| 8/8 [00:02<00:00,  3.35it/s]\n",
            "  0%|          | 0/28 [00:00<?, ?it/s]"
          ],
          "name": "stderr"
        },
        {
          "output_type": "stream",
          "text": [
            "Test Loss= 3.001528 Test Accuracy= 40.398009950248756\n",
            "lr=  3.3252567300796505\n"
          ],
          "name": "stdout"
        },
        {
          "output_type": "stream",
          "text": [
            "Epoch= 20 Loss=3.005009174346924 Batch_id=27 Accuracy=59.52: 100%|██████████| 28/28 [00:10<00:00,  2.71it/s]\n",
            "100%|██████████| 8/8 [00:02<00:00,  3.39it/s]\n",
            "  0%|          | 0/28 [00:00<?, ?it/s]"
          ],
          "name": "stderr"
        },
        {
          "output_type": "stream",
          "text": [
            "Test Loss= 3.1911907 Test Accuracy= 41.99004975124378\n",
            "lr=  4.987885095119475\n"
          ],
          "name": "stdout"
        },
        {
          "output_type": "stream",
          "text": [
            "Epoch= 21 Loss=3.416616201400757 Batch_id=27 Accuracy=35.71: 100%|██████████| 28/28 [00:10<00:00,  2.79it/s]\n",
            "100%|██████████| 8/8 [00:02<00:00,  3.50it/s]\n",
            "  0%|          | 0/28 [00:00<?, ?it/s]"
          ],
          "name": "stderr"
        },
        {
          "output_type": "stream",
          "text": [
            "Test Loss= 3.3183985 Test Accuracy= 39.701492537313435\n",
            "lr=  7.481827642679213\n"
          ],
          "name": "stdout"
        },
        {
          "output_type": "stream",
          "text": [
            "Epoch= 22 Loss=3.3469104766845703 Batch_id=27 Accuracy=40.48: 100%|██████████| 28/28 [00:10<00:00,  2.73it/s]\n",
            "100%|██████████| 8/8 [00:02<00:00,  3.42it/s]\n",
            "  0%|          | 0/28 [00:00<?, ?it/s]"
          ],
          "name": "stderr"
        },
        {
          "output_type": "stream",
          "text": [
            "Test Loss= 3.0779712 Test Accuracy= 38.00995024875622\n",
            "lr=  11.222741464018819\n"
          ],
          "name": "stdout"
        },
        {
          "output_type": "stream",
          "text": [
            "Epoch= 23 Loss=3.9057729244232178 Batch_id=27 Accuracy=35.71: 100%|██████████| 28/28 [00:10<00:00,  2.76it/s]\n",
            "100%|██████████| 8/8 [00:02<00:00,  3.38it/s]\n",
            "  0%|          | 0/28 [00:00<?, ?it/s]"
          ],
          "name": "stderr"
        },
        {
          "output_type": "stream",
          "text": [
            "Test Loss= 3.3204446 Test Accuracy= 36.91542288557214\n",
            "lr=  16.83411219602823\n"
          ],
          "name": "stdout"
        },
        {
          "output_type": "stream",
          "text": [
            "Epoch= 24 Loss=3.5910894870758057 Batch_id=27 Accuracy=42.86: 100%|██████████| 28/28 [00:10<00:00,  2.76it/s]\n",
            "100%|██████████| 8/8 [00:02<00:00,  3.56it/s]"
          ],
          "name": "stderr"
        },
        {
          "output_type": "stream",
          "text": [
            "Test Loss= 3.7643237 Test Accuracy= 34.02985074626866\n",
            "Finished Training\n"
          ],
          "name": "stdout"
        },
        {
          "output_type": "stream",
          "text": [
            "\n"
          ],
          "name": "stderr"
        }
      ]
    },
    {
      "cell_type": "code",
      "metadata": {
        "id": "LVojaJMG3fSh",
        "colab_type": "code",
        "colab": {
          "base_uri": "https://localhost:8080/",
          "height": 182
        },
        "outputId": "dea853ca-f06e-4c4b-dee9-fe297b85ca3d"
      },
      "source": [
        "import matplotlib.pyplot as plt\n",
        "fig = plt.figure()\n",
        "ax = fig.add_subplot(2, 1, 1)\n",
        "line, = ax.plot(lr_, test_acc)\n",
        "ax.set_xscale('log')\n",
        "ax.set_xlabel(\"Learning rate\")\n",
        "ax.set_ylabel(\"Accuracy\")"
      ],
      "execution_count": 13,
      "outputs": [
        {
          "output_type": "execute_result",
          "data": {
            "text/plain": [
              "Text(0, 0.5, 'Accuracy')"
            ]
          },
          "metadata": {
            "tags": []
          },
          "execution_count": 13
        },
        {
          "output_type": "display_data",
          "data": {
            "image/png": "[encoded data removed]",
            "text/plain": [
              "<Figure size 432x288 with 1 Axes>"
            ]
          },
          "metadata": {
            "tags": [],
            "needs_background": "light"
          }
        }
      ]
    },
    {
      "cell_type": "markdown",
      "metadata": {
        "id": "80IOvgMYHB7L",
        "colab_type": "text"
      },
      "source": [
        "#Training"
      ]
    },
    {
      "cell_type": "code",
      "metadata": {
        "id": "ZQetmKvJyQtI",
        "colab_type": "code",
        "colab": {}
      },
      "source": [
        "import torch.optim as optim\n",
        "criterion = nn.CrossEntropyLoss()\n",
        "optimizer = optim.SGD(net.parameters(), lr=0.15, momentum=0.9)\n",
        "scheduler = torch.optim.lr_scheduler.CyclicLR(optimizer, base_lr=0.005, max_lr=1.25, step_size_up=15, step_size_down=10, mode='triangular2')\n",
        "#scheduler = torch.optim.lr_scheduler.ExponentialLR(optimizer, gamma = 0.5)"
      ],
      "execution_count": 20,
      "outputs": []
    },
    {
      "cell_type": "code",
      "metadata": {
        "id": "k1hMDJOTXZsm",
        "colab_type": "code",
        "colab": {
          "base_uri": "https://localhost:8080/",
          "height": 1000
        },
        "outputId": "faed9ee7-46ef-433c-9bc5-7040fb9bf28f"
      },
      "source": [
        "from tqdm.notebook import tqdm\n",
        "from Train_Test_utils.traine import train\n",
        "from Train_Test_utils.teste import test\n",
        "test_acc = []\n",
        "train_acc = []\n",
        "trainloss_ = []\n",
        "testloss_ = []\n",
        "lr_ = []\n",
        "loss=1000\n",
        "loss1= 1000\n",
        "for epoch in range(101):  # loop over the dataset multiple times\n",
        "    for param_group in optimizer.param_groups:\n",
        "      print(\"lr= \",param_group['lr'])\n",
        "      lr_.append(param_group['lr'])\n",
        "    trainacc, loss = train(net, device, trainloader, optimizer, criterion, epoch)\n",
        "    train_acc.append(trainacc)\n",
        "    testacc, loss1 = test(net, device, testloader, criterion)\n",
        "    test_acc.append(testacc)\n",
        "    trainloss_.append(loss)\n",
        "    testloss_.append(loss1)\n",
        "    #if(epoch!=0 and epoch%25==0):\n",
        "    scheduler.step()\n",
        "print('Finished Training')"
      ],
      "execution_count": 21,
      "outputs": [
        {
          "output_type": "stream",
          "text": [
            "\r  0%|          | 0/24 [00:00<?, ?it/s]"
          ],
          "name": "stderr"
        },
        {
          "output_type": "stream",
          "text": [
            "lr=  0.005\n"
          ],
          "name": "stdout"
        },
        {
          "output_type": "stream",
          "text": [
            "Epoch= 0 Loss=6.3797173500061035 Batch_id=23 Accuracy=20.91: 100%|██████████| 24/24 [00:08<00:00,  2.92it/s]\n",
            "100%|██████████| 12/12 [00:02<00:00,  4.33it/s]\n",
            "  0%|          | 0/24 [00:00<?, ?it/s]"
          ],
          "name": "stderr"
        },
        {
          "output_type": "stream",
          "text": [
            "Test Loss= 6.3828645 Test Accuracy= 16.63216011042098\n",
            "lr=  0.08800000000000009\n"
          ],
          "name": "stdout"
        },
        {
          "output_type": "stream",
          "text": [
            "Epoch= 1 Loss=5.521528244018555 Batch_id=23 Accuracy=16.36: 100%|██████████| 24/24 [00:08<00:00,  2.93it/s]\n",
            "100%|██████████| 12/12 [00:02<00:00,  4.36it/s]\n",
            "  0%|          | 0/24 [00:00<?, ?it/s]"
          ],
          "name": "stderr"
        },
        {
          "output_type": "stream",
          "text": [
            "Test Loss= 5.4802523 Test Accuracy= 15.942028985507246\n",
            "lr=  0.17100000000000018\n"
          ],
          "name": "stdout"
        },
        {
          "output_type": "stream",
          "text": [
            "Epoch= 2 Loss=4.831577301025391 Batch_id=23 Accuracy=18.18: 100%|██████████| 24/24 [00:08<00:00,  2.90it/s]\n",
            "100%|██████████| 12/12 [00:02<00:00,  4.35it/s]\n",
            "  0%|          | 0/24 [00:00<?, ?it/s]"
          ],
          "name": "stderr"
        },
        {
          "output_type": "stream",
          "text": [
            "Test Loss= 4.8982034 Test Accuracy= 16.287094547964113\n",
            "lr=  0.2540000000000002\n"
          ],
          "name": "stdout"
        },
        {
          "output_type": "stream",
          "text": [
            "Epoch= 3 Loss=4.330402851104736 Batch_id=23 Accuracy=26.36: 100%|██████████| 24/24 [00:08<00:00,  2.91it/s]\n",
            "100%|██████████| 12/12 [00:02<00:00,  4.40it/s]\n",
            "  0%|          | 0/24 [00:00<?, ?it/s]"
          ],
          "name": "stderr"
        },
        {
          "output_type": "stream",
          "text": [
            "Test Loss= 4.0865755 Test Accuracy= 25.948930296756384\n",
            "lr=  0.3369999999999999\n"
          ],
          "name": "stdout"
        },
        {
          "output_type": "stream",
          "text": [
            "Epoch= 4 Loss=3.892212152481079 Batch_id=23 Accuracy=32.73: 100%|██████████| 24/24 [00:08<00:00,  2.87it/s]\n",
            "100%|██████████| 12/12 [00:02<00:00,  4.13it/s]\n",
            "  0%|          | 0/24 [00:00<?, ?it/s]"
          ],
          "name": "stderr"
        },
        {
          "output_type": "stream",
          "text": [
            "Test Loss= 4.2117076 Test Accuracy= 30.36576949620428\n",
            "lr=  0.41999999999999993\n"
          ],
          "name": "stdout"
        },
        {
          "output_type": "stream",
          "text": [
            "Epoch= 5 Loss=3.6890580654144287 Batch_id=23 Accuracy=42.73: 100%|██████████| 24/24 [00:08<00:00,  2.82it/s]\n",
            "100%|██████████| 12/12 [00:02<00:00,  4.20it/s]\n",
            "  0%|          | 0/24 [00:00<?, ?it/s]"
          ],
          "name": "stderr"
        },
        {
          "output_type": "stream",
          "text": [
            "Test Loss= 3.4308066 Test Accuracy= 38.78536922015183\n",
            "lr=  0.503\n"
          ],
          "name": "stdout"
        },
        {
          "output_type": "stream",
          "text": [
            "Epoch= 6 Loss=3.4027130603790283 Batch_id=23 Accuracy=42.73: 100%|██████████| 24/24 [00:08<00:00,  2.81it/s]\n",
            "100%|██████████| 12/12 [00:03<00:00,  3.92it/s]\n",
            "  0%|          | 0/24 [00:00<?, ?it/s]"
          ],
          "name": "stderr"
        },
        {
          "output_type": "stream",
          "text": [
            "Test Loss= 2.6495984 Test Accuracy= 42.857142857142854\n",
            "lr=  0.5860000000000002\n"
          ],
          "name": "stdout"
        },
        {
          "output_type": "stream",
          "text": [
            "Epoch= 7 Loss=2.703040838241577 Batch_id=23 Accuracy=53.64: 100%|██████████| 24/24 [00:08<00:00,  2.82it/s]\n",
            "100%|██████████| 12/12 [00:03<00:00,  3.70it/s]\n",
            "  0%|          | 0/24 [00:00<?, ?it/s]"
          ],
          "name": "stderr"
        },
        {
          "output_type": "stream",
          "text": [
            "Test Loss= 2.6537101 Test Accuracy= 48.4472049689441\n",
            "lr=  0.6690000000000002\n"
          ],
          "name": "stdout"
        },
        {
          "output_type": "stream",
          "text": [
            "Epoch= 8 Loss=2.8079633712768555 Batch_id=23 Accuracy=51.82: 100%|██████████| 24/24 [00:08<00:00,  2.77it/s]\n",
            "100%|██████████| 12/12 [00:03<00:00,  3.90it/s]\n",
            "  0%|          | 0/24 [00:00<?, ?it/s]"
          ],
          "name": "stderr"
        },
        {
          "output_type": "stream",
          "text": [
            "Test Loss= 2.3818974 Test Accuracy= 52.5879917184265\n",
            "lr=  0.7519999999999999\n"
          ],
          "name": "stdout"
        },
        {
          "output_type": "stream",
          "text": [
            "Epoch= 9 Loss=2.603668212890625 Batch_id=23 Accuracy=56.36: 100%|██████████| 24/24 [00:08<00:00,  2.69it/s]\n",
            "100%|██████████| 12/12 [00:03<00:00,  3.86it/s]\n",
            "  0%|          | 0/24 [00:00<?, ?it/s]"
          ],
          "name": "stderr"
        },
        {
          "output_type": "stream",
          "text": [
            "Test Loss= 2.3477325 Test Accuracy= 56.79779158040028\n",
            "lr=  0.8349999999999999\n"
          ],
          "name": "stdout"
        },
        {
          "output_type": "stream",
          "text": [
            "Epoch= 10 Loss=2.1510729789733887 Batch_id=23 Accuracy=66.36: 100%|██████████| 24/24 [00:09<00:00,  2.62it/s]\n",
            "100%|██████████| 12/12 [00:03<00:00,  3.82it/s]\n",
            "  0%|          | 0/24 [00:00<?, ?it/s]"
          ],
          "name": "stderr"
        },
        {
          "output_type": "stream",
          "text": [
            "Test Loss= 2.6093407 Test Accuracy= 60.869565217391305\n",
            "lr=  0.918\n"
          ],
          "name": "stdout"
        },
        {
          "output_type": "stream",
          "text": [
            "Epoch= 11 Loss=1.9469128847122192 Batch_id=23 Accuracy=69.09: 100%|██████████| 24/24 [00:09<00:00,  2.58it/s]\n",
            "100%|██████████| 12/12 [00:03<00:00,  3.68it/s]\n",
            "  0%|          | 0/24 [00:00<?, ?it/s]"
          ],
          "name": "stderr"
        },
        {
          "output_type": "stream",
          "text": [
            "Test Loss= 2.2584646 Test Accuracy= 65.49344375431332\n",
            "lr=  1.0010000000000001\n"
          ],
          "name": "stdout"
        },
        {
          "output_type": "stream",
          "text": [
            "Epoch= 12 Loss=1.647134780883789 Batch_id=23 Accuracy=78.18: 100%|██████████| 24/24 [00:09<00:00,  2.64it/s]\n",
            "100%|██████████| 12/12 [00:03<00:00,  3.86it/s]\n",
            "  0%|          | 0/24 [00:00<?, ?it/s]"
          ],
          "name": "stderr"
        },
        {
          "output_type": "stream",
          "text": [
            "Test Loss= 2.2442372 Test Accuracy= 69.63423050379572\n",
            "lr=  1.084\n"
          ],
          "name": "stdout"
        },
        {
          "output_type": "stream",
          "text": [
            "Epoch= 13 Loss=1.5735269784927368 Batch_id=23 Accuracy=80.91: 100%|██████████| 24/24 [00:09<00:00,  2.65it/s]\n",
            "100%|██████████| 12/12 [00:03<00:00,  3.82it/s]\n",
            "  0%|          | 0/24 [00:00<?, ?it/s]"
          ],
          "name": "stderr"
        },
        {
          "output_type": "stream",
          "text": [
            "Test Loss= 1.5443293 Test Accuracy= 73.63699102829537\n",
            "lr=  1.1670000000000003\n"
          ],
          "name": "stdout"
        },
        {
          "output_type": "stream",
          "text": [
            "Epoch= 14 Loss=1.6383056640625 Batch_id=23 Accuracy=75.45: 100%|██████████| 24/24 [00:09<00:00,  2.61it/s]\n",
            "100%|██████████| 12/12 [00:03<00:00,  3.96it/s]\n",
            "  0%|          | 0/24 [00:00<?, ?it/s]"
          ],
          "name": "stderr"
        },
        {
          "output_type": "stream",
          "text": [
            "Test Loss= 1.9789066 Test Accuracy= 77.36369910282954\n",
            "lr=  1.2499999999999998\n"
          ],
          "name": "stdout"
        },
        {
          "output_type": "stream",
          "text": [
            "Epoch= 15 Loss=1.3084262609481812 Batch_id=23 Accuracy=84.55: 100%|██████████| 24/24 [00:08<00:00,  2.72it/s]\n",
            "100%|██████████| 12/12 [00:03<00:00,  3.99it/s]\n",
            "  0%|          | 0/24 [00:00<?, ?it/s]"
          ],
          "name": "stderr"
        },
        {
          "output_type": "stream",
          "text": [
            "Test Loss= 1.0684457 Test Accuracy= 79.77915804002761\n",
            "lr=  1.1254999999999995\n"
          ],
          "name": "stdout"
        },
        {
          "output_type": "stream",
          "text": [
            "Epoch= 16 Loss=1.1639466285705566 Batch_id=23 Accuracy=84.55: 100%|██████████| 24/24 [00:09<00:00,  2.62it/s]\n",
            "100%|██████████| 12/12 [00:03<00:00,  3.80it/s]\n",
            "  0%|          | 0/24 [00:00<?, ?it/s]"
          ],
          "name": "stderr"
        },
        {
          "output_type": "stream",
          "text": [
            "Test Loss= 1.4536223 Test Accuracy= 81.50448585231194\n",
            "lr=  1.0009999999999994\n"
          ],
          "name": "stdout"
        },
        {
          "output_type": "stream",
          "text": [
            "Epoch= 17 Loss=1.3016635179519653 Batch_id=23 Accuracy=83.64: 100%|██████████| 24/24 [00:09<00:00,  2.59it/s]\n",
            "100%|██████████| 12/12 [00:02<00:00,  4.16it/s]\n",
            "  0%|          | 0/24 [00:00<?, ?it/s]"
          ],
          "name": "stderr"
        },
        {
          "output_type": "stream",
          "text": [
            "Test Loss= 1.0812211 Test Accuracy= 83.57487922705315\n",
            "lr=  0.8765000000000002\n"
          ],
          "name": "stdout"
        },
        {
          "output_type": "stream",
          "text": [
            "Epoch= 18 Loss=0.8802226781845093 Batch_id=23 Accuracy=91.82: 100%|██████████| 24/24 [00:08<00:00,  2.74it/s]\n",
            "100%|██████████| 12/12 [00:02<00:00,  4.17it/s]\n",
            "  0%|          | 0/24 [00:00<?, ?it/s]"
          ],
          "name": "stderr"
        },
        {
          "output_type": "stream",
          "text": [
            "Test Loss= 1.2029626 Test Accuracy= 84.88612836438924\n",
            "lr=  0.752\n"
          ],
          "name": "stdout"
        },
        {
          "output_type": "stream",
          "text": [
            "Epoch= 19 Loss=0.8934804797172546 Batch_id=23 Accuracy=91.82: 100%|██████████| 24/24 [00:08<00:00,  2.70it/s]\n",
            "100%|██████████| 12/12 [00:02<00:00,  4.07it/s]\n",
            "  0%|          | 0/24 [00:00<?, ?it/s]"
          ],
          "name": "stderr"
        },
        {
          "output_type": "stream",
          "text": [
            "Test Loss= 1.1148459 Test Accuracy= 86.5424430641822\n",
            "lr=  0.6275\n"
          ],
          "name": "stdout"
        },
        {
          "output_type": "stream",
          "text": [
            "Epoch= 20 Loss=0.9985166788101196 Batch_id=23 Accuracy=90.91: 100%|██████████| 24/24 [00:08<00:00,  2.76it/s]\n",
            "100%|██████████| 12/12 [00:02<00:00,  4.30it/s]\n",
            "  0%|          | 0/24 [00:00<?, ?it/s]"
          ],
          "name": "stderr"
        },
        {
          "output_type": "stream",
          "text": [
            "Test Loss= 0.75035393 Test Accuracy= 87.92270531400966\n",
            "lr=  0.5030000000000004\n"
          ],
          "name": "stdout"
        },
        {
          "output_type": "stream",
          "text": [
            "Epoch= 21 Loss=0.745754063129425 Batch_id=23 Accuracy=93.64: 100%|██████████| 24/24 [00:08<00:00,  2.73it/s]\n",
            "100%|██████████| 12/12 [00:02<00:00,  4.32it/s]\n",
            "  0%|          | 0/24 [00:00<?, ?it/s]"
          ],
          "name": "stderr"
        },
        {
          "output_type": "stream",
          "text": [
            "Test Loss= 1.0752586 Test Accuracy= 89.16494133885438\n",
            "lr=  0.3785000000000004\n"
          ],
          "name": "stdout"
        },
        {
          "output_type": "stream",
          "text": [
            "Epoch= 22 Loss=0.745323121547699 Batch_id=23 Accuracy=95.45: 100%|██████████| 24/24 [00:08<00:00,  2.73it/s]\n",
            "100%|██████████| 12/12 [00:02<00:00,  4.31it/s]\n",
            "  0%|          | 0/24 [00:00<?, ?it/s]"
          ],
          "name": "stderr"
        },
        {
          "output_type": "stream",
          "text": [
            "Test Loss= 0.8624883 Test Accuracy= 90.06211180124224\n",
            "lr=  0.2540000000000002\n"
          ],
          "name": "stdout"
        },
        {
          "output_type": "stream",
          "text": [
            "Epoch= 23 Loss=0.7072996497154236 Batch_id=23 Accuracy=95.45: 100%|██████████| 24/24 [00:08<00:00,  2.74it/s]\n",
            "100%|██████████| 12/12 [00:02<00:00,  4.32it/s]\n",
            "  0%|          | 0/24 [00:00<?, ?it/s]"
          ],
          "name": "stderr"
        },
        {
          "output_type": "stream",
          "text": [
            "Test Loss= 0.8372259 Test Accuracy= 91.23533471359558\n",
            "lr=  0.12950000000000012\n"
          ],
          "name": "stdout"
        },
        {
          "output_type": "stream",
          "text": [
            "Epoch= 24 Loss=0.743233323097229 Batch_id=23 Accuracy=94.55: 100%|██████████| 24/24 [00:09<00:00,  2.65it/s]\n",
            "100%|██████████| 12/12 [00:02<00:00,  4.08it/s]\n",
            "  0%|          | 0/24 [00:00<?, ?it/s]"
          ],
          "name": "stderr"
        },
        {
          "output_type": "stream",
          "text": [
            "Test Loss= 0.90383995 Test Accuracy= 91.16632160110422\n",
            "lr=  0.005\n"
          ],
          "name": "stdout"
        },
        {
          "output_type": "stream",
          "text": [
            "Epoch= 25 Loss=0.5976982116699219 Batch_id=23 Accuracy=99.09: 100%|██████████| 24/24 [00:08<00:00,  2.71it/s]\n",
            "100%|██████████| 12/12 [00:02<00:00,  4.17it/s]\n",
            "  0%|          | 0/24 [00:00<?, ?it/s]"
          ],
          "name": "stderr"
        },
        {
          "output_type": "stream",
          "text": [
            "Test Loss= 0.784177 Test Accuracy= 91.37336093857833\n",
            "lr=  0.04650000000000004\n"
          ],
          "name": "stdout"
        },
        {
          "output_type": "stream",
          "text": [
            "Epoch= 26 Loss=0.7415556907653809 Batch_id=23 Accuracy=93.64: 100%|██████████| 24/24 [00:08<00:00,  2.70it/s]\n",
            "100%|██████████| 12/12 [00:02<00:00,  4.24it/s]\n",
            "  0%|          | 0/24 [00:00<?, ?it/s]"
          ],
          "name": "stderr"
        },
        {
          "output_type": "stream",
          "text": [
            "Test Loss= 0.67894256 Test Accuracy= 91.99447895100069\n",
            "lr=  0.08800000000000009\n"
          ],
          "name": "stdout"
        },
        {
          "output_type": "stream",
          "text": [
            "Epoch= 27 Loss=0.8608372807502747 Batch_id=23 Accuracy=96.36: 100%|██████████| 24/24 [00:08<00:00,  2.70it/s]\n",
            "100%|██████████| 12/12 [00:02<00:00,  4.23it/s]\n",
            "  0%|          | 0/24 [00:00<?, ?it/s]"
          ],
          "name": "stderr"
        },
        {
          "output_type": "stream",
          "text": [
            "Test Loss= 0.7199839 Test Accuracy= 91.51138716356108\n",
            "lr=  0.12950000000000012\n"
          ],
          "name": "stdout"
        },
        {
          "output_type": "stream",
          "text": [
            "Epoch= 28 Loss=0.5991964936256409 Batch_id=23 Accuracy=100.00: 100%|██████████| 24/24 [00:08<00:00,  2.72it/s]\n",
            "100%|██████████| 12/12 [00:02<00:00,  4.13it/s]\n",
            "  0%|          | 0/24 [00:00<?, ?it/s]"
          ],
          "name": "stderr"
        },
        {
          "output_type": "stream",
          "text": [
            "Test Loss= 0.7929934 Test Accuracy= 91.85645272601795\n",
            "lr=  0.17100000000000018\n"
          ],
          "name": "stdout"
        },
        {
          "output_type": "stream",
          "text": [
            "Epoch= 29 Loss=0.647773802280426 Batch_id=23 Accuracy=96.36: 100%|██████████| 24/24 [00:08<00:00,  2.70it/s]\n",
            "100%|██████████| 12/12 [00:02<00:00,  4.32it/s]\n",
            "  0%|          | 0/24 [00:00<?, ?it/s]"
          ],
          "name": "stderr"
        },
        {
          "output_type": "stream",
          "text": [
            "Test Loss= 0.72844577 Test Accuracy= 92.20151828847482\n",
            "lr=  0.21250000000000022\n"
          ],
          "name": "stdout"
        },
        {
          "output_type": "stream",
          "text": [
            "Epoch= 30 Loss=0.5723462700843811 Batch_id=23 Accuracy=99.09: 100%|██████████| 24/24 [00:08<00:00,  2.70it/s]\n",
            "100%|██████████| 12/12 [00:02<00:00,  4.23it/s]\n",
            "  0%|          | 0/24 [00:00<?, ?it/s]"
          ],
          "name": "stderr"
        },
        {
          "output_type": "stream",
          "text": [
            "Test Loss= 1.0368786 Test Accuracy= 92.33954451345755\n",
            "lr=  0.2540000000000002\n"
          ],
          "name": "stdout"
        },
        {
          "output_type": "stream",
          "text": [
            "Epoch= 31 Loss=0.5482062697410583 Batch_id=23 Accuracy=97.27: 100%|██████████| 24/24 [00:08<00:00,  2.70it/s]\n",
            "100%|██████████| 12/12 [00:02<00:00,  4.12it/s]\n",
            "  0%|          | 0/24 [00:00<?, ?it/s]"
          ],
          "name": "stderr"
        },
        {
          "output_type": "stream",
          "text": [
            "Test Loss= 0.56737816 Test Accuracy= 92.7536231884058\n",
            "lr=  0.2955000000000003\n"
          ],
          "name": "stdout"
        },
        {
          "output_type": "stream",
          "text": [
            "Epoch= 32 Loss=0.6332001686096191 Batch_id=23 Accuracy=97.27: 100%|██████████| 24/24 [00:09<00:00,  2.66it/s]\n",
            "100%|██████████| 12/12 [00:02<00:00,  4.05it/s]\n",
            "  0%|          | 0/24 [00:00<?, ?it/s]"
          ],
          "name": "stderr"
        },
        {
          "output_type": "stream",
          "text": [
            "Test Loss= 0.65329534 Test Accuracy= 93.58178053830228\n",
            "lr=  0.33700000000000035\n"
          ],
          "name": "stdout"
        },
        {
          "output_type": "stream",
          "text": [
            "Epoch= 33 Loss=0.5293443202972412 Batch_id=23 Accuracy=97.27: 100%|██████████| 24/24 [00:08<00:00,  2.69it/s]\n",
            "100%|██████████| 12/12 [00:02<00:00,  4.13it/s]\n",
            "  0%|          | 0/24 [00:00<?, ?it/s]"
          ],
          "name": "stderr"
        },
        {
          "output_type": "stream",
          "text": [
            "Test Loss= 0.5037891 Test Accuracy= 94.06487232574189\n",
            "lr=  0.3785000000000004\n"
          ],
          "name": "stdout"
        },
        {
          "output_type": "stream",
          "text": [
            "Epoch= 34 Loss=0.5560970306396484 Batch_id=23 Accuracy=98.18: 100%|██████████| 24/24 [00:08<00:00,  2.69it/s]\n",
            "100%|██████████| 12/12 [00:02<00:00,  4.13it/s]\n",
            "  0%|          | 0/24 [00:00<?, ?it/s]"
          ],
          "name": "stderr"
        },
        {
          "output_type": "stream",
          "text": [
            "Test Loss= 0.6799797 Test Accuracy= 94.13388543823326\n",
            "lr=  0.41999999999999993\n"
          ],
          "name": "stdout"
        },
        {
          "output_type": "stream",
          "text": [
            "Epoch= 35 Loss=0.5722947120666504 Batch_id=23 Accuracy=99.09: 100%|██████████| 24/24 [00:08<00:00,  2.72it/s]\n",
            "100%|██████████| 12/12 [00:02<00:00,  4.30it/s]\n",
            "  0%|          | 0/24 [00:00<?, ?it/s]"
          ],
          "name": "stderr"
        },
        {
          "output_type": "stream",
          "text": [
            "Test Loss= 0.73656166 Test Accuracy= 94.34092477570738\n",
            "lr=  0.4615\n"
          ],
          "name": "stdout"
        },
        {
          "output_type": "stream",
          "text": [
            "Epoch= 36 Loss=0.521013081073761 Batch_id=23 Accuracy=98.18: 100%|██████████| 24/24 [00:08<00:00,  2.67it/s]\n",
            "100%|██████████| 12/12 [00:02<00:00,  4.36it/s]\n",
            "  0%|          | 0/24 [00:00<?, ?it/s]"
          ],
          "name": "stderr"
        },
        {
          "output_type": "stream",
          "text": [
            "Test Loss= 0.6240318 Test Accuracy= 95.37612146307798\n",
            "lr=  0.503\n"
          ],
          "name": "stdout"
        },
        {
          "output_type": "stream",
          "text": [
            "Epoch= 37 Loss=0.43788525462150574 Batch_id=23 Accuracy=100.00: 100%|██████████| 24/24 [00:08<00:00,  2.68it/s]\n",
            "100%|██████████| 12/12 [00:02<00:00,  4.23it/s]\n",
            "  0%|          | 0/24 [00:00<?, ?it/s]"
          ],
          "name": "stderr"
        },
        {
          "output_type": "stream",
          "text": [
            "Test Loss= 0.7337893 Test Accuracy= 95.65217391304348\n",
            "lr=  0.5445000000000001\n"
          ],
          "name": "stdout"
        },
        {
          "output_type": "stream",
          "text": [
            "Epoch= 38 Loss=0.5509539246559143 Batch_id=23 Accuracy=100.00: 100%|██████████| 24/24 [00:08<00:00,  2.69it/s]\n",
            "100%|██████████| 12/12 [00:02<00:00,  4.19it/s]\n",
            "  0%|          | 0/24 [00:00<?, ?it/s]"
          ],
          "name": "stderr"
        },
        {
          "output_type": "stream",
          "text": [
            "Test Loss= 0.8724818 Test Accuracy= 95.92822636300897\n",
            "lr=  0.5860000000000002\n"
          ],
          "name": "stdout"
        },
        {
          "output_type": "stream",
          "text": [
            "Epoch= 39 Loss=0.41741013526916504 Batch_id=23 Accuracy=100.00: 100%|██████████| 24/24 [00:08<00:00,  2.68it/s]\n",
            "100%|██████████| 12/12 [00:02<00:00,  4.17it/s]\n",
            "  0%|          | 0/24 [00:00<?, ?it/s]"
          ],
          "name": "stderr"
        },
        {
          "output_type": "stream",
          "text": [
            "Test Loss= 0.661916 Test Accuracy= 96.13526570048309\n",
            "lr=  0.6275\n"
          ],
          "name": "stdout"
        },
        {
          "output_type": "stream",
          "text": [
            "Epoch= 40 Loss=0.5098615884780884 Batch_id=23 Accuracy=97.27: 100%|██████████| 24/24 [00:08<00:00,  2.73it/s]\n",
            "100%|██████████| 12/12 [00:02<00:00,  4.26it/s]\n",
            "  0%|          | 0/24 [00:00<?, ?it/s]"
          ],
          "name": "stderr"
        },
        {
          "output_type": "stream",
          "text": [
            "Test Loss= 0.47151953 Test Accuracy= 96.75638371290545\n",
            "lr=  0.5652500000000006\n"
          ],
          "name": "stdout"
        },
        {
          "output_type": "stream",
          "text": [
            "Epoch= 41 Loss=0.40140601992607117 Batch_id=23 Accuracy=100.00: 100%|██████████| 24/24 [00:08<00:00,  2.76it/s]\n",
            "100%|██████████| 12/12 [00:02<00:00,  4.17it/s]\n",
            "  0%|          | 0/24 [00:00<?, ?it/s]"
          ],
          "name": "stderr"
        },
        {
          "output_type": "stream",
          "text": [
            "Test Loss= 0.5408371 Test Accuracy= 97.37750172532782\n",
            "lr=  0.5030000000000004\n"
          ],
          "name": "stdout"
        },
        {
          "output_type": "stream",
          "text": [
            "Epoch= 42 Loss=0.4187018573284149 Batch_id=23 Accuracy=100.00: 100%|██████████| 24/24 [00:08<00:00,  2.74it/s]\n",
            "100%|██████████| 12/12 [00:02<00:00,  4.24it/s]\n",
            "  0%|          | 0/24 [00:00<?, ?it/s]"
          ],
          "name": "stderr"
        },
        {
          "output_type": "stream",
          "text": [
            "Test Loss= 0.46015513 Test Accuracy= 96.96342305037957\n",
            "lr=  0.4407500000000004\n"
          ],
          "name": "stdout"
        },
        {
          "output_type": "stream",
          "text": [
            "Epoch= 43 Loss=0.37648504972457886 Batch_id=23 Accuracy=100.00: 100%|██████████| 24/24 [00:08<00:00,  2.71it/s]\n",
            "100%|██████████| 12/12 [00:02<00:00,  4.17it/s]\n",
            "  0%|          | 0/24 [00:00<?, ?it/s]"
          ],
          "name": "stderr"
        },
        {
          "output_type": "stream",
          "text": [
            "Test Loss= 0.5054617 Test Accuracy= 97.58454106280193\n",
            "lr=  0.3785000000000004\n"
          ],
          "name": "stdout"
        },
        {
          "output_type": "stream",
          "text": [
            "Epoch= 44 Loss=0.38644281029701233 Batch_id=23 Accuracy=100.00: 100%|██████████| 24/24 [00:08<00:00,  2.73it/s]\n",
            "100%|██████████| 12/12 [00:02<00:00,  4.11it/s]\n",
            "  0%|          | 0/24 [00:00<?, ?it/s]"
          ],
          "name": "stderr"
        },
        {
          "output_type": "stream",
          "text": [
            "Test Loss= 0.508944 Test Accuracy= 97.58454106280193\n",
            "lr=  0.3162500000000003\n"
          ],
          "name": "stdout"
        },
        {
          "output_type": "stream",
          "text": [
            "Epoch= 45 Loss=0.37477126717567444 Batch_id=23 Accuracy=100.00: 100%|██████████| 24/24 [00:08<00:00,  2.73it/s]\n",
            "100%|██████████| 12/12 [00:02<00:00,  4.21it/s]\n",
            "  0%|          | 0/24 [00:00<?, ?it/s]"
          ],
          "name": "stderr"
        },
        {
          "output_type": "stream",
          "text": [
            "Test Loss= 0.41759714 Test Accuracy= 97.9296066252588\n",
            "lr=  0.2540000000000002\n"
          ],
          "name": "stdout"
        },
        {
          "output_type": "stream",
          "text": [
            "Epoch= 46 Loss=0.299236536026001 Batch_id=23 Accuracy=100.00: 100%|██████████| 24/24 [00:08<00:00,  2.72it/s]\n",
            "100%|██████████| 12/12 [00:02<00:00,  4.24it/s]\n",
            "  0%|          | 0/24 [00:00<?, ?it/s]"
          ],
          "name": "stderr"
        },
        {
          "output_type": "stream",
          "text": [
            "Test Loss= 0.66285414 Test Accuracy= 97.65355417529331\n",
            "lr=  0.1917500000000002\n"
          ],
          "name": "stdout"
        },
        {
          "output_type": "stream",
          "text": [
            "Epoch= 47 Loss=0.3152928054332733 Batch_id=23 Accuracy=100.00: 100%|██████████| 24/24 [00:08<00:00,  2.71it/s]\n",
            "100%|██████████| 12/12 [00:02<00:00,  4.13it/s]\n",
            "  0%|          | 0/24 [00:00<?, ?it/s]"
          ],
          "name": "stderr"
        },
        {
          "output_type": "stream",
          "text": [
            "Test Loss= 0.3230961 Test Accuracy= 98.20565907522429\n",
            "lr=  0.12950000000000012\n"
          ],
          "name": "stdout"
        },
        {
          "output_type": "stream",
          "text": [
            "Epoch= 48 Loss=0.3474767506122589 Batch_id=23 Accuracy=100.00: 100%|██████████| 24/24 [00:08<00:00,  2.69it/s]\n",
            "100%|██████████| 12/12 [00:02<00:00,  4.20it/s]\n",
            "  0%|          | 0/24 [00:00<?, ?it/s]"
          ],
          "name": "stderr"
        },
        {
          "output_type": "stream",
          "text": [
            "Test Loss= 0.3937757 Test Accuracy= 98.06763285024155\n",
            "lr=  0.06725000000000006\n"
          ],
          "name": "stdout"
        },
        {
          "output_type": "stream",
          "text": [
            "Epoch= 49 Loss=0.2581833004951477 Batch_id=23 Accuracy=100.00: 100%|██████████| 24/24 [00:08<00:00,  2.72it/s]\n",
            "100%|██████████| 12/12 [00:03<00:00,  3.98it/s]\n",
            "  0%|          | 0/24 [00:00<?, ?it/s]"
          ],
          "name": "stderr"
        },
        {
          "output_type": "stream",
          "text": [
            "Test Loss= 0.3313255 Test Accuracy= 98.13664596273291\n",
            "lr=  0.005\n"
          ],
          "name": "stdout"
        },
        {
          "output_type": "stream",
          "text": [
            "Epoch= 50 Loss=0.30122241377830505 Batch_id=23 Accuracy=100.00: 100%|██████████| 24/24 [00:09<00:00,  2.67it/s]\n",
            "100%|██████████| 12/12 [00:02<00:00,  4.15it/s]\n",
            "  0%|          | 0/24 [00:00<?, ?it/s]"
          ],
          "name": "stderr"
        },
        {
          "output_type": "stream",
          "text": [
            "Test Loss= 0.2293205 Test Accuracy= 97.99861973775018\n",
            "lr=  0.025750000000000023\n"
          ],
          "name": "stdout"
        },
        {
          "output_type": "stream",
          "text": [
            "Epoch= 51 Loss=0.3023306429386139 Batch_id=23 Accuracy=100.00: 100%|██████████| 24/24 [00:08<00:00,  2.68it/s]\n",
            "100%|██████████| 12/12 [00:02<00:00,  4.17it/s]\n",
            "  0%|          | 0/24 [00:00<?, ?it/s]"
          ],
          "name": "stderr"
        },
        {
          "output_type": "stream",
          "text": [
            "Test Loss= 0.27247444 Test Accuracy= 97.86059351276742\n",
            "lr=  0.04650000000000004\n"
          ],
          "name": "stdout"
        },
        {
          "output_type": "stream",
          "text": [
            "Epoch= 52 Loss=0.31680187582969666 Batch_id=23 Accuracy=100.00: 100%|██████████| 24/24 [00:08<00:00,  2.70it/s]\n",
            "100%|██████████| 12/12 [00:02<00:00,  4.15it/s]\n",
            "  0%|          | 0/24 [00:00<?, ?it/s]"
          ],
          "name": "stderr"
        },
        {
          "output_type": "stream",
          "text": [
            "Test Loss= 0.5335643 Test Accuracy= 98.06763285024155\n",
            "lr=  0.06725000000000006\n"
          ],
          "name": "stdout"
        },
        {
          "output_type": "stream",
          "text": [
            "Epoch= 53 Loss=0.240092933177948 Batch_id=23 Accuracy=100.00: 100%|██████████| 24/24 [00:08<00:00,  2.71it/s]\n",
            "100%|██████████| 12/12 [00:02<00:00,  4.35it/s]\n",
            "  0%|          | 0/24 [00:00<?, ?it/s]"
          ],
          "name": "stderr"
        },
        {
          "output_type": "stream",
          "text": [
            "Test Loss= 0.35350516 Test Accuracy= 98.20565907522429\n",
            "lr=  0.08800000000000009\n"
          ],
          "name": "stdout"
        },
        {
          "output_type": "stream",
          "text": [
            "Epoch= 54 Loss=0.3523601293563843 Batch_id=23 Accuracy=100.00: 100%|██████████| 24/24 [00:08<00:00,  2.74it/s]\n",
            "100%|██████████| 12/12 [00:02<00:00,  4.18it/s]\n",
            "  0%|          | 0/24 [00:00<?, ?it/s]"
          ],
          "name": "stderr"
        },
        {
          "output_type": "stream",
          "text": [
            "Test Loss= 0.42729777 Test Accuracy= 97.86059351276742\n",
            "lr=  0.10875000000000011\n"
          ],
          "name": "stdout"
        },
        {
          "output_type": "stream",
          "text": [
            "Epoch= 55 Loss=0.26944518089294434 Batch_id=23 Accuracy=99.09: 100%|██████████| 24/24 [00:08<00:00,  2.69it/s]\n",
            "100%|██████████| 12/12 [00:02<00:00,  4.34it/s]\n",
            "  0%|          | 0/24 [00:00<?, ?it/s]"
          ],
          "name": "stderr"
        },
        {
          "output_type": "stream",
          "text": [
            "Test Loss= 0.43593338 Test Accuracy= 97.99861973775018\n",
            "lr=  0.12950000000000012\n"
          ],
          "name": "stdout"
        },
        {
          "output_type": "stream",
          "text": [
            "Epoch= 56 Loss=0.371246337890625 Batch_id=23 Accuracy=100.00: 100%|██████████| 24/24 [00:08<00:00,  2.68it/s]\n",
            "100%|██████████| 12/12 [00:02<00:00,  4.24it/s]\n",
            "  0%|          | 0/24 [00:00<?, ?it/s]"
          ],
          "name": "stderr"
        },
        {
          "output_type": "stream",
          "text": [
            "Test Loss= 0.35638848 Test Accuracy= 98.13664596273291\n",
            "lr=  0.1502499999999999\n"
          ],
          "name": "stdout"
        },
        {
          "output_type": "stream",
          "text": [
            "Epoch= 57 Loss=0.2469138205051422 Batch_id=23 Accuracy=99.09: 100%|██████████| 24/24 [00:08<00:00,  2.70it/s]\n",
            "100%|██████████| 12/12 [00:02<00:00,  4.07it/s]\n",
            "  0%|          | 0/24 [00:00<?, ?it/s]"
          ],
          "name": "stderr"
        },
        {
          "output_type": "stream",
          "text": [
            "Test Loss= 0.8194734 Test Accuracy= 97.99861973775018\n",
            "lr=  0.17099999999999996\n"
          ],
          "name": "stdout"
        },
        {
          "output_type": "stream",
          "text": [
            "Epoch= 58 Loss=0.26975172758102417 Batch_id=23 Accuracy=100.00: 100%|██████████| 24/24 [00:08<00:00,  2.74it/s]\n",
            "100%|██████████| 12/12 [00:02<00:00,  4.10it/s]\n",
            "  0%|          | 0/24 [00:00<?, ?it/s]"
          ],
          "name": "stderr"
        },
        {
          "output_type": "stream",
          "text": [
            "Test Loss= 0.53770155 Test Accuracy= 97.99861973775018\n",
            "lr=  0.19174999999999998\n"
          ],
          "name": "stdout"
        },
        {
          "output_type": "stream",
          "text": [
            "Epoch= 59 Loss=0.26940715312957764 Batch_id=23 Accuracy=100.00: 100%|██████████| 24/24 [00:08<00:00,  2.67it/s]\n",
            "100%|██████████| 12/12 [00:02<00:00,  4.18it/s]\n",
            "  0%|          | 0/24 [00:00<?, ?it/s]"
          ],
          "name": "stderr"
        },
        {
          "output_type": "stream",
          "text": [
            "Test Loss= 0.34691826 Test Accuracy= 98.34368530020704\n",
            "lr=  0.21249999999999997\n"
          ],
          "name": "stdout"
        },
        {
          "output_type": "stream",
          "text": [
            "Epoch= 60 Loss=0.2842179834842682 Batch_id=23 Accuracy=99.09: 100%|██████████| 24/24 [00:08<00:00,  2.69it/s]\n",
            "100%|██████████| 12/12 [00:02<00:00,  4.29it/s]\n",
            "  0%|          | 0/24 [00:00<?, ?it/s]"
          ],
          "name": "stderr"
        },
        {
          "output_type": "stream",
          "text": [
            "Test Loss= 0.44237673 Test Accuracy= 98.06763285024155\n",
            "lr=  0.23325\n"
          ],
          "name": "stdout"
        },
        {
          "output_type": "stream",
          "text": [
            "Epoch= 61 Loss=0.2083052098751068 Batch_id=23 Accuracy=100.00: 100%|██████████| 24/24 [00:08<00:00,  2.74it/s]\n",
            "100%|██████████| 12/12 [00:02<00:00,  4.22it/s]\n",
            "  0%|          | 0/24 [00:00<?, ?it/s]"
          ],
          "name": "stderr"
        },
        {
          "output_type": "stream",
          "text": [
            "Test Loss= 0.80212075 Test Accuracy= 98.06763285024155\n",
            "lr=  0.254\n"
          ],
          "name": "stdout"
        },
        {
          "output_type": "stream",
          "text": [
            "Epoch= 62 Loss=0.29093727469444275 Batch_id=23 Accuracy=100.00: 100%|██████████| 24/24 [00:09<00:00,  2.66it/s]\n",
            "100%|██████████| 12/12 [00:02<00:00,  4.40it/s]\n",
            "  0%|          | 0/24 [00:00<?, ?it/s]"
          ],
          "name": "stderr"
        },
        {
          "output_type": "stream",
          "text": [
            "Test Loss= 0.4171297 Test Accuracy= 98.13664596273291\n",
            "lr=  0.27475000000000005\n"
          ],
          "name": "stdout"
        },
        {
          "output_type": "stream",
          "text": [
            "Epoch= 63 Loss=0.22619228065013885 Batch_id=23 Accuracy=100.00: 100%|██████████| 24/24 [00:08<00:00,  2.70it/s]\n",
            "100%|██████████| 12/12 [00:03<00:00,  3.99it/s]\n",
            "  0%|          | 0/24 [00:00<?, ?it/s]"
          ],
          "name": "stderr"
        },
        {
          "output_type": "stream",
          "text": [
            "Test Loss= 0.40830258 Test Accuracy= 97.99861973775018\n",
            "lr=  0.2955000000000001\n"
          ],
          "name": "stdout"
        },
        {
          "output_type": "stream",
          "text": [
            "Epoch= 64 Loss=0.2569359242916107 Batch_id=23 Accuracy=100.00: 100%|██████████| 24/24 [00:08<00:00,  2.71it/s]\n",
            "100%|██████████| 12/12 [00:02<00:00,  4.06it/s]\n",
            "  0%|          | 0/24 [00:00<?, ?it/s]"
          ],
          "name": "stderr"
        },
        {
          "output_type": "stream",
          "text": [
            "Test Loss= 0.42951417 Test Accuracy= 97.9296066252588\n",
            "lr=  0.31625\n"
          ],
          "name": "stdout"
        },
        {
          "output_type": "stream",
          "text": [
            "Epoch= 65 Loss=0.355095773935318 Batch_id=23 Accuracy=100.00: 100%|██████████| 24/24 [00:08<00:00,  2.70it/s]\n",
            "100%|██████████| 12/12 [00:02<00:00,  4.04it/s]\n",
            "  0%|          | 0/24 [00:00<?, ?it/s]"
          ],
          "name": "stderr"
        },
        {
          "output_type": "stream",
          "text": [
            "Test Loss= 0.39786175 Test Accuracy= 97.99861973775018\n",
            "lr=  0.2851249999999999\n"
          ],
          "name": "stdout"
        },
        {
          "output_type": "stream",
          "text": [
            "Epoch= 66 Loss=0.23591972887516022 Batch_id=23 Accuracy=99.09: 100%|██████████| 24/24 [00:09<00:00,  2.67it/s]\n",
            "100%|██████████| 12/12 [00:02<00:00,  4.08it/s]\n",
            "  0%|          | 0/24 [00:00<?, ?it/s]"
          ],
          "name": "stderr"
        },
        {
          "output_type": "stream",
          "text": [
            "Test Loss= 0.45351744 Test Accuracy= 98.13664596273291\n",
            "lr=  0.2539999999999999\n"
          ],
          "name": "stdout"
        },
        {
          "output_type": "stream",
          "text": [
            "Epoch= 67 Loss=0.20798780024051666 Batch_id=23 Accuracy=100.00: 100%|██████████| 24/24 [00:08<00:00,  2.71it/s]\n",
            "100%|██████████| 12/12 [00:02<00:00,  4.20it/s]\n",
            "  0%|          | 0/24 [00:00<?, ?it/s]"
          ],
          "name": "stderr"
        },
        {
          "output_type": "stream",
          "text": [
            "Test Loss= 0.45379183 Test Accuracy= 98.27467218771567\n",
            "lr=  0.22287499999999988\n"
          ],
          "name": "stdout"
        },
        {
          "output_type": "stream",
          "text": [
            "Epoch= 68 Loss=0.2824957072734833 Batch_id=23 Accuracy=99.09: 100%|██████████| 24/24 [00:08<00:00,  2.68it/s]\n",
            "100%|██████████| 12/12 [00:02<00:00,  4.30it/s]\n",
            "  0%|          | 0/24 [00:00<?, ?it/s]"
          ],
          "name": "stderr"
        },
        {
          "output_type": "stream",
          "text": [
            "Test Loss= 0.4056025 Test Accuracy= 98.27467218771567\n",
            "lr=  0.1917500000000002\n"
          ],
          "name": "stdout"
        },
        {
          "output_type": "stream",
          "text": [
            "Epoch= 69 Loss=0.19718199968338013 Batch_id=23 Accuracy=100.00: 100%|██████████| 24/24 [00:08<00:00,  2.67it/s]\n",
            "100%|██████████| 12/12 [00:02<00:00,  4.16it/s]\n",
            "  0%|          | 0/24 [00:00<?, ?it/s]"
          ],
          "name": "stderr"
        },
        {
          "output_type": "stream",
          "text": [
            "Test Loss= 0.3837356 Test Accuracy= 98.20565907522429\n",
            "lr=  0.16062500000000016\n"
          ],
          "name": "stdout"
        },
        {
          "output_type": "stream",
          "text": [
            "Epoch= 70 Loss=0.22711233794689178 Batch_id=23 Accuracy=100.00: 100%|██████████| 24/24 [00:08<00:00,  2.71it/s]\n",
            "100%|██████████| 12/12 [00:02<00:00,  4.41it/s]\n",
            "  0%|          | 0/24 [00:00<?, ?it/s]"
          ],
          "name": "stderr"
        },
        {
          "output_type": "stream",
          "text": [
            "Test Loss= 0.30038545 Test Accuracy= 98.06763285024155\n",
            "lr=  0.12950000000000012\n"
          ],
          "name": "stdout"
        },
        {
          "output_type": "stream",
          "text": [
            "Epoch= 71 Loss=0.19409014284610748 Batch_id=23 Accuracy=100.00: 100%|██████████| 24/24 [00:09<00:00,  2.65it/s]\n",
            "100%|██████████| 12/12 [00:02<00:00,  4.31it/s]\n",
            "  0%|          | 0/24 [00:00<?, ?it/s]"
          ],
          "name": "stderr"
        },
        {
          "output_type": "stream",
          "text": [
            "Test Loss= 0.31878495 Test Accuracy= 98.13664596273291\n",
            "lr=  0.0983750000000001\n"
          ],
          "name": "stdout"
        },
        {
          "output_type": "stream",
          "text": [
            "Epoch= 72 Loss=0.2337009757757187 Batch_id=23 Accuracy=100.00: 100%|██████████| 24/24 [00:08<00:00,  2.71it/s]\n",
            "100%|██████████| 12/12 [00:02<00:00,  4.28it/s]\n",
            "  0%|          | 0/24 [00:00<?, ?it/s]"
          ],
          "name": "stderr"
        },
        {
          "output_type": "stream",
          "text": [
            "Test Loss= 0.25987384 Test Accuracy= 98.13664596273291\n",
            "lr=  0.06725000000000006\n"
          ],
          "name": "stdout"
        },
        {
          "output_type": "stream",
          "text": [
            "Epoch= 73 Loss=0.2096681445837021 Batch_id=23 Accuracy=100.00: 100%|██████████| 24/24 [00:08<00:00,  2.73it/s]\n",
            "100%|██████████| 12/12 [00:02<00:00,  4.20it/s]\n",
            "  0%|          | 0/24 [00:00<?, ?it/s]"
          ],
          "name": "stderr"
        },
        {
          "output_type": "stream",
          "text": [
            "Test Loss= 0.6828401 Test Accuracy= 98.20565907522429\n",
            "lr=  0.03612500000000003\n"
          ],
          "name": "stdout"
        },
        {
          "output_type": "stream",
          "text": [
            "Epoch= 74 Loss=0.19023220241069794 Batch_id=23 Accuracy=100.00: 100%|██████████| 24/24 [00:08<00:00,  2.71it/s]\n",
            "100%|██████████| 12/12 [00:02<00:00,  4.06it/s]\n",
            "  0%|          | 0/24 [00:00<?, ?it/s]"
          ],
          "name": "stderr"
        },
        {
          "output_type": "stream",
          "text": [
            "Test Loss= 0.39689842 Test Accuracy= 98.20565907522429\n",
            "lr=  0.005\n"
          ],
          "name": "stdout"
        },
        {
          "output_type": "stream",
          "text": [
            "Epoch= 75 Loss=0.21452969312667847 Batch_id=23 Accuracy=100.00: 100%|██████████| 24/24 [00:08<00:00,  2.70it/s]\n",
            "100%|██████████| 12/12 [00:02<00:00,  4.07it/s]\n",
            "  0%|          | 0/24 [00:00<?, ?it/s]"
          ],
          "name": "stderr"
        },
        {
          "output_type": "stream",
          "text": [
            "Test Loss= 0.53175217 Test Accuracy= 98.13664596273291\n",
            "lr=  0.01537500000000001\n"
          ],
          "name": "stdout"
        },
        {
          "output_type": "stream",
          "text": [
            "Epoch= 76 Loss=0.1630888432264328 Batch_id=23 Accuracy=100.00: 100%|██████████| 24/24 [00:08<00:00,  2.69it/s]\n",
            "100%|██████████| 12/12 [00:02<00:00,  4.10it/s]\n",
            "  0%|          | 0/24 [00:00<?, ?it/s]"
          ],
          "name": "stderr"
        },
        {
          "output_type": "stream",
          "text": [
            "Test Loss= 0.5074604 Test Accuracy= 98.13664596273291\n",
            "lr=  0.025750000000000023\n"
          ],
          "name": "stdout"
        },
        {
          "output_type": "stream",
          "text": [
            "Epoch= 77 Loss=0.17368420958518982 Batch_id=23 Accuracy=100.00: 100%|██████████| 24/24 [00:08<00:00,  2.72it/s]\n",
            "100%|██████████| 12/12 [00:02<00:00,  4.18it/s]\n",
            "  0%|          | 0/24 [00:00<?, ?it/s]"
          ],
          "name": "stderr"
        },
        {
          "output_type": "stream",
          "text": [
            "Test Loss= 0.35805464 Test Accuracy= 98.20565907522429\n",
            "lr=  0.03612500000000003\n"
          ],
          "name": "stdout"
        },
        {
          "output_type": "stream",
          "text": [
            "Epoch= 78 Loss=0.20214538276195526 Batch_id=23 Accuracy=100.00: 100%|██████████| 24/24 [00:08<00:00,  2.76it/s]\n",
            "100%|██████████| 12/12 [00:02<00:00,  4.12it/s]\n",
            "  0%|          | 0/24 [00:00<?, ?it/s]"
          ],
          "name": "stderr"
        },
        {
          "output_type": "stream",
          "text": [
            "Test Loss= 0.36955374 Test Accuracy= 98.20565907522429\n",
            "lr=  0.04650000000000004\n"
          ],
          "name": "stdout"
        },
        {
          "output_type": "stream",
          "text": [
            "Epoch= 79 Loss=0.19341424107551575 Batch_id=23 Accuracy=100.00: 100%|██████████| 24/24 [00:08<00:00,  2.68it/s]\n",
            "100%|██████████| 12/12 [00:02<00:00,  4.20it/s]\n",
            "  0%|          | 0/24 [00:00<?, ?it/s]"
          ],
          "name": "stderr"
        },
        {
          "output_type": "stream",
          "text": [
            "Test Loss= 0.6048391 Test Accuracy= 98.20565907522429\n",
            "lr=  0.05687500000000005\n"
          ],
          "name": "stdout"
        },
        {
          "output_type": "stream",
          "text": [
            "Epoch= 80 Loss=0.1689155101776123 Batch_id=23 Accuracy=100.00: 100%|██████████| 24/24 [00:08<00:00,  2.69it/s]\n",
            "100%|██████████| 12/12 [00:02<00:00,  4.10it/s]\n",
            "  0%|          | 0/24 [00:00<?, ?it/s]"
          ],
          "name": "stderr"
        },
        {
          "output_type": "stream",
          "text": [
            "Test Loss= 0.2631385 Test Accuracy= 98.27467218771567\n",
            "lr=  0.06725000000000006\n"
          ],
          "name": "stdout"
        },
        {
          "output_type": "stream",
          "text": [
            "Epoch= 81 Loss=0.18472468852996826 Batch_id=23 Accuracy=100.00: 100%|██████████| 24/24 [00:08<00:00,  2.72it/s]\n",
            "100%|██████████| 12/12 [00:02<00:00,  4.13it/s]\n",
            "  0%|          | 0/24 [00:00<?, ?it/s]"
          ],
          "name": "stderr"
        },
        {
          "output_type": "stream",
          "text": [
            "Test Loss= 0.2903189 Test Accuracy= 98.06763285024155\n",
            "lr=  0.07762499999999985\n"
          ],
          "name": "stdout"
        },
        {
          "output_type": "stream",
          "text": [
            "Epoch= 82 Loss=0.20411482453346252 Batch_id=23 Accuracy=100.00: 100%|██████████| 24/24 [00:08<00:00,  2.72it/s]\n",
            "100%|██████████| 12/12 [00:02<00:00,  4.04it/s]\n",
            "  0%|          | 0/24 [00:00<?, ?it/s]"
          ],
          "name": "stderr"
        },
        {
          "output_type": "stream",
          "text": [
            "Test Loss= 0.49405438 Test Accuracy= 98.20565907522429\n",
            "lr=  0.08800000000000009\n"
          ],
          "name": "stdout"
        },
        {
          "output_type": "stream",
          "text": [
            "Epoch= 83 Loss=0.18939711153507233 Batch_id=23 Accuracy=100.00: 100%|██████████| 24/24 [00:09<00:00,  2.66it/s]\n",
            "100%|██████████| 12/12 [00:02<00:00,  4.22it/s]\n",
            "  0%|          | 0/24 [00:00<?, ?it/s]"
          ],
          "name": "stderr"
        },
        {
          "output_type": "stream",
          "text": [
            "Test Loss= 0.29459992 Test Accuracy= 98.13664596273291\n",
            "lr=  0.09837499999999987\n"
          ],
          "name": "stdout"
        },
        {
          "output_type": "stream",
          "text": [
            "Epoch= 84 Loss=0.16379134356975555 Batch_id=23 Accuracy=100.00: 100%|██████████| 24/24 [00:08<00:00,  2.73it/s]\n",
            "100%|██████████| 12/12 [00:02<00:00,  4.21it/s]\n",
            "  0%|          | 0/24 [00:00<?, ?it/s]"
          ],
          "name": "stderr"
        },
        {
          "output_type": "stream",
          "text": [
            "Test Loss= 0.2875095 Test Accuracy= 97.99861973775018\n",
            "lr=  0.10875000000000011\n"
          ],
          "name": "stdout"
        },
        {
          "output_type": "stream",
          "text": [
            "Epoch= 85 Loss=0.21020188927650452 Batch_id=23 Accuracy=100.00: 100%|██████████| 24/24 [00:08<00:00,  2.75it/s]\n",
            "100%|██████████| 12/12 [00:02<00:00,  4.14it/s]\n",
            "  0%|          | 0/24 [00:00<?, ?it/s]"
          ],
          "name": "stderr"
        },
        {
          "output_type": "stream",
          "text": [
            "Test Loss= 0.45759726 Test Accuracy= 98.20565907522429\n",
            "lr=  0.11912499999999988\n"
          ],
          "name": "stdout"
        },
        {
          "output_type": "stream",
          "text": [
            "Epoch= 86 Loss=0.17921480536460876 Batch_id=23 Accuracy=100.00: 100%|██████████| 24/24 [00:08<00:00,  2.70it/s]\n",
            "100%|██████████| 12/12 [00:02<00:00,  4.17it/s]\n",
            "  0%|          | 0/24 [00:00<?, ?it/s]"
          ],
          "name": "stderr"
        },
        {
          "output_type": "stream",
          "text": [
            "Test Loss= 0.3125754 Test Accuracy= 98.13664596273291\n",
            "lr=  0.12950000000000012\n"
          ],
          "name": "stdout"
        },
        {
          "output_type": "stream",
          "text": [
            "Epoch= 87 Loss=0.19846463203430176 Batch_id=23 Accuracy=100.00: 100%|██████████| 24/24 [00:08<00:00,  2.75it/s]\n",
            "100%|██████████| 12/12 [00:02<00:00,  4.32it/s]\n",
            "  0%|          | 0/24 [00:00<?, ?it/s]"
          ],
          "name": "stderr"
        },
        {
          "output_type": "stream",
          "text": [
            "Test Loss= 0.1892223 Test Accuracy= 98.27467218771567\n",
            "lr=  0.13987499999999992\n"
          ],
          "name": "stdout"
        },
        {
          "output_type": "stream",
          "text": [
            "Epoch= 88 Loss=0.2116381675004959 Batch_id=23 Accuracy=100.00: 100%|██████████| 24/24 [00:09<00:00,  2.66it/s]\n",
            "100%|██████████| 12/12 [00:02<00:00,  4.13it/s]\n",
            "  0%|          | 0/24 [00:00<?, ?it/s]"
          ],
          "name": "stderr"
        },
        {
          "output_type": "stream",
          "text": [
            "Test Loss= 0.37581035 Test Accuracy= 98.20565907522429\n",
            "lr=  0.15025000000000016\n"
          ],
          "name": "stdout"
        },
        {
          "output_type": "stream",
          "text": [
            "Epoch= 89 Loss=0.20092815160751343 Batch_id=23 Accuracy=100.00: 100%|██████████| 24/24 [00:08<00:00,  2.68it/s]\n",
            "100%|██████████| 12/12 [00:02<00:00,  4.30it/s]\n",
            "  0%|          | 0/24 [00:00<?, ?it/s]"
          ],
          "name": "stderr"
        },
        {
          "output_type": "stream",
          "text": [
            "Test Loss= 0.6948377 Test Accuracy= 98.13664596273291\n",
            "lr=  0.16062499999999993\n"
          ],
          "name": "stdout"
        },
        {
          "output_type": "stream",
          "text": [
            "Epoch= 90 Loss=0.17172813415527344 Batch_id=23 Accuracy=100.00: 100%|██████████| 24/24 [00:08<00:00,  2.67it/s]\n",
            "100%|██████████| 12/12 [00:02<00:00,  4.33it/s]\n",
            "  0%|          | 0/24 [00:00<?, ?it/s]"
          ],
          "name": "stderr"
        },
        {
          "output_type": "stream",
          "text": [
            "Test Loss= 0.23336306 Test Accuracy= 98.20565907522429\n",
            "lr=  0.1450624999999998\n"
          ],
          "name": "stdout"
        },
        {
          "output_type": "stream",
          "text": [
            "Epoch= 91 Loss=0.19121846556663513 Batch_id=23 Accuracy=100.00: 100%|██████████| 24/24 [00:08<00:00,  2.69it/s]\n",
            "100%|██████████| 12/12 [00:02<00:00,  4.13it/s]\n",
            "  0%|          | 0/24 [00:00<?, ?it/s]"
          ],
          "name": "stderr"
        },
        {
          "output_type": "stream",
          "text": [
            "Test Loss= 0.52519745 Test Accuracy= 98.20565907522429\n",
            "lr=  0.12950000000000012\n"
          ],
          "name": "stdout"
        },
        {
          "output_type": "stream",
          "text": [
            "Epoch= 92 Loss=0.21030008792877197 Batch_id=23 Accuracy=100.00: 100%|██████████| 24/24 [00:08<00:00,  2.74it/s]\n",
            "100%|██████████| 12/12 [00:03<00:00,  3.99it/s]\n",
            "  0%|          | 0/24 [00:00<?, ?it/s]"
          ],
          "name": "stderr"
        },
        {
          "output_type": "stream",
          "text": [
            "Test Loss= 0.24614602 Test Accuracy= 98.20565907522429\n",
            "lr=  0.11393749999999976\n"
          ],
          "name": "stdout"
        },
        {
          "output_type": "stream",
          "text": [
            "Epoch= 93 Loss=0.191856250166893 Batch_id=23 Accuracy=100.00: 100%|██████████| 24/24 [00:08<00:00,  2.72it/s]\n",
            "100%|██████████| 12/12 [00:02<00:00,  4.00it/s]\n",
            "  0%|          | 0/24 [00:00<?, ?it/s]"
          ],
          "name": "stderr"
        },
        {
          "output_type": "stream",
          "text": [
            "Test Loss= 0.2744729 Test Accuracy= 98.13664596273291\n",
            "lr=  0.0983750000000001\n"
          ],
          "name": "stdout"
        },
        {
          "output_type": "stream",
          "text": [
            "Epoch= 94 Loss=0.17438064515590668 Batch_id=23 Accuracy=100.00: 100%|██████████| 24/24 [00:08<00:00,  2.70it/s]\n",
            "100%|██████████| 12/12 [00:03<00:00,  3.95it/s]\n",
            "  0%|          | 0/24 [00:00<?, ?it/s]"
          ],
          "name": "stderr"
        },
        {
          "output_type": "stream",
          "text": [
            "Test Loss= 0.20301919 Test Accuracy= 98.20565907522429\n",
            "lr=  0.08281250000000008\n"
          ],
          "name": "stdout"
        },
        {
          "output_type": "stream",
          "text": [
            "Epoch= 95 Loss=0.1852426826953888 Batch_id=23 Accuracy=100.00: 100%|██████████| 24/24 [00:08<00:00,  2.71it/s]\n",
            "100%|██████████| 12/12 [00:02<00:00,  4.18it/s]\n",
            "  0%|          | 0/24 [00:00<?, ?it/s]"
          ],
          "name": "stderr"
        },
        {
          "output_type": "stream",
          "text": [
            "Test Loss= 0.3599532 Test Accuracy= 98.20565907522429\n",
            "lr=  0.06725000000000006\n"
          ],
          "name": "stdout"
        },
        {
          "output_type": "stream",
          "text": [
            "Epoch= 96 Loss=0.14525941014289856 Batch_id=23 Accuracy=100.00: 100%|██████████| 24/24 [00:08<00:00,  2.72it/s]\n",
            "100%|██████████| 12/12 [00:02<00:00,  4.08it/s]\n",
            "  0%|          | 0/24 [00:00<?, ?it/s]"
          ],
          "name": "stderr"
        },
        {
          "output_type": "stream",
          "text": [
            "Test Loss= 0.21896581 Test Accuracy= 98.20565907522429\n",
            "lr=  0.051687500000000046\n"
          ],
          "name": "stdout"
        },
        {
          "output_type": "stream",
          "text": [
            "Epoch= 97 Loss=0.1617712378501892 Batch_id=23 Accuracy=100.00: 100%|██████████| 24/24 [00:08<00:00,  2.69it/s]\n",
            "100%|██████████| 12/12 [00:02<00:00,  4.25it/s]\n",
            "  0%|          | 0/24 [00:00<?, ?it/s]"
          ],
          "name": "stderr"
        },
        {
          "output_type": "stream",
          "text": [
            "Test Loss= 0.45067698 Test Accuracy= 98.20565907522429\n",
            "lr=  0.03612500000000003\n"
          ],
          "name": "stdout"
        },
        {
          "output_type": "stream",
          "text": [
            "Epoch= 98 Loss=0.1651766300201416 Batch_id=23 Accuracy=99.09: 100%|██████████| 24/24 [00:08<00:00,  2.77it/s]\n",
            "100%|██████████| 12/12 [00:02<00:00,  4.15it/s]\n",
            "  0%|          | 0/24 [00:00<?, ?it/s]"
          ],
          "name": "stderr"
        },
        {
          "output_type": "stream",
          "text": [
            "Test Loss= 0.7643314 Test Accuracy= 98.13664596273291\n",
            "lr=  0.020562500000000015\n"
          ],
          "name": "stdout"
        },
        {
          "output_type": "stream",
          "text": [
            "Epoch= 99 Loss=0.1637496054172516 Batch_id=23 Accuracy=100.00: 100%|██████████| 24/24 [00:08<00:00,  2.69it/s]\n",
            "100%|██████████| 12/12 [00:02<00:00,  4.21it/s]\n",
            "  0%|          | 0/24 [00:00<?, ?it/s]"
          ],
          "name": "stderr"
        },
        {
          "output_type": "stream",
          "text": [
            "Test Loss= 0.34251365 Test Accuracy= 98.06763285024155\n",
            "lr=  0.005\n"
          ],
          "name": "stdout"
        },
        {
          "output_type": "stream",
          "text": [
            "Epoch= 100 Loss=0.14245733618736267 Batch_id=23 Accuracy=100.00: 100%|██████████| 24/24 [00:08<00:00,  2.70it/s]\n",
            "100%|██████████| 12/12 [00:02<00:00,  4.19it/s]"
          ],
          "name": "stderr"
        },
        {
          "output_type": "stream",
          "text": [
            "Test Loss= 0.20616408 Test Accuracy= 98.13664596273291\n",
            "Finished Training\n"
          ],
          "name": "stdout"
        },
        {
          "output_type": "stream",
          "text": [
            "\n"
          ],
          "name": "stderr"
        }
      ]
    },
    {
      "cell_type": "markdown",
      "metadata": {
        "id": "nDe2UGJnmiLz",
        "colab_type": "text"
      },
      "source": [
        "#Accuracy plots"
      ]
    },
    {
      "cell_type": "code",
      "metadata": {
        "id": "zNNf9Z6X476U",
        "colab_type": "code",
        "colab": {
          "base_uri": "https://localhost:8080/",
          "height": 621
        },
        "outputId": "0e031164-214a-4a2a-db2a-589f1a37833c"
      },
      "source": [
        "general_utils.plot_acc_loss(train_acc, test_acc, trainloss_, testloss_)"
      ],
      "execution_count": 22,
      "outputs": [
        {
          "output_type": "display_data",
          "data": {
            "image/png": "[encoded data removed]",
            "text/plain": [
              "<Figure size 720x720 with 4 Axes>"
            ]
          },
          "metadata": {
            "tags": [],
            "needs_background": "light"
          }
        }
      ]
    },
    {
      "cell_type": "markdown",
      "metadata": {
        "id": "8Ce7avsjmdFi",
        "colab_type": "text"
      },
      "source": [
        "#LR vs Epoch plot"
      ]
    },
    {
      "cell_type": "code",
      "metadata": {
        "id": "3MAATKTDH6si",
        "colab_type": "code",
        "colab": {
          "base_uri": "https://localhost:8080/",
          "height": 178
        },
        "outputId": "50a7ebbd-1e14-4579-9c6b-d868dfb74dc7"
      },
      "source": [
        "import matplotlib.pyplot as plt\n",
        "fig = plt.figure()\n",
        "ax = fig.add_subplot(2, 1, 1)\n",
        "line, = ax.plot(lr_)\n",
        "ax.set_xlabel(\"Learning rate\")\n",
        "ax.set_ylabel(\"Epoch\")"
      ],
      "execution_count": 23,
      "outputs": [
        {
          "output_type": "execute_result",
          "data": {
            "text/plain": [
              "Text(0, 0.5, 'Epoch')"
            ]
          },
          "metadata": {
            "tags": []
          },
          "execution_count": 23
        },
        {
          "output_type": "display_data",
          "data": {
            "image/png": "[encoded data removed]",
            "text/plain": [
              "<Figure size 432x288 with 1 Axes>"
            ]
          },
          "metadata": {
            "tags": [],
            "needs_background": "light"
          }
        }
      ]
    },
    {
      "cell_type": "markdown",
      "metadata": {
        "id": "d5vbbYhLm4c6",
        "colab_type": "text"
      },
      "source": [
        "#Torch jit Save"
      ]
    },
    {
      "cell_type": "code",
      "metadata": {
        "id": "q37Gn2b5H8aC",
        "colab_type": "code",
        "colab": {}
      },
      "source": [
        "#torch.save(modelnet.state_dict(), 'Generated_models/Model.pt')\n",
        "model = net.to('cpu')\n",
        "model.eval()\n",
        "compiled_model = torch.jit.trace(model, torch.randn(1,3,160,160))\n",
        "torch.jit.save(compiled_model, 'Generated_models/Modeljit.pt')"
      ],
      "execution_count": 25,
      "outputs": []
    },
    {
      "cell_type": "markdown",
      "metadata": {
        "id": "OzbqduiCn23M",
        "colab_type": "text"
      },
      "source": [
        "#Load Model"
      ]
    },
    {
      "cell_type": "code",
      "metadata": {
        "id": "9iTRrEF3Iv2J",
        "colab_type": "code",
        "colab": {
          "base_uri": "https://localhost:8080/",
          "height": 1000
        },
        "outputId": "c916f01c-d32e-4598-d8c5-8b87fee134a1"
      },
      "source": [
        "import cudas\n",
        "device = torch.device(\"cuda\" if cudas.cuda else \"cpu\")\n",
        "loaded_compiled_model = torch.jit.load('Generated_models/Modeljit.pt')\n",
        "loaded_compiled_model.eval()"
      ],
      "execution_count": 7,
      "outputs": [
        {
          "output_type": "execute_result",
          "data": {
            "text/plain": [
              "RecursiveScriptModule(\n",
              "  original_name=Sequential\n",
              "  (0): RecursiveScriptModule(\n",
              "    original_name=BasicConv2d\n",
              "    (conv): RecursiveScriptModule(original_name=Conv2d)\n",
              "    (bn): RecursiveScriptModule(original_name=BatchNorm2d)\n",
              "    (relu): RecursiveScriptModule(original_name=ReLU)\n",
              "  )\n",
              "  (1): RecursiveScriptModule(\n",
              "    original_name=BasicConv2d\n",
              "    (conv): RecursiveScriptModule(original_name=Conv2d)\n",
              "    (bn): RecursiveScriptModule(original_name=BatchNorm2d)\n",
              "    (relu): RecursiveScriptModule(original_name=ReLU)\n",
              "  )\n",
              "  (2): RecursiveScriptModule(\n",
              "    original_name=BasicConv2d\n",
              "    (conv): RecursiveScriptModule(original_name=Conv2d)\n",
              "    (bn): RecursiveScriptModule(original_name=BatchNorm2d)\n",
              "    (relu): RecursiveScriptModule(original_name=ReLU)\n",
              "  )\n",
              "  (3): RecursiveScriptModule(original_name=MaxPool2d)\n",
              "  (4): RecursiveScriptModule(\n",
              "    original_name=BasicConv2d\n",
              "    (conv): RecursiveScriptModule(original_name=Conv2d)\n",
              "    (bn): RecursiveScriptModule(original_name=BatchNorm2d)\n",
              "    (relu): RecursiveScriptModule(original_name=ReLU)\n",
              "  )\n",
              "  (5): RecursiveScriptModule(\n",
              "    original_name=BasicConv2d\n",
              "    (conv): RecursiveScriptModule(original_name=Conv2d)\n",
              "    (bn): RecursiveScriptModule(original_name=BatchNorm2d)\n",
              "    (relu): RecursiveScriptModule(original_name=ReLU)\n",
              "  )\n",
              "  (6): RecursiveScriptModule(\n",
              "    original_name=BasicConv2d\n",
              "    (conv): RecursiveScriptModule(original_name=Conv2d)\n",
              "    (bn): RecursiveScriptModule(original_name=BatchNorm2d)\n",
              "    (relu): RecursiveScriptModule(original_name=ReLU)\n",
              "  )\n",
              "  (7): RecursiveScriptModule(\n",
              "    original_name=Sequential\n",
              "    (0): RecursiveScriptModule(\n",
              "      original_name=Block35\n",
              "      (branch0): RecursiveScriptModule(\n",
              "        original_name=BasicConv2d\n",
              "        (conv): RecursiveScriptModule(original_name=Conv2d)\n",
              "        (bn): RecursiveScriptModule(original_name=BatchNorm2d)\n",
              "        (relu): RecursiveScriptModule(original_name=ReLU)\n",
              "      )\n",
              "      (branch1): RecursiveScriptModule(\n",
              "        original_name=Sequential\n",
              "        (0): RecursiveScriptModule(\n",
              "          original_name=BasicConv2d\n",
              "          (conv): RecursiveScriptModule(original_name=Conv2d)\n",
              "          (bn): RecursiveScriptModule(original_name=BatchNorm2d)\n",
              "          (relu): RecursiveScriptModule(original_name=ReLU)\n",
              "        )\n",
              "        (1): RecursiveScriptModule(\n",
              "          original_name=BasicConv2d\n",
              "          (conv): RecursiveScriptModule(original_name=Conv2d)\n",
              "          (bn): RecursiveScriptModule(original_name=BatchNorm2d)\n",
              "          (relu): RecursiveScriptModule(original_name=ReLU)\n",
              "        )\n",
              "      )\n",
              "      (branch2): RecursiveScriptModule(\n",
              "        original_name=Sequential\n",
              "        (0): RecursiveScriptModule(\n",
              "          original_name=BasicConv2d\n",
              "          (conv): RecursiveScriptModule(original_name=Conv2d)\n",
              "          (bn): RecursiveScriptModule(original_name=BatchNorm2d)\n",
              "          (relu): RecursiveScriptModule(original_name=ReLU)\n",
              "        )\n",
              "        (1): RecursiveScriptModule(\n",
              "          original_name=BasicConv2d\n",
              "          (conv): RecursiveScriptModule(original_name=Conv2d)\n",
              "          (bn): RecursiveScriptModule(original_name=BatchNorm2d)\n",
              "          (relu): RecursiveScriptModule(original_name=ReLU)\n",
              "        )\n",
              "        (2): RecursiveScriptModule(\n",
              "          original_name=BasicConv2d\n",
              "          (conv): RecursiveScriptModule(original_name=Conv2d)\n",
              "          (bn): RecursiveScriptModule(original_name=BatchNorm2d)\n",
              "          (relu): RecursiveScriptModule(original_name=ReLU)\n",
              "        )\n",
              "      )\n",
              "      (conv2d): RecursiveScriptModule(original_name=Conv2d)\n",
              "      (relu): RecursiveScriptModule(original_name=ReLU)\n",
              "    )\n",
              "    (1): RecursiveScriptModule(\n",
              "      original_name=Block35\n",
              "      (branch0): RecursiveScriptModule(\n",
              "        original_name=BasicConv2d\n",
              "        (conv): RecursiveScriptModule(original_name=Conv2d)\n",
              "        (bn): RecursiveScriptModule(original_name=BatchNorm2d)\n",
              "        (relu): RecursiveScriptModule(original_name=ReLU)\n",
              "      )\n",
              "      (branch1): RecursiveScriptModule(\n",
              "        original_name=Sequential\n",
              "        (0): RecursiveScriptModule(\n",
              "          original_name=BasicConv2d\n",
              "          (conv): RecursiveScriptModule(original_name=Conv2d)\n",
              "          (bn): RecursiveScriptModule(original_name=BatchNorm2d)\n",
              "          (relu): RecursiveScriptModule(original_name=ReLU)\n",
              "        )\n",
              "        (1): RecursiveScriptModule(\n",
              "          original_name=BasicConv2d\n",
              "          (conv): RecursiveScriptModule(original_name=Conv2d)\n",
              "          (bn): RecursiveScriptModule(original_name=BatchNorm2d)\n",
              "          (relu): RecursiveScriptModule(original_name=ReLU)\n",
              "        )\n",
              "      )\n",
              "      (branch2): RecursiveScriptModule(\n",
              "        original_name=Sequential\n",
              "        (0): RecursiveScriptModule(\n",
              "          original_name=BasicConv2d\n",
              "          (conv): RecursiveScriptModule(original_name=Conv2d)\n",
              "          (bn): RecursiveScriptModule(original_name=BatchNorm2d)\n",
              "          (relu): RecursiveScriptModule(original_name=ReLU)\n",
              "        )\n",
              "        (1): RecursiveScriptModule(\n",
              "          original_name=BasicConv2d\n",
              "          (conv): RecursiveScriptModule(original_name=Conv2d)\n",
              "          (bn): RecursiveScriptModule(original_name=BatchNorm2d)\n",
              "          (relu): RecursiveScriptModule(original_name=ReLU)\n",
              "        )\n",
              "        (2): RecursiveScriptModule(\n",
              "          original_name=BasicConv2d\n",
              "          (conv): RecursiveScriptModule(original_name=Conv2d)\n",
              "          (bn): RecursiveScriptModule(original_name=BatchNorm2d)\n",
              "          (relu): RecursiveScriptModule(original_name=ReLU)\n",
              "        )\n",
              "      )\n",
              "      (conv2d): RecursiveScriptModule(original_name=Conv2d)\n",
              "      (relu): RecursiveScriptModule(original_name=ReLU)\n",
              "    )\n",
              "    (2): RecursiveScriptModule(\n",
              "      original_name=Block35\n",
              "      (branch0): RecursiveScriptModule(\n",
              "        original_name=BasicConv2d\n",
              "        (conv): RecursiveScriptModule(original_name=Conv2d)\n",
              "        (bn): RecursiveScriptModule(original_name=BatchNorm2d)\n",
              "        (relu): RecursiveScriptModule(original_name=ReLU)\n",
              "      )\n",
              "      (branch1): RecursiveScriptModule(\n",
              "        original_name=Sequential\n",
              "        (0): RecursiveScriptModule(\n",
              "          original_name=BasicConv2d\n",
              "          (conv): RecursiveScriptModule(original_name=Conv2d)\n",
              "          (bn): RecursiveScriptModule(original_name=BatchNorm2d)\n",
              "          (relu): RecursiveScriptModule(original_name=ReLU)\n",
              "        )\n",
              "        (1): RecursiveScriptModule(\n",
              "          original_name=BasicConv2d\n",
              "          (conv): RecursiveScriptModule(original_name=Conv2d)\n",
              "          (bn): RecursiveScriptModule(original_name=BatchNorm2d)\n",
              "          (relu): RecursiveScriptModule(original_name=ReLU)\n",
              "        )\n",
              "      )\n",
              "      (branch2): RecursiveScriptModule(\n",
              "        original_name=Sequential\n",
              "        (0): RecursiveScriptModule(\n",
              "          original_name=BasicConv2d\n",
              "          (conv): RecursiveScriptModule(original_name=Conv2d)\n",
              "          (bn): RecursiveScriptModule(original_name=BatchNorm2d)\n",
              "          (relu): RecursiveScriptModule(original_name=ReLU)\n",
              "        )\n",
              "        (1): RecursiveScriptModule(\n",
              "          original_name=BasicConv2d\n",
              "          (conv): RecursiveScriptModule(original_name=Conv2d)\n",
              "          (bn): RecursiveScriptModule(original_name=BatchNorm2d)\n",
              "          (relu): RecursiveScriptModule(original_name=ReLU)\n",
              "        )\n",
              "        (2): RecursiveScriptModule(\n",
              "          original_name=BasicConv2d\n",
              "          (conv): RecursiveScriptModule(original_name=Conv2d)\n",
              "          (bn): RecursiveScriptModule(original_name=BatchNorm2d)\n",
              "          (relu): RecursiveScriptModule(original_name=ReLU)\n",
              "        )\n",
              "      )\n",
              "      (conv2d): RecursiveScriptModule(original_name=Conv2d)\n",
              "      (relu): RecursiveScriptModule(original_name=ReLU)\n",
              "    )\n",
              "    (3): RecursiveScriptModule(\n",
              "      original_name=Block35\n",
              "      (branch0): RecursiveScriptModule(\n",
              "        original_name=BasicConv2d\n",
              "        (conv): RecursiveScriptModule(original_name=Conv2d)\n",
              "        (bn): RecursiveScriptModule(original_name=BatchNorm2d)\n",
              "        (relu): RecursiveScriptModule(original_name=ReLU)\n",
              "      )\n",
              "      (branch1): RecursiveScriptModule(\n",
              "        original_name=Sequential\n",
              "        (0): RecursiveScriptModule(\n",
              "          original_name=BasicConv2d\n",
              "          (conv): RecursiveScriptModule(original_name=Conv2d)\n",
              "          (bn): RecursiveScriptModule(original_name=BatchNorm2d)\n",
              "          (relu): RecursiveScriptModule(original_name=ReLU)\n",
              "        )\n",
              "        (1): RecursiveScriptModule(\n",
              "          original_name=BasicConv2d\n",
              "          (conv): RecursiveScriptModule(original_name=Conv2d)\n",
              "          (bn): RecursiveScriptModule(original_name=BatchNorm2d)\n",
              "          (relu): RecursiveScriptModule(original_name=ReLU)\n",
              "        )\n",
              "      )\n",
              "      (branch2): RecursiveScriptModule(\n",
              "        original_name=Sequential\n",
              "        (0): RecursiveScriptModule(\n",
              "          original_name=BasicConv2d\n",
              "          (conv): RecursiveScriptModule(original_name=Conv2d)\n",
              "          (bn): RecursiveScriptModule(original_name=BatchNorm2d)\n",
              "          (relu): RecursiveScriptModule(original_name=ReLU)\n",
              "        )\n",
              "        (1): RecursiveScriptModule(\n",
              "          original_name=BasicConv2d\n",
              "          (conv): RecursiveScriptModule(original_name=Conv2d)\n",
              "          (bn): RecursiveScriptModule(original_name=BatchNorm2d)\n",
              "          (relu): RecursiveScriptModule(original_name=ReLU)\n",
              "        )\n",
              "        (2): RecursiveScriptModule(\n",
              "          original_name=BasicConv2d\n",
              "          (conv): RecursiveScriptModule(original_name=Conv2d)\n",
              "          (bn): RecursiveScriptModule(original_name=BatchNorm2d)\n",
              "          (relu): RecursiveScriptModule(original_name=ReLU)\n",
              "        )\n",
              "      )\n",
              "      (conv2d): RecursiveScriptModule(original_name=Conv2d)\n",
              "      (relu): RecursiveScriptModule(original_name=ReLU)\n",
              "    )\n",
              "    (4): RecursiveScriptModule(\n",
              "      original_name=Block35\n",
              "      (branch0): RecursiveScriptModule(\n",
              "        original_name=BasicConv2d\n",
              "        (conv): RecursiveScriptModule(original_name=Conv2d)\n",
              "        (bn): RecursiveScriptModule(original_name=BatchNorm2d)\n",
              "        (relu): RecursiveScriptModule(original_name=ReLU)\n",
              "      )\n",
              "      (branch1): RecursiveScriptModule(\n",
              "        original_name=Sequential\n",
              "        (0): RecursiveScriptModule(\n",
              "          original_name=BasicConv2d\n",
              "          (conv): RecursiveScriptModule(original_name=Conv2d)\n",
              "          (bn): RecursiveScriptModule(original_name=BatchNorm2d)\n",
              "          (relu): RecursiveScriptModule(original_name=ReLU)\n",
              "        )\n",
              "        (1): RecursiveScriptModule(\n",
              "          original_name=BasicConv2d\n",
              "          (conv): RecursiveScriptModule(original_name=Conv2d)\n",
              "          (bn): RecursiveScriptModule(original_name=BatchNorm2d)\n",
              "          (relu): RecursiveScriptModule(original_name=ReLU)\n",
              "        )\n",
              "      )\n",
              "      (branch2): RecursiveScriptModule(\n",
              "        original_name=Sequential\n",
              "        (0): RecursiveScriptModule(\n",
              "          original_name=BasicConv2d\n",
              "          (conv): RecursiveScriptModule(original_name=Conv2d)\n",
              "          (bn): RecursiveScriptModule(original_name=BatchNorm2d)\n",
              "          (relu): RecursiveScriptModule(original_name=ReLU)\n",
              "        )\n",
              "        (1): RecursiveScriptModule(\n",
              "          original_name=BasicConv2d\n",
              "          (conv): RecursiveScriptModule(original_name=Conv2d)\n",
              "          (bn): RecursiveScriptModule(original_name=BatchNorm2d)\n",
              "          (relu): RecursiveScriptModule(original_name=ReLU)\n",
              "        )\n",
              "        (2): RecursiveScriptModule(\n",
              "          original_name=BasicConv2d\n",
              "          (conv): RecursiveScriptModule(original_name=Conv2d)\n",
              "          (bn): RecursiveScriptModule(original_name=BatchNorm2d)\n",
              "          (relu): RecursiveScriptModule(original_name=ReLU)\n",
              "        )\n",
              "      )\n",
              "      (conv2d): RecursiveScriptModule(original_name=Conv2d)\n",
              "      (relu): RecursiveScriptModule(original_name=ReLU)\n",
              "    )\n",
              "  )\n",
              "  (8): RecursiveScriptModule(\n",
              "    original_name=Mixed_6a\n",
              "    (branch0): RecursiveScriptModule(\n",
              "      original_name=BasicConv2d\n",
              "      (conv): RecursiveScriptModule(original_name=Conv2d)\n",
              "      (bn): RecursiveScriptModule(original_name=BatchNorm2d)\n",
              "      (relu): RecursiveScriptModule(original_name=ReLU)\n",
              "    )\n",
              "    (branch1): RecursiveScriptModule(\n",
              "      original_name=Sequential\n",
              "      (0): RecursiveScriptModule(\n",
              "        original_name=BasicConv2d\n",
              "        (conv): RecursiveScriptModule(original_name=Conv2d)\n",
              "        (bn): RecursiveScriptModule(original_name=BatchNorm2d)\n",
              "        (relu): RecursiveScriptModule(original_name=ReLU)\n",
              "      )\n",
              "      (1): RecursiveScriptModule(\n",
              "        original_name=BasicConv2d\n",
              "        (conv): RecursiveScriptModule(original_name=Conv2d)\n",
              "        (bn): RecursiveScriptModule(original_name=BatchNorm2d)\n",
              "        (relu): RecursiveScriptModule(original_name=ReLU)\n",
              "      )\n",
              "      (2): RecursiveScriptModule(\n",
              "        original_name=BasicConv2d\n",
              "        (conv): RecursiveScriptModule(original_name=Conv2d)\n",
              "        (bn): RecursiveScriptModule(original_name=BatchNorm2d)\n",
              "        (relu): RecursiveScriptModule(original_name=ReLU)\n",
              "      )\n",
              "    )\n",
              "    (branch2): RecursiveScriptModule(original_name=MaxPool2d)\n",
              "  )\n",
              "  (9): RecursiveScriptModule(\n",
              "    original_name=Sequential\n",
              "    (0): RecursiveScriptModule(\n",
              "      original_name=Block17\n",
              "      (branch0): RecursiveScriptModule(\n",
              "        original_name=BasicConv2d\n",
              "        (conv): RecursiveScriptModule(original_name=Conv2d)\n",
              "        (bn): RecursiveScriptModule(original_name=BatchNorm2d)\n",
              "        (relu): RecursiveScriptModule(original_name=ReLU)\n",
              "      )\n",
              "      (branch1): RecursiveScriptModule(\n",
              "        original_name=Sequential\n",
              "        (0): RecursiveScriptModule(\n",
              "          original_name=BasicConv2d\n",
              "          (conv): RecursiveScriptModule(original_name=Conv2d)\n",
              "          (bn): RecursiveScriptModule(original_name=BatchNorm2d)\n",
              "          (relu): RecursiveScriptModule(original_name=ReLU)\n",
              "        )\n",
              "        (1): RecursiveScriptModule(\n",
              "          original_name=BasicConv2d\n",
              "          (conv): RecursiveScriptModule(original_name=Conv2d)\n",
              "          (bn): RecursiveScriptModule(original_name=BatchNorm2d)\n",
              "          (relu): RecursiveScriptModule(original_name=ReLU)\n",
              "        )\n",
              "        (2): RecursiveScriptModule(\n",
              "          original_name=BasicConv2d\n",
              "          (conv): RecursiveScriptModule(original_name=Conv2d)\n",
              "          (bn): RecursiveScriptModule(original_name=BatchNorm2d)\n",
              "          (relu): RecursiveScriptModule(original_name=ReLU)\n",
              "        )\n",
              "      )\n",
              "      (conv2d): RecursiveScriptModule(original_name=Conv2d)\n",
              "      (relu): RecursiveScriptModule(original_name=ReLU)\n",
              "    )\n",
              "    (1): RecursiveScriptModule(\n",
              "      original_name=Block17\n",
              "      (branch0): RecursiveScriptModule(\n",
              "        original_name=BasicConv2d\n",
              "        (conv): RecursiveScriptModule(original_name=Conv2d)\n",
              "        (bn): RecursiveScriptModule(original_name=BatchNorm2d)\n",
              "        (relu): RecursiveScriptModule(original_name=ReLU)\n",
              "      )\n",
              "      (branch1): RecursiveScriptModule(\n",
              "        original_name=Sequential\n",
              "        (0): RecursiveScriptModule(\n",
              "          original_name=BasicConv2d\n",
              "          (conv): RecursiveScriptModule(original_name=Conv2d)\n",
              "          (bn): RecursiveScriptModule(original_name=BatchNorm2d)\n",
              "          (relu): RecursiveScriptModule(original_name=ReLU)\n",
              "        )\n",
              "        (1): RecursiveScriptModule(\n",
              "          original_name=BasicConv2d\n",
              "          (conv): RecursiveScriptModule(original_name=Conv2d)\n",
              "          (bn): RecursiveScriptModule(original_name=BatchNorm2d)\n",
              "          (relu): RecursiveScriptModule(original_name=ReLU)\n",
              "        )\n",
              "        (2): RecursiveScriptModule(\n",
              "          original_name=BasicConv2d\n",
              "          (conv): RecursiveScriptModule(original_name=Conv2d)\n",
              "          (bn): RecursiveScriptModule(original_name=BatchNorm2d)\n",
              "          (relu): RecursiveScriptModule(original_name=ReLU)\n",
              "        )\n",
              "      )\n",
              "      (conv2d): RecursiveScriptModule(original_name=Conv2d)\n",
              "      (relu): RecursiveScriptModule(original_name=ReLU)\n",
              "    )\n",
              "    (2): RecursiveScriptModule(\n",
              "      original_name=Block17\n",
              "      (branch0): RecursiveScriptModule(\n",
              "        original_name=BasicConv2d\n",
              "        (conv): RecursiveScriptModule(original_name=Conv2d)\n",
              "        (bn): RecursiveScriptModule(original_name=BatchNorm2d)\n",
              "        (relu): RecursiveScriptModule(original_name=ReLU)\n",
              "      )\n",
              "      (branch1): RecursiveScriptModule(\n",
              "        original_name=Sequential\n",
              "        (0): RecursiveScriptModule(\n",
              "          original_name=BasicConv2d\n",
              "          (conv): RecursiveScriptModule(original_name=Conv2d)\n",
              "          (bn): RecursiveScriptModule(original_name=BatchNorm2d)\n",
              "          (relu): RecursiveScriptModule(original_name=ReLU)\n",
              "        )\n",
              "        (1): RecursiveScriptModule(\n",
              "          original_name=BasicConv2d\n",
              "          (conv): RecursiveScriptModule(original_name=Conv2d)\n",
              "          (bn): RecursiveScriptModule(original_name=BatchNorm2d)\n",
              "          (relu): RecursiveScriptModule(original_name=ReLU)\n",
              "        )\n",
              "        (2): RecursiveScriptModule(\n",
              "          original_name=BasicConv2d\n",
              "          (conv): RecursiveScriptModule(original_name=Conv2d)\n",
              "          (bn): RecursiveScriptModule(original_name=BatchNorm2d)\n",
              "          (relu): RecursiveScriptModule(original_name=ReLU)\n",
              "        )\n",
              "      )\n",
              "      (conv2d): RecursiveScriptModule(original_name=Conv2d)\n",
              "      (relu): RecursiveScriptModule(original_name=ReLU)\n",
              "    )\n",
              "    (3): RecursiveScriptModule(\n",
              "      original_name=Block17\n",
              "      (branch0): RecursiveScriptModule(\n",
              "        original_name=BasicConv2d\n",
              "        (conv): RecursiveScriptModule(original_name=Conv2d)\n",
              "        (bn): RecursiveScriptModule(original_name=BatchNorm2d)\n",
              "        (relu): RecursiveScriptModule(original_name=ReLU)\n",
              "      )\n",
              "      (branch1): RecursiveScriptModule(\n",
              "        original_name=Sequential\n",
              "        (0): RecursiveScriptModule(\n",
              "          original_name=BasicConv2d\n",
              "          (conv): RecursiveScriptModule(original_name=Conv2d)\n",
              "          (bn): RecursiveScriptModule(original_name=BatchNorm2d)\n",
              "          (relu): RecursiveScriptModule(original_name=ReLU)\n",
              "        )\n",
              "        (1): RecursiveScriptModule(\n",
              "          original_name=BasicConv2d\n",
              "          (conv): RecursiveScriptModule(original_name=Conv2d)\n",
              "          (bn): RecursiveScriptModule(original_name=BatchNorm2d)\n",
              "          (relu): RecursiveScriptModule(original_name=ReLU)\n",
              "        )\n",
              "        (2): RecursiveScriptModule(\n",
              "          original_name=BasicConv2d\n",
              "          (conv): RecursiveScriptModule(original_name=Conv2d)\n",
              "          (bn): RecursiveScriptModule(original_name=BatchNorm2d)\n",
              "          (relu): RecursiveScriptModule(original_name=ReLU)\n",
              "        )\n",
              "      )\n",
              "      (conv2d): RecursiveScriptModule(original_name=Conv2d)\n",
              "      (relu): RecursiveScriptModule(original_name=ReLU)\n",
              "    )\n",
              "    (4): RecursiveScriptModule(\n",
              "      original_name=Block17\n",
              "      (branch0): RecursiveScriptModule(\n",
              "        original_name=BasicConv2d\n",
              "        (conv): RecursiveScriptModule(original_name=Conv2d)\n",
              "        (bn): RecursiveScriptModule(original_name=BatchNorm2d)\n",
              "        (relu): RecursiveScriptModule(original_name=ReLU)\n",
              "      )\n",
              "      (branch1): RecursiveScriptModule(\n",
              "        original_name=Sequential\n",
              "        (0): RecursiveScriptModule(\n",
              "          original_name=BasicConv2d\n",
              "          (conv): RecursiveScriptModule(original_name=Conv2d)\n",
              "          (bn): RecursiveScriptModule(original_name=BatchNorm2d)\n",
              "          (relu): RecursiveScriptModule(original_name=ReLU)\n",
              "        )\n",
              "        (1): RecursiveScriptModule(\n",
              "          original_name=BasicConv2d\n",
              "          (conv): RecursiveScriptModule(original_name=Conv2d)\n",
              "          (bn): RecursiveScriptModule(original_name=BatchNorm2d)\n",
              "          (relu): RecursiveScriptModule(original_name=ReLU)\n",
              "        )\n",
              "        (2): RecursiveScriptModule(\n",
              "          original_name=BasicConv2d\n",
              "          (conv): RecursiveScriptModule(original_name=Conv2d)\n",
              "          (bn): RecursiveScriptModule(original_name=BatchNorm2d)\n",
              "          (relu): RecursiveScriptModule(original_name=ReLU)\n",
              "        )\n",
              "      )\n",
              "      (conv2d): RecursiveScriptModule(original_name=Conv2d)\n",
              "      (relu): RecursiveScriptModule(original_name=ReLU)\n",
              "    )\n",
              "    (5): RecursiveScriptModule(\n",
              "      original_name=Block17\n",
              "      (branch0): RecursiveScriptModule(\n",
              "        original_name=BasicConv2d\n",
              "        (conv): RecursiveScriptModule(original_name=Conv2d)\n",
              "        (bn): RecursiveScriptModule(original_name=BatchNorm2d)\n",
              "        (relu): RecursiveScriptModule(original_name=ReLU)\n",
              "      )\n",
              "      (branch1): RecursiveScriptModule(\n",
              "        original_name=Sequential\n",
              "        (0): RecursiveScriptModule(\n",
              "          original_name=BasicConv2d\n",
              "          (conv): RecursiveScriptModule(original_name=Conv2d)\n",
              "          (bn): RecursiveScriptModule(original_name=BatchNorm2d)\n",
              "          (relu): RecursiveScriptModule(original_name=ReLU)\n",
              "        )\n",
              "        (1): RecursiveScriptModule(\n",
              "          original_name=BasicConv2d\n",
              "          (conv): RecursiveScriptModule(original_name=Conv2d)\n",
              "          (bn): RecursiveScriptModule(original_name=BatchNorm2d)\n",
              "          (relu): RecursiveScriptModule(original_name=ReLU)\n",
              "        )\n",
              "        (2): RecursiveScriptModule(\n",
              "          original_name=BasicConv2d\n",
              "          (conv): RecursiveScriptModule(original_name=Conv2d)\n",
              "          (bn): RecursiveScriptModule(original_name=BatchNorm2d)\n",
              "          (relu): RecursiveScriptModule(original_name=ReLU)\n",
              "        )\n",
              "      )\n",
              "      (conv2d): RecursiveScriptModule(original_name=Conv2d)\n",
              "      (relu): RecursiveScriptModule(original_name=ReLU)\n",
              "    )\n",
              "    (6): RecursiveScriptModule(\n",
              "      original_name=Block17\n",
              "      (branch0): RecursiveScriptModule(\n",
              "        original_name=BasicConv2d\n",
              "        (conv): RecursiveScriptModule(original_name=Conv2d)\n",
              "        (bn): RecursiveScriptModule(original_name=BatchNorm2d)\n",
              "        (relu): RecursiveScriptModule(original_name=ReLU)\n",
              "      )\n",
              "      (branch1): RecursiveScriptModule(\n",
              "        original_name=Sequential\n",
              "        (0): RecursiveScriptModule(\n",
              "          original_name=BasicConv2d\n",
              "          (conv): RecursiveScriptModule(original_name=Conv2d)\n",
              "          (bn): RecursiveScriptModule(original_name=BatchNorm2d)\n",
              "          (relu): RecursiveScriptModule(original_name=ReLU)\n",
              "        )\n",
              "        (1): RecursiveScriptModule(\n",
              "          original_name=BasicConv2d\n",
              "          (conv): RecursiveScriptModule(original_name=Conv2d)\n",
              "          (bn): RecursiveScriptModule(original_name=BatchNorm2d)\n",
              "          (relu): RecursiveScriptModule(original_name=ReLU)\n",
              "        )\n",
              "        (2): RecursiveScriptModule(\n",
              "          original_name=BasicConv2d\n",
              "          (conv): RecursiveScriptModule(original_name=Conv2d)\n",
              "          (bn): RecursiveScriptModule(original_name=BatchNorm2d)\n",
              "          (relu): RecursiveScriptModule(original_name=ReLU)\n",
              "        )\n",
              "      )\n",
              "      (conv2d): RecursiveScriptModule(original_name=Conv2d)\n",
              "      (relu): RecursiveScriptModule(original_name=ReLU)\n",
              "    )\n",
              "    (7): RecursiveScriptModule(\n",
              "      original_name=Block17\n",
              "      (branch0): RecursiveScriptModule(\n",
              "        original_name=BasicConv2d\n",
              "        (conv): RecursiveScriptModule(original_name=Conv2d)\n",
              "        (bn): RecursiveScriptModule(original_name=BatchNorm2d)\n",
              "        (relu): RecursiveScriptModule(original_name=ReLU)\n",
              "      )\n",
              "      (branch1): RecursiveScriptModule(\n",
              "        original_name=Sequential\n",
              "        (0): RecursiveScriptModule(\n",
              "          original_name=BasicConv2d\n",
              "          (conv): RecursiveScriptModule(original_name=Conv2d)\n",
              "          (bn): RecursiveScriptModule(original_name=BatchNorm2d)\n",
              "          (relu): RecursiveScriptModule(original_name=ReLU)\n",
              "        )\n",
              "        (1): RecursiveScriptModule(\n",
              "          original_name=BasicConv2d\n",
              "          (conv): RecursiveScriptModule(original_name=Conv2d)\n",
              "          (bn): RecursiveScriptModule(original_name=BatchNorm2d)\n",
              "          (relu): RecursiveScriptModule(original_name=ReLU)\n",
              "        )\n",
              "        (2): RecursiveScriptModule(\n",
              "          original_name=BasicConv2d\n",
              "          (conv): RecursiveScriptModule(original_name=Conv2d)\n",
              "          (bn): RecursiveScriptModule(original_name=BatchNorm2d)\n",
              "          (relu): RecursiveScriptModule(original_name=ReLU)\n",
              "        )\n",
              "      )\n",
              "      (conv2d): RecursiveScriptModule(original_name=Conv2d)\n",
              "      (relu): RecursiveScriptModule(original_name=ReLU)\n",
              "    )\n",
              "    (8): RecursiveScriptModule(\n",
              "      original_name=Block17\n",
              "      (branch0): RecursiveScriptModule(\n",
              "        original_name=BasicConv2d\n",
              "        (conv): RecursiveScriptModule(original_name=Conv2d)\n",
              "        (bn): RecursiveScriptModule(original_name=BatchNorm2d)\n",
              "        (relu): RecursiveScriptModule(original_name=ReLU)\n",
              "      )\n",
              "      (branch1): RecursiveScriptModule(\n",
              "        original_name=Sequential\n",
              "        (0): RecursiveScriptModule(\n",
              "          original_name=BasicConv2d\n",
              "          (conv): RecursiveScriptModule(original_name=Conv2d)\n",
              "          (bn): RecursiveScriptModule(original_name=BatchNorm2d)\n",
              "          (relu): RecursiveScriptModule(original_name=ReLU)\n",
              "        )\n",
              "        (1): RecursiveScriptModule(\n",
              "          original_name=BasicConv2d\n",
              "          (conv): RecursiveScriptModule(original_name=Conv2d)\n",
              "          (bn): RecursiveScriptModule(original_name=BatchNorm2d)\n",
              "          (relu): RecursiveScriptModule(original_name=ReLU)\n",
              "        )\n",
              "        (2): RecursiveScriptModule(\n",
              "          original_name=BasicConv2d\n",
              "          (conv): RecursiveScriptModule(original_name=Conv2d)\n",
              "          (bn): RecursiveScriptModule(original_name=BatchNorm2d)\n",
              "          (relu): RecursiveScriptModule(original_name=ReLU)\n",
              "        )\n",
              "      )\n",
              "      (conv2d): RecursiveScriptModule(original_name=Conv2d)\n",
              "      (relu): RecursiveScriptModule(original_name=ReLU)\n",
              "    )\n",
              "    (9): RecursiveScriptModule(\n",
              "      original_name=Block17\n",
              "      (branch0): RecursiveScriptModule(\n",
              "        original_name=BasicConv2d\n",
              "        (conv): RecursiveScriptModule(original_name=Conv2d)\n",
              "        (bn): RecursiveScriptModule(original_name=BatchNorm2d)\n",
              "        (relu): RecursiveScriptModule(original_name=ReLU)\n",
              "      )\n",
              "      (branch1): RecursiveScriptModule(\n",
              "        original_name=Sequential\n",
              "        (0): RecursiveScriptModule(\n",
              "          original_name=BasicConv2d\n",
              "          (conv): RecursiveScriptModule(original_name=Conv2d)\n",
              "          (bn): RecursiveScriptModule(original_name=BatchNorm2d)\n",
              "          (relu): RecursiveScriptModule(original_name=ReLU)\n",
              "        )\n",
              "        (1): RecursiveScriptModule(\n",
              "          original_name=BasicConv2d\n",
              "          (conv): RecursiveScriptModule(original_name=Conv2d)\n",
              "          (bn): RecursiveScriptModule(original_name=BatchNorm2d)\n",
              "          (relu): RecursiveScriptModule(original_name=ReLU)\n",
              "        )\n",
              "        (2): RecursiveScriptModule(\n",
              "          original_name=BasicConv2d\n",
              "          (conv): RecursiveScriptModule(original_name=Conv2d)\n",
              "          (bn): RecursiveScriptModule(original_name=BatchNorm2d)\n",
              "          (relu): RecursiveScriptModule(original_name=ReLU)\n",
              "        )\n",
              "      )\n",
              "      (conv2d): RecursiveScriptModule(original_name=Conv2d)\n",
              "      (relu): RecursiveScriptModule(original_name=ReLU)\n",
              "    )\n",
              "  )\n",
              "  (10): RecursiveScriptModule(\n",
              "    original_name=Mixed_7a\n",
              "    (branch0): RecursiveScriptModule(\n",
              "      original_name=Sequential\n",
              "      (0): RecursiveScriptModule(\n",
              "        original_name=BasicConv2d\n",
              "        (conv): RecursiveScriptModule(original_name=Conv2d)\n",
              "        (bn): RecursiveScriptModule(original_name=BatchNorm2d)\n",
              "        (relu): RecursiveScriptModule(original_name=ReLU)\n",
              "      )\n",
              "      (1): RecursiveScriptModule(\n",
              "        original_name=BasicConv2d\n",
              "        (conv): RecursiveScriptModule(original_name=Conv2d)\n",
              "        (bn): RecursiveScriptModule(original_name=BatchNorm2d)\n",
              "        (relu): RecursiveScriptModule(original_name=ReLU)\n",
              "      )\n",
              "    )\n",
              "    (branch1): RecursiveScriptModule(\n",
              "      original_name=Sequential\n",
              "      (0): RecursiveScriptModule(\n",
              "        original_name=BasicConv2d\n",
              "        (conv): RecursiveScriptModule(original_name=Conv2d)\n",
              "        (bn): RecursiveScriptModule(original_name=BatchNorm2d)\n",
              "        (relu): RecursiveScriptModule(original_name=ReLU)\n",
              "      )\n",
              "      (1): RecursiveScriptModule(\n",
              "        original_name=BasicConv2d\n",
              "        (conv): RecursiveScriptModule(original_name=Conv2d)\n",
              "        (bn): RecursiveScriptModule(original_name=BatchNorm2d)\n",
              "        (relu): RecursiveScriptModule(original_name=ReLU)\n",
              "      )\n",
              "    )\n",
              "    (branch2): RecursiveScriptModule(\n",
              "      original_name=Sequential\n",
              "      (0): RecursiveScriptModule(\n",
              "        original_name=BasicConv2d\n",
              "        (conv): RecursiveScriptModule(original_name=Conv2d)\n",
              "        (bn): RecursiveScriptModule(original_name=BatchNorm2d)\n",
              "        (relu): RecursiveScriptModule(original_name=ReLU)\n",
              "      )\n",
              "      (1): RecursiveScriptModule(\n",
              "        original_name=BasicConv2d\n",
              "        (conv): RecursiveScriptModule(original_name=Conv2d)\n",
              "        (bn): RecursiveScriptModule(original_name=BatchNorm2d)\n",
              "        (relu): RecursiveScriptModule(original_name=ReLU)\n",
              "      )\n",
              "      (2): RecursiveScriptModule(\n",
              "        original_name=BasicConv2d\n",
              "        (conv): RecursiveScriptModule(original_name=Conv2d)\n",
              "        (bn): RecursiveScriptModule(original_name=BatchNorm2d)\n",
              "        (relu): RecursiveScriptModule(original_name=ReLU)\n",
              "      )\n",
              "    )\n",
              "    (branch3): RecursiveScriptModule(original_name=MaxPool2d)\n",
              "  )\n",
              "  (11): RecursiveScriptModule(\n",
              "    original_name=Sequential\n",
              "    (0): RecursiveScriptModule(\n",
              "      original_name=Block8\n",
              "      (branch0): RecursiveScriptModule(\n",
              "        original_name=BasicConv2d\n",
              "        (conv): RecursiveScriptModule(original_name=Conv2d)\n",
              "        (bn): RecursiveScriptModule(original_name=BatchNorm2d)\n",
              "        (relu): RecursiveScriptModule(original_name=ReLU)\n",
              "      )\n",
              "      (branch1): RecursiveScriptModule(\n",
              "        original_name=Sequential\n",
              "        (0): RecursiveScriptModule(\n",
              "          original_name=BasicConv2d\n",
              "          (conv): RecursiveScriptModule(original_name=Conv2d)\n",
              "          (bn): RecursiveScriptModule(original_name=BatchNorm2d)\n",
              "          (relu): RecursiveScriptModule(original_name=ReLU)\n",
              "        )\n",
              "        (1): RecursiveScriptModule(\n",
              "          original_name=BasicConv2d\n",
              "          (conv): RecursiveScriptModule(original_name=Conv2d)\n",
              "          (bn): RecursiveScriptModule(original_name=BatchNorm2d)\n",
              "          (relu): RecursiveScriptModule(original_name=ReLU)\n",
              "        )\n",
              "        (2): RecursiveScriptModule(\n",
              "          original_name=BasicConv2d\n",
              "          (conv): RecursiveScriptModule(original_name=Conv2d)\n",
              "          (bn): RecursiveScriptModule(original_name=BatchNorm2d)\n",
              "          (relu): RecursiveScriptModule(original_name=ReLU)\n",
              "        )\n",
              "      )\n",
              "      (conv2d): RecursiveScriptModule(original_name=Conv2d)\n",
              "      (relu): RecursiveScriptModule(original_name=ReLU)\n",
              "    )\n",
              "    (1): RecursiveScriptModule(\n",
              "      original_name=Block8\n",
              "      (branch0): RecursiveScriptModule(\n",
              "        original_name=BasicConv2d\n",
              "        (conv): RecursiveScriptModule(original_name=Conv2d)\n",
              "        (bn): RecursiveScriptModule(original_name=BatchNorm2d)\n",
              "        (relu): RecursiveScriptModule(original_name=ReLU)\n",
              "      )\n",
              "      (branch1): RecursiveScriptModule(\n",
              "        original_name=Sequential\n",
              "        (0): RecursiveScriptModule(\n",
              "          original_name=BasicConv2d\n",
              "          (conv): RecursiveScriptModule(original_name=Conv2d)\n",
              "          (bn): RecursiveScriptModule(original_name=BatchNorm2d)\n",
              "          (relu): RecursiveScriptModule(original_name=ReLU)\n",
              "        )\n",
              "        (1): RecursiveScriptModule(\n",
              "          original_name=BasicConv2d\n",
              "          (conv): RecursiveScriptModule(original_name=Conv2d)\n",
              "          (bn): RecursiveScriptModule(original_name=BatchNorm2d)\n",
              "          (relu): RecursiveScriptModule(original_name=ReLU)\n",
              "        )\n",
              "        (2): RecursiveScriptModule(\n",
              "          original_name=BasicConv2d\n",
              "          (conv): RecursiveScriptModule(original_name=Conv2d)\n",
              "          (bn): RecursiveScriptModule(original_name=BatchNorm2d)\n",
              "          (relu): RecursiveScriptModule(original_name=ReLU)\n",
              "        )\n",
              "      )\n",
              "      (conv2d): RecursiveScriptModule(original_name=Conv2d)\n",
              "      (relu): RecursiveScriptModule(original_name=ReLU)\n",
              "    )\n",
              "    (2): RecursiveScriptModule(\n",
              "      original_name=Block8\n",
              "      (branch0): RecursiveScriptModule(\n",
              "        original_name=BasicConv2d\n",
              "        (conv): RecursiveScriptModule(original_name=Conv2d)\n",
              "        (bn): RecursiveScriptModule(original_name=BatchNorm2d)\n",
              "        (relu): RecursiveScriptModule(original_name=ReLU)\n",
              "      )\n",
              "      (branch1): RecursiveScriptModule(\n",
              "        original_name=Sequential\n",
              "        (0): RecursiveScriptModule(\n",
              "          original_name=BasicConv2d\n",
              "          (conv): RecursiveScriptModule(original_name=Conv2d)\n",
              "          (bn): RecursiveScriptModule(original_name=BatchNorm2d)\n",
              "          (relu): RecursiveScriptModule(original_name=ReLU)\n",
              "        )\n",
              "        (1): RecursiveScriptModule(\n",
              "          original_name=BasicConv2d\n",
              "          (conv): RecursiveScriptModule(original_name=Conv2d)\n",
              "          (bn): RecursiveScriptModule(original_name=BatchNorm2d)\n",
              "          (relu): RecursiveScriptModule(original_name=ReLU)\n",
              "        )\n",
              "        (2): RecursiveScriptModule(\n",
              "          original_name=BasicConv2d\n",
              "          (conv): RecursiveScriptModule(original_name=Conv2d)\n",
              "          (bn): RecursiveScriptModule(original_name=BatchNorm2d)\n",
              "          (relu): RecursiveScriptModule(original_name=ReLU)\n",
              "        )\n",
              "      )\n",
              "      (conv2d): RecursiveScriptModule(original_name=Conv2d)\n",
              "      (relu): RecursiveScriptModule(original_name=ReLU)\n",
              "    )\n",
              "    (3): RecursiveScriptModule(\n",
              "      original_name=Block8\n",
              "      (branch0): RecursiveScriptModule(\n",
              "        original_name=BasicConv2d\n",
              "        (conv): RecursiveScriptModule(original_name=Conv2d)\n",
              "        (bn): RecursiveScriptModule(original_name=BatchNorm2d)\n",
              "        (relu): RecursiveScriptModule(original_name=ReLU)\n",
              "      )\n",
              "      (branch1): RecursiveScriptModule(\n",
              "        original_name=Sequential\n",
              "        (0): RecursiveScriptModule(\n",
              "          original_name=BasicConv2d\n",
              "          (conv): RecursiveScriptModule(original_name=Conv2d)\n",
              "          (bn): RecursiveScriptModule(original_name=BatchNorm2d)\n",
              "          (relu): RecursiveScriptModule(original_name=ReLU)\n",
              "        )\n",
              "        (1): RecursiveScriptModule(\n",
              "          original_name=BasicConv2d\n",
              "          (conv): RecursiveScriptModule(original_name=Conv2d)\n",
              "          (bn): RecursiveScriptModule(original_name=BatchNorm2d)\n",
              "          (relu): RecursiveScriptModule(original_name=ReLU)\n",
              "        )\n",
              "        (2): RecursiveScriptModule(\n",
              "          original_name=BasicConv2d\n",
              "          (conv): RecursiveScriptModule(original_name=Conv2d)\n",
              "          (bn): RecursiveScriptModule(original_name=BatchNorm2d)\n",
              "          (relu): RecursiveScriptModule(original_name=ReLU)\n",
              "        )\n",
              "      )\n",
              "      (conv2d): RecursiveScriptModule(original_name=Conv2d)\n",
              "      (relu): RecursiveScriptModule(original_name=ReLU)\n",
              "    )\n",
              "    (4): RecursiveScriptModule(\n",
              "      original_name=Block8\n",
              "      (branch0): RecursiveScriptModule(\n",
              "        original_name=BasicConv2d\n",
              "        (conv): RecursiveScriptModule(original_name=Conv2d)\n",
              "        (bn): RecursiveScriptModule(original_name=BatchNorm2d)\n",
              "        (relu): RecursiveScriptModule(original_name=ReLU)\n",
              "      )\n",
              "      (branch1): RecursiveScriptModule(\n",
              "        original_name=Sequential\n",
              "        (0): RecursiveScriptModule(\n",
              "          original_name=BasicConv2d\n",
              "          (conv): RecursiveScriptModule(original_name=Conv2d)\n",
              "          (bn): RecursiveScriptModule(original_name=BatchNorm2d)\n",
              "          (relu): RecursiveScriptModule(original_name=ReLU)\n",
              "        )\n",
              "        (1): RecursiveScriptModule(\n",
              "          original_name=BasicConv2d\n",
              "          (conv): RecursiveScriptModule(original_name=Conv2d)\n",
              "          (bn): RecursiveScriptModule(original_name=BatchNorm2d)\n",
              "          (relu): RecursiveScriptModule(original_name=ReLU)\n",
              "        )\n",
              "        (2): RecursiveScriptModule(\n",
              "          original_name=BasicConv2d\n",
              "          (conv): RecursiveScriptModule(original_name=Conv2d)\n",
              "          (bn): RecursiveScriptModule(original_name=BatchNorm2d)\n",
              "          (relu): RecursiveScriptModule(original_name=ReLU)\n",
              "        )\n",
              "      )\n",
              "      (conv2d): RecursiveScriptModule(original_name=Conv2d)\n",
              "      (relu): RecursiveScriptModule(original_name=ReLU)\n",
              "    )\n",
              "  )\n",
              "  (12): RecursiveScriptModule(\n",
              "    original_name=Block8\n",
              "    (branch0): RecursiveScriptModule(\n",
              "      original_name=BasicConv2d\n",
              "      (conv): RecursiveScriptModule(original_name=Conv2d)\n",
              "      (bn): RecursiveScriptModule(original_name=BatchNorm2d)\n",
              "      (relu): RecursiveScriptModule(original_name=ReLU)\n",
              "    )\n",
              "    (branch1): RecursiveScriptModule(\n",
              "      original_name=Sequential\n",
              "      (0): RecursiveScriptModule(\n",
              "        original_name=BasicConv2d\n",
              "        (conv): RecursiveScriptModule(original_name=Conv2d)\n",
              "        (bn): RecursiveScriptModule(original_name=BatchNorm2d)\n",
              "        (relu): RecursiveScriptModule(original_name=ReLU)\n",
              "      )\n",
              "      (1): RecursiveScriptModule(\n",
              "        original_name=BasicConv2d\n",
              "        (conv): RecursiveScriptModule(original_name=Conv2d)\n",
              "        (bn): RecursiveScriptModule(original_name=BatchNorm2d)\n",
              "        (relu): RecursiveScriptModule(original_name=ReLU)\n",
              "      )\n",
              "      (2): RecursiveScriptModule(\n",
              "        original_name=BasicConv2d\n",
              "        (conv): RecursiveScriptModule(original_name=Conv2d)\n",
              "        (bn): RecursiveScriptModule(original_name=BatchNorm2d)\n",
              "        (relu): RecursiveScriptModule(original_name=ReLU)\n",
              "      )\n",
              "    )\n",
              "    (conv2d): RecursiveScriptModule(original_name=Conv2d)\n",
              "  )\n",
              "  (avgpool_1a): RecursiveScriptModule(original_name=AdaptiveAvgPool2d)\n",
              "  (last_linear): RecursiveScriptModule(\n",
              "    original_name=Sequential\n",
              "    (0): RecursiveScriptModule(original_name=Flatten)\n",
              "    (1): RecursiveScriptModule(original_name=Linear)\n",
              "    (2): RecursiveScriptModule(original_name=normalize)\n",
              "  )\n",
              "  (logits): RecursiveScriptModule(original_name=Linear)\n",
              ")"
            ]
          },
          "metadata": {
            "tags": []
          },
          "execution_count": 7
        }
      ]
    },
    {
      "cell_type": "code",
      "metadata": {
        "id": "NJyosiWKOMil",
        "colab_type": "code",
        "colab": {
          "base_uri": "https://localhost:8080/",
          "height": 165
        },
        "outputId": "da409219-0094-4c34-b843-34347c7cf85b"
      },
      "source": [
        "dataiter = iter(testloader1)\n",
        "images, labels = dataiter.next()\n",
        "\n",
        "# print images\n",
        "general_utils.imshow(torchvision.utils.make_grid(images))\n",
        "print('GT   ', '      '.join('%5s' % classes[labels[j].item()] for j in range(8)))\n",
        "\n",
        "outputs = loaded_compiled_model(images.to('cpu'))\n",
        "_, predicted = torch.max(outputs, 1)\n",
        "print('Pred ', '      '.join('%5s' % classes[predicted[j].item()] for j in range(8)))"
      ],
      "execution_count": 8,
      "outputs": [
        {
          "output_type": "stream",
          "text": [
            "Clipping input data to the valid range for imshow with RGB data ([0..1] for floats or [0..255] for integers).\n"
          ],
          "name": "stderr"
        },
        {
          "output_type": "stream",
          "text": [
            "GT    Juan_Carlos_Ferrero      Laura_Bush      John_Ashcroft      Colin_Powell      Andre_Agassi      George_W_Bush      Julie_Gerberding      Lance_Armstrong\n",
            "Pred  Juan_Carlos_Ferrero      Laura_Bush      John_Ashcroft      Colin_Powell      Andre_Agassi      George_W_Bush      Julie_Gerberding      Lance_Armstrong\n"
          ],
          "name": "stdout"
        },
        {
          "output_type": "display_data",
          "data": {
            "image/png": "[encoded data removed]",
            "text/plain": [
              "<Figure size 432x288 with 1 Axes>"
            ]
          },
          "metadata": {
            "tags": [],
            "needs_background": "light"
          }
        }
      ]
    },
    {
      "cell_type": "code",
      "metadata": {
        "id": "1Lzhk3B7oUNi",
        "colab_type": "code",
        "colab": {}
      },
      "source": [
        ""
      ],
      "execution_count": null,
      "outputs": []
    }
  ]
}
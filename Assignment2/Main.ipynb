{
  "nbformat": 4,
  "nbformat_minor": 0,
  "metadata": {
    "colab": {
      "name": "Zipfile.ipynb",
      "provenance": [],
      "collapsed_sections": []
    },
    "kernelspec": {
      "name": "python3",
      "display_name": "Python 3"
    },
    "accelerator": "GPU",
    "widgets": {
      "application/vnd.jupyter.widget-state+json": {
        "481295f82b2441bd9f09086470db8456": {
          "model_module": "@jupyter-widgets/controls",
          "model_name": "HBoxModel",
          "state": {
            "_view_name": "HBoxView",
            "_dom_classes": [],
            "_model_name": "HBoxModel",
            "_view_module": "@jupyter-widgets/controls",
            "_model_module_version": "1.5.0",
            "_view_count": null,
            "_view_module_version": "1.5.0",
            "box_style": "",
            "layout": "IPY_MODEL_53c338af6ecd4630be90da0306aca9cc",
            "_model_module": "@jupyter-widgets/controls",
            "children": [
              "IPY_MODEL_9449f233de2145adac406ee2b2fa0957",
              "IPY_MODEL_27be12b9bbe048728f8acca9ba0677ee"
            ]
          }
        },
        "53c338af6ecd4630be90da0306aca9cc": {
          "model_module": "@jupyter-widgets/base",
          "model_name": "LayoutModel",
          "state": {
            "_view_name": "LayoutView",
            "grid_template_rows": null,
            "right": null,
            "justify_content": null,
            "_view_module": "@jupyter-widgets/base",
            "overflow": null,
            "_model_module_version": "1.2.0",
            "_view_count": null,
            "flex_flow": null,
            "width": null,
            "min_width": null,
            "border": null,
            "align_items": null,
            "bottom": null,
            "_model_module": "@jupyter-widgets/base",
            "top": null,
            "grid_column": null,
            "overflow_y": null,
            "overflow_x": null,
            "grid_auto_flow": null,
            "grid_area": null,
            "grid_template_columns": null,
            "flex": null,
            "_model_name": "LayoutModel",
            "justify_items": null,
            "grid_row": null,
            "max_height": null,
            "align_content": null,
            "visibility": null,
            "align_self": null,
            "height": null,
            "min_height": null,
            "padding": null,
            "grid_auto_rows": null,
            "grid_gap": null,
            "max_width": null,
            "order": null,
            "_view_module_version": "1.2.0",
            "grid_template_areas": null,
            "object_position": null,
            "object_fit": null,
            "grid_auto_columns": null,
            "margin": null,
            "display": null,
            "left": null
          }
        },
        "9449f233de2145adac406ee2b2fa0957": {
          "model_module": "@jupyter-widgets/controls",
          "model_name": "FloatProgressModel",
          "state": {
            "_view_name": "ProgressView",
            "style": "IPY_MODEL_e40e5627901e42d0b4958f0d4c0ef176",
            "_dom_classes": [],
            "description": "",
            "_model_name": "FloatProgressModel",
            "bar_style": "success",
            "max": 1,
            "_view_module": "@jupyter-widgets/controls",
            "_model_module_version": "1.5.0",
            "value": 1,
            "_view_count": null,
            "_view_module_version": "1.5.0",
            "orientation": "horizontal",
            "min": 0,
            "description_tooltip": null,
            "_model_module": "@jupyter-widgets/controls",
            "layout": "IPY_MODEL_370e352b2e744bf7bb437b6018ea4901"
          }
        },
        "27be12b9bbe048728f8acca9ba0677ee": {
          "model_module": "@jupyter-widgets/controls",
          "model_name": "HTMLModel",
          "state": {
            "_view_name": "HTMLView",
            "style": "IPY_MODEL_523580352ded42a4842bcd6da75bc020",
            "_dom_classes": [],
            "description": "",
            "_model_name": "HTMLModel",
            "placeholder": "​",
            "_view_module": "@jupyter-widgets/controls",
            "_model_module_version": "1.5.0",
            "value": " 5/? [04:00&lt;00:00, 48.15s/it]",
            "_view_count": null,
            "_view_module_version": "1.5.0",
            "description_tooltip": null,
            "_model_module": "@jupyter-widgets/controls",
            "layout": "IPY_MODEL_d9a51e7828404820af43259727098a39"
          }
        },
        "e40e5627901e42d0b4958f0d4c0ef176": {
          "model_module": "@jupyter-widgets/controls",
          "model_name": "ProgressStyleModel",
          "state": {
            "_view_name": "StyleView",
            "_model_name": "ProgressStyleModel",
            "description_width": "initial",
            "_view_module": "@jupyter-widgets/base",
            "_model_module_version": "1.5.0",
            "_view_count": null,
            "_view_module_version": "1.2.0",
            "bar_color": null,
            "_model_module": "@jupyter-widgets/controls"
          }
        },
        "370e352b2e744bf7bb437b6018ea4901": {
          "model_module": "@jupyter-widgets/base",
          "model_name": "LayoutModel",
          "state": {
            "_view_name": "LayoutView",
            "grid_template_rows": null,
            "right": null,
            "justify_content": null,
            "_view_module": "@jupyter-widgets/base",
            "overflow": null,
            "_model_module_version": "1.2.0",
            "_view_count": null,
            "flex_flow": null,
            "width": null,
            "min_width": null,
            "border": null,
            "align_items": null,
            "bottom": null,
            "_model_module": "@jupyter-widgets/base",
            "top": null,
            "grid_column": null,
            "overflow_y": null,
            "overflow_x": null,
            "grid_auto_flow": null,
            "grid_area": null,
            "grid_template_columns": null,
            "flex": null,
            "_model_name": "LayoutModel",
            "justify_items": null,
            "grid_row": null,
            "max_height": null,
            "align_content": null,
            "visibility": null,
            "align_self": null,
            "height": null,
            "min_height": null,
            "padding": null,
            "grid_auto_rows": null,
            "grid_gap": null,
            "max_width": null,
            "order": null,
            "_view_module_version": "1.2.0",
            "grid_template_areas": null,
            "object_position": null,
            "object_fit": null,
            "grid_auto_columns": null,
            "margin": null,
            "display": null,
            "left": null
          }
        },
        "523580352ded42a4842bcd6da75bc020": {
          "model_module": "@jupyter-widgets/controls",
          "model_name": "DescriptionStyleModel",
          "state": {
            "_view_name": "StyleView",
            "_model_name": "DescriptionStyleModel",
            "description_width": "",
            "_view_module": "@jupyter-widgets/base",
            "_model_module_version": "1.5.0",
            "_view_count": null,
            "_view_module_version": "1.2.0",
            "_model_module": "@jupyter-widgets/controls"
          }
        },
        "d9a51e7828404820af43259727098a39": {
          "model_module": "@jupyter-widgets/base",
          "model_name": "LayoutModel",
          "state": {
            "_view_name": "LayoutView",
            "grid_template_rows": null,
            "right": null,
            "justify_content": null,
            "_view_module": "@jupyter-widgets/base",
            "overflow": null,
            "_model_module_version": "1.2.0",
            "_view_count": null,
            "flex_flow": null,
            "width": null,
            "min_width": null,
            "border": null,
            "align_items": null,
            "bottom": null,
            "_model_module": "@jupyter-widgets/base",
            "top": null,
            "grid_column": null,
            "overflow_y": null,
            "overflow_x": null,
            "grid_auto_flow": null,
            "grid_area": null,
            "grid_template_columns": null,
            "flex": null,
            "_model_name": "LayoutModel",
            "justify_items": null,
            "grid_row": null,
            "max_height": null,
            "align_content": null,
            "visibility": null,
            "align_self": null,
            "height": null,
            "min_height": null,
            "padding": null,
            "grid_auto_rows": null,
            "grid_gap": null,
            "max_width": null,
            "order": null,
            "_view_module_version": "1.2.0",
            "grid_template_areas": null,
            "object_position": null,
            "object_fit": null,
            "grid_auto_columns": null,
            "margin": null,
            "display": null,
            "left": null
          }
        }
      }
    }
  },
  "cells": [
    {
      "cell_type": "markdown",
      "metadata": {
        "id": "DJz078qHGPJw",
        "colab_type": "text"
      },
      "source": [
        "#Mount"
      ]
    },
    {
      "cell_type": "code",
      "metadata": {
        "id": "Mu8aSvIEpJ3c",
        "colab_type": "code",
        "colab": {
          "base_uri": "https://localhost:8080/",
          "height": 71
        },
        "outputId": "09264ea8-b262-4e1b-dae1-832b6fc45753"
      },
      "source": [
        "from google.colab import drive\n",
        "drive.mount('/content/gdrive')\n",
        "%cd /content/gdrive/My\\ Drive/EVA2/Assignment2 "
      ],
      "execution_count": 7,
      "outputs": [
        {
          "output_type": "stream",
          "text": [
            "Drive already mounted at /content/gdrive; to attempt to forcibly remount, call drive.mount(\"/content/gdrive\", force_remount=True).\n",
            "/content/gdrive/My Drive/EVA2/Assignment2\n"
          ],
          "name": "stdout"
        }
      ]
    },
    {
      "cell_type": "markdown",
      "metadata": {
        "id": "_f6UnFllGMiv",
        "colab_type": "text"
      },
      "source": [
        "#Imports "
      ]
    },
    {
      "cell_type": "code",
      "metadata": {
        "id": "22z3JLGdpZA3",
        "colab_type": "code",
        "colab": {}
      },
      "source": [
        "from zipfile import ZipFile\n",
        "import os\n",
        "from tqdm.notebook import tqdm\n",
        "import shutil\n",
        "import torch\n",
        "import torchvision\n",
        "import cudas\n",
        "import general_utils\n",
        "from Transform_utils.transforme_album import Data\n",
        "import general_utils\n",
        "from models.imagenet import mobilenetv2\n",
        "import torch.nn as nn"
      ],
      "execution_count": 8,
      "outputs": []
    },
    {
      "cell_type": "code",
      "metadata": {
        "id": "BV-JeoXlta51",
        "colab_type": "code",
        "colab": {
          "base_uri": "https://localhost:8080/",
          "height": 581
        },
        "outputId": "50b58eba-a0b7-4d1c-ca23-c6105a1c0f64"
      },
      "source": [
        "!pip install torch-lr-finder\n",
        "!pip install torch-lr-finder -v --global-option=\"amp\""
      ],
      "execution_count": 3,
      "outputs": [
        {
          "output_type": "stream",
          "text": [
            "Requirement already satisfied: torch-lr-finder in /usr/local/lib/python3.6/dist-packages (0.2.0)\n",
            "Requirement already satisfied: torch>=0.4.1 in /usr/local/lib/python3.6/dist-packages (from torch-lr-finder) (1.5.1+cu101)\n",
            "Requirement already satisfied: numpy in /usr/local/lib/python3.6/dist-packages (from torch-lr-finder) (1.18.5)\n",
            "Requirement already satisfied: matplotlib in /usr/local/lib/python3.6/dist-packages (from torch-lr-finder) (3.2.2)\n",
            "Requirement already satisfied: packaging in /usr/local/lib/python3.6/dist-packages (from torch-lr-finder) (20.4)\n",
            "Requirement already satisfied: tqdm in /usr/local/lib/python3.6/dist-packages (from torch-lr-finder) (4.41.1)\n",
            "Requirement already satisfied: future in /usr/local/lib/python3.6/dist-packages (from torch>=0.4.1->torch-lr-finder) (0.16.0)\n",
            "Requirement already satisfied: kiwisolver>=1.0.1 in /usr/local/lib/python3.6/dist-packages (from matplotlib->torch-lr-finder) (1.2.0)\n",
            "Requirement already satisfied: python-dateutil>=2.1 in /usr/local/lib/python3.6/dist-packages (from matplotlib->torch-lr-finder) (2.8.1)\n",
            "Requirement already satisfied: cycler>=0.10 in /usr/local/lib/python3.6/dist-packages (from matplotlib->torch-lr-finder) (0.10.0)\n",
            "Requirement already satisfied: pyparsing!=2.0.4,!=2.1.2,!=2.1.6,>=2.0.1 in /usr/local/lib/python3.6/dist-packages (from matplotlib->torch-lr-finder) (2.4.7)\n",
            "Requirement already satisfied: six in /usr/local/lib/python3.6/dist-packages (from packaging->torch-lr-finder) (1.15.0)\n",
            "/usr/local/lib/python3.6/dist-packages/pip/_internal/commands/install.py:283: UserWarning: Disabling all use of wheels due to the use of --build-options / --global-options / --install-options.\n",
            "  cmdoptions.check_install_build_global(options)\n",
            "Created temporary directory: /tmp/pip-ephem-wheel-cache-ed3bvft7\n",
            "Created temporary directory: /tmp/pip-req-tracker-uu14npz7\n",
            "Created requirements tracker '/tmp/pip-req-tracker-uu14npz7'\n",
            "Created temporary directory: /tmp/pip-install-z503j87o\n",
            "Requirement already satisfied: torch-lr-finder in /usr/local/lib/python3.6/dist-packages (0.2.0)\n",
            "Requirement already satisfied: numpy in /usr/local/lib/python3.6/dist-packages (from torch-lr-finder) (1.18.5)\n",
            "Requirement already satisfied: packaging in /usr/local/lib/python3.6/dist-packages (from torch-lr-finder) (20.4)\n",
            "Requirement already satisfied: tqdm in /usr/local/lib/python3.6/dist-packages (from torch-lr-finder) (4.41.1)\n",
            "Requirement already satisfied: matplotlib in /usr/local/lib/python3.6/dist-packages (from torch-lr-finder) (3.2.2)\n",
            "Requirement already satisfied: torch>=0.4.1 in /usr/local/lib/python3.6/dist-packages (from torch-lr-finder) (1.5.1+cu101)\n",
            "Requirement already satisfied: pyparsing>=2.0.2 in /usr/local/lib/python3.6/dist-packages (from packaging->torch-lr-finder) (2.4.7)\n",
            "Requirement already satisfied: six in /usr/local/lib/python3.6/dist-packages (from packaging->torch-lr-finder) (1.15.0)\n",
            "Requirement already satisfied: kiwisolver>=1.0.1 in /usr/local/lib/python3.6/dist-packages (from matplotlib->torch-lr-finder) (1.2.0)\n",
            "Requirement already satisfied: python-dateutil>=2.1 in /usr/local/lib/python3.6/dist-packages (from matplotlib->torch-lr-finder) (2.8.1)\n",
            "Requirement already satisfied: cycler>=0.10 in /usr/local/lib/python3.6/dist-packages (from matplotlib->torch-lr-finder) (0.10.0)\n",
            "Requirement already satisfied: future in /usr/local/lib/python3.6/dist-packages (from torch>=0.4.1->torch-lr-finder) (0.16.0)\n",
            "Cleaning up...\n",
            "Removed build tracker '/tmp/pip-req-tracker-uu14npz7'\n"
          ],
          "name": "stdout"
        }
      ]
    },
    {
      "cell_type": "markdown",
      "metadata": {
        "id": "cM_TyrSAGTLV",
        "colab_type": "text"
      },
      "source": [
        "#Unzip"
      ]
    },
    {
      "cell_type": "code",
      "metadata": {
        "id": "GqGYZXFlqD2j",
        "colab_type": "code",
        "colab": {
          "base_uri": "https://localhost:8080/",
          "height": 34
        },
        "outputId": "e8f58400-fc16-441f-84ad-b009220af02c"
      },
      "source": [
        "!unzip -q /content/gdrive/My\\ Drive/Dataset.zip -d /content/ZData/"
      ],
      "execution_count": 9,
      "outputs": [
        {
          "output_type": "stream",
          "text": [
            "replace /content/ZData/Flying Birds/FlyingBirds_0.jpg? [y]es, [n]o, [A]ll, [N]one, [r]ename: N\n"
          ],
          "name": "stdout"
        }
      ]
    },
    {
      "cell_type": "markdown",
      "metadata": {
        "id": "DjAZNEwHV6km",
        "colab_type": "text"
      },
      "source": [
        "#Count"
      ]
    },
    {
      "cell_type": "code",
      "metadata": {
        "id": "1GCmLlX7V1Og",
        "colab_type": "code",
        "colab": {
          "base_uri": "https://localhost:8080/",
          "height": 85
        },
        "outputId": "08de5bd8-eb41-43d5-817f-c4c1c78f9a1c"
      },
      "source": [
        "import os\n",
        "print(sum([len(files) for r,d, files in os.walk('/content/ZData/Flying Birds/')]))\n",
        "print(sum([len(files) for r,d, files in os.walk('/content/ZData/Winged Drones/')]))\n",
        "print(sum([len(files) for r,d, files in os.walk('/content/ZData/Large QuadCopters/')]))\n",
        "print(sum([len(files) for r,d, files in os.walk('/content/ZData/Small QuadCopters/')]))"
      ],
      "execution_count": 10,
      "outputs": [
        {
          "output_type": "stream",
          "text": [
            "8337\n",
            "5675\n",
            "4169\n",
            "3623\n"
          ],
          "name": "stdout"
        }
      ]
    },
    {
      "cell_type": "markdown",
      "metadata": {
        "id": "mIiPbSiC81nd",
        "colab_type": "text"
      },
      "source": [
        "#Segregate Train/Val Data"
      ]
    },
    {
      "cell_type": "code",
      "metadata": {
        "id": "zHWu3RHk32WS",
        "colab_type": "code",
        "colab": {
          "base_uri": "https://localhost:8080/",
          "height": 134,
          "referenced_widgets": [
            "481295f82b2441bd9f09086470db8456",
            "53c338af6ecd4630be90da0306aca9cc",
            "9449f233de2145adac406ee2b2fa0957",
            "27be12b9bbe048728f8acca9ba0677ee",
            "e40e5627901e42d0b4958f0d4c0ef176",
            "370e352b2e744bf7bb437b6018ea4901",
            "523580352ded42a4842bcd6da75bc020",
            "d9a51e7828404820af43259727098a39"
          ]
        },
        "outputId": "687d5a50-8085-4cbd-9b90-68dfa5ae4982"
      },
      "source": [
        "for p,d,f in tqdm(os.walk('/content/ZData/')):\n",
        "  for d1 in d:\n",
        "    count = 0\n",
        "    if not os.path.exists('/content/ZData/Train/'+d1+'/'):\n",
        "             os.makedirs('/content/ZData/Train/'+d1+'/')\n",
        "    if not os.path.exists('/content/ZData/Val/'+d1+'/'):\n",
        "             os.makedirs('/content/ZData/Val/'+d1+'/')\n",
        "    if d1=='Flying Birds':\n",
        "            x = 0.7*8337\n",
        "    elif d1=='Large QuadCopters':\n",
        "            x = 0.7*4169\n",
        "    elif d1=='Small QuadCopters':\n",
        "            x = 0.7*3623\n",
        "    else:\n",
        "            x = 0.7*5675\n",
        "    print(d1, x)\n",
        "    for p1,d2,f1 in os.walk(p+d1):\n",
        "        for f2 in f1:\n",
        "          count=count+1\n",
        "          if count<x:\n",
        "            shutil.copy(p1+'/'+f2, '/content/ZData/Train/'+p1.split('/')[-1]+'/')\n",
        "          else:\n",
        "            shutil.copy(p1+'/'+f2, '/content/ZData/Val/'+p1.split('/')[-1]+'/')\n",
        "#!rm -rf /content/ZData/"
      ],
      "execution_count": 11,
      "outputs": [
        {
          "output_type": "display_data",
          "data": {
            "application/vnd.jupyter.widget-view+json": {
              "model_id": "481295f82b2441bd9f09086470db8456",
              "version_minor": 0,
              "version_major": 2
            },
            "text/plain": [
              "HBox(children=(FloatProgress(value=1.0, bar_style='info', max=1.0), HTML(value='')))"
            ]
          },
          "metadata": {
            "tags": []
          }
        },
        {
          "output_type": "stream",
          "text": [
            "Small QuadCopters 2536.1\n",
            "Winged Drones 3972.4999999999995\n",
            "Large QuadCopters 2918.2999999999997\n",
            "Flying Birds 5835.9\n",
            "\n"
          ],
          "name": "stdout"
        }
      ]
    },
    {
      "cell_type": "code",
      "metadata": {
        "id": "a7Zu69IGaPMu",
        "colab_type": "code",
        "colab": {}
      },
      "source": [
        "!rm -rf /content/ZData/Flying\\ Birds\n",
        "!rm -rf /content/ZData/Winged\\ Drones\n",
        "!rm -rf /content/ZData/Large\\ QuadCopters\n",
        "!rm -rf /content/ZData/Small\\ QuadCopters"
      ],
      "execution_count": 12,
      "outputs": []
    },
    {
      "cell_type": "code",
      "metadata": {
        "id": "ntJc8yqePieU",
        "colab_type": "code",
        "colab": {}
      },
      "source": [
        "!rm -rf /content/ZData/Train/Large\\ QuadCopters/LargeQuadCopters_3643.jpg\n",
        "!rm -rf /content/ZData/Train/Large\\ QuadCopters/LargeQuadCopters_3641.jpg\n",
        "!rm -rf /content/ZData/Train/Winged\\ Drones/WingedDrones_957.jpg\n",
        "!rm -rf /content/ZData/Val/Winged\\ Drones/WingedDrones_4416.jpg\n",
        "!rm -rf /content/ZData/Val/Large\\ QuadCopters/LargeQuadCopters_3573.jpg"
      ],
      "execution_count": 13,
      "outputs": []
    },
    {
      "cell_type": "code",
      "metadata": {
        "id": "LXkrjK4xw25K",
        "colab_type": "code",
        "colab": {
          "base_uri": "https://localhost:8080/",
          "height": 153
        },
        "outputId": "a83328b5-e325-40c6-80dd-b62e060f3cac"
      },
      "source": [
        "import os\n",
        "print(sum([len(files) for r,d, files in os.walk('/content/ZData/Train/Flying Birds/')]))\n",
        "print(sum([len(files) for r,d, files in os.walk('/content/ZData/Train/Winged Drones/')]))\n",
        "print(sum([len(files) for r,d, files in os.walk('/content/ZData/Train/Large QuadCopters/')]))\n",
        "print(sum([len(files) for r,d, files in os.walk('/content/ZData/Train/Small QuadCopters/')]))\n",
        "print(sum([len(files) for r,d, files in os.walk('/content/ZData/Val/Flying Birds/')]))\n",
        "print(sum([len(files) for r,d, files in os.walk('/content/ZData/Val/Winged Drones/')]))\n",
        "print(sum([len(files) for r,d, files in os.walk('/content/ZData/Val/Large QuadCopters/')]))\n",
        "print(sum([len(files) for r,d, files in os.walk('/content/ZData/Val/Small QuadCopters/')]))"
      ],
      "execution_count": 8,
      "outputs": [
        {
          "output_type": "stream",
          "text": [
            "5835\n",
            "3972\n",
            "2918\n",
            "2536\n",
            "2502\n",
            "1703\n",
            "1251\n",
            "1087\n"
          ],
          "name": "stdout"
        }
      ]
    },
    {
      "cell_type": "markdown",
      "metadata": {
        "id": "07NE6o6FgYjc",
        "colab_type": "text"
      },
      "source": [
        "#Dataset/Dataloader\n"
      ]
    },
    {
      "cell_type": "code",
      "metadata": {
        "id": "E6LMENhc8a_U",
        "colab_type": "code",
        "colab": {
          "base_uri": "https://localhost:8080/",
          "height": 51
        },
        "outputId": "352c1f32-e9f1-44cb-8e1a-87675a640f21"
      },
      "source": [
        "data = Data()\n",
        "trainset = data.getTrainDataSet(train=True)\n",
        "testset =  data.getTestDataSet(train=False)\n",
        "trainloader = data.getDataLoader(trainset, 128)\n",
        "trainloader1 = data.getDataLoader(trainset, 4)\n",
        "testloader = data.getDataLoader(testset, 128)\n",
        "testloader1 = data.getDataLoader(testset, 4)\n",
        "classes = ('Flying Birds', 'Large QuadCopters', 'Small QuadCopters', 'Winged Drones')"
      ],
      "execution_count": 14,
      "outputs": [
        {
          "output_type": "stream",
          "text": [
            "Train Data size 15258\n",
            "Test Data size 6541\n"
          ],
          "name": "stdout"
        }
      ]
    },
    {
      "cell_type": "markdown",
      "metadata": {
        "id": "93Cs_WtUmb5X",
        "colab_type": "text"
      },
      "source": [
        "#Display Sample Images"
      ]
    },
    {
      "cell_type": "code",
      "metadata": {
        "id": "zNzEo5s-adAd",
        "colab_type": "code",
        "colab": {
          "base_uri": "https://localhost:8080/",
          "height": 272
        },
        "outputId": "a052e267-c6bd-4f21-c40e-94d8150bacd5"
      },
      "source": [
        "# get some random training images\n",
        "dataiter = iter(trainloader1)\n",
        "images, labels = dataiter.next()\n",
        "print(images.shape)\n",
        "general_utils.imshow(torchvision.utils.make_grid(images))\n",
        "print('\\n\\n','\\n'.join('%5s' % classes[labels[j]] for j in range(4)))"
      ],
      "execution_count": 10,
      "outputs": [
        {
          "output_type": "stream",
          "text": [
            "Clipping input data to the valid range for imshow with RGB data ([0..1] for floats or [0..255] for integers).\n"
          ],
          "name": "stderr"
        },
        {
          "output_type": "stream",
          "text": [
            "torch.Size([4, 3, 224, 224])\n",
            "\n",
            "\n",
            " Winged Drones\n",
            "Small QuadCopters\n",
            "Flying Birds\n",
            "Small QuadCopters\n"
          ],
          "name": "stdout"
        },
        {
          "output_type": "display_data",
          "data": {
            "image/png": "[encoded data removed]",
            "text/plain": [
              "<Figure size 432x288 with 1 Axes>"
            ]
          },
          "metadata": {
            "tags": [],
            "needs_background": "light"
          }
        }
      ]
    },
    {
      "cell_type": "code",
      "metadata": {
        "id": "Lnh2u1VvMpxg",
        "colab_type": "code",
        "colab": {
          "base_uri": "https://localhost:8080/",
          "height": 54
        },
        "outputId": "28d4c09a-08f4-4f99-c1fa-d6ead79738d6"
      },
      "source": [
        "device = torch.device(\"cuda\" if cudas.cuda else \"cpu\")\n",
        "net = mobilenetv2().to(device)\n",
        "net.load_state_dict(torch.load('pretrained_model/mobilenetv2_1.0-0c6065bc.pth'), strict=False)"
      ],
      "execution_count": 5,
      "outputs": [
        {
          "output_type": "execute_result",
          "data": {
            "text/plain": [
              "_IncompatibleKeys(missing_keys=['classifier1.weight', 'classifier1.bias', 'classifier2.weight', 'classifier2.bias'], unexpected_keys=['classifier.weight', 'classifier.bias'])"
            ]
          },
          "metadata": {
            "tags": []
          },
          "execution_count": 5
        }
      ]
    },
    {
      "cell_type": "code",
      "metadata": {
        "id": "Wy9MDL2KlEfw",
        "colab_type": "code",
        "colab": {
          "base_uri": "https://localhost:8080/",
          "height": 1000
        },
        "outputId": "81c0c711-2a4e-4827-b6f6-2e306abbef71"
      },
      "source": [
        "from torchsummary import summary\n",
        "summary(net, input_size=(3, 224, 224))"
      ],
      "execution_count": 12,
      "outputs": [
        {
          "output_type": "stream",
          "text": [
            "----------------------------------------------------------------\n",
            "        Layer (type)               Output Shape         Param #\n",
            "================================================================\n",
            "            Conv2d-1         [-1, 32, 112, 112]             864\n",
            "       BatchNorm2d-2         [-1, 32, 112, 112]              64\n",
            "             ReLU6-3         [-1, 32, 112, 112]               0\n",
            "            Conv2d-4         [-1, 32, 112, 112]             288\n",
            "       BatchNorm2d-5         [-1, 32, 112, 112]              64\n",
            "             ReLU6-6         [-1, 32, 112, 112]               0\n",
            "            Conv2d-7         [-1, 16, 112, 112]             512\n",
            "       BatchNorm2d-8         [-1, 16, 112, 112]              32\n",
            "  InvertedResidual-9         [-1, 16, 112, 112]               0\n",
            "           Conv2d-10         [-1, 96, 112, 112]           1,536\n",
            "      BatchNorm2d-11         [-1, 96, 112, 112]             192\n",
            "            ReLU6-12         [-1, 96, 112, 112]               0\n",
            "           Conv2d-13           [-1, 96, 56, 56]             864\n",
            "      BatchNorm2d-14           [-1, 96, 56, 56]             192\n",
            "            ReLU6-15           [-1, 96, 56, 56]               0\n",
            "           Conv2d-16           [-1, 24, 56, 56]           2,304\n",
            "      BatchNorm2d-17           [-1, 24, 56, 56]              48\n",
            " InvertedResidual-18           [-1, 24, 56, 56]               0\n",
            "           Conv2d-19          [-1, 144, 56, 56]           3,456\n",
            "      BatchNorm2d-20          [-1, 144, 56, 56]             288\n",
            "            ReLU6-21          [-1, 144, 56, 56]               0\n",
            "           Conv2d-22          [-1, 144, 56, 56]           1,296\n",
            "      BatchNorm2d-23          [-1, 144, 56, 56]             288\n",
            "            ReLU6-24          [-1, 144, 56, 56]               0\n",
            "           Conv2d-25           [-1, 24, 56, 56]           3,456\n",
            "      BatchNorm2d-26           [-1, 24, 56, 56]              48\n",
            " InvertedResidual-27           [-1, 24, 56, 56]               0\n",
            "           Conv2d-28          [-1, 144, 56, 56]           3,456\n",
            "      BatchNorm2d-29          [-1, 144, 56, 56]             288\n",
            "            ReLU6-30          [-1, 144, 56, 56]               0\n",
            "           Conv2d-31          [-1, 144, 28, 28]           1,296\n",
            "      BatchNorm2d-32          [-1, 144, 28, 28]             288\n",
            "            ReLU6-33          [-1, 144, 28, 28]               0\n",
            "           Conv2d-34           [-1, 32, 28, 28]           4,608\n",
            "      BatchNorm2d-35           [-1, 32, 28, 28]              64\n",
            " InvertedResidual-36           [-1, 32, 28, 28]               0\n",
            "           Conv2d-37          [-1, 192, 28, 28]           6,144\n",
            "      BatchNorm2d-38          [-1, 192, 28, 28]             384\n",
            "            ReLU6-39          [-1, 192, 28, 28]               0\n",
            "           Conv2d-40          [-1, 192, 28, 28]           1,728\n",
            "      BatchNorm2d-41          [-1, 192, 28, 28]             384\n",
            "            ReLU6-42          [-1, 192, 28, 28]               0\n",
            "           Conv2d-43           [-1, 32, 28, 28]           6,144\n",
            "      BatchNorm2d-44           [-1, 32, 28, 28]              64\n",
            " InvertedResidual-45           [-1, 32, 28, 28]               0\n",
            "           Conv2d-46          [-1, 192, 28, 28]           6,144\n",
            "      BatchNorm2d-47          [-1, 192, 28, 28]             384\n",
            "            ReLU6-48          [-1, 192, 28, 28]               0\n",
            "           Conv2d-49          [-1, 192, 28, 28]           1,728\n",
            "      BatchNorm2d-50          [-1, 192, 28, 28]             384\n",
            "            ReLU6-51          [-1, 192, 28, 28]               0\n",
            "           Conv2d-52           [-1, 32, 28, 28]           6,144\n",
            "      BatchNorm2d-53           [-1, 32, 28, 28]              64\n",
            " InvertedResidual-54           [-1, 32, 28, 28]               0\n",
            "           Conv2d-55          [-1, 192, 28, 28]           6,144\n",
            "      BatchNorm2d-56          [-1, 192, 28, 28]             384\n",
            "            ReLU6-57          [-1, 192, 28, 28]               0\n",
            "           Conv2d-58          [-1, 192, 14, 14]           1,728\n",
            "      BatchNorm2d-59          [-1, 192, 14, 14]             384\n",
            "            ReLU6-60          [-1, 192, 14, 14]               0\n",
            "           Conv2d-61           [-1, 64, 14, 14]          12,288\n",
            "      BatchNorm2d-62           [-1, 64, 14, 14]             128\n",
            " InvertedResidual-63           [-1, 64, 14, 14]               0\n",
            "           Conv2d-64          [-1, 384, 14, 14]          24,576\n",
            "      BatchNorm2d-65          [-1, 384, 14, 14]             768\n",
            "            ReLU6-66          [-1, 384, 14, 14]               0\n",
            "           Conv2d-67          [-1, 384, 14, 14]           3,456\n",
            "      BatchNorm2d-68          [-1, 384, 14, 14]             768\n",
            "            ReLU6-69          [-1, 384, 14, 14]               0\n",
            "           Conv2d-70           [-1, 64, 14, 14]          24,576\n",
            "      BatchNorm2d-71           [-1, 64, 14, 14]             128\n",
            " InvertedResidual-72           [-1, 64, 14, 14]               0\n",
            "           Conv2d-73          [-1, 384, 14, 14]          24,576\n",
            "      BatchNorm2d-74          [-1, 384, 14, 14]             768\n",
            "            ReLU6-75          [-1, 384, 14, 14]               0\n",
            "           Conv2d-76          [-1, 384, 14, 14]           3,456\n",
            "      BatchNorm2d-77          [-1, 384, 14, 14]             768\n",
            "            ReLU6-78          [-1, 384, 14, 14]               0\n",
            "           Conv2d-79           [-1, 64, 14, 14]          24,576\n",
            "      BatchNorm2d-80           [-1, 64, 14, 14]             128\n",
            " InvertedResidual-81           [-1, 64, 14, 14]               0\n",
            "           Conv2d-82          [-1, 384, 14, 14]          24,576\n",
            "      BatchNorm2d-83          [-1, 384, 14, 14]             768\n",
            "            ReLU6-84          [-1, 384, 14, 14]               0\n",
            "           Conv2d-85          [-1, 384, 14, 14]           3,456\n",
            "      BatchNorm2d-86          [-1, 384, 14, 14]             768\n",
            "            ReLU6-87          [-1, 384, 14, 14]               0\n",
            "           Conv2d-88           [-1, 64, 14, 14]          24,576\n",
            "      BatchNorm2d-89           [-1, 64, 14, 14]             128\n",
            " InvertedResidual-90           [-1, 64, 14, 14]               0\n",
            "           Conv2d-91          [-1, 384, 14, 14]          24,576\n",
            "      BatchNorm2d-92          [-1, 384, 14, 14]             768\n",
            "            ReLU6-93          [-1, 384, 14, 14]               0\n",
            "           Conv2d-94          [-1, 384, 14, 14]           3,456\n",
            "      BatchNorm2d-95          [-1, 384, 14, 14]             768\n",
            "            ReLU6-96          [-1, 384, 14, 14]               0\n",
            "           Conv2d-97           [-1, 96, 14, 14]          36,864\n",
            "      BatchNorm2d-98           [-1, 96, 14, 14]             192\n",
            " InvertedResidual-99           [-1, 96, 14, 14]               0\n",
            "          Conv2d-100          [-1, 576, 14, 14]          55,296\n",
            "     BatchNorm2d-101          [-1, 576, 14, 14]           1,152\n",
            "           ReLU6-102          [-1, 576, 14, 14]               0\n",
            "          Conv2d-103          [-1, 576, 14, 14]           5,184\n",
            "     BatchNorm2d-104          [-1, 576, 14, 14]           1,152\n",
            "           ReLU6-105          [-1, 576, 14, 14]               0\n",
            "          Conv2d-106           [-1, 96, 14, 14]          55,296\n",
            "     BatchNorm2d-107           [-1, 96, 14, 14]             192\n",
            "InvertedResidual-108           [-1, 96, 14, 14]               0\n",
            "          Conv2d-109          [-1, 576, 14, 14]          55,296\n",
            "     BatchNorm2d-110          [-1, 576, 14, 14]           1,152\n",
            "           ReLU6-111          [-1, 576, 14, 14]               0\n",
            "          Conv2d-112          [-1, 576, 14, 14]           5,184\n",
            "     BatchNorm2d-113          [-1, 576, 14, 14]           1,152\n",
            "           ReLU6-114          [-1, 576, 14, 14]               0\n",
            "          Conv2d-115           [-1, 96, 14, 14]          55,296\n",
            "     BatchNorm2d-116           [-1, 96, 14, 14]             192\n",
            "InvertedResidual-117           [-1, 96, 14, 14]               0\n",
            "          Conv2d-118          [-1, 576, 14, 14]          55,296\n",
            "     BatchNorm2d-119          [-1, 576, 14, 14]           1,152\n",
            "           ReLU6-120          [-1, 576, 14, 14]               0\n",
            "          Conv2d-121            [-1, 576, 7, 7]           5,184\n",
            "     BatchNorm2d-122            [-1, 576, 7, 7]           1,152\n",
            "           ReLU6-123            [-1, 576, 7, 7]               0\n",
            "          Conv2d-124            [-1, 160, 7, 7]          92,160\n",
            "     BatchNorm2d-125            [-1, 160, 7, 7]             320\n",
            "InvertedResidual-126            [-1, 160, 7, 7]               0\n",
            "          Conv2d-127            [-1, 960, 7, 7]         153,600\n",
            "     BatchNorm2d-128            [-1, 960, 7, 7]           1,920\n",
            "           ReLU6-129            [-1, 960, 7, 7]               0\n",
            "          Conv2d-130            [-1, 960, 7, 7]           8,640\n",
            "     BatchNorm2d-131            [-1, 960, 7, 7]           1,920\n",
            "           ReLU6-132            [-1, 960, 7, 7]               0\n",
            "          Conv2d-133            [-1, 160, 7, 7]         153,600\n",
            "     BatchNorm2d-134            [-1, 160, 7, 7]             320\n",
            "InvertedResidual-135            [-1, 160, 7, 7]               0\n",
            "          Conv2d-136            [-1, 960, 7, 7]         153,600\n",
            "     BatchNorm2d-137            [-1, 960, 7, 7]           1,920\n",
            "           ReLU6-138            [-1, 960, 7, 7]               0\n",
            "          Conv2d-139            [-1, 960, 7, 7]           8,640\n",
            "     BatchNorm2d-140            [-1, 960, 7, 7]           1,920\n",
            "           ReLU6-141            [-1, 960, 7, 7]               0\n",
            "          Conv2d-142            [-1, 160, 7, 7]         153,600\n",
            "     BatchNorm2d-143            [-1, 160, 7, 7]             320\n",
            "InvertedResidual-144            [-1, 160, 7, 7]               0\n",
            "          Conv2d-145            [-1, 960, 7, 7]         153,600\n",
            "     BatchNorm2d-146            [-1, 960, 7, 7]           1,920\n",
            "           ReLU6-147            [-1, 960, 7, 7]               0\n",
            "          Conv2d-148            [-1, 960, 7, 7]           8,640\n",
            "     BatchNorm2d-149            [-1, 960, 7, 7]           1,920\n",
            "           ReLU6-150            [-1, 960, 7, 7]               0\n",
            "          Conv2d-151            [-1, 320, 7, 7]         307,200\n",
            "     BatchNorm2d-152            [-1, 320, 7, 7]             640\n",
            "InvertedResidual-153            [-1, 320, 7, 7]               0\n",
            "          Conv2d-154           [-1, 1280, 7, 7]         409,600\n",
            "     BatchNorm2d-155           [-1, 1280, 7, 7]           2,560\n",
            "           ReLU6-156           [-1, 1280, 7, 7]               0\n",
            "AdaptiveAvgPool2d-157           [-1, 1280, 1, 1]               0\n",
            "          Linear-158                  [-1, 256]         327,936\n",
            "          Linear-159                    [-1, 4]           1,028\n",
            "================================================================\n",
            "Total params: 2,552,836\n",
            "Trainable params: 2,552,836\n",
            "Non-trainable params: 0\n",
            "----------------------------------------------------------------\n",
            "Input size (MB): 0.57\n",
            "Forward/backward pass size (MB): 152.86\n",
            "Params size (MB): 9.74\n",
            "Estimated Total Size (MB): 163.17\n",
            "----------------------------------------------------------------\n"
          ],
          "name": "stdout"
        }
      ]
    },
    {
      "cell_type": "markdown",
      "metadata": {
        "id": "6tsGggzsoRZf",
        "colab_type": "text"
      },
      "source": [
        "#Freeze all layers"
      ]
    },
    {
      "cell_type": "code",
      "metadata": {
        "id": "naR3nbmzZ6lc",
        "colab_type": "code",
        "colab": {}
      },
      "source": [
        "# Freeze model weights\n",
        "for param in net.parameters():\n",
        "    param.requires_grad = False"
      ],
      "execution_count": 6,
      "outputs": []
    },
    {
      "cell_type": "code",
      "metadata": {
        "id": "YzN8pDwJaB1-",
        "colab_type": "code",
        "colab": {
          "base_uri": "https://localhost:8080/",
          "height": 51
        },
        "outputId": "69a1a82d-4efa-4451-8d1a-d3d2994cd51e"
      },
      "source": [
        "total_params = sum(p.numel() for p in net.parameters())\n",
        "print(f'{total_params:,} total parameters.')\n",
        "total_trainable_params = sum(\n",
        "    p.numel() for p in net.parameters() if p.requires_grad)\n",
        "print(f'{total_trainable_params:,} training parameters.')"
      ],
      "execution_count": 7,
      "outputs": [
        {
          "output_type": "stream",
          "text": [
            "2,552,836 total parameters.\n",
            "0 training parameters.\n"
          ],
          "name": "stdout"
        }
      ]
    },
    {
      "cell_type": "markdown",
      "metadata": {
        "id": "Mhl-lEfaoL4o",
        "colab_type": "text"
      },
      "source": [
        "#Unfreeze last 2 layers"
      ]
    },
    {
      "cell_type": "code",
      "metadata": {
        "id": "wFtw4wJGnEO5",
        "colab_type": "code",
        "colab": {}
      },
      "source": [
        "for param in net.classifier1.parameters():\n",
        "    param.requires_grad = True\n",
        "for param in net.classifier2.parameters():\n",
        "    param.requires_grad = True"
      ],
      "execution_count": 8,
      "outputs": []
    },
    {
      "cell_type": "code",
      "metadata": {
        "id": "hKFd6y7EoKPt",
        "colab_type": "code",
        "colab": {
          "base_uri": "https://localhost:8080/",
          "height": 51
        },
        "outputId": "83e5e955-b9f2-401c-f5bf-9f8b94a0e1f9"
      },
      "source": [
        "total_params = sum(p.numel() for p in net.parameters())\n",
        "print(f'{total_params:,} total parameters.')\n",
        "total_trainable_params = sum(\n",
        "    p.numel() for p in net.parameters() if p.requires_grad)\n",
        "print(f'{total_trainable_params:,} training parameters.')"
      ],
      "execution_count": 9,
      "outputs": [
        {
          "output_type": "stream",
          "text": [
            "2,552,836 total parameters.\n",
            "328,964 training parameters.\n"
          ],
          "name": "stdout"
        }
      ]
    },
    {
      "cell_type": "markdown",
      "metadata": {
        "id": "tZIx6OJRpAwy",
        "colab_type": "text"
      },
      "source": [
        "#Finding Min/Max LR"
      ]
    },
    {
      "cell_type": "code",
      "metadata": {
        "id": "qx7W2nhnpHcG",
        "colab_type": "code",
        "colab": {}
      },
      "source": [
        "from torch_lr_finder import LRFinder\n",
        "import torch.optim as optim\n",
        "criterion = nn.CrossEntropyLoss()\n",
        "optimizer = optim.SGD(net.parameters(), lr=1e-4, momentum=0.9, weight_decay=0.0025)\n",
        "scheduler = torch.optim.lr_scheduler.StepLR(optimizer, step_size=1, gamma=1.5)"
      ],
      "execution_count": 13,
      "outputs": []
    },
    {
      "cell_type": "code",
      "metadata": {
        "id": "Dg2I3ziTvC84",
        "colab_type": "code",
        "colab": {
          "base_uri": "https://localhost:8080/",
          "height": 1000
        },
        "outputId": "1d7654cc-1f00-4b92-ab05-69d6e1855f6f"
      },
      "source": [
        "from tqdm.notebook import tqdm\n",
        "from Train_Test_utils.traine import train\n",
        "from Train_Test_utils.teste import test\n",
        "test_acc = []\n",
        "train_acc = []\n",
        "trainloss_ = []\n",
        "testloss_ = []\n",
        "lr_ = []\n",
        "loss=1000\n",
        "loss1= 1000\n",
        "for epoch in range(25):  # loop over the dataset multiple times\n",
        "    for param_group in optimizer.param_groups:\n",
        "      print(\"lr= \",param_group['lr'])\n",
        "      lr_.append(param_group['lr'])\n",
        "    trainacc, loss = train(net, device, trainloader, optimizer, criterion, epoch)\n",
        "    train_acc.append(trainacc)\n",
        "    testacc, loss1 = test(net, device, testloader, criterion)\n",
        "    test_acc.append(testacc)\n",
        "    trainloss_.append(loss)\n",
        "    testloss_.append(loss1)\n",
        "    scheduler.step()\n",
        "print('Finished Training')"
      ],
      "execution_count": 14,
      "outputs": [
        {
          "output_type": "stream",
          "text": [
            "\r  0%|          | 0/120 [00:00<?, ?it/s]"
          ],
          "name": "stderr"
        },
        {
          "output_type": "stream",
          "text": [
            "lr=  0.0001\n"
          ],
          "name": "stdout"
        },
        {
          "output_type": "stream",
          "text": [
            "/usr/local/lib/python3.6/dist-packages/PIL/Image.py:932: UserWarning: Palette images with Transparency expressed in bytes should be converted to RGBA images\n",
            "  \"Palette images with Transparency expressed in bytes should be \"\n",
            "Epoch= 0 Loss=1.388950228691101 Batch_id=1 Accuracy=20.31:   2%|▏         | 2/120 [00:12<16:17,  8.28s/it]/usr/local/lib/python3.6/dist-packages/PIL/Image.py:932: UserWarning: Palette images with Transparency expressed in bytes should be converted to RGBA images\n",
            "  \"Palette images with Transparency expressed in bytes should be \"\n",
            "Epoch= 0 Loss=1.3696271181106567 Batch_id=37 Accuracy=45.31:  32%|███▏      | 38/120 [01:41<02:00,  1.47s/it]/usr/local/lib/python3.6/dist-packages/PIL/Image.py:932: UserWarning: Palette images with Transparency expressed in bytes should be converted to RGBA images\n",
            "  \"Palette images with Transparency expressed in bytes should be \"\n",
            "Epoch= 0 Loss=1.364412546157837 Batch_id=46 Accuracy=41.41:  39%|███▉      | 47/120 [02:08<02:08,  1.77s/it]/usr/local/lib/python3.6/dist-packages/PIL/Image.py:932: UserWarning: Palette images with Transparency expressed in bytes should be converted to RGBA images\n",
            "  \"Palette images with Transparency expressed in bytes should be \"\n",
            "Epoch= 0 Loss=1.3422807455062866 Batch_id=73 Accuracy=40.62:  62%|██████▏   | 74/120 [03:09<01:03,  1.37s/it]/usr/local/lib/python3.6/dist-packages/PIL/TiffImagePlugin.py:788: UserWarning: Corrupt EXIF data.  Expecting to read 4 bytes but only got 0. \n",
            "  warnings.warn(str(msg))\n",
            "Epoch= 0 Loss=1.3268280029296875 Batch_id=119 Accuracy=26.92: 100%|██████████| 120/120 [05:05<00:00,  2.55s/it]\n",
            "  0%|          | 0/52 [00:00<?, ?it/s]/usr/local/lib/python3.6/dist-packages/PIL/Image.py:932: UserWarning: Palette images with Transparency expressed in bytes should be converted to RGBA images\n",
            "  \"Palette images with Transparency expressed in bytes should be \"\n",
            " 25%|██▌       | 13/52 [00:35<01:11,  1.83s/it]/usr/local/lib/python3.6/dist-packages/PIL/Image.py:932: UserWarning: Palette images with Transparency expressed in bytes should be converted to RGBA images\n",
            "  \"Palette images with Transparency expressed in bytes should be \"\n",
            " 50%|█████     | 26/52 [01:08<00:58,  2.25s/it]/usr/local/lib/python3.6/dist-packages/PIL/Image.py:932: UserWarning: Palette images with Transparency expressed in bytes should be converted to RGBA images\n",
            "  \"Palette images with Transparency expressed in bytes should be \"\n",
            " 81%|████████  | 42/52 [01:41<00:14,  1.50s/it]/usr/local/lib/python3.6/dist-packages/PIL/Image.py:932: UserWarning: Palette images with Transparency expressed in bytes should be converted to RGBA images\n",
            "  \"Palette images with Transparency expressed in bytes should be \"\n",
            "100%|██████████| 52/52 [02:01<00:00,  2.35s/it]\n",
            "  0%|          | 0/120 [00:00<?, ?it/s]"
          ],
          "name": "stderr"
        },
        {
          "output_type": "stream",
          "text": [
            "Test Loss= 1.341736 Test Accuracy= 38.25103195230087\n",
            "lr=  0.00015000000000000001\n"
          ],
          "name": "stdout"
        },
        {
          "output_type": "stream",
          "text": [
            "/usr/local/lib/python3.6/dist-packages/PIL/TiffImagePlugin.py:788: UserWarning: Corrupt EXIF data.  Expecting to read 4 bytes but only got 0. \n",
            "  warnings.warn(str(msg))\n",
            "Epoch= 1 Loss=1.315915822982788 Batch_id=2 Accuracy=37.50:   2%|▎         | 3/120 [00:11<10:27,  5.36s/it]/usr/local/lib/python3.6/dist-packages/PIL/Image.py:932: UserWarning: Palette images with Transparency expressed in bytes should be converted to RGBA images\n",
            "  \"Palette images with Transparency expressed in bytes should be \"\n",
            "Epoch= 1 Loss=1.3176966905593872 Batch_id=4 Accuracy=39.06:   4%|▍         | 5/120 [00:16<07:51,  4.10s/it]/usr/local/lib/python3.6/dist-packages/PIL/Image.py:932: UserWarning: Palette images with Transparency expressed in bytes should be converted to RGBA images\n",
            "  \"Palette images with Transparency expressed in bytes should be \"\n",
            "Epoch= 1 Loss=1.2987688779830933 Batch_id=12 Accuracy=39.84:  11%|█         | 13/120 [00:38<03:45,  2.11s/it]/usr/local/lib/python3.6/dist-packages/PIL/Image.py:932: UserWarning: Palette images with Transparency expressed in bytes should be converted to RGBA images\n",
            "  \"Palette images with Transparency expressed in bytes should be \"\n",
            "Epoch= 1 Loss=1.289110779762268 Batch_id=51 Accuracy=38.28:  43%|████▎     | 52/120 [02:20<02:45,  2.43s/it]/usr/local/lib/python3.6/dist-packages/PIL/Image.py:932: UserWarning: Palette images with Transparency expressed in bytes should be converted to RGBA images\n",
            "  \"Palette images with Transparency expressed in bytes should be \"\n",
            "Epoch= 1 Loss=1.184858798980713 Batch_id=119 Accuracy=42.31: 100%|██████████| 120/120 [05:06<00:00,  2.56s/it]\n",
            "  2%|▏         | 1/52 [00:08<07:17,  8.59s/it]/usr/local/lib/python3.6/dist-packages/PIL/Image.py:932: UserWarning: Palette images with Transparency expressed in bytes should be converted to RGBA images\n",
            "  \"Palette images with Transparency expressed in bytes should be \"\n",
            " 12%|█▏        | 6/52 [00:17<02:01,  2.64s/it]/usr/local/lib/python3.6/dist-packages/PIL/Image.py:932: UserWarning: Palette images with Transparency expressed in bytes should be converted to RGBA images\n",
            "  \"Palette images with Transparency expressed in bytes should be \"\n",
            " 17%|█▋        | 9/52 [00:24<01:24,  1.96s/it]/usr/local/lib/python3.6/dist-packages/PIL/Image.py:932: UserWarning: Palette images with Transparency expressed in bytes should be converted to RGBA images\n",
            "  \"Palette images with Transparency expressed in bytes should be \"\n",
            "100%|██████████| 52/52 [02:03<00:00,  2.37s/it]\n",
            "  0%|          | 0/120 [00:00<?, ?it/s]"
          ],
          "name": "stderr"
        },
        {
          "output_type": "stream",
          "text": [
            "Test Loss= 1.2025685 Test Accuracy= 38.60266014370891\n",
            "lr=  0.00022500000000000002\n"
          ],
          "name": "stdout"
        },
        {
          "output_type": "stream",
          "text": [
            "/usr/local/lib/python3.6/dist-packages/PIL/Image.py:932: UserWarning: Palette images with Transparency expressed in bytes should be converted to RGBA images\n",
            "  \"Palette images with Transparency expressed in bytes should be \"\n",
            "Epoch= 2 Loss=1.3098278045654297 Batch_id=5 Accuracy=28.91:   5%|▌         | 6/120 [00:18<05:51,  3.09s/it]/usr/local/lib/python3.6/dist-packages/PIL/Image.py:932: UserWarning: Palette images with Transparency expressed in bytes should be converted to RGBA images\n",
            "  \"Palette images with Transparency expressed in bytes should be \"\n",
            "Epoch= 2 Loss=1.133374810218811 Batch_id=48 Accuracy=53.12:  41%|████      | 49/120 [02:10<02:27,  2.08s/it]/usr/local/lib/python3.6/dist-packages/PIL/Image.py:932: UserWarning: Palette images with Transparency expressed in bytes should be converted to RGBA images\n",
            "  \"Palette images with Transparency expressed in bytes should be \"\n",
            "Epoch= 2 Loss=1.1480656862258911 Batch_id=92 Accuracy=50.78:  78%|███████▊  | 93/120 [04:02<00:52,  1.95s/it]/usr/local/lib/python3.6/dist-packages/PIL/TiffImagePlugin.py:788: UserWarning: Corrupt EXIF data.  Expecting to read 4 bytes but only got 0. \n",
            "  warnings.warn(str(msg))\n",
            "/usr/local/lib/python3.6/dist-packages/PIL/Image.py:932: UserWarning: Palette images with Transparency expressed in bytes should be converted to RGBA images\n",
            "  \"Palette images with Transparency expressed in bytes should be \"\n",
            "Epoch= 2 Loss=1.1585924625396729 Batch_id=119 Accuracy=42.31: 100%|██████████| 120/120 [05:09<00:00,  2.58s/it]\n",
            "  0%|          | 0/52 [00:00<?, ?it/s]/usr/local/lib/python3.6/dist-packages/PIL/Image.py:932: UserWarning: Palette images with Transparency expressed in bytes should be converted to RGBA images\n",
            "  \"Palette images with Transparency expressed in bytes should be \"\n",
            "/usr/local/lib/python3.6/dist-packages/PIL/Image.py:932: UserWarning: Palette images with Transparency expressed in bytes should be converted to RGBA images\n",
            "  \"Palette images with Transparency expressed in bytes should be \"\n",
            " 10%|▉         | 5/52 [00:21<02:48,  3.59s/it]/usr/local/lib/python3.6/dist-packages/PIL/Image.py:932: UserWarning: Palette images with Transparency expressed in bytes should be converted to RGBA images\n",
            "  \"Palette images with Transparency expressed in bytes should be \"\n",
            " 81%|████████  | 42/52 [01:48<00:14,  1.45s/it]/usr/local/lib/python3.6/dist-packages/PIL/Image.py:932: UserWarning: Palette images with Transparency expressed in bytes should be converted to RGBA images\n",
            "  \"Palette images with Transparency expressed in bytes should be \"\n",
            "100%|██████████| 52/52 [02:04<00:00,  2.39s/it]\n",
            "  0%|          | 0/120 [00:00<?, ?it/s]"
          ],
          "name": "stderr"
        },
        {
          "output_type": "stream",
          "text": [
            "Test Loss= 1.126082 Test Accuracy= 50.61917138052286\n",
            "lr=  0.0003375\n"
          ],
          "name": "stdout"
        },
        {
          "output_type": "stream",
          "text": [
            "Epoch= 3 Loss=1.065565586090088 Batch_id=7 Accuracy=55.47:   7%|▋         | 8/120 [00:26<04:51,  2.60s/it]/usr/local/lib/python3.6/dist-packages/PIL/Image.py:932: UserWarning: Palette images with Transparency expressed in bytes should be converted to RGBA images\n",
            "  \"Palette images with Transparency expressed in bytes should be \"\n",
            "Epoch= 3 Loss=1.0928616523742676 Batch_id=18 Accuracy=51.56:  16%|█▌        | 19/120 [00:54<03:29,  2.08s/it]/usr/local/lib/python3.6/dist-packages/PIL/Image.py:932: UserWarning: Palette images with Transparency expressed in bytes should be converted to RGBA images\n",
            "  \"Palette images with Transparency expressed in bytes should be \"\n",
            "Epoch= 3 Loss=1.0985852479934692 Batch_id=19 Accuracy=49.22:  17%|█▋        | 20/120 [00:55<02:43,  1.64s/it]/usr/local/lib/python3.6/dist-packages/PIL/Image.py:932: UserWarning: Palette images with Transparency expressed in bytes should be converted to RGBA images\n",
            "  \"Palette images with Transparency expressed in bytes should be \"\n",
            "Epoch= 3 Loss=1.031590461730957 Batch_id=35 Accuracy=62.50:  30%|███       | 36/120 [01:39<02:43,  1.95s/it]/usr/local/lib/python3.6/dist-packages/PIL/Image.py:932: UserWarning: Palette images with Transparency expressed in bytes should be converted to RGBA images\n",
            "  \"Palette images with Transparency expressed in bytes should be \"\n",
            "Epoch= 3 Loss=0.9781454205513 Batch_id=55 Accuracy=67.19:  47%|████▋     | 56/120 [02:35<02:21,  2.20s/it]/usr/local/lib/python3.6/dist-packages/PIL/TiffImagePlugin.py:788: UserWarning: Corrupt EXIF data.  Expecting to read 4 bytes but only got 0. \n",
            "  warnings.warn(str(msg))\n",
            "Epoch= 3 Loss=1.0219889879226685 Batch_id=119 Accuracy=57.69: 100%|██████████| 120/120 [05:08<00:00,  2.57s/it]\n",
            "  0%|          | 0/52 [00:00<?, ?it/s]/usr/local/lib/python3.6/dist-packages/PIL/Image.py:932: UserWarning: Palette images with Transparency expressed in bytes should be converted to RGBA images\n",
            "  \"Palette images with Transparency expressed in bytes should be \"\n",
            " 19%|█▉        | 10/52 [00:29<01:30,  2.15s/it]/usr/local/lib/python3.6/dist-packages/PIL/Image.py:932: UserWarning: Palette images with Transparency expressed in bytes should be converted to RGBA images\n",
            "  \"Palette images with Transparency expressed in bytes should be \"\n",
            " 60%|█████▉    | 31/52 [01:16<00:38,  1.82s/it]/usr/local/lib/python3.6/dist-packages/PIL/Image.py:932: UserWarning: Palette images with Transparency expressed in bytes should be converted to RGBA images\n",
            "  \"Palette images with Transparency expressed in bytes should be \"\n",
            " 75%|███████▌  | 39/52 [01:36<00:17,  1.35s/it]/usr/local/lib/python3.6/dist-packages/PIL/Image.py:932: UserWarning: Palette images with Transparency expressed in bytes should be converted to RGBA images\n",
            "  \"Palette images with Transparency expressed in bytes should be \"\n",
            "100%|██████████| 52/52 [02:04<00:00,  2.39s/it]\n",
            "  0%|          | 0/120 [00:00<?, ?it/s]"
          ],
          "name": "stderr"
        },
        {
          "output_type": "stream",
          "text": [
            "Test Loss= 0.9422673 Test Accuracy= 66.58003363400091\n",
            "lr=  0.00050625\n"
          ],
          "name": "stdout"
        },
        {
          "output_type": "stream",
          "text": [
            "Epoch= 4 Loss=0.8870533108711243 Batch_id=3 Accuracy=69.53:   3%|▎         | 4/120 [00:14<09:29,  4.91s/it]/usr/local/lib/python3.6/dist-packages/PIL/Image.py:932: UserWarning: Palette images with Transparency expressed in bytes should be converted to RGBA images\n",
            "  \"Palette images with Transparency expressed in bytes should be \"\n",
            "Epoch= 4 Loss=0.8843847513198853 Batch_id=7 Accuracy=69.53:   7%|▋         | 8/120 [00:26<04:49,  2.59s/it]/usr/local/lib/python3.6/dist-packages/PIL/Image.py:932: UserWarning: Palette images with Transparency expressed in bytes should be converted to RGBA images\n",
            "  \"Palette images with Transparency expressed in bytes should be \"\n",
            "Epoch= 4 Loss=0.847996175289154 Batch_id=11 Accuracy=69.53:  10%|█         | 12/120 [00:38<03:36,  2.01s/it]/usr/local/lib/python3.6/dist-packages/PIL/Image.py:932: UserWarning: Palette images with Transparency expressed in bytes should be converted to RGBA images\n",
            "  \"Palette images with Transparency expressed in bytes should be \"\n",
            "Epoch= 4 Loss=0.8785021901130676 Batch_id=34 Accuracy=66.41:  29%|██▉       | 35/120 [01:33<03:24,  2.40s/it]/usr/local/lib/python3.6/dist-packages/PIL/TiffImagePlugin.py:788: UserWarning: Corrupt EXIF data.  Expecting to read 4 bytes but only got 0. \n",
            "  warnings.warn(str(msg))\n",
            "Epoch= 4 Loss=0.7880133986473083 Batch_id=88 Accuracy=67.19:  74%|███████▍  | 89/120 [03:50<00:58,  1.87s/it]/usr/local/lib/python3.6/dist-packages/PIL/Image.py:932: UserWarning: Palette images with Transparency expressed in bytes should be converted to RGBA images\n",
            "  \"Palette images with Transparency expressed in bytes should be \"\n",
            "Epoch= 4 Loss=0.7347517013549805 Batch_id=119 Accuracy=76.92: 100%|██████████| 120/120 [05:08<00:00,  2.57s/it]\n",
            "  0%|          | 0/52 [00:00<?, ?it/s]/usr/local/lib/python3.6/dist-packages/PIL/Image.py:932: UserWarning: Palette images with Transparency expressed in bytes should be converted to RGBA images\n",
            "  \"Palette images with Transparency expressed in bytes should be \"\n",
            "/usr/local/lib/python3.6/dist-packages/PIL/Image.py:932: UserWarning: Palette images with Transparency expressed in bytes should be converted to RGBA images\n",
            "  \"Palette images with Transparency expressed in bytes should be \"\n",
            "  8%|▊         | 4/52 [00:12<03:14,  4.06s/it]/usr/local/lib/python3.6/dist-packages/PIL/Image.py:932: UserWarning: Palette images with Transparency expressed in bytes should be converted to RGBA images\n",
            "  \"Palette images with Transparency expressed in bytes should be \"\n",
            " 27%|██▋       | 14/52 [00:38<01:03,  1.68s/it]/usr/local/lib/python3.6/dist-packages/PIL/Image.py:932: UserWarning: Palette images with Transparency expressed in bytes should be converted to RGBA images\n",
            "  \"Palette images with Transparency expressed in bytes should be \"\n",
            "100%|██████████| 52/52 [02:03<00:00,  2.38s/it]\n",
            "  0%|          | 0/120 [00:00<?, ?it/s]"
          ],
          "name": "stderr"
        },
        {
          "output_type": "stream",
          "text": [
            "Test Loss= 0.8870671 Test Accuracy= 77.52637211435561\n",
            "lr=  0.000759375\n"
          ],
          "name": "stdout"
        },
        {
          "output_type": "stream",
          "text": [
            "/usr/local/lib/python3.6/dist-packages/PIL/Image.py:932: UserWarning: Palette images with Transparency expressed in bytes should be converted to RGBA images\n",
            "  \"Palette images with Transparency expressed in bytes should be \"\n",
            "Epoch= 5 Loss=0.6678465008735657 Batch_id=1 Accuracy=79.69:   2%|▏         | 2/120 [00:14<14:10,  7.21s/it]/usr/local/lib/python3.6/dist-packages/PIL/Image.py:932: UserWarning: Palette images with Transparency expressed in bytes should be converted to RGBA images\n",
            "  \"Palette images with Transparency expressed in bytes should be \"\n",
            "Epoch= 5 Loss=0.6768223643302917 Batch_id=13 Accuracy=80.47:  12%|█▏        | 14/120 [00:45<05:31,  3.13s/it]/usr/local/lib/python3.6/dist-packages/PIL/Image.py:932: UserWarning: Palette images with Transparency expressed in bytes should be converted to RGBA images\n",
            "  \"Palette images with Transparency expressed in bytes should be \"\n",
            "Epoch= 5 Loss=0.6704966425895691 Batch_id=25 Accuracy=75.00:  22%|██▏       | 26/120 [01:11<02:27,  1.57s/it]/usr/local/lib/python3.6/dist-packages/PIL/TiffImagePlugin.py:788: UserWarning: Corrupt EXIF data.  Expecting to read 4 bytes but only got 0. \n",
            "  warnings.warn(str(msg))\n",
            "Epoch= 5 Loss=0.703593909740448 Batch_id=29 Accuracy=73.44:  25%|██▌       | 30/120 [01:20<02:19,  1.55s/it]/usr/local/lib/python3.6/dist-packages/PIL/Image.py:932: UserWarning: Palette images with Transparency expressed in bytes should be converted to RGBA images\n",
            "  \"Palette images with Transparency expressed in bytes should be \"\n",
            "Epoch= 5 Loss=0.7133642435073853 Batch_id=119 Accuracy=65.38: 100%|██████████| 120/120 [05:07<00:00,  2.56s/it]\n",
            " 31%|███       | 16/52 [00:42<01:24,  2.35s/it]/usr/local/lib/python3.6/dist-packages/PIL/Image.py:932: UserWarning: Palette images with Transparency expressed in bytes should be converted to RGBA images\n",
            "  \"Palette images with Transparency expressed in bytes should be \"\n",
            " 35%|███▍      | 18/52 [00:48<01:23,  2.46s/it]/usr/local/lib/python3.6/dist-packages/PIL/Image.py:932: UserWarning: Palette images with Transparency expressed in bytes should be converted to RGBA images\n",
            "  \"Palette images with Transparency expressed in bytes should be \"\n",
            " 58%|█████▊    | 30/52 [01:15<00:46,  2.11s/it]/usr/local/lib/python3.6/dist-packages/PIL/Image.py:932: UserWarning: Palette images with Transparency expressed in bytes should be converted to RGBA images\n",
            "  \"Palette images with Transparency expressed in bytes should be \"\n",
            "100%|██████████| 52/52 [02:03<00:00,  2.37s/it]\n",
            "  0%|          | 0/120 [00:00<?, ?it/s]"
          ],
          "name": "stderr"
        },
        {
          "output_type": "stream",
          "text": [
            "Test Loss= 0.36056483 Test Accuracy= 78.9481730622229\n",
            "lr=  0.0011390624999999999\n"
          ],
          "name": "stdout"
        },
        {
          "output_type": "stream",
          "text": [
            "Epoch= 6 Loss=0.5863642692565918 Batch_id=11 Accuracy=79.69:  10%|█         | 12/120 [00:35<03:43,  2.07s/it]/usr/local/lib/python3.6/dist-packages/PIL/Image.py:932: UserWarning: Palette images with Transparency expressed in bytes should be converted to RGBA images\n",
            "  \"Palette images with Transparency expressed in bytes should be \"\n",
            "/usr/local/lib/python3.6/dist-packages/PIL/Image.py:932: UserWarning: Palette images with Transparency expressed in bytes should be converted to RGBA images\n",
            "  \"Palette images with Transparency expressed in bytes should be \"\n",
            "Epoch= 6 Loss=0.5755402445793152 Batch_id=15 Accuracy=78.91:  13%|█▎        | 16/120 [00:51<04:03,  2.34s/it]/usr/local/lib/python3.6/dist-packages/PIL/Image.py:932: UserWarning: Palette images with Transparency expressed in bytes should be converted to RGBA images\n",
            "  \"Palette images with Transparency expressed in bytes should be \"\n",
            "Epoch= 6 Loss=0.5882251858711243 Batch_id=43 Accuracy=78.12:  37%|███▋      | 44/120 [02:02<03:48,  3.01s/it]/usr/local/lib/python3.6/dist-packages/PIL/Image.py:932: UserWarning: Palette images with Transparency expressed in bytes should be converted to RGBA images\n",
            "  \"Palette images with Transparency expressed in bytes should be \"\n",
            "Epoch= 6 Loss=0.49651384353637695 Batch_id=82 Accuracy=82.03:  69%|██████▉   | 83/120 [03:40<01:20,  2.18s/it]/usr/local/lib/python3.6/dist-packages/PIL/TiffImagePlugin.py:788: UserWarning: Corrupt EXIF data.  Expecting to read 4 bytes but only got 0. \n",
            "  warnings.warn(str(msg))\n",
            "Epoch= 6 Loss=0.44123169779777527 Batch_id=119 Accuracy=84.62: 100%|██████████| 120/120 [05:06<00:00,  2.56s/it]\n",
            " 13%|█▎        | 7/52 [00:24<02:29,  3.33s/it]/usr/local/lib/python3.6/dist-packages/PIL/Image.py:932: UserWarning: Palette images with Transparency expressed in bytes should be converted to RGBA images\n",
            "  \"Palette images with Transparency expressed in bytes should be \"\n",
            " 27%|██▋       | 14/52 [00:38<01:14,  1.97s/it]/usr/local/lib/python3.6/dist-packages/PIL/Image.py:932: UserWarning: Palette images with Transparency expressed in bytes should be converted to RGBA images\n",
            "  \"Palette images with Transparency expressed in bytes should be \"\n",
            " 42%|████▏     | 22/52 [00:59<00:48,  1.62s/it]/usr/local/lib/python3.6/dist-packages/PIL/Image.py:932: UserWarning: Palette images with Transparency expressed in bytes should be converted to RGBA images\n",
            "  \"Palette images with Transparency expressed in bytes should be \"\n",
            "100%|██████████| 52/52 [02:02<00:00,  2.36s/it]\n",
            "  0%|          | 0/120 [00:00<?, ?it/s]"
          ],
          "name": "stderr"
        },
        {
          "output_type": "stream",
          "text": [
            "Test Loss= 0.23800063 Test Accuracy= 80.8439076593793\n",
            "lr=  0.0017085937499999998\n"
          ],
          "name": "stdout"
        },
        {
          "output_type": "stream",
          "text": [
            "/usr/local/lib/python3.6/dist-packages/PIL/Image.py:932: UserWarning: Palette images with Transparency expressed in bytes should be converted to RGBA images\n",
            "  \"Palette images with Transparency expressed in bytes should be \"\n",
            "Epoch= 7 Loss=0.5331615209579468 Batch_id=15 Accuracy=76.56:  13%|█▎        | 16/120 [00:47<03:50,  2.22s/it]/usr/local/lib/python3.6/dist-packages/PIL/Image.py:932: UserWarning: Palette images with Transparency expressed in bytes should be converted to RGBA images\n",
            "  \"Palette images with Transparency expressed in bytes should be \"\n",
            "Epoch= 7 Loss=0.5153325796127319 Batch_id=51 Accuracy=82.03:  43%|████▎     | 52/120 [02:21<01:49,  1.61s/it]/usr/local/lib/python3.6/dist-packages/PIL/Image.py:932: UserWarning: Palette images with Transparency expressed in bytes should be converted to RGBA images\n",
            "  \"Palette images with Transparency expressed in bytes should be \"\n",
            "Epoch= 7 Loss=0.478359192609787 Batch_id=84 Accuracy=81.25:  71%|███████   | 85/120 [03:49<01:44,  2.99s/it]/usr/local/lib/python3.6/dist-packages/PIL/Image.py:932: UserWarning: Palette images with Transparency expressed in bytes should be converted to RGBA images\n",
            "  \"Palette images with Transparency expressed in bytes should be \"\n",
            "Epoch= 7 Loss=0.4482596516609192 Batch_id=106 Accuracy=82.81:  89%|████████▉ | 107/120 [04:41<00:17,  1.36s/it]/usr/local/lib/python3.6/dist-packages/PIL/TiffImagePlugin.py:788: UserWarning: Corrupt EXIF data.  Expecting to read 4 bytes but only got 0. \n",
            "  warnings.warn(str(msg))\n",
            "Epoch= 7 Loss=0.4236820638179779 Batch_id=119 Accuracy=76.92: 100%|██████████| 120/120 [05:08<00:00,  2.57s/it]\n",
            " 19%|█▉        | 10/52 [00:30<01:36,  2.30s/it]/usr/local/lib/python3.6/dist-packages/PIL/Image.py:932: UserWarning: Palette images with Transparency expressed in bytes should be converted to RGBA images\n",
            "  \"Palette images with Transparency expressed in bytes should be \"\n",
            " 54%|█████▍    | 28/52 [01:09<00:31,  1.31s/it]/usr/local/lib/python3.6/dist-packages/PIL/Image.py:932: UserWarning: Palette images with Transparency expressed in bytes should be converted to RGBA images\n",
            "  \"Palette images with Transparency expressed in bytes should be \"\n",
            " 62%|██████▏   | 32/52 [01:16<00:23,  1.16s/it]/usr/local/lib/python3.6/dist-packages/PIL/Image.py:932: UserWarning: Palette images with Transparency expressed in bytes should be converted to RGBA images\n",
            "  \"Palette images with Transparency expressed in bytes should be \"\n",
            " 63%|██████▎   | 33/52 [01:24<00:59,  3.11s/it]/usr/local/lib/python3.6/dist-packages/PIL/Image.py:932: UserWarning: Palette images with Transparency expressed in bytes should be converted to RGBA images\n",
            "  \"Palette images with Transparency expressed in bytes should be \"\n",
            "100%|██████████| 52/52 [02:03<00:00,  2.38s/it]\n",
            "  0%|          | 0/120 [00:00<?, ?it/s]"
          ],
          "name": "stderr"
        },
        {
          "output_type": "stream",
          "text": [
            "Test Loss= 0.7234415 Test Accuracy= 81.56245222443052\n",
            "lr=  0.0025628906249999996\n"
          ],
          "name": "stdout"
        },
        {
          "output_type": "stream",
          "text": [
            "/usr/local/lib/python3.6/dist-packages/PIL/Image.py:932: UserWarning: Palette images with Transparency expressed in bytes should be converted to RGBA images\n",
            "  \"Palette images with Transparency expressed in bytes should be \"\n",
            "/usr/local/lib/python3.6/dist-packages/PIL/TiffImagePlugin.py:788: UserWarning: Corrupt EXIF data.  Expecting to read 4 bytes but only got 0. \n",
            "  warnings.warn(str(msg))\n",
            "Epoch= 8 Loss=0.45345619320869446 Batch_id=3 Accuracy=82.03:   3%|▎         | 4/120 [00:13<08:11,  4.24s/it]/usr/local/lib/python3.6/dist-packages/PIL/Image.py:932: UserWarning: Palette images with Transparency expressed in bytes should be converted to RGBA images\n",
            "  \"Palette images with Transparency expressed in bytes should be \"\n",
            "Epoch= 8 Loss=0.5094547271728516 Batch_id=15 Accuracy=79.69:  13%|█▎        | 16/120 [00:43<02:45,  1.59s/it]/usr/local/lib/python3.6/dist-packages/PIL/Image.py:932: UserWarning: Palette images with Transparency expressed in bytes should be converted to RGBA images\n",
            "  \"Palette images with Transparency expressed in bytes should be \"\n",
            "Epoch= 8 Loss=0.5307595133781433 Batch_id=43 Accuracy=78.91:  37%|███▋      | 44/120 [01:56<04:18,  3.40s/it]/usr/local/lib/python3.6/dist-packages/PIL/Image.py:932: UserWarning: Palette images with Transparency expressed in bytes should be converted to RGBA images\n",
            "  \"Palette images with Transparency expressed in bytes should be \"\n",
            "Epoch= 8 Loss=0.2840116322040558 Batch_id=119 Accuracy=92.31: 100%|██████████| 120/120 [05:08<00:00,  2.57s/it]\n",
            "  8%|▊         | 4/52 [00:13<03:43,  4.66s/it]/usr/local/lib/python3.6/dist-packages/PIL/Image.py:932: UserWarning: Palette images with Transparency expressed in bytes should be converted to RGBA images\n",
            "  \"Palette images with Transparency expressed in bytes should be \"\n",
            " 25%|██▌       | 13/52 [00:34<01:00,  1.56s/it]/usr/local/lib/python3.6/dist-packages/PIL/Image.py:932: UserWarning: Palette images with Transparency expressed in bytes should be converted to RGBA images\n",
            "  \"Palette images with Transparency expressed in bytes should be \"\n",
            " 71%|███████   | 37/52 [01:32<00:40,  2.69s/it]/usr/local/lib/python3.6/dist-packages/PIL/Image.py:932: UserWarning: Palette images with Transparency expressed in bytes should be converted to RGBA images\n",
            "  \"Palette images with Transparency expressed in bytes should be \"\n",
            "100%|██████████| 52/52 [02:02<00:00,  2.35s/it]\n",
            "  0%|          | 0/120 [00:00<?, ?it/s]"
          ],
          "name": "stderr"
        },
        {
          "output_type": "stream",
          "text": [
            "Test Loss= 0.5024029 Test Accuracy= 82.43387861183305\n",
            "lr=  0.0038443359374999994\n"
          ],
          "name": "stdout"
        },
        {
          "output_type": "stream",
          "text": [
            "/usr/local/lib/python3.6/dist-packages/PIL/Image.py:932: UserWarning: Palette images with Transparency expressed in bytes should be converted to RGBA images\n",
            "  \"Palette images with Transparency expressed in bytes should be \"\n",
            "Epoch= 9 Loss=0.5301008820533752 Batch_id=8 Accuracy=80.47:   8%|▊         | 9/120 [00:27<04:03,  2.19s/it]/usr/local/lib/python3.6/dist-packages/PIL/Image.py:932: UserWarning: Palette images with Transparency expressed in bytes should be converted to RGBA images\n",
            "  \"Palette images with Transparency expressed in bytes should be \"\n",
            "Epoch= 9 Loss=0.3941982388496399 Batch_id=9 Accuracy=82.03:   8%|▊         | 10/120 [00:30<03:59,  2.18s/it]/usr/local/lib/python3.6/dist-packages/PIL/Image.py:932: UserWarning: Palette images with Transparency expressed in bytes should be converted to RGBA images\n",
            "  \"Palette images with Transparency expressed in bytes should be \"\n",
            "Epoch= 9 Loss=0.4935886263847351 Batch_id=18 Accuracy=83.59:  16%|█▌        | 19/120 [00:53<04:21,  2.59s/it]/usr/local/lib/python3.6/dist-packages/PIL/Image.py:932: UserWarning: Palette images with Transparency expressed in bytes should be converted to RGBA images\n",
            "  \"Palette images with Transparency expressed in bytes should be \"\n",
            "Epoch= 9 Loss=0.38921889662742615 Batch_id=81 Accuracy=86.72:  68%|██████▊   | 82/120 [03:41<01:18,  2.07s/it]/usr/local/lib/python3.6/dist-packages/PIL/TiffImagePlugin.py:788: UserWarning: Corrupt EXIF data.  Expecting to read 4 bytes but only got 0. \n",
            "  warnings.warn(str(msg))\n",
            "Epoch= 9 Loss=0.29606401920318604 Batch_id=119 Accuracy=84.62: 100%|██████████| 120/120 [05:07<00:00,  2.56s/it]\n",
            " 13%|█▎        | 7/52 [00:21<02:37,  3.51s/it]/usr/local/lib/python3.6/dist-packages/PIL/Image.py:932: UserWarning: Palette images with Transparency expressed in bytes should be converted to RGBA images\n",
            "  \"Palette images with Transparency expressed in bytes should be \"\n",
            " 21%|██        | 11/52 [00:26<01:00,  1.47s/it]/usr/local/lib/python3.6/dist-packages/PIL/Image.py:932: UserWarning: Palette images with Transparency expressed in bytes should be converted to RGBA images\n",
            "  \"Palette images with Transparency expressed in bytes should be \"\n",
            " 33%|███▎      | 17/52 [00:44<01:26,  2.46s/it]/usr/local/lib/python3.6/dist-packages/PIL/Image.py:932: UserWarning: Palette images with Transparency expressed in bytes should be converted to RGBA images\n",
            "  \"Palette images with Transparency expressed in bytes should be \"\n",
            "100%|██████████| 52/52 [02:02<00:00,  2.36s/it]\n",
            "  0%|          | 0/120 [00:00<?, ?it/s]"
          ],
          "name": "stderr"
        },
        {
          "output_type": "stream",
          "text": [
            "Test Loss= 0.39071137 Test Accuracy= 82.63262498088977\n",
            "lr=  0.00576650390625\n"
          ],
          "name": "stdout"
        },
        {
          "output_type": "stream",
          "text": [
            "Epoch= 10 Loss=0.41457903385162354 Batch_id=3 Accuracy=87.50:   3%|▎         | 4/120 [00:13<08:12,  4.24s/it]/usr/local/lib/python3.6/dist-packages/PIL/Image.py:932: UserWarning: Palette images with Transparency expressed in bytes should be converted to RGBA images\n",
            "  \"Palette images with Transparency expressed in bytes should be \"\n",
            "Epoch= 10 Loss=0.357921302318573 Batch_id=5 Accuracy=87.50:   5%|▌         | 6/120 [00:19<06:51,  3.61s/it]/usr/local/lib/python3.6/dist-packages/PIL/Image.py:932: UserWarning: Palette images with Transparency expressed in bytes should be converted to RGBA images\n",
            "  \"Palette images with Transparency expressed in bytes should be \"\n",
            "Epoch= 10 Loss=0.39424294233322144 Batch_id=10 Accuracy=85.16:   9%|▉         | 11/120 [00:30<04:05,  2.26s/it]/usr/local/lib/python3.6/dist-packages/PIL/Image.py:932: UserWarning: Palette images with Transparency expressed in bytes should be converted to RGBA images\n",
            "  \"Palette images with Transparency expressed in bytes should be \"\n",
            "Epoch= 10 Loss=0.5322469472885132 Batch_id=14 Accuracy=82.03:  12%|█▎        | 15/120 [00:43<04:44,  2.71s/it]/usr/local/lib/python3.6/dist-packages/PIL/Image.py:932: UserWarning: Palette images with Transparency expressed in bytes should be converted to RGBA images\n",
            "  \"Palette images with Transparency expressed in bytes should be \"\n",
            "Epoch= 10 Loss=0.5039727687835693 Batch_id=85 Accuracy=78.91:  72%|███████▏  | 86/120 [03:40<01:01,  1.80s/it]/usr/local/lib/python3.6/dist-packages/PIL/TiffImagePlugin.py:788: UserWarning: Corrupt EXIF data.  Expecting to read 4 bytes but only got 0. \n",
            "  warnings.warn(str(msg))\n",
            "Epoch= 10 Loss=0.48038870096206665 Batch_id=119 Accuracy=84.62: 100%|██████████| 120/120 [05:06<00:00,  2.56s/it]\n",
            "  0%|          | 0/52 [00:00<?, ?it/s]/usr/local/lib/python3.6/dist-packages/PIL/Image.py:932: UserWarning: Palette images with Transparency expressed in bytes should be converted to RGBA images\n",
            "  \"Palette images with Transparency expressed in bytes should be \"\n",
            "  8%|▊         | 4/52 [00:13<03:30,  4.38s/it]/usr/local/lib/python3.6/dist-packages/PIL/Image.py:932: UserWarning: Palette images with Transparency expressed in bytes should be converted to RGBA images\n",
            "  \"Palette images with Transparency expressed in bytes should be \"\n",
            " 23%|██▎       | 12/52 [00:33<01:10,  1.75s/it]/usr/local/lib/python3.6/dist-packages/PIL/Image.py:932: UserWarning: Palette images with Transparency expressed in bytes should be converted to RGBA images\n",
            "  \"Palette images with Transparency expressed in bytes should be \"\n",
            " 38%|███▊      | 20/52 [00:57<01:01,  1.92s/it]/usr/local/lib/python3.6/dist-packages/PIL/Image.py:932: UserWarning: Palette images with Transparency expressed in bytes should be converted to RGBA images\n",
            "  \"Palette images with Transparency expressed in bytes should be \"\n",
            "100%|██████████| 52/52 [02:02<00:00,  2.35s/it]\n",
            "  0%|          | 0/120 [00:00<?, ?it/s]"
          ],
          "name": "stderr"
        },
        {
          "output_type": "stream",
          "text": [
            "Test Loss= 0.4207105 Test Accuracy= 82.61733679865463\n",
            "lr=  0.008649755859375\n"
          ],
          "name": "stdout"
        },
        {
          "output_type": "stream",
          "text": [
            "Epoch= 11 Loss=0.4070429801940918 Batch_id=2 Accuracy=85.94:   2%|▎         | 3/120 [00:11<10:22,  5.32s/it]/usr/local/lib/python3.6/dist-packages/PIL/Image.py:932: UserWarning: Palette images with Transparency expressed in bytes should be converted to RGBA images\n",
            "  \"Palette images with Transparency expressed in bytes should be \"\n",
            "Epoch= 11 Loss=0.43096545338630676 Batch_id=9 Accuracy=84.38:   8%|▊         | 10/120 [00:37<06:27,  3.52s/it]/usr/local/lib/python3.6/dist-packages/PIL/Image.py:932: UserWarning: Palette images with Transparency expressed in bytes should be converted to RGBA images\n",
            "  \"Palette images with Transparency expressed in bytes should be \"\n",
            "Epoch= 11 Loss=0.39557719230651855 Batch_id=19 Accuracy=84.38:  17%|█▋        | 20/120 [00:54<02:10,  1.31s/it]/usr/local/lib/python3.6/dist-packages/PIL/Image.py:932: UserWarning: Palette images with Transparency expressed in bytes should be converted to RGBA images\n",
            "  \"Palette images with Transparency expressed in bytes should be \"\n",
            "Epoch= 11 Loss=0.41122937202453613 Batch_id=59 Accuracy=81.25:  50%|█████     | 60/120 [02:42<02:12,  2.21s/it]/usr/local/lib/python3.6/dist-packages/PIL/Image.py:932: UserWarning: Palette images with Transparency expressed in bytes should be converted to RGBA images\n",
            "  \"Palette images with Transparency expressed in bytes should be \"\n",
            "Epoch= 11 Loss=0.47041061520576477 Batch_id=71 Accuracy=82.03:  60%|██████    | 72/120 [03:14<01:31,  1.91s/it]/usr/local/lib/python3.6/dist-packages/PIL/TiffImagePlugin.py:788: UserWarning: Corrupt EXIF data.  Expecting to read 4 bytes but only got 0. \n",
            "  warnings.warn(str(msg))\n",
            "Epoch= 11 Loss=0.6718495488166809 Batch_id=119 Accuracy=65.38: 100%|██████████| 120/120 [05:06<00:00,  2.55s/it]\n",
            "  0%|          | 0/52 [00:00<?, ?it/s]/usr/local/lib/python3.6/dist-packages/PIL/Image.py:932: UserWarning: Palette images with Transparency expressed in bytes should be converted to RGBA images\n",
            "  \"Palette images with Transparency expressed in bytes should be \"\n",
            "  8%|▊         | 4/52 [00:12<03:21,  4.20s/it]/usr/local/lib/python3.6/dist-packages/PIL/Image.py:932: UserWarning: Palette images with Transparency expressed in bytes should be converted to RGBA images\n",
            "  \"Palette images with Transparency expressed in bytes should be \"\n",
            " 31%|███       | 16/52 [00:45<01:05,  1.81s/it]/usr/local/lib/python3.6/dist-packages/PIL/Image.py:932: UserWarning: Palette images with Transparency expressed in bytes should be converted to RGBA images\n",
            "  \"Palette images with Transparency expressed in bytes should be \"\n",
            " 46%|████▌     | 24/52 [00:59<00:28,  1.01s/it]/usr/local/lib/python3.6/dist-packages/PIL/Image.py:932: UserWarning: Palette images with Transparency expressed in bytes should be converted to RGBA images\n",
            "  \"Palette images with Transparency expressed in bytes should be \"\n",
            "100%|██████████| 52/52 [02:00<00:00,  2.32s/it]\n",
            "  0%|          | 0/120 [00:00<?, ?it/s]"
          ],
          "name": "stderr"
        },
        {
          "output_type": "stream",
          "text": [
            "Test Loss= 0.23513158 Test Accuracy= 83.94740865311114\n",
            "lr=  0.0129746337890625\n"
          ],
          "name": "stdout"
        },
        {
          "output_type": "stream",
          "text": [
            "Epoch= 12 Loss=0.5773323178291321 Batch_id=3 Accuracy=78.12:   3%|▎         | 4/120 [00:10<05:55,  3.07s/it]/usr/local/lib/python3.6/dist-packages/PIL/Image.py:932: UserWarning: Palette images with Transparency expressed in bytes should be converted to RGBA images\n",
            "  \"Palette images with Transparency expressed in bytes should be \"\n",
            "Epoch= 12 Loss=0.3642756938934326 Batch_id=18 Accuracy=85.94:  16%|█▌        | 19/120 [00:52<03:39,  2.17s/it]/usr/local/lib/python3.6/dist-packages/PIL/Image.py:932: UserWarning: Palette images with Transparency expressed in bytes should be converted to RGBA images\n",
            "  \"Palette images with Transparency expressed in bytes should be \"\n",
            "Epoch= 12 Loss=0.423256516456604 Batch_id=34 Accuracy=83.59:  29%|██▉       | 35/120 [01:38<02:33,  1.81s/it]/usr/local/lib/python3.6/dist-packages/PIL/Image.py:932: UserWarning: Palette images with Transparency expressed in bytes should be converted to RGBA images\n",
            "  \"Palette images with Transparency expressed in bytes should be \"\n",
            "Epoch= 12 Loss=0.4514686167240143 Batch_id=58 Accuracy=80.47:  49%|████▉     | 59/120 [02:40<01:56,  1.92s/it]/usr/local/lib/python3.6/dist-packages/PIL/Image.py:932: UserWarning: Palette images with Transparency expressed in bytes should be converted to RGBA images\n",
            "  \"Palette images with Transparency expressed in bytes should be \"\n",
            "Epoch= 12 Loss=0.3801299035549164 Batch_id=82 Accuracy=84.38:  69%|██████▉   | 83/120 [03:35<01:00,  1.64s/it]/usr/local/lib/python3.6/dist-packages/PIL/TiffImagePlugin.py:788: UserWarning: Corrupt EXIF data.  Expecting to read 4 bytes but only got 0. \n",
            "  warnings.warn(str(msg))\n",
            "Epoch= 12 Loss=0.7115498781204224 Batch_id=119 Accuracy=80.77: 100%|██████████| 120/120 [05:04<00:00,  2.54s/it]\n",
            "  0%|          | 0/52 [00:00<?, ?it/s]/usr/local/lib/python3.6/dist-packages/PIL/Image.py:932: UserWarning: Palette images with Transparency expressed in bytes should be converted to RGBA images\n",
            "  \"Palette images with Transparency expressed in bytes should be \"\n",
            " 58%|█████▊    | 30/52 [01:21<00:56,  2.55s/it]/usr/local/lib/python3.6/dist-packages/PIL/Image.py:932: UserWarning: Palette images with Transparency expressed in bytes should be converted to RGBA images\n",
            "  \"Palette images with Transparency expressed in bytes should be \"\n",
            "100%|██████████| 52/52 [02:01<00:00,  2.33s/it]\n",
            "  0%|          | 0/120 [00:00<?, ?it/s]"
          ],
          "name": "stderr"
        },
        {
          "output_type": "stream",
          "text": [
            "Test Loss= 0.5589285 Test Accuracy= 83.41232227488152\n",
            "lr=  0.01946195068359375\n"
          ],
          "name": "stdout"
        },
        {
          "output_type": "stream",
          "text": [
            "/usr/local/lib/python3.6/dist-packages/PIL/Image.py:932: UserWarning: Palette images with Transparency expressed in bytes should be converted to RGBA images\n",
            "  \"Palette images with Transparency expressed in bytes should be \"\n",
            "/usr/local/lib/python3.6/dist-packages/PIL/Image.py:932: UserWarning: Palette images with Transparency expressed in bytes should be converted to RGBA images\n",
            "  \"Palette images with Transparency expressed in bytes should be \"\n",
            "/usr/local/lib/python3.6/dist-packages/PIL/Image.py:932: UserWarning: Palette images with Transparency expressed in bytes should be converted to RGBA images\n",
            "  \"Palette images with Transparency expressed in bytes should be \"\n",
            "Epoch= 13 Loss=0.5606040358543396 Batch_id=37 Accuracy=78.91:  32%|███▏      | 38/120 [01:40<02:08,  1.57s/it]/usr/local/lib/python3.6/dist-packages/PIL/Image.py:932: UserWarning: Palette images with Transparency expressed in bytes should be converted to RGBA images\n",
            "  \"Palette images with Transparency expressed in bytes should be \"\n",
            "Epoch= 13 Loss=0.4333726763725281 Batch_id=57 Accuracy=80.47:  48%|████▊     | 58/120 [02:27<01:44,  1.68s/it]/usr/local/lib/python3.6/dist-packages/PIL/TiffImagePlugin.py:788: UserWarning: Corrupt EXIF data.  Expecting to read 4 bytes but only got 0. \n",
            "  warnings.warn(str(msg))\n",
            "Epoch= 13 Loss=0.3601617217063904 Batch_id=119 Accuracy=88.46: 100%|██████████| 120/120 [05:05<00:00,  2.55s/it]\n",
            "  0%|          | 0/52 [00:00<?, ?it/s]/usr/local/lib/python3.6/dist-packages/PIL/Image.py:932: UserWarning: Palette images with Transparency expressed in bytes should be converted to RGBA images\n",
            "  \"Palette images with Transparency expressed in bytes should be \"\n",
            "/usr/local/lib/python3.6/dist-packages/PIL/Image.py:932: UserWarning: Palette images with Transparency expressed in bytes should be converted to RGBA images\n",
            "  \"Palette images with Transparency expressed in bytes should be \"\n",
            " 15%|█▌        | 8/52 [00:24<02:05,  2.86s/it]/usr/local/lib/python3.6/dist-packages/PIL/Image.py:932: UserWarning: Palette images with Transparency expressed in bytes should be converted to RGBA images\n",
            "  \"Palette images with Transparency expressed in bytes should be \"\n",
            "100%|██████████| 52/52 [01:59<00:00,  2.31s/it]\n",
            "  0%|          | 0/120 [00:00<?, ?it/s]"
          ],
          "name": "stderr"
        },
        {
          "output_type": "stream",
          "text": [
            "Test Loss= 0.3295349 Test Accuracy= 82.77021862100597\n",
            "lr=  0.029192926025390625\n"
          ],
          "name": "stdout"
        },
        {
          "output_type": "stream",
          "text": [
            "Epoch= 14 Loss=0.3405960500240326 Batch_id=15 Accuracy=85.94:  13%|█▎        | 16/120 [00:38<02:41,  1.56s/it]/usr/local/lib/python3.6/dist-packages/PIL/Image.py:932: UserWarning: Palette images with Transparency expressed in bytes should be converted to RGBA images\n",
            "  \"Palette images with Transparency expressed in bytes should be \"\n",
            "Epoch= 14 Loss=0.43740785121917725 Batch_id=27 Accuracy=78.12:  23%|██▎       | 28/120 [01:14<03:45,  2.46s/it]/usr/local/lib/python3.6/dist-packages/PIL/Image.py:932: UserWarning: Palette images with Transparency expressed in bytes should be converted to RGBA images\n",
            "  \"Palette images with Transparency expressed in bytes should be \"\n",
            "Epoch= 14 Loss=0.448117733001709 Batch_id=33 Accuracy=85.16:  28%|██▊       | 34/120 [01:28<02:40,  1.87s/it]/usr/local/lib/python3.6/dist-packages/PIL/TiffImagePlugin.py:788: UserWarning: Corrupt EXIF data.  Expecting to read 4 bytes but only got 0. \n",
            "  warnings.warn(str(msg))\n",
            "Epoch= 14 Loss=0.3701278865337372 Batch_id=37 Accuracy=85.16:  32%|███▏      | 38/120 [01:38<02:24,  1.76s/it]/usr/local/lib/python3.6/dist-packages/PIL/Image.py:932: UserWarning: Palette images with Transparency expressed in bytes should be converted to RGBA images\n",
            "  \"Palette images with Transparency expressed in bytes should be \"\n",
            "Epoch= 14 Loss=0.4136336147785187 Batch_id=58 Accuracy=82.81:  49%|████▉     | 59/120 [02:33<02:02,  2.01s/it]/usr/local/lib/python3.6/dist-packages/PIL/Image.py:932: UserWarning: Palette images with Transparency expressed in bytes should be converted to RGBA images\n",
            "  \"Palette images with Transparency expressed in bytes should be \"\n",
            "Epoch= 14 Loss=0.46729305386543274 Batch_id=119 Accuracy=92.31: 100%|██████████| 120/120 [05:04<00:00,  2.54s/it]\n",
            "  0%|          | 0/52 [00:00<?, ?it/s]/usr/local/lib/python3.6/dist-packages/PIL/Image.py:932: UserWarning: Palette images with Transparency expressed in bytes should be converted to RGBA images\n",
            "  \"Palette images with Transparency expressed in bytes should be \"\n",
            "/usr/local/lib/python3.6/dist-packages/PIL/Image.py:932: UserWarning: Palette images with Transparency expressed in bytes should be converted to RGBA images\n",
            "  \"Palette images with Transparency expressed in bytes should be \"\n",
            " 13%|█▎        | 7/52 [00:21<02:02,  2.73s/it]/usr/local/lib/python3.6/dist-packages/PIL/Image.py:932: UserWarning: Palette images with Transparency expressed in bytes should be converted to RGBA images\n",
            "  \"Palette images with Transparency expressed in bytes should be \"\n",
            " 69%|██████▉   | 36/52 [01:28<00:39,  2.49s/it]/usr/local/lib/python3.6/dist-packages/PIL/Image.py:932: UserWarning: Palette images with Transparency expressed in bytes should be converted to RGBA images\n",
            "  \"Palette images with Transparency expressed in bytes should be \"\n",
            "100%|██████████| 52/52 [01:59<00:00,  2.30s/it]\n",
            "  0%|          | 0/120 [00:00<?, ?it/s]"
          ],
          "name": "stderr"
        },
        {
          "output_type": "stream",
          "text": [
            "Test Loss= 0.45849678 Test Accuracy= 81.54716404219538\n",
            "lr=  0.043789389038085935\n"
          ],
          "name": "stdout"
        },
        {
          "output_type": "stream",
          "text": [
            "Epoch= 15 Loss=0.3997590243816376 Batch_id=23 Accuracy=85.94:  20%|██        | 24/120 [01:02<02:32,  1.59s/it]/usr/local/lib/python3.6/dist-packages/PIL/TiffImagePlugin.py:788: UserWarning: Corrupt EXIF data.  Expecting to read 4 bytes but only got 0. \n",
            "  warnings.warn(str(msg))\n",
            "Epoch= 15 Loss=0.3605746328830719 Batch_id=27 Accuracy=85.16:  23%|██▎       | 28/120 [01:11<02:27,  1.61s/it]/usr/local/lib/python3.6/dist-packages/PIL/Image.py:932: UserWarning: Palette images with Transparency expressed in bytes should be converted to RGBA images\n",
            "  \"Palette images with Transparency expressed in bytes should be \"\n",
            "Epoch= 15 Loss=0.6497053503990173 Batch_id=28 Accuracy=81.25:  24%|██▍       | 29/120 [01:16<04:16,  2.81s/it]/usr/local/lib/python3.6/dist-packages/PIL/Image.py:932: UserWarning: Palette images with Transparency expressed in bytes should be converted to RGBA images\n",
            "  \"Palette images with Transparency expressed in bytes should be \"\n",
            "Epoch= 15 Loss=0.4448099732398987 Batch_id=45 Accuracy=81.25:  38%|███▊      | 46/120 [01:56<01:52,  1.52s/it]/usr/local/lib/python3.6/dist-packages/PIL/Image.py:932: UserWarning: Palette images with Transparency expressed in bytes should be converted to RGBA images\n",
            "  \"Palette images with Transparency expressed in bytes should be \"\n",
            "Epoch= 15 Loss=0.40842166543006897 Batch_id=60 Accuracy=84.38:  51%|█████     | 61/120 [02:34<02:27,  2.50s/it]/usr/local/lib/python3.6/dist-packages/PIL/Image.py:932: UserWarning: Palette images with Transparency expressed in bytes should be converted to RGBA images\n",
            "  \"Palette images with Transparency expressed in bytes should be \"\n",
            "Epoch= 15 Loss=0.24081625044345856 Batch_id=119 Accuracy=88.46: 100%|██████████| 120/120 [05:03<00:00,  2.53s/it]\n",
            " 33%|███▎      | 17/52 [00:38<00:50,  1.44s/it]/usr/local/lib/python3.6/dist-packages/PIL/Image.py:932: UserWarning: Palette images with Transparency expressed in bytes should be converted to RGBA images\n",
            "  \"Palette images with Transparency expressed in bytes should be \"\n",
            "/usr/local/lib/python3.6/dist-packages/PIL/Image.py:932: UserWarning: Palette images with Transparency expressed in bytes should be converted to RGBA images\n",
            "  \"Palette images with Transparency expressed in bytes should be \"\n",
            " 79%|███████▉  | 41/52 [01:39<00:15,  1.41s/it]/usr/local/lib/python3.6/dist-packages/PIL/Image.py:932: UserWarning: Palette images with Transparency expressed in bytes should be converted to RGBA images\n",
            "  \"Palette images with Transparency expressed in bytes should be \"\n",
            "100%|██████████| 52/52 [02:01<00:00,  2.34s/it]\n",
            "  0%|          | 0/120 [00:00<?, ?it/s]"
          ],
          "name": "stderr"
        },
        {
          "output_type": "stream",
          "text": [
            "Test Loss= 0.26815444 Test Accuracy= 83.61106864393824\n",
            "lr=  0.0656840835571289\n"
          ],
          "name": "stdout"
        },
        {
          "output_type": "stream",
          "text": [
            "/usr/local/lib/python3.6/dist-packages/PIL/Image.py:932: UserWarning: Palette images with Transparency expressed in bytes should be converted to RGBA images\n",
            "  \"Palette images with Transparency expressed in bytes should be \"\n",
            "Epoch= 16 Loss=0.41312772035598755 Batch_id=18 Accuracy=85.94:  16%|█▌        | 19/120 [00:54<03:46,  2.24s/it]/usr/local/lib/python3.6/dist-packages/PIL/Image.py:932: UserWarning: Palette images with Transparency expressed in bytes should be converted to RGBA images\n",
            "  \"Palette images with Transparency expressed in bytes should be \"\n",
            "Epoch= 16 Loss=0.35574448108673096 Batch_id=23 Accuracy=85.94:  20%|██        | 24/120 [01:04<02:43,  1.70s/it]/usr/local/lib/python3.6/dist-packages/PIL/Image.py:932: UserWarning: Palette images with Transparency expressed in bytes should be converted to RGBA images\n",
            "  \"Palette images with Transparency expressed in bytes should be \"\n",
            "Epoch= 16 Loss=0.3430194556713104 Batch_id=26 Accuracy=87.50:  22%|██▎       | 27/120 [01:15<03:29,  2.25s/it]/usr/local/lib/python3.6/dist-packages/PIL/Image.py:932: UserWarning: Palette images with Transparency expressed in bytes should be converted to RGBA images\n",
            "  \"Palette images with Transparency expressed in bytes should be \"\n",
            "Epoch= 16 Loss=0.37885788083076477 Batch_id=66 Accuracy=86.72:  56%|█████▌    | 67/120 [02:47<01:29,  1.68s/it]/usr/local/lib/python3.6/dist-packages/PIL/TiffImagePlugin.py:788: UserWarning: Corrupt EXIF data.  Expecting to read 4 bytes but only got 0. \n",
            "  warnings.warn(str(msg))\n",
            "Epoch= 16 Loss=0.5339828133583069 Batch_id=119 Accuracy=76.92: 100%|██████████| 120/120 [05:04<00:00,  2.54s/it]\n",
            "  0%|          | 0/52 [00:00<?, ?it/s]/usr/local/lib/python3.6/dist-packages/PIL/Image.py:932: UserWarning: Palette images with Transparency expressed in bytes should be converted to RGBA images\n",
            "  \"Palette images with Transparency expressed in bytes should be \"\n",
            " 31%|███       | 16/52 [00:46<01:47,  3.00s/it]/usr/local/lib/python3.6/dist-packages/PIL/Image.py:932: UserWarning: Palette images with Transparency expressed in bytes should be converted to RGBA images\n",
            "  \"Palette images with Transparency expressed in bytes should be \"\n",
            "100%|██████████| 52/52 [02:01<00:00,  2.34s/it]\n",
            "  0%|          | 0/120 [00:00<?, ?it/s]"
          ],
          "name": "stderr"
        },
        {
          "output_type": "stream",
          "text": [
            "Test Loss= 0.5611869 Test Accuracy= 80.21709218773888\n",
            "lr=  0.09852612533569335\n"
          ],
          "name": "stdout"
        },
        {
          "output_type": "stream",
          "text": [
            "/usr/local/lib/python3.6/dist-packages/PIL/Image.py:932: UserWarning: Palette images with Transparency expressed in bytes should be converted to RGBA images\n",
            "  \"Palette images with Transparency expressed in bytes should be \"\n",
            "Epoch= 17 Loss=0.9276638031005859 Batch_id=7 Accuracy=73.44:   7%|▋         | 8/120 [00:28<05:08,  2.76s/it]/usr/local/lib/python3.6/dist-packages/PIL/Image.py:932: UserWarning: Palette images with Transparency expressed in bytes should be converted to RGBA images\n",
            "  \"Palette images with Transparency expressed in bytes should be \"\n",
            "Epoch= 17 Loss=0.7726505398750305 Batch_id=39 Accuracy=81.25:  33%|███▎      | 40/120 [01:47<01:58,  1.48s/it]/usr/local/lib/python3.6/dist-packages/PIL/Image.py:932: UserWarning: Palette images with Transparency expressed in bytes should be converted to RGBA images\n",
            "  \"Palette images with Transparency expressed in bytes should be \"\n",
            "Epoch= 17 Loss=0.6206672191619873 Batch_id=43 Accuracy=83.59:  37%|███▋      | 44/120 [01:57<02:02,  1.61s/it]/usr/local/lib/python3.6/dist-packages/PIL/Image.py:932: UserWarning: Palette images with Transparency expressed in bytes should be converted to RGBA images\n",
            "  \"Palette images with Transparency expressed in bytes should be \"\n",
            "Epoch= 17 Loss=0.7089429497718811 Batch_id=49 Accuracy=78.91:  42%|████▏     | 50/120 [02:16<02:44,  2.35s/it]/usr/local/lib/python3.6/dist-packages/PIL/TiffImagePlugin.py:788: UserWarning: Corrupt EXIF data.  Expecting to read 4 bytes but only got 0. \n",
            "  warnings.warn(str(msg))\n",
            "Epoch= 17 Loss=2.566985845565796 Batch_id=119 Accuracy=65.38: 100%|██████████| 120/120 [05:07<00:00,  2.56s/it]\n",
            "  0%|          | 0/52 [00:00<?, ?it/s]/usr/local/lib/python3.6/dist-packages/PIL/Image.py:932: UserWarning: Palette images with Transparency expressed in bytes should be converted to RGBA images\n",
            "  \"Palette images with Transparency expressed in bytes should be \"\n",
            "/usr/local/lib/python3.6/dist-packages/PIL/Image.py:932: UserWarning: Palette images with Transparency expressed in bytes should be converted to RGBA images\n",
            "  \"Palette images with Transparency expressed in bytes should be \"\n",
            " 44%|████▍     | 23/52 [00:57<00:40,  1.40s/it]/usr/local/lib/python3.6/dist-packages/PIL/Image.py:932: UserWarning: Palette images with Transparency expressed in bytes should be converted to RGBA images\n",
            "  \"Palette images with Transparency expressed in bytes should be \"\n",
            "100%|██████████| 52/52 [02:01<00:00,  2.34s/it]\n",
            "  0%|          | 0/120 [00:00<?, ?it/s]"
          ],
          "name": "stderr"
        },
        {
          "output_type": "stream",
          "text": [
            "Test Loss= 2.926426 Test Accuracy= 62.71212352851246\n",
            "lr=  0.14778918800354002\n"
          ],
          "name": "stdout"
        },
        {
          "output_type": "stream",
          "text": [
            "/usr/local/lib/python3.6/dist-packages/PIL/Image.py:932: UserWarning: Palette images with Transparency expressed in bytes should be converted to RGBA images\n",
            "  \"Palette images with Transparency expressed in bytes should be \"\n",
            "Epoch= 18 Loss=7.918891906738281 Batch_id=3 Accuracy=22.66:   3%|▎         | 4/120 [00:11<06:30,  3.37s/it]/usr/local/lib/python3.6/dist-packages/PIL/Image.py:932: UserWarning: Palette images with Transparency expressed in bytes should be converted to RGBA images\n",
            "  \"Palette images with Transparency expressed in bytes should be \"\n",
            "/usr/local/lib/python3.6/dist-packages/PIL/Image.py:932: UserWarning: Palette images with Transparency expressed in bytes should be converted to RGBA images\n",
            "  \"Palette images with Transparency expressed in bytes should be \"\n",
            "Epoch= 18 Loss=1742794381066240.0 Batch_id=29 Accuracy=13.28:  25%|██▌       | 30/120 [01:24<04:07,  2.75s/it]/usr/local/lib/python3.6/dist-packages/PIL/Image.py:932: UserWarning: Palette images with Transparency expressed in bytes should be converted to RGBA images\n",
            "  \"Palette images with Transparency expressed in bytes should be \"\n",
            "Epoch= 18 Loss=8.762535800664537e+22 Batch_id=46 Accuracy=22.66:  39%|███▉      | 47/120 [01:59<02:04,  1.71s/it]/usr/local/lib/python3.6/dist-packages/PIL/TiffImagePlugin.py:788: UserWarning: Corrupt EXIF data.  Expecting to read 4 bytes but only got 0. \n",
            "  warnings.warn(str(msg))\n",
            "Epoch= 18 Loss=nan Batch_id=119 Accuracy=26.92: 100%|██████████| 120/120 [05:06<00:00,  2.55s/it]\n",
            "  8%|▊         | 4/52 [00:14<03:31,  4.40s/it]/usr/local/lib/python3.6/dist-packages/PIL/Image.py:932: UserWarning: Palette images with Transparency expressed in bytes should be converted to RGBA images\n",
            "  \"Palette images with Transparency expressed in bytes should be \"\n",
            "/usr/local/lib/python3.6/dist-packages/PIL/Image.py:932: UserWarning: Palette images with Transparency expressed in bytes should be converted to RGBA images\n",
            "  \"Palette images with Transparency expressed in bytes should be \"\n",
            " 38%|███▊      | 20/52 [00:53<00:54,  1.70s/it]/usr/local/lib/python3.6/dist-packages/PIL/Image.py:932: UserWarning: Palette images with Transparency expressed in bytes should be converted to RGBA images\n",
            "  \"Palette images with Transparency expressed in bytes should be \"\n",
            "100%|██████████| 52/52 [02:01<00:00,  2.34s/it]\n",
            "  0%|          | 0/120 [00:00<?, ?it/s]"
          ],
          "name": "stderr"
        },
        {
          "output_type": "stream",
          "text": [
            "Test Loss= nan Test Accuracy= 38.25103195230087\n",
            "lr=  0.22168378200531003\n"
          ],
          "name": "stdout"
        },
        {
          "output_type": "stream",
          "text": [
            "Epoch= 19 Loss=nan Batch_id=1 Accuracy=32.81:   2%|▏         | 2/120 [00:10<13:28,  6.85s/it]/usr/local/lib/python3.6/dist-packages/PIL/Image.py:932: UserWarning: Palette images with Transparency expressed in bytes should be converted to RGBA images\n",
            "  \"Palette images with Transparency expressed in bytes should be \"\n",
            "Epoch= 19 Loss=nan Batch_id=7 Accuracy=35.16:   7%|▋         | 8/120 [00:26<04:41,  2.51s/it]/usr/local/lib/python3.6/dist-packages/PIL/Image.py:932: UserWarning: Palette images with Transparency expressed in bytes should be converted to RGBA images\n",
            "  \"Palette images with Transparency expressed in bytes should be \"\n",
            "Epoch= 19 Loss=nan Batch_id=14 Accuracy=39.06:  12%|█▎        | 15/120 [00:48<05:57,  3.41s/it]/usr/local/lib/python3.6/dist-packages/PIL/Image.py:932: UserWarning: Palette images with Transparency expressed in bytes should be converted to RGBA images\n",
            "  \"Palette images with Transparency expressed in bytes should be \"\n",
            "Epoch= 19 Loss=nan Batch_id=20 Accuracy=39.06:  18%|█▊        | 21/120 [00:56<02:44,  1.66s/it]/usr/local/lib/python3.6/dist-packages/PIL/Image.py:932: UserWarning: Palette images with Transparency expressed in bytes should be converted to RGBA images\n",
            "  \"Palette images with Transparency expressed in bytes should be \"\n",
            "Epoch= 19 Loss=nan Batch_id=21 Accuracy=33.59:  18%|█▊        | 22/120 [00:59<03:07,  1.92s/it]/usr/local/lib/python3.6/dist-packages/PIL/TiffImagePlugin.py:788: UserWarning: Corrupt EXIF data.  Expecting to read 4 bytes but only got 0. \n",
            "  warnings.warn(str(msg))\n",
            "Epoch= 19 Loss=nan Batch_id=119 Accuracy=26.92: 100%|██████████| 120/120 [05:05<00:00,  2.55s/it]\n",
            "  0%|          | 0/52 [00:00<?, ?it/s]/usr/local/lib/python3.6/dist-packages/PIL/Image.py:932: UserWarning: Palette images with Transparency expressed in bytes should be converted to RGBA images\n",
            "  \"Palette images with Transparency expressed in bytes should be \"\n",
            "/usr/local/lib/python3.6/dist-packages/PIL/Image.py:932: UserWarning: Palette images with Transparency expressed in bytes should be converted to RGBA images\n",
            "  \"Palette images with Transparency expressed in bytes should be \"\n",
            " 48%|████▊     | 25/52 [01:02<00:53,  1.97s/it]/usr/local/lib/python3.6/dist-packages/PIL/Image.py:932: UserWarning: Palette images with Transparency expressed in bytes should be converted to RGBA images\n",
            "  \"Palette images with Transparency expressed in bytes should be \"\n",
            "100%|██████████| 52/52 [02:01<00:00,  2.34s/it]\n",
            "  0%|          | 0/120 [00:00<?, ?it/s]"
          ],
          "name": "stderr"
        },
        {
          "output_type": "stream",
          "text": [
            "Test Loss= nan Test Accuracy= 38.25103195230087\n",
            "lr=  0.33252567300796504\n"
          ],
          "name": "stdout"
        },
        {
          "output_type": "stream",
          "text": [
            "/usr/local/lib/python3.6/dist-packages/PIL/Image.py:932: UserWarning: Palette images with Transparency expressed in bytes should be converted to RGBA images\n",
            "  \"Palette images with Transparency expressed in bytes should be \"\n",
            "Epoch= 20 Loss=nan Batch_id=18 Accuracy=37.50:  16%|█▌        | 19/120 [00:53<04:35,  2.72s/it]/usr/local/lib/python3.6/dist-packages/PIL/Image.py:932: UserWarning: Palette images with Transparency expressed in bytes should be converted to RGBA images\n",
            "  \"Palette images with Transparency expressed in bytes should be \"\n",
            "Epoch= 20 Loss=nan Batch_id=45 Accuracy=38.28:  38%|███▊      | 46/120 [02:09<02:29,  2.02s/it]/usr/local/lib/python3.6/dist-packages/PIL/TiffImagePlugin.py:788: UserWarning: Corrupt EXIF data.  Expecting to read 4 bytes but only got 0. \n",
            "  warnings.warn(str(msg))\n",
            "Epoch= 20 Loss=nan Batch_id=46 Accuracy=36.72:  39%|███▉      | 47/120 [02:09<01:56,  1.60s/it]/usr/local/lib/python3.6/dist-packages/PIL/Image.py:932: UserWarning: Palette images with Transparency expressed in bytes should be converted to RGBA images\n",
            "  \"Palette images with Transparency expressed in bytes should be \"\n",
            "Epoch= 20 Loss=nan Batch_id=50 Accuracy=44.53:  42%|████▎     | 51/120 [02:17<01:35,  1.38s/it]/usr/local/lib/python3.6/dist-packages/PIL/Image.py:932: UserWarning: Palette images with Transparency expressed in bytes should be converted to RGBA images\n",
            "  \"Palette images with Transparency expressed in bytes should be \"\n",
            "Epoch= 20 Loss=nan Batch_id=119 Accuracy=42.31: 100%|██████████| 120/120 [05:07<00:00,  2.56s/it]\n",
            "  0%|          | 0/52 [00:00<?, ?it/s]/usr/local/lib/python3.6/dist-packages/PIL/Image.py:932: UserWarning: Palette images with Transparency expressed in bytes should be converted to RGBA images\n",
            "  \"Palette images with Transparency expressed in bytes should be \"\n",
            "  4%|▍         | 2/52 [00:11<06:19,  7.59s/it]/usr/local/lib/python3.6/dist-packages/PIL/Image.py:932: UserWarning: Palette images with Transparency expressed in bytes should be converted to RGBA images\n",
            "  \"Palette images with Transparency expressed in bytes should be \"\n",
            "  8%|▊         | 4/52 [00:15<03:46,  4.73s/it]/usr/local/lib/python3.6/dist-packages/PIL/Image.py:932: UserWarning: Palette images with Transparency expressed in bytes should be converted to RGBA images\n",
            "  \"Palette images with Transparency expressed in bytes should be \"\n",
            "100%|██████████| 52/52 [02:02<00:00,  2.35s/it]\n",
            "  0%|          | 0/120 [00:00<?, ?it/s]"
          ],
          "name": "stderr"
        },
        {
          "output_type": "stream",
          "text": [
            "Test Loss= nan Test Accuracy= 38.25103195230087\n",
            "lr=  0.49878850951194753\n"
          ],
          "name": "stdout"
        },
        {
          "output_type": "stream",
          "text": [
            "/usr/local/lib/python3.6/dist-packages/PIL/Image.py:932: UserWarning: Palette images with Transparency expressed in bytes should be converted to RGBA images\n",
            "  \"Palette images with Transparency expressed in bytes should be \"\n",
            "Epoch= 21 Loss=nan Batch_id=3 Accuracy=37.50:   3%|▎         | 4/120 [00:13<08:14,  4.26s/it]/usr/local/lib/python3.6/dist-packages/PIL/TiffImagePlugin.py:788: UserWarning: Corrupt EXIF data.  Expecting to read 4 bytes but only got 0. \n",
            "  warnings.warn(str(msg))\n",
            "Epoch= 21 Loss=nan Batch_id=7 Accuracy=36.72:   7%|▋         | 8/120 [00:29<06:09,  3.30s/it]/usr/local/lib/python3.6/dist-packages/PIL/Image.py:932: UserWarning: Palette images with Transparency expressed in bytes should be converted to RGBA images\n",
            "  \"Palette images with Transparency expressed in bytes should be \"\n",
            "Epoch= 21 Loss=nan Batch_id=16 Accuracy=39.84:  14%|█▍        | 17/120 [00:49<04:04,  2.38s/it]/usr/local/lib/python3.6/dist-packages/PIL/Image.py:932: UserWarning: Palette images with Transparency expressed in bytes should be converted to RGBA images\n",
            "  \"Palette images with Transparency expressed in bytes should be \"\n",
            "Epoch= 21 Loss=nan Batch_id=36 Accuracy=36.72:  31%|███       | 37/120 [01:41<02:32,  1.83s/it]/usr/local/lib/python3.6/dist-packages/PIL/Image.py:932: UserWarning: Palette images with Transparency expressed in bytes should be converted to RGBA images\n",
            "  \"Palette images with Transparency expressed in bytes should be \"\n",
            "Epoch= 21 Loss=nan Batch_id=119 Accuracy=34.62: 100%|██████████| 120/120 [05:05<00:00,  2.54s/it]\n",
            " 27%|██▋       | 14/52 [00:35<01:10,  1.86s/it]/usr/local/lib/python3.6/dist-packages/PIL/Image.py:932: UserWarning: Palette images with Transparency expressed in bytes should be converted to RGBA images\n",
            "  \"Palette images with Transparency expressed in bytes should be \"\n",
            " 50%|█████     | 26/52 [01:04<01:00,  2.33s/it]/usr/local/lib/python3.6/dist-packages/PIL/Image.py:932: UserWarning: Palette images with Transparency expressed in bytes should be converted to RGBA images\n",
            "  \"Palette images with Transparency expressed in bytes should be \"\n",
            " 77%|███████▋  | 40/52 [01:39<00:31,  2.64s/it]/usr/local/lib/python3.6/dist-packages/PIL/Image.py:932: UserWarning: Palette images with Transparency expressed in bytes should be converted to RGBA images\n",
            "  \"Palette images with Transparency expressed in bytes should be \"\n",
            " 85%|████████▍ | 44/52 [01:46<00:12,  1.58s/it]/usr/local/lib/python3.6/dist-packages/PIL/Image.py:932: UserWarning: Palette images with Transparency expressed in bytes should be converted to RGBA images\n",
            "  \"Palette images with Transparency expressed in bytes should be \"\n",
            "100%|██████████| 52/52 [02:02<00:00,  2.36s/it]\n",
            "  0%|          | 0/120 [00:00<?, ?it/s]"
          ],
          "name": "stderr"
        },
        {
          "output_type": "stream",
          "text": [
            "Test Loss= nan Test Accuracy= 38.25103195230087\n",
            "lr=  0.7481827642679213\n"
          ],
          "name": "stdout"
        },
        {
          "output_type": "stream",
          "text": [
            "Epoch= 22 Loss=nan Batch_id=7 Accuracy=42.19:   7%|▋         | 8/120 [00:29<05:06,  2.74s/it]/usr/local/lib/python3.6/dist-packages/PIL/Image.py:932: UserWarning: Palette images with Transparency expressed in bytes should be converted to RGBA images\n",
            "  \"Palette images with Transparency expressed in bytes should be \"\n",
            "Epoch= 22 Loss=nan Batch_id=14 Accuracy=37.50:  12%|█▎        | 15/120 [00:49<04:38,  2.65s/it]/usr/local/lib/python3.6/dist-packages/PIL/Image.py:932: UserWarning: Palette images with Transparency expressed in bytes should be converted to RGBA images\n",
            "  \"Palette images with Transparency expressed in bytes should be \"\n",
            "Epoch= 22 Loss=nan Batch_id=27 Accuracy=33.59:  23%|██▎       | 28/120 [01:19<02:12,  1.44s/it]/usr/local/lib/python3.6/dist-packages/PIL/Image.py:932: UserWarning: Palette images with Transparency expressed in bytes should be converted to RGBA images\n",
            "  \"Palette images with Transparency expressed in bytes should be \"\n",
            "Epoch= 22 Loss=nan Batch_id=51 Accuracy=40.62:  43%|████▎     | 52/120 [02:26<01:45,  1.55s/it]/usr/local/lib/python3.6/dist-packages/PIL/Image.py:932: UserWarning: Palette images with Transparency expressed in bytes should be converted to RGBA images\n",
            "  \"Palette images with Transparency expressed in bytes should be \"\n",
            "Epoch= 22 Loss=nan Batch_id=71 Accuracy=42.19:  60%|██████    | 72/120 [03:17<01:26,  1.80s/it]/usr/local/lib/python3.6/dist-packages/PIL/TiffImagePlugin.py:788: UserWarning: Corrupt EXIF data.  Expecting to read 4 bytes but only got 0. \n",
            "  warnings.warn(str(msg))\n",
            "Epoch= 22 Loss=nan Batch_id=119 Accuracy=42.31: 100%|██████████| 120/120 [05:04<00:00,  2.54s/it]\n",
            "  0%|          | 0/52 [00:00<?, ?it/s]/usr/local/lib/python3.6/dist-packages/PIL/Image.py:932: UserWarning: Palette images with Transparency expressed in bytes should be converted to RGBA images\n",
            "  \"Palette images with Transparency expressed in bytes should be \"\n",
            "/usr/local/lib/python3.6/dist-packages/PIL/Image.py:932: UserWarning: Palette images with Transparency expressed in bytes should be converted to RGBA images\n",
            "  \"Palette images with Transparency expressed in bytes should be \"\n",
            " 27%|██▋       | 14/52 [00:44<01:47,  2.82s/it]/usr/local/lib/python3.6/dist-packages/PIL/Image.py:932: UserWarning: Palette images with Transparency expressed in bytes should be converted to RGBA images\n",
            "  \"Palette images with Transparency expressed in bytes should be \"\n",
            "100%|██████████| 52/52 [02:02<00:00,  2.36s/it]\n",
            "  0%|          | 0/120 [00:00<?, ?it/s]"
          ],
          "name": "stderr"
        },
        {
          "output_type": "stream",
          "text": [
            "Test Loss= nan Test Accuracy= 38.25103195230087\n",
            "lr=  1.122274146401882\n"
          ],
          "name": "stdout"
        },
        {
          "output_type": "stream",
          "text": [
            "Epoch= 23 Loss=nan Batch_id=3 Accuracy=36.72:   3%|▎         | 4/120 [00:15<07:32,  3.90s/it]/usr/local/lib/python3.6/dist-packages/PIL/Image.py:932: UserWarning: Palette images with Transparency expressed in bytes should be converted to RGBA images\n",
            "  \"Palette images with Transparency expressed in bytes should be \"\n",
            "Epoch= 23 Loss=nan Batch_id=12 Accuracy=35.94:  11%|█         | 13/120 [00:37<03:03,  1.71s/it]/usr/local/lib/python3.6/dist-packages/PIL/Image.py:932: UserWarning: Palette images with Transparency expressed in bytes should be converted to RGBA images\n",
            "  \"Palette images with Transparency expressed in bytes should be \"\n",
            "Epoch= 23 Loss=nan Batch_id=15 Accuracy=35.94:  13%|█▎        | 16/120 [00:46<03:35,  2.07s/it]/usr/local/lib/python3.6/dist-packages/PIL/Image.py:932: UserWarning: Palette images with Transparency expressed in bytes should be converted to RGBA images\n",
            "  \"Palette images with Transparency expressed in bytes should be \"\n",
            "Epoch= 23 Loss=nan Batch_id=20 Accuracy=40.62:  18%|█▊        | 21/120 [00:57<02:47,  1.69s/it]/usr/local/lib/python3.6/dist-packages/PIL/Image.py:932: UserWarning: Palette images with Transparency expressed in bytes should be converted to RGBA images\n",
            "  \"Palette images with Transparency expressed in bytes should be \"\n",
            "Epoch= 23 Loss=nan Batch_id=44 Accuracy=39.84:  38%|███▊      | 45/120 [01:53<02:36,  2.09s/it]/usr/local/lib/python3.6/dist-packages/PIL/TiffImagePlugin.py:788: UserWarning: Corrupt EXIF data.  Expecting to read 4 bytes but only got 0. \n",
            "  warnings.warn(str(msg))\n",
            "Epoch= 23 Loss=nan Batch_id=119 Accuracy=26.92: 100%|██████████| 120/120 [05:02<00:00,  2.52s/it]\n",
            "  0%|          | 0/52 [00:00<?, ?it/s]/usr/local/lib/python3.6/dist-packages/PIL/Image.py:932: UserWarning: Palette images with Transparency expressed in bytes should be converted to RGBA images\n",
            "  \"Palette images with Transparency expressed in bytes should be \"\n",
            "/usr/local/lib/python3.6/dist-packages/PIL/Image.py:932: UserWarning: Palette images with Transparency expressed in bytes should be converted to RGBA images\n",
            "  \"Palette images with Transparency expressed in bytes should be \"\n",
            " 81%|████████  | 42/52 [01:48<00:19,  1.94s/it]/usr/local/lib/python3.6/dist-packages/PIL/Image.py:932: UserWarning: Palette images with Transparency expressed in bytes should be converted to RGBA images\n",
            "  \"Palette images with Transparency expressed in bytes should be \"\n",
            "100%|██████████| 52/52 [02:00<00:00,  2.32s/it]\n",
            "  0%|          | 0/120 [00:00<?, ?it/s]"
          ],
          "name": "stderr"
        },
        {
          "output_type": "stream",
          "text": [
            "Test Loss= nan Test Accuracy= 38.25103195230087\n",
            "lr=  1.683411219602823\n"
          ],
          "name": "stdout"
        },
        {
          "output_type": "stream",
          "text": [
            "Epoch= 24 Loss=nan Batch_id=3 Accuracy=39.84:   3%|▎         | 4/120 [00:14<09:07,  4.72s/it]/usr/local/lib/python3.6/dist-packages/PIL/Image.py:932: UserWarning: Palette images with Transparency expressed in bytes should be converted to RGBA images\n",
            "  \"Palette images with Transparency expressed in bytes should be \"\n",
            "Epoch= 24 Loss=nan Batch_id=7 Accuracy=32.81:   7%|▋         | 8/120 [00:24<04:50,  2.59s/it]/usr/local/lib/python3.6/dist-packages/PIL/Image.py:932: UserWarning: Palette images with Transparency expressed in bytes should be converted to RGBA images\n",
            "  \"Palette images with Transparency expressed in bytes should be \"\n",
            "Epoch= 24 Loss=nan Batch_id=15 Accuracy=41.41:  13%|█▎        | 16/120 [00:49<03:30,  2.03s/it]/usr/local/lib/python3.6/dist-packages/PIL/Image.py:932: UserWarning: Palette images with Transparency expressed in bytes should be converted to RGBA images\n",
            "  \"Palette images with Transparency expressed in bytes should be \"\n",
            "Epoch= 24 Loss=nan Batch_id=30 Accuracy=36.72:  26%|██▌       | 31/120 [01:26<02:58,  2.00s/it]/usr/local/lib/python3.6/dist-packages/PIL/Image.py:932: UserWarning: Palette images with Transparency expressed in bytes should be converted to RGBA images\n",
            "  \"Palette images with Transparency expressed in bytes should be \"\n",
            "/usr/local/lib/python3.6/dist-packages/PIL/TiffImagePlugin.py:788: UserWarning: Corrupt EXIF data.  Expecting to read 4 bytes but only got 0. \n",
            "  warnings.warn(str(msg))\n",
            "Epoch= 24 Loss=nan Batch_id=119 Accuracy=42.31: 100%|██████████| 120/120 [05:05<00:00,  2.55s/it]\n",
            " 12%|█▏        | 6/52 [00:17<01:59,  2.59s/it]/usr/local/lib/python3.6/dist-packages/PIL/Image.py:932: UserWarning: Palette images with Transparency expressed in bytes should be converted to RGBA images\n",
            "  \"Palette images with Transparency expressed in bytes should be \"\n",
            " 15%|█▌        | 8/52 [00:24<02:00,  2.75s/it]/usr/local/lib/python3.6/dist-packages/PIL/Image.py:932: UserWarning: Palette images with Transparency expressed in bytes should be converted to RGBA images\n",
            "  \"Palette images with Transparency expressed in bytes should be \"\n",
            " 46%|████▌     | 24/52 [01:01<00:35,  1.28s/it]/usr/local/lib/python3.6/dist-packages/PIL/Image.py:932: UserWarning: Palette images with Transparency expressed in bytes should be converted to RGBA images\n",
            "  \"Palette images with Transparency expressed in bytes should be \"\n",
            "100%|██████████| 52/52 [02:01<00:00,  2.34s/it]"
          ],
          "name": "stderr"
        },
        {
          "output_type": "stream",
          "text": [
            "Test Loss= nan Test Accuracy= 38.25103195230087\n",
            "Finished Training\n"
          ],
          "name": "stdout"
        },
        {
          "output_type": "stream",
          "text": [
            "\n"
          ],
          "name": "stderr"
        }
      ]
    },
    {
      "cell_type": "markdown",
      "metadata": {
        "id": "vM3bhddS7KqU",
        "colab_type": "text"
      },
      "source": [
        "#Accuracy vs LR plot"
      ]
    },
    {
      "cell_type": "code",
      "metadata": {
        "id": "6Gao1AZr50jU",
        "colab_type": "code",
        "colab": {
          "base_uri": "https://localhost:8080/",
          "height": 182
        },
        "outputId": "a0659a6b-bbcd-4be0-e937-f90330c013c5"
      },
      "source": [
        "import matplotlib.pyplot as plt\n",
        "fig = plt.figure()\n",
        "ax = fig.add_subplot(2, 1, 1)\n",
        "line, = ax.plot(lr_, test_acc)\n",
        "ax.set_xscale('log')\n",
        "ax.set_xlabel(\"Learning rate\")\n",
        "ax.set_ylabel(\"Accuracy\")"
      ],
      "execution_count": 15,
      "outputs": [
        {
          "output_type": "execute_result",
          "data": {
            "text/plain": [
              "Text(0, 0.5, 'Accuracy')"
            ]
          },
          "metadata": {
            "tags": []
          },
          "execution_count": 15
        },
        {
          "output_type": "display_data",
          "data": {
            "image/png": "[encoded data removed]",
            "text/plain": [
              "<Figure size 432x288 with 1 Axes>"
            ]
          },
          "metadata": {
            "tags": [],
            "needs_background": "light"
          }
        }
      ]
    },
    {
      "cell_type": "markdown",
      "metadata": {
        "id": "vHXOkB6g194j",
        "colab_type": "text"
      },
      "source": [
        "#Training the classifier with maxlr obtained above"
      ]
    },
    {
      "cell_type": "code",
      "metadata": {
        "id": "X5MHwjHv1cxN",
        "colab_type": "code",
        "colab": {}
      },
      "source": [
        "import torch.optim as optim\n",
        "criterion = nn.CrossEntropyLoss()\n",
        "optimizer = optim.SGD(net.parameters(), lr=0.001, momentum=0.9, weight_decay=0.0025)\n",
        "scheduler = torch.optim.lr_scheduler.CyclicLR(optimizer, base_lr=0.001, max_lr=0.019, step_size_up=5, step_size_down=20, mode='triangular2')"
      ],
      "execution_count": 10,
      "outputs": []
    },
    {
      "cell_type": "code",
      "metadata": {
        "id": "IuEuC2df2BTX",
        "colab_type": "code",
        "colab": {
          "base_uri": "https://localhost:8080/",
          "height": 1000
        },
        "outputId": "b54e322a-9dcb-43e2-e576-8e9b2d93478d"
      },
      "source": [
        "import torch\n",
        "from tqdm import tqdm\n",
        "from Train_Test_utils.traine import train\n",
        "from Train_Test_utils.teste import test\n",
        "test_acc = []\n",
        "train_acc = []\n",
        "trainloss_ = []\n",
        "testloss_ = []\n",
        "lr_ = []\n",
        "loss=1000\n",
        "loss1= 1000\n",
        "prev_loss1=1000\n",
        "nn.Dropout2d\n",
        "for epoch in range(50):  # loop over the dataset multiple times\n",
        "    for param_group in optimizer.param_groups:\n",
        "      print(\"lr= \",param_group['lr'])\n",
        "      lr_.append(param_group['lr'])\n",
        "    trainacc, loss = train(net, device, trainloader, optimizer, criterion, epoch)\n",
        "    train_acc.append(trainacc)\n",
        "    testacc, loss1 = test(net, device, testloader, criterion)\n",
        "    test_acc.append(testacc)\n",
        "    trainloss_.append(loss)\n",
        "    testloss_.append(loss1)\n",
        "    scheduler.step()\n",
        "print('Finished Training')"
      ],
      "execution_count": 11,
      "outputs": [
        {
          "output_type": "stream",
          "text": [
            "\r  0%|          | 0/120 [00:00<?, ?it/s]"
          ],
          "name": "stderr"
        },
        {
          "output_type": "stream",
          "text": [
            "lr=  0.001\n"
          ],
          "name": "stdout"
        },
        {
          "output_type": "stream",
          "text": [
            "/usr/local/lib/python3.6/dist-packages/PIL/Image.py:932: UserWarning: Palette images with Transparency expressed in bytes should be converted to RGBA images\n",
            "  \"Palette images with Transparency expressed in bytes should be \"\n",
            "Epoch= 0 Loss=1.3609709739685059 Batch_id=12 Accuracy=39.84:  11%|█         | 13/120 [00:32<02:24,  1.35s/it]/usr/local/lib/python3.6/dist-packages/PIL/Image.py:932: UserWarning: Palette images with Transparency expressed in bytes should be converted to RGBA images\n",
            "  \"Palette images with Transparency expressed in bytes should be \"\n",
            "Epoch= 0 Loss=1.3194009065628052 Batch_id=16 Accuracy=41.41:  14%|█▍        | 17/120 [00:41<02:18,  1.35s/it]/usr/local/lib/python3.6/dist-packages/PIL/Image.py:932: UserWarning: Palette images with Transparency expressed in bytes should be converted to RGBA images\n",
            "  \"Palette images with Transparency expressed in bytes should be \"\n",
            "Epoch= 0 Loss=1.3156846761703491 Batch_id=20 Accuracy=38.28:  18%|█▊        | 21/120 [00:50<02:10,  1.32s/it]/usr/local/lib/python3.6/dist-packages/PIL/Image.py:932: UserWarning: Palette images with Transparency expressed in bytes should be converted to RGBA images\n",
            "  \"Palette images with Transparency expressed in bytes should be \"\n",
            "Epoch= 0 Loss=0.9875904321670532 Batch_id=97 Accuracy=64.06:  82%|████████▏ | 98/120 [04:01<00:46,  2.10s/it]/usr/local/lib/python3.6/dist-packages/PIL/TiffImagePlugin.py:788: UserWarning: Corrupt EXIF data.  Expecting to read 4 bytes but only got 0. \n",
            "  warnings.warn(str(msg))\n",
            "Epoch= 0 Loss=0.8338404297828674 Batch_id=119 Accuracy=61.54: 100%|██████████| 120/120 [04:50<00:00,  2.42s/it]\n",
            "  0%|          | 0/52 [00:00<?, ?it/s]/usr/local/lib/python3.6/dist-packages/PIL/Image.py:932: UserWarning: Palette images with Transparency expressed in bytes should be converted to RGBA images\n",
            "  \"Palette images with Transparency expressed in bytes should be \"\n",
            " 23%|██▎       | 12/52 [00:25<01:23,  2.09s/it]/usr/local/lib/python3.6/dist-packages/PIL/Image.py:932: UserWarning: Palette images with Transparency expressed in bytes should be converted to RGBA images\n",
            "  \"Palette images with Transparency expressed in bytes should be \"\n",
            " 44%|████▍     | 23/52 [00:59<01:20,  2.78s/it]/usr/local/lib/python3.6/dist-packages/PIL/Image.py:932: UserWarning: Palette images with Transparency expressed in bytes should be converted to RGBA images\n",
            "  \"Palette images with Transparency expressed in bytes should be \"\n",
            " 52%|█████▏    | 27/52 [01:09<01:00,  2.42s/it]/usr/local/lib/python3.6/dist-packages/PIL/Image.py:932: UserWarning: Palette images with Transparency expressed in bytes should be converted to RGBA images\n",
            "  \"Palette images with Transparency expressed in bytes should be \"\n",
            "100%|██████████| 52/52 [01:57<00:00,  2.26s/it]\n",
            "  0%|          | 0/120 [00:00<?, ?it/s]"
          ],
          "name": "stderr"
        },
        {
          "output_type": "stream",
          "text": [
            "Test Loss= 0.67425984 Test Accuracy= 69.80584008561382\n",
            "lr=  0.004600000000000003\n"
          ],
          "name": "stdout"
        },
        {
          "output_type": "stream",
          "text": [
            "Epoch= 1 Loss=0.9215365052223206 Batch_id=0 Accuracy=62.50:   1%|          | 1/120 [00:06<12:02,  6.07s/it]/usr/local/lib/python3.6/dist-packages/PIL/Image.py:932: UserWarning: Palette images with Transparency expressed in bytes should be converted to RGBA images\n",
            "  \"Palette images with Transparency expressed in bytes should be \"\n",
            "/usr/local/lib/python3.6/dist-packages/PIL/Image.py:932: UserWarning: Palette images with Transparency expressed in bytes should be converted to RGBA images\n",
            "  \"Palette images with Transparency expressed in bytes should be \"\n",
            "Epoch= 1 Loss=0.6468055844306946 Batch_id=22 Accuracy=73.44:  19%|█▉        | 23/120 [00:56<03:00,  1.86s/it]/usr/local/lib/python3.6/dist-packages/PIL/Image.py:932: UserWarning: Palette images with Transparency expressed in bytes should be converted to RGBA images\n",
            "  \"Palette images with Transparency expressed in bytes should be \"\n",
            "/usr/local/lib/python3.6/dist-packages/PIL/Image.py:932: UserWarning: Palette images with Transparency expressed in bytes should be converted to RGBA images\n",
            "  \"Palette images with Transparency expressed in bytes should be \"\n",
            "Epoch= 1 Loss=0.6253947615623474 Batch_id=110 Accuracy=76.56:  92%|█████████▎| 111/120 [04:40<00:14,  1.62s/it]/usr/local/lib/python3.6/dist-packages/PIL/TiffImagePlugin.py:788: UserWarning: Corrupt EXIF data.  Expecting to read 4 bytes but only got 0. \n",
            "  warnings.warn(str(msg))\n",
            "Epoch= 1 Loss=0.3321828842163086 Batch_id=119 Accuracy=84.62: 100%|██████████| 120/120 [04:51<00:00,  2.43s/it]\n",
            "  0%|          | 0/52 [00:00<?, ?it/s]/usr/local/lib/python3.6/dist-packages/PIL/Image.py:932: UserWarning: Palette images with Transparency expressed in bytes should be converted to RGBA images\n",
            "  \"Palette images with Transparency expressed in bytes should be \"\n",
            "  8%|▊         | 4/52 [00:10<04:03,  5.06s/it]/usr/local/lib/python3.6/dist-packages/PIL/Image.py:932: UserWarning: Palette images with Transparency expressed in bytes should be converted to RGBA images\n",
            "  \"Palette images with Transparency expressed in bytes should be \"\n",
            " 31%|███       | 16/52 [00:36<01:22,  2.29s/it]/usr/local/lib/python3.6/dist-packages/PIL/Image.py:932: UserWarning: Palette images with Transparency expressed in bytes should be converted to RGBA images\n",
            "  \"Palette images with Transparency expressed in bytes should be \"\n",
            " 67%|██████▋   | 35/52 [01:21<00:30,  1.78s/it]/usr/local/lib/python3.6/dist-packages/PIL/Image.py:932: UserWarning: Palette images with Transparency expressed in bytes should be converted to RGBA images\n",
            "  \"Palette images with Transparency expressed in bytes should be \"\n",
            "100%|██████████| 52/52 [01:57<00:00,  2.27s/it]\n",
            "  0%|          | 0/120 [00:00<?, ?it/s]"
          ],
          "name": "stderr"
        },
        {
          "output_type": "stream",
          "text": [
            "Test Loss= 0.62802 Test Accuracy= 80.79804311267391\n",
            "lr=  0.008200000000000006\n"
          ],
          "name": "stdout"
        },
        {
          "output_type": "stream",
          "text": [
            "/usr/local/lib/python3.6/dist-packages/PIL/Image.py:932: UserWarning: Palette images with Transparency expressed in bytes should be converted to RGBA images\n",
            "  \"Palette images with Transparency expressed in bytes should be \"\n",
            "Epoch= 2 Loss=0.5480962991714478 Batch_id=11 Accuracy=75.78:  10%|█         | 12/120 [00:32<03:29,  1.94s/it]/usr/local/lib/python3.6/dist-packages/PIL/Image.py:932: UserWarning: Palette images with Transparency expressed in bytes should be converted to RGBA images\n",
            "  \"Palette images with Transparency expressed in bytes should be \"\n",
            "Epoch= 2 Loss=0.49276548624038696 Batch_id=13 Accuracy=82.03:  12%|█▏        | 14/120 [00:39<04:10,  2.37s/it]/usr/local/lib/python3.6/dist-packages/PIL/Image.py:932: UserWarning: Palette images with Transparency expressed in bytes should be converted to RGBA images\n",
            "  \"Palette images with Transparency expressed in bytes should be \"\n",
            "Epoch= 2 Loss=0.4031776487827301 Batch_id=34 Accuracy=81.25:  29%|██▉       | 35/120 [01:36<02:30,  1.76s/it]/usr/local/lib/python3.6/dist-packages/PIL/Image.py:932: UserWarning: Palette images with Transparency expressed in bytes should be converted to RGBA images\n",
            "  \"Palette images with Transparency expressed in bytes should be \"\n",
            "Epoch= 2 Loss=0.4461475908756256 Batch_id=46 Accuracy=84.38:  39%|███▉      | 47/120 [02:05<01:38,  1.34s/it]/usr/local/lib/python3.6/dist-packages/PIL/TiffImagePlugin.py:788: UserWarning: Corrupt EXIF data.  Expecting to read 4 bytes but only got 0. \n",
            "  warnings.warn(str(msg))\n",
            "Epoch= 2 Loss=0.7211863994598389 Batch_id=119 Accuracy=73.08: 100%|██████████| 120/120 [04:52<00:00,  2.44s/it]\n",
            "  6%|▌         | 3/52 [00:09<03:38,  4.47s/it]/usr/local/lib/python3.6/dist-packages/PIL/Image.py:932: UserWarning: Palette images with Transparency expressed in bytes should be converted to RGBA images\n",
            "  \"Palette images with Transparency expressed in bytes should be \"\n",
            " 13%|█▎        | 7/52 [00:21<02:44,  3.65s/it]/usr/local/lib/python3.6/dist-packages/PIL/Image.py:932: UserWarning: Palette images with Transparency expressed in bytes should be converted to RGBA images\n",
            "  \"Palette images with Transparency expressed in bytes should be \"\n",
            " 19%|█▉        | 10/52 [00:26<01:44,  2.48s/it]/usr/local/lib/python3.6/dist-packages/PIL/Image.py:932: UserWarning: Palette images with Transparency expressed in bytes should be converted to RGBA images\n",
            "  \"Palette images with Transparency expressed in bytes should be \"\n",
            "100%|██████████| 52/52 [02:00<00:00,  2.31s/it]\n",
            "  0%|          | 0/120 [00:00<?, ?it/s]"
          ],
          "name": "stderr"
        },
        {
          "output_type": "stream",
          "text": [
            "Test Loss= 0.6085486 Test Accuracy= 82.89252407888702\n",
            "lr=  0.011800000000000008\n"
          ],
          "name": "stdout"
        },
        {
          "output_type": "stream",
          "text": [
            "/usr/local/lib/python3.6/dist-packages/PIL/Image.py:932: UserWarning: Palette images with Transparency expressed in bytes should be converted to RGBA images\n",
            "  \"Palette images with Transparency expressed in bytes should be \"\n",
            "/usr/local/lib/python3.6/dist-packages/PIL/Image.py:932: UserWarning: Palette images with Transparency expressed in bytes should be converted to RGBA images\n",
            "  \"Palette images with Transparency expressed in bytes should be \"\n",
            "Epoch= 3 Loss=0.4064115881919861 Batch_id=7 Accuracy=82.81:   7%|▋         | 8/120 [00:22<03:53,  2.08s/it]/usr/local/lib/python3.6/dist-packages/PIL/Image.py:932: UserWarning: Palette images with Transparency expressed in bytes should be converted to RGBA images\n",
            "  \"Palette images with Transparency expressed in bytes should be \"\n",
            "Epoch= 3 Loss=0.3384590446949005 Batch_id=11 Accuracy=85.94:  10%|█         | 12/120 [00:36<03:36,  2.01s/it]/usr/local/lib/python3.6/dist-packages/PIL/Image.py:932: UserWarning: Palette images with Transparency expressed in bytes should be converted to RGBA images\n",
            "  \"Palette images with Transparency expressed in bytes should be \"\n",
            "Epoch= 3 Loss=0.43288812041282654 Batch_id=87 Accuracy=83.59:  73%|███████▎  | 88/120 [03:40<00:56,  1.75s/it]/usr/local/lib/python3.6/dist-packages/PIL/TiffImagePlugin.py:788: UserWarning: Corrupt EXIF data.  Expecting to read 4 bytes but only got 0. \n",
            "  warnings.warn(str(msg))\n",
            "Epoch= 3 Loss=0.2887248992919922 Batch_id=119 Accuracy=92.31: 100%|██████████| 120/120 [04:50<00:00,  2.42s/it]\n",
            "  0%|          | 0/52 [00:00<?, ?it/s]/usr/local/lib/python3.6/dist-packages/PIL/Image.py:932: UserWarning: Palette images with Transparency expressed in bytes should be converted to RGBA images\n",
            "  \"Palette images with Transparency expressed in bytes should be \"\n",
            "  6%|▌         | 3/52 [00:10<06:02,  7.41s/it]/usr/local/lib/python3.6/dist-packages/PIL/Image.py:932: UserWarning: Palette images with Transparency expressed in bytes should be converted to RGBA images\n",
            "  \"Palette images with Transparency expressed in bytes should be \"\n",
            " 13%|█▎        | 7/52 [00:19<03:26,  4.59s/it]/usr/local/lib/python3.6/dist-packages/PIL/Image.py:932: UserWarning: Palette images with Transparency expressed in bytes should be converted to RGBA images\n",
            "  \"Palette images with Transparency expressed in bytes should be \"\n",
            "100%|██████████| 52/52 [01:57<00:00,  2.26s/it]\n",
            "  0%|          | 0/120 [00:00<?, ?it/s]"
          ],
          "name": "stderr"
        },
        {
          "output_type": "stream",
          "text": [
            "Test Loss= 0.43405193 Test Accuracy= 81.97523314477908\n",
            "lr=  0.01539999999999999\n"
          ],
          "name": "stdout"
        },
        {
          "output_type": "stream",
          "text": [
            "/usr/local/lib/python3.6/dist-packages/PIL/Image.py:932: UserWarning: Palette images with Transparency expressed in bytes should be converted to RGBA images\n",
            "  \"Palette images with Transparency expressed in bytes should be \"\n",
            "Epoch= 4 Loss=0.3362886309623718 Batch_id=3 Accuracy=88.28:   3%|▎         | 4/120 [00:14<09:23,  4.86s/it]/usr/local/lib/python3.6/dist-packages/PIL/Image.py:932: UserWarning: Palette images with Transparency expressed in bytes should be converted to RGBA images\n",
            "  \"Palette images with Transparency expressed in bytes should be \"\n",
            "Epoch= 4 Loss=0.35834792256355286 Batch_id=7 Accuracy=86.72:   7%|▋         | 8/120 [00:26<05:20,  2.86s/it]/usr/local/lib/python3.6/dist-packages/PIL/Image.py:932: UserWarning: Palette images with Transparency expressed in bytes should be converted to RGBA images\n",
            "  \"Palette images with Transparency expressed in bytes should be \"\n",
            "Epoch= 4 Loss=0.42650938034057617 Batch_id=23 Accuracy=82.81:  20%|██        | 24/120 [01:06<03:16,  2.05s/it]/usr/local/lib/python3.6/dist-packages/PIL/Image.py:932: UserWarning: Palette images with Transparency expressed in bytes should be converted to RGBA images\n",
            "  \"Palette images with Transparency expressed in bytes should be \"\n",
            "Epoch= 4 Loss=0.4075593948364258 Batch_id=30 Accuracy=85.94:  26%|██▌       | 31/120 [01:22<02:07,  1.44s/it]/usr/local/lib/python3.6/dist-packages/PIL/TiffImagePlugin.py:788: UserWarning: Corrupt EXIF data.  Expecting to read 4 bytes but only got 0. \n",
            "  warnings.warn(str(msg))\n",
            "Epoch= 4 Loss=0.6093990802764893 Batch_id=119 Accuracy=84.62: 100%|██████████| 120/120 [04:52<00:00,  2.43s/it]\n",
            " 31%|███       | 16/52 [00:43<02:05,  3.49s/it]/usr/local/lib/python3.6/dist-packages/PIL/Image.py:932: UserWarning: Palette images with Transparency expressed in bytes should be converted to RGBA images\n",
            "  \"Palette images with Transparency expressed in bytes should be \"\n",
            " 46%|████▌     | 24/52 [01:00<01:00,  2.14s/it]/usr/local/lib/python3.6/dist-packages/PIL/Image.py:932: UserWarning: Palette images with Transparency expressed in bytes should be converted to RGBA images\n",
            "  \"Palette images with Transparency expressed in bytes should be \"\n",
            " 62%|██████▏   | 32/52 [01:17<00:35,  1.79s/it]/usr/local/lib/python3.6/dist-packages/PIL/Image.py:932: UserWarning: Palette images with Transparency expressed in bytes should be converted to RGBA images\n",
            "  \"Palette images with Transparency expressed in bytes should be \"\n",
            " 77%|███████▋  | 40/52 [01:37<00:38,  3.19s/it]/usr/local/lib/python3.6/dist-packages/PIL/Image.py:932: UserWarning: Palette images with Transparency expressed in bytes should be converted to RGBA images\n",
            "  \"Palette images with Transparency expressed in bytes should be \"\n",
            "100%|██████████| 52/52 [01:58<00:00,  2.28s/it]\n",
            "  0%|          | 0/120 [00:00<?, ?it/s]"
          ],
          "name": "stderr"
        },
        {
          "output_type": "stream",
          "text": [
            "Test Loss= 0.30753165 Test Accuracy= 82.8313713499465\n",
            "lr=  0.018999999999999996\n"
          ],
          "name": "stdout"
        },
        {
          "output_type": "stream",
          "text": [
            "Epoch= 5 Loss=0.41113781929016113 Batch_id=0 Accuracy=82.03:   1%|          | 1/120 [00:07<14:49,  7.47s/it]/usr/local/lib/python3.6/dist-packages/PIL/Image.py:932: UserWarning: Palette images with Transparency expressed in bytes should be converted to RGBA images\n",
            "  \"Palette images with Transparency expressed in bytes should be \"\n",
            "/usr/local/lib/python3.6/dist-packages/PIL/Image.py:932: UserWarning: Palette images with Transparency expressed in bytes should be converted to RGBA images\n",
            "  \"Palette images with Transparency expressed in bytes should be \"\n",
            "Epoch= 5 Loss=0.4422825574874878 Batch_id=7 Accuracy=80.47:   7%|▋         | 8/120 [00:18<03:06,  1.67s/it]/usr/local/lib/python3.6/dist-packages/PIL/Image.py:932: UserWarning: Palette images with Transparency expressed in bytes should be converted to RGBA images\n",
            "  \"Palette images with Transparency expressed in bytes should be \"\n",
            "/usr/local/lib/python3.6/dist-packages/PIL/Image.py:932: UserWarning: Palette images with Transparency expressed in bytes should be converted to RGBA images\n",
            "  \"Palette images with Transparency expressed in bytes should be \"\n",
            "Epoch= 5 Loss=0.37507694959640503 Batch_id=84 Accuracy=85.94:  71%|███████   | 85/120 [03:35<01:02,  1.77s/it]/usr/local/lib/python3.6/dist-packages/PIL/TiffImagePlugin.py:788: UserWarning: Corrupt EXIF data.  Expecting to read 4 bytes but only got 0. \n",
            "  warnings.warn(str(msg))\n",
            "Epoch= 5 Loss=0.49827826023101807 Batch_id=119 Accuracy=76.92: 100%|██████████| 120/120 [04:52<00:00,  2.44s/it]\n",
            "  2%|▏         | 1/52 [00:09<07:45,  9.13s/it]/usr/local/lib/python3.6/dist-packages/PIL/Image.py:932: UserWarning: Palette images with Transparency expressed in bytes should be converted to RGBA images\n",
            "  \"Palette images with Transparency expressed in bytes should be \"\n",
            " 17%|█▋        | 9/52 [00:24<02:32,  3.54s/it]/usr/local/lib/python3.6/dist-packages/PIL/Image.py:932: UserWarning: Palette images with Transparency expressed in bytes should be converted to RGBA images\n",
            "  \"Palette images with Transparency expressed in bytes should be \"\n",
            " 38%|███▊      | 20/52 [00:52<01:14,  2.34s/it]/usr/local/lib/python3.6/dist-packages/PIL/Image.py:932: UserWarning: Palette images with Transparency expressed in bytes should be converted to RGBA images\n",
            "  \"Palette images with Transparency expressed in bytes should be \"\n",
            "100%|██████████| 52/52 [01:59<00:00,  2.29s/it]\n",
            "  0%|          | 0/120 [00:00<?, ?it/s]"
          ],
          "name": "stderr"
        },
        {
          "output_type": "stream",
          "text": [
            "Test Loss= 0.54773265 Test Accuracy= 83.50405136829231\n",
            "lr=  0.018099999999999998\n"
          ],
          "name": "stdout"
        },
        {
          "output_type": "stream",
          "text": [
            "Epoch= 6 Loss=0.39483505487442017 Batch_id=8 Accuracy=86.72:   8%|▊         | 9/120 [00:26<03:18,  1.79s/it]/usr/local/lib/python3.6/dist-packages/PIL/Image.py:932: UserWarning: Palette images with Transparency expressed in bytes should be converted to RGBA images\n",
            "  \"Palette images with Transparency expressed in bytes should be \"\n",
            "/usr/local/lib/python3.6/dist-packages/PIL/Image.py:932: UserWarning: Palette images with Transparency expressed in bytes should be converted to RGBA images\n",
            "  \"Palette images with Transparency expressed in bytes should be \"\n",
            "Epoch= 6 Loss=0.35872822999954224 Batch_id=16 Accuracy=89.06:  14%|█▍        | 17/120 [00:43<02:06,  1.23s/it]/usr/local/lib/python3.6/dist-packages/PIL/Image.py:932: UserWarning: Palette images with Transparency expressed in bytes should be converted to RGBA images\n",
            "  \"Palette images with Transparency expressed in bytes should be \"\n",
            "Epoch= 6 Loss=0.5019823908805847 Batch_id=24 Accuracy=82.81:  21%|██        | 25/120 [01:04<02:02,  1.29s/it]/usr/local/lib/python3.6/dist-packages/PIL/Image.py:932: UserWarning: Palette images with Transparency expressed in bytes should be converted to RGBA images\n",
            "  \"Palette images with Transparency expressed in bytes should be \"\n",
            "Epoch= 6 Loss=0.43146196007728577 Batch_id=82 Accuracy=83.59:  69%|██████▉   | 83/120 [03:26<00:59,  1.60s/it]/usr/local/lib/python3.6/dist-packages/PIL/TiffImagePlugin.py:788: UserWarning: Corrupt EXIF data.  Expecting to read 4 bytes but only got 0. \n",
            "  warnings.warn(str(msg))\n",
            "Epoch= 6 Loss=0.3525555729866028 Batch_id=119 Accuracy=84.62: 100%|██████████| 120/120 [04:52<00:00,  2.43s/it]\n",
            "  0%|          | 0/52 [00:00<?, ?it/s]/usr/local/lib/python3.6/dist-packages/PIL/Image.py:932: UserWarning: Palette images with Transparency expressed in bytes should be converted to RGBA images\n",
            "  \"Palette images with Transparency expressed in bytes should be \"\n",
            " 31%|███       | 16/52 [00:45<01:28,  2.47s/it]/usr/local/lib/python3.6/dist-packages/PIL/Image.py:932: UserWarning: Palette images with Transparency expressed in bytes should be converted to RGBA images\n",
            "  \"Palette images with Transparency expressed in bytes should be \"\n",
            " 46%|████▌     | 24/52 [01:05<01:03,  2.28s/it]/usr/local/lib/python3.6/dist-packages/PIL/Image.py:932: UserWarning: Palette images with Transparency expressed in bytes should be converted to RGBA images\n",
            "  \"Palette images with Transparency expressed in bytes should be \"\n",
            " 62%|██████▏   | 32/52 [01:27<00:47,  2.37s/it]/usr/local/lib/python3.6/dist-packages/PIL/Image.py:932: UserWarning: Palette images with Transparency expressed in bytes should be converted to RGBA images\n",
            "  \"Palette images with Transparency expressed in bytes should be \"\n",
            "100%|██████████| 52/52 [01:58<00:00,  2.28s/it]\n",
            "  0%|          | 0/120 [00:00<?, ?it/s]"
          ],
          "name": "stderr"
        },
        {
          "output_type": "stream",
          "text": [
            "Test Loss= 0.67410475 Test Accuracy= 83.09127044794374\n",
            "lr=  0.017199999999999997\n"
          ],
          "name": "stdout"
        },
        {
          "output_type": "stream",
          "text": [
            "Epoch= 7 Loss=0.35463762283325195 Batch_id=3 Accuracy=85.16:   3%|▎         | 4/120 [00:16<09:24,  4.86s/it]/usr/local/lib/python3.6/dist-packages/PIL/Image.py:932: UserWarning: Palette images with Transparency expressed in bytes should be converted to RGBA images\n",
            "  \"Palette images with Transparency expressed in bytes should be \"\n",
            "Epoch= 7 Loss=0.30652981996536255 Batch_id=15 Accuracy=88.28:  13%|█▎        | 16/120 [00:43<02:45,  1.59s/it]/usr/local/lib/python3.6/dist-packages/PIL/Image.py:932: UserWarning: Palette images with Transparency expressed in bytes should be converted to RGBA images\n",
            "  \"Palette images with Transparency expressed in bytes should be \"\n",
            "Epoch= 7 Loss=0.3184110224246979 Batch_id=39 Accuracy=89.84:  33%|███▎      | 40/120 [01:45<01:59,  1.49s/it]/usr/local/lib/python3.6/dist-packages/PIL/Image.py:932: UserWarning: Palette images with Transparency expressed in bytes should be converted to RGBA images\n",
            "  \"Palette images with Transparency expressed in bytes should be \"\n",
            "Epoch= 7 Loss=0.39771559834480286 Batch_id=48 Accuracy=84.38:  41%|████      | 49/120 [02:02<01:48,  1.52s/it]/usr/local/lib/python3.6/dist-packages/PIL/Image.py:932: UserWarning: Palette images with Transparency expressed in bytes should be converted to RGBA images\n",
            "  \"Palette images with Transparency expressed in bytes should be \"\n",
            "Epoch= 7 Loss=0.3443296551704407 Batch_id=106 Accuracy=87.50:  89%|████████▉ | 107/120 [04:29<00:38,  2.99s/it]/usr/local/lib/python3.6/dist-packages/PIL/TiffImagePlugin.py:788: UserWarning: Corrupt EXIF data.  Expecting to read 4 bytes but only got 0. \n",
            "  warnings.warn(str(msg))\n",
            "Epoch= 7 Loss=0.4544277787208557 Batch_id=119 Accuracy=84.62: 100%|██████████| 120/120 [04:52<00:00,  2.44s/it]\n",
            "  0%|          | 0/52 [00:00<?, ?it/s]/usr/local/lib/python3.6/dist-packages/PIL/Image.py:932: UserWarning: Palette images with Transparency expressed in bytes should be converted to RGBA images\n",
            "  \"Palette images with Transparency expressed in bytes should be \"\n",
            "/usr/local/lib/python3.6/dist-packages/PIL/Image.py:932: UserWarning: Palette images with Transparency expressed in bytes should be converted to RGBA images\n",
            "  \"Palette images with Transparency expressed in bytes should be \"\n",
            "  2%|▏         | 1/52 [00:07<06:18,  7.41s/it]/usr/local/lib/python3.6/dist-packages/PIL/Image.py:932: UserWarning: Palette images with Transparency expressed in bytes should be converted to RGBA images\n",
            "  \"Palette images with Transparency expressed in bytes should be \"\n",
            " 67%|██████▋   | 35/52 [01:29<00:37,  2.22s/it]/usr/local/lib/python3.6/dist-packages/PIL/Image.py:932: UserWarning: Palette images with Transparency expressed in bytes should be converted to RGBA images\n",
            "  \"Palette images with Transparency expressed in bytes should be \"\n",
            "100%|██████████| 52/52 [01:59<00:00,  2.30s/it]\n",
            "  0%|          | 0/120 [00:00<?, ?it/s]"
          ],
          "name": "stderr"
        },
        {
          "output_type": "stream",
          "text": [
            "Test Loss= 0.53530353 Test Accuracy= 82.57147225194925\n",
            "lr=  0.016299999999999995\n"
          ],
          "name": "stdout"
        },
        {
          "output_type": "stream",
          "text": [
            "/usr/local/lib/python3.6/dist-packages/PIL/Image.py:932: UserWarning: Palette images with Transparency expressed in bytes should be converted to RGBA images\n",
            "  \"Palette images with Transparency expressed in bytes should be \"\n",
            "Epoch= 8 Loss=0.40281590819358826 Batch_id=3 Accuracy=85.16:   3%|▎         | 4/120 [00:09<05:58,  3.09s/it]/usr/local/lib/python3.6/dist-packages/PIL/Image.py:932: UserWarning: Palette images with Transparency expressed in bytes should be converted to RGBA images\n",
            "  \"Palette images with Transparency expressed in bytes should be \"\n",
            "/usr/local/lib/python3.6/dist-packages/PIL/Image.py:932: UserWarning: Palette images with Transparency expressed in bytes should be converted to RGBA images\n",
            "  \"Palette images with Transparency expressed in bytes should be \"\n",
            "Epoch= 8 Loss=0.3544956147670746 Batch_id=5 Accuracy=86.72:   5%|▌         | 6/120 [00:18<06:49,  3.59s/it]/usr/local/lib/python3.6/dist-packages/PIL/TiffImagePlugin.py:788: UserWarning: Corrupt EXIF data.  Expecting to read 4 bytes but only got 0. \n",
            "  warnings.warn(str(msg))\n",
            "Epoch= 8 Loss=0.3028658926486969 Batch_id=15 Accuracy=86.72:  13%|█▎        | 16/120 [00:38<02:51,  1.64s/it]/usr/local/lib/python3.6/dist-packages/PIL/Image.py:932: UserWarning: Palette images with Transparency expressed in bytes should be converted to RGBA images\n",
            "  \"Palette images with Transparency expressed in bytes should be \"\n",
            "Epoch= 8 Loss=0.5293083786964417 Batch_id=119 Accuracy=84.62: 100%|██████████| 120/120 [04:53<00:00,  2.45s/it]\n",
            "  6%|▌         | 3/52 [00:13<07:35,  9.30s/it]/usr/local/lib/python3.6/dist-packages/PIL/Image.py:932: UserWarning: Palette images with Transparency expressed in bytes should be converted to RGBA images\n",
            "  \"Palette images with Transparency expressed in bytes should be \"\n",
            " 13%|█▎        | 7/52 [00:21<04:03,  5.42s/it]/usr/local/lib/python3.6/dist-packages/PIL/Image.py:932: UserWarning: Palette images with Transparency expressed in bytes should be converted to RGBA images\n",
            "  \"Palette images with Transparency expressed in bytes should be \"\n",
            "/usr/local/lib/python3.6/dist-packages/PIL/Image.py:932: UserWarning: Palette images with Transparency expressed in bytes should be converted to RGBA images\n",
            "  \"Palette images with Transparency expressed in bytes should be \"\n",
            " 48%|████▊     | 25/52 [01:02<01:03,  2.35s/it]/usr/local/lib/python3.6/dist-packages/PIL/Image.py:932: UserWarning: Palette images with Transparency expressed in bytes should be converted to RGBA images\n",
            "  \"Palette images with Transparency expressed in bytes should be \"\n",
            "100%|██████████| 52/52 [01:58<00:00,  2.27s/it]\n",
            "  0%|          | 0/120 [00:00<?, ?it/s]"
          ],
          "name": "stderr"
        },
        {
          "output_type": "stream",
          "text": [
            "Test Loss= 0.15558584 Test Accuracy= 81.95994496254396\n",
            "lr=  0.0154\n"
          ],
          "name": "stdout"
        },
        {
          "output_type": "stream",
          "text": [
            "Epoch= 9 Loss=0.37883642315864563 Batch_id=7 Accuracy=88.28:   7%|▋         | 8/120 [00:23<04:10,  2.24s/it]/usr/local/lib/python3.6/dist-packages/PIL/Image.py:932: UserWarning: Palette images with Transparency expressed in bytes should be converted to RGBA images\n",
            "  \"Palette images with Transparency expressed in bytes should be \"\n",
            "/usr/local/lib/python3.6/dist-packages/PIL/Image.py:932: UserWarning: Palette images with Transparency expressed in bytes should be converted to RGBA images\n",
            "  \"Palette images with Transparency expressed in bytes should be \"\n",
            "Epoch= 9 Loss=0.39194241166114807 Batch_id=11 Accuracy=87.50:  10%|█         | 12/120 [00:35<03:10,  1.76s/it]/usr/local/lib/python3.6/dist-packages/PIL/Image.py:932: UserWarning: Palette images with Transparency expressed in bytes should be converted to RGBA images\n",
            "  \"Palette images with Transparency expressed in bytes should be \"\n",
            "Epoch= 9 Loss=0.47513794898986816 Batch_id=15 Accuracy=81.25:  13%|█▎        | 16/120 [00:42<02:09,  1.25s/it]/usr/local/lib/python3.6/dist-packages/PIL/TiffImagePlugin.py:788: UserWarning: Corrupt EXIF data.  Expecting to read 4 bytes but only got 0. \n",
            "  warnings.warn(str(msg))\n",
            "Epoch= 9 Loss=0.3479788899421692 Batch_id=43 Accuracy=87.50:  37%|███▋      | 44/120 [01:46<02:39,  2.10s/it]/usr/local/lib/python3.6/dist-packages/PIL/Image.py:932: UserWarning: Palette images with Transparency expressed in bytes should be converted to RGBA images\n",
            "  \"Palette images with Transparency expressed in bytes should be \"\n",
            "Epoch= 9 Loss=0.636063814163208 Batch_id=119 Accuracy=76.92: 100%|██████████| 120/120 [04:52<00:00,  2.44s/it]\n",
            "  0%|          | 0/52 [00:00<?, ?it/s]/usr/local/lib/python3.6/dist-packages/PIL/Image.py:932: UserWarning: Palette images with Transparency expressed in bytes should be converted to RGBA images\n",
            "  \"Palette images with Transparency expressed in bytes should be \"\n",
            " 23%|██▎       | 12/52 [00:30<01:50,  2.76s/it]/usr/local/lib/python3.6/dist-packages/PIL/Image.py:932: UserWarning: Palette images with Transparency expressed in bytes should be converted to RGBA images\n",
            "  \"Palette images with Transparency expressed in bytes should be \"\n",
            " 46%|████▌     | 24/52 [00:53<00:56,  2.01s/it]/usr/local/lib/python3.6/dist-packages/PIL/Image.py:932: UserWarning: Palette images with Transparency expressed in bytes should be converted to RGBA images\n",
            "  \"Palette images with Transparency expressed in bytes should be \"\n",
            " 52%|█████▏    | 27/52 [01:07<01:38,  3.94s/it]/usr/local/lib/python3.6/dist-packages/PIL/Image.py:932: UserWarning: Palette images with Transparency expressed in bytes should be converted to RGBA images\n",
            "  \"Palette images with Transparency expressed in bytes should be \"\n",
            "100%|██████████| 52/52 [01:58<00:00,  2.27s/it]\n",
            "  0%|          | 0/120 [00:00<?, ?it/s]"
          ],
          "name": "stderr"
        },
        {
          "output_type": "stream",
          "text": [
            "Test Loss= 0.76291627 Test Accuracy= 83.7792386485247\n",
            "lr=  0.014500000000000002\n"
          ],
          "name": "stdout"
        },
        {
          "output_type": "stream",
          "text": [
            "/usr/local/lib/python3.6/dist-packages/PIL/Image.py:932: UserWarning: Palette images with Transparency expressed in bytes should be converted to RGBA images\n",
            "  \"Palette images with Transparency expressed in bytes should be \"\n",
            "Epoch= 10 Loss=0.5720049738883972 Batch_id=7 Accuracy=77.34:   7%|▋         | 8/120 [00:28<05:51,  3.14s/it]/usr/local/lib/python3.6/dist-packages/PIL/Image.py:932: UserWarning: Palette images with Transparency expressed in bytes should be converted to RGBA images\n",
            "  \"Palette images with Transparency expressed in bytes should be \"\n",
            "Epoch= 10 Loss=0.37621164321899414 Batch_id=9 Accuracy=85.94:   8%|▊         | 10/120 [00:34<05:05,  2.78s/it]/usr/local/lib/python3.6/dist-packages/PIL/Image.py:932: UserWarning: Palette images with Transparency expressed in bytes should be converted to RGBA images\n",
            "  \"Palette images with Transparency expressed in bytes should be \"\n",
            "Epoch= 10 Loss=0.4396305978298187 Batch_id=71 Accuracy=80.47:  60%|██████    | 72/120 [03:01<01:25,  1.78s/it]/usr/local/lib/python3.6/dist-packages/PIL/Image.py:932: UserWarning: Palette images with Transparency expressed in bytes should be converted to RGBA images\n",
            "  \"Palette images with Transparency expressed in bytes should be \"\n",
            "Epoch= 10 Loss=0.3960491418838501 Batch_id=111 Accuracy=85.16:  93%|█████████▎| 112/120 [04:39<00:11,  1.44s/it]/usr/local/lib/python3.6/dist-packages/PIL/TiffImagePlugin.py:788: UserWarning: Corrupt EXIF data.  Expecting to read 4 bytes but only got 0. \n",
            "  warnings.warn(str(msg))\n",
            "Epoch= 10 Loss=0.3588090240955353 Batch_id=119 Accuracy=92.31: 100%|██████████| 120/120 [04:53<00:00,  2.44s/it]\n",
            "  0%|          | 0/52 [00:00<?, ?it/s]/usr/local/lib/python3.6/dist-packages/PIL/Image.py:932: UserWarning: Palette images with Transparency expressed in bytes should be converted to RGBA images\n",
            "  \"Palette images with Transparency expressed in bytes should be \"\n",
            "/usr/local/lib/python3.6/dist-packages/PIL/Image.py:932: UserWarning: Palette images with Transparency expressed in bytes should be converted to RGBA images\n",
            "  \"Palette images with Transparency expressed in bytes should be \"\n",
            " 13%|█▎        | 7/52 [00:21<03:22,  4.50s/it]/usr/local/lib/python3.6/dist-packages/PIL/Image.py:932: UserWarning: Palette images with Transparency expressed in bytes should be converted to RGBA images\n",
            "  \"Palette images with Transparency expressed in bytes should be \"\n",
            " 27%|██▋       | 14/52 [00:39<01:33,  2.45s/it]/usr/local/lib/python3.6/dist-packages/PIL/Image.py:932: UserWarning: Palette images with Transparency expressed in bytes should be converted to RGBA images\n",
            "  \"Palette images with Transparency expressed in bytes should be \"\n",
            "100%|██████████| 52/52 [01:59<00:00,  2.29s/it]\n",
            "  0%|          | 0/120 [00:00<?, ?it/s]"
          ],
          "name": "stderr"
        },
        {
          "output_type": "stream",
          "text": [
            "Test Loss= 0.8657796 Test Accuracy= 82.51031952300872\n",
            "lr=  0.013600000000000001\n"
          ],
          "name": "stdout"
        },
        {
          "output_type": "stream",
          "text": [
            "Epoch= 11 Loss=0.42087915539741516 Batch_id=3 Accuracy=86.72:   3%|▎         | 4/120 [00:09<05:56,  3.07s/it]/usr/local/lib/python3.6/dist-packages/PIL/Image.py:932: UserWarning: Palette images with Transparency expressed in bytes should be converted to RGBA images\n",
            "  \"Palette images with Transparency expressed in bytes should be \"\n",
            "Epoch= 11 Loss=0.3804757595062256 Batch_id=14 Accuracy=85.16:  12%|█▎        | 15/120 [00:33<02:31,  1.44s/it]/usr/local/lib/python3.6/dist-packages/PIL/Image.py:932: UserWarning: Palette images with Transparency expressed in bytes should be converted to RGBA images\n",
            "  \"Palette images with Transparency expressed in bytes should be \"\n",
            "Epoch= 11 Loss=0.32253554463386536 Batch_id=18 Accuracy=89.06:  16%|█▌        | 19/120 [00:42<02:46,  1.65s/it]/usr/local/lib/python3.6/dist-packages/PIL/Image.py:932: UserWarning: Palette images with Transparency expressed in bytes should be converted to RGBA images\n",
            "  \"Palette images with Transparency expressed in bytes should be \"\n",
            "Epoch= 11 Loss=0.3401346206665039 Batch_id=52 Accuracy=84.38:  44%|████▍     | 53/120 [02:16<02:44,  2.46s/it]/usr/local/lib/python3.6/dist-packages/PIL/Image.py:932: UserWarning: Palette images with Transparency expressed in bytes should be converted to RGBA images\n",
            "  \"Palette images with Transparency expressed in bytes should be \"\n",
            "Epoch= 11 Loss=0.3324936628341675 Batch_id=96 Accuracy=89.06:  81%|████████  | 97/120 [04:08<00:38,  1.69s/it]/usr/local/lib/python3.6/dist-packages/PIL/TiffImagePlugin.py:788: UserWarning: Corrupt EXIF data.  Expecting to read 4 bytes but only got 0. \n",
            "  warnings.warn(str(msg))\n",
            "Epoch= 11 Loss=0.23698297142982483 Batch_id=119 Accuracy=96.15: 100%|██████████| 120/120 [04:54<00:00,  2.45s/it]\n",
            "  0%|          | 0/52 [00:00<?, ?it/s]/usr/local/lib/python3.6/dist-packages/PIL/Image.py:932: UserWarning: Palette images with Transparency expressed in bytes should be converted to RGBA images\n",
            "  \"Palette images with Transparency expressed in bytes should be \"\n",
            " 13%|█▎        | 7/52 [00:24<04:16,  5.69s/it]/usr/local/lib/python3.6/dist-packages/PIL/Image.py:932: UserWarning: Palette images with Transparency expressed in bytes should be converted to RGBA images\n",
            "  \"Palette images with Transparency expressed in bytes should be \"\n",
            " 31%|███       | 16/52 [00:37<01:00,  1.67s/it]/usr/local/lib/python3.6/dist-packages/PIL/Image.py:932: UserWarning: Palette images with Transparency expressed in bytes should be converted to RGBA images\n",
            "  \"Palette images with Transparency expressed in bytes should be \"\n",
            "/usr/local/lib/python3.6/dist-packages/PIL/Image.py:932: UserWarning: Palette images with Transparency expressed in bytes should be converted to RGBA images\n",
            "  \"Palette images with Transparency expressed in bytes should be \"\n",
            "100%|██████████| 52/52 [01:58<00:00,  2.28s/it]\n",
            "  0%|          | 0/120 [00:00<?, ?it/s]"
          ],
          "name": "stderr"
        },
        {
          "output_type": "stream",
          "text": [
            "Test Loss= 0.26448628 Test Accuracy= 83.7333741018193\n",
            "lr=  0.0127\n"
          ],
          "name": "stdout"
        },
        {
          "output_type": "stream",
          "text": [
            "/usr/local/lib/python3.6/dist-packages/PIL/TiffImagePlugin.py:788: UserWarning: Corrupt EXIF data.  Expecting to read 4 bytes but only got 0. \n",
            "  warnings.warn(str(msg))\n",
            "Epoch= 12 Loss=0.33672839403152466 Batch_id=15 Accuracy=87.50:  13%|█▎        | 16/120 [00:46<03:40,  2.12s/it]/usr/local/lib/python3.6/dist-packages/PIL/Image.py:932: UserWarning: Palette images with Transparency expressed in bytes should be converted to RGBA images\n",
            "  \"Palette images with Transparency expressed in bytes should be \"\n",
            "Epoch= 12 Loss=0.30514010787010193 Batch_id=17 Accuracy=89.06:  15%|█▌        | 18/120 [00:52<04:32,  2.67s/it]/usr/local/lib/python3.6/dist-packages/PIL/Image.py:932: UserWarning: Palette images with Transparency expressed in bytes should be converted to RGBA images\n",
            "  \"Palette images with Transparency expressed in bytes should be \"\n",
            "Epoch= 12 Loss=0.28773459792137146 Batch_id=37 Accuracy=88.28:  32%|███▏      | 38/120 [01:34<02:54,  2.13s/it]/usr/local/lib/python3.6/dist-packages/PIL/Image.py:932: UserWarning: Palette images with Transparency expressed in bytes should be converted to RGBA images\n",
            "  \"Palette images with Transparency expressed in bytes should be \"\n",
            "Epoch= 12 Loss=0.40425145626068115 Batch_id=43 Accuracy=82.81:  37%|███▋      | 44/120 [01:50<02:48,  2.21s/it]/usr/local/lib/python3.6/dist-packages/PIL/Image.py:932: UserWarning: Palette images with Transparency expressed in bytes should be converted to RGBA images\n",
            "  \"Palette images with Transparency expressed in bytes should be \"\n",
            "Epoch= 12 Loss=0.3643811345100403 Batch_id=119 Accuracy=92.31: 100%|██████████| 120/120 [04:54<00:00,  2.45s/it]\n",
            " 21%|██        | 11/52 [00:30<02:12,  3.24s/it]/usr/local/lib/python3.6/dist-packages/PIL/Image.py:932: UserWarning: Palette images with Transparency expressed in bytes should be converted to RGBA images\n",
            "  \"Palette images with Transparency expressed in bytes should be \"\n",
            " 54%|█████▍    | 28/52 [01:05<00:46,  1.95s/it]/usr/local/lib/python3.6/dist-packages/PIL/Image.py:932: UserWarning: Palette images with Transparency expressed in bytes should be converted to RGBA images\n",
            "  \"Palette images with Transparency expressed in bytes should be \"\n",
            "100%|██████████| 52/52 [01:59<00:00,  2.29s/it]\n",
            "  0%|          | 0/120 [00:00<?, ?it/s]"
          ],
          "name": "stderr"
        },
        {
          "output_type": "stream",
          "text": [
            "Test Loss= 0.21562749 Test Accuracy= 81.82235132242776\n",
            "lr=  0.011799999999999998\n"
          ],
          "name": "stdout"
        },
        {
          "output_type": "stream",
          "text": [
            "Epoch= 13 Loss=0.39120709896087646 Batch_id=7 Accuracy=80.47:   7%|▋         | 8/120 [00:22<03:57,  2.12s/it]/usr/local/lib/python3.6/dist-packages/PIL/Image.py:932: UserWarning: Palette images with Transparency expressed in bytes should be converted to RGBA images\n",
            "  \"Palette images with Transparency expressed in bytes should be \"\n",
            "Epoch= 13 Loss=0.4437878727912903 Batch_id=11 Accuracy=83.59:  10%|█         | 12/120 [00:31<02:42,  1.51s/it]/usr/local/lib/python3.6/dist-packages/PIL/Image.py:932: UserWarning: Palette images with Transparency expressed in bytes should be converted to RGBA images\n",
            "  \"Palette images with Transparency expressed in bytes should be \"\n",
            "Epoch= 13 Loss=0.3192923367023468 Batch_id=15 Accuracy=86.72:  13%|█▎        | 16/120 [00:38<01:59,  1.15s/it]/usr/local/lib/python3.6/dist-packages/PIL/Image.py:932: UserWarning: Palette images with Transparency expressed in bytes should be converted to RGBA images\n",
            "  \"Palette images with Transparency expressed in bytes should be \"\n",
            "/usr/local/lib/python3.6/dist-packages/PIL/Image.py:932: UserWarning: Palette images with Transparency expressed in bytes should be converted to RGBA images\n",
            "  \"Palette images with Transparency expressed in bytes should be \"\n",
            "Epoch= 13 Loss=0.31115949153900146 Batch_id=92 Accuracy=88.28:  78%|███████▊  | 93/120 [03:59<00:47,  1.78s/it]/usr/local/lib/python3.6/dist-packages/PIL/TiffImagePlugin.py:788: UserWarning: Corrupt EXIF data.  Expecting to read 4 bytes but only got 0. \n",
            "  warnings.warn(str(msg))\n",
            "Epoch= 13 Loss=0.5708807110786438 Batch_id=119 Accuracy=84.62: 100%|██████████| 120/120 [04:52<00:00,  2.44s/it]\n",
            "  0%|          | 0/52 [00:00<?, ?it/s]/usr/local/lib/python3.6/dist-packages/PIL/Image.py:932: UserWarning: Palette images with Transparency expressed in bytes should be converted to RGBA images\n",
            "  \"Palette images with Transparency expressed in bytes should be \"\n",
            "  6%|▌         | 3/52 [00:11<06:17,  7.70s/it]/usr/local/lib/python3.6/dist-packages/PIL/Image.py:932: UserWarning: Palette images with Transparency expressed in bytes should be converted to RGBA images\n",
            "  \"Palette images with Transparency expressed in bytes should be \"\n",
            " 29%|██▉       | 15/52 [00:40<01:28,  2.39s/it]/usr/local/lib/python3.6/dist-packages/PIL/Image.py:932: UserWarning: Palette images with Transparency expressed in bytes should be converted to RGBA images\n",
            "  \"Palette images with Transparency expressed in bytes should be \"\n",
            " 48%|████▊     | 25/52 [01:04<01:19,  2.95s/it]/usr/local/lib/python3.6/dist-packages/PIL/Image.py:932: UserWarning: Palette images with Transparency expressed in bytes should be converted to RGBA images\n",
            "  \"Palette images with Transparency expressed in bytes should be \"\n",
            "100%|██████████| 52/52 [01:59<00:00,  2.29s/it]\n",
            "  0%|          | 0/120 [00:00<?, ?it/s]"
          ],
          "name": "stderr"
        },
        {
          "output_type": "stream",
          "text": [
            "Test Loss= 0.5785681 Test Accuracy= 83.62635682617336\n",
            "lr=  0.010899999999999996\n"
          ],
          "name": "stdout"
        },
        {
          "output_type": "stream",
          "text": [
            "Epoch= 14 Loss=0.42258402705192566 Batch_id=3 Accuracy=82.03:   3%|▎         | 4/120 [00:11<07:23,  3.82s/it]/usr/local/lib/python3.6/dist-packages/PIL/Image.py:932: UserWarning: Palette images with Transparency expressed in bytes should be converted to RGBA images\n",
            "  \"Palette images with Transparency expressed in bytes should be \"\n",
            "/usr/local/lib/python3.6/dist-packages/PIL/Image.py:932: UserWarning: Palette images with Transparency expressed in bytes should be converted to RGBA images\n",
            "  \"Palette images with Transparency expressed in bytes should be \"\n",
            "Epoch= 14 Loss=0.4529426395893097 Batch_id=24 Accuracy=78.91:  21%|██        | 25/120 [01:00<03:26,  2.17s/it]/usr/local/lib/python3.6/dist-packages/PIL/TiffImagePlugin.py:788: UserWarning: Corrupt EXIF data.  Expecting to read 4 bytes but only got 0. \n",
            "  warnings.warn(str(msg))\n",
            "Epoch= 14 Loss=0.3480779826641083 Batch_id=36 Accuracy=86.72:  31%|███       | 37/120 [01:32<03:33,  2.57s/it]/usr/local/lib/python3.6/dist-packages/PIL/Image.py:932: UserWarning: Palette images with Transparency expressed in bytes should be converted to RGBA images\n",
            "  \"Palette images with Transparency expressed in bytes should be \"\n",
            "Epoch= 14 Loss=0.32565802335739136 Batch_id=49 Accuracy=87.50:  42%|████▏     | 50/120 [02:08<03:30,  3.01s/it]/usr/local/lib/python3.6/dist-packages/PIL/Image.py:932: UserWarning: Palette images with Transparency expressed in bytes should be converted to RGBA images\n",
            "  \"Palette images with Transparency expressed in bytes should be \"\n",
            "Epoch= 14 Loss=0.15881872177124023 Batch_id=119 Accuracy=92.31: 100%|██████████| 120/120 [04:55<00:00,  2.46s/it]\n",
            "  0%|          | 0/52 [00:00<?, ?it/s]/usr/local/lib/python3.6/dist-packages/PIL/Image.py:932: UserWarning: Palette images with Transparency expressed in bytes should be converted to RGBA images\n",
            "  \"Palette images with Transparency expressed in bytes should be \"\n",
            "  6%|▌         | 3/52 [00:13<07:34,  9.28s/it]/usr/local/lib/python3.6/dist-packages/PIL/Image.py:932: UserWarning: Palette images with Transparency expressed in bytes should be converted to RGBA images\n",
            "  \"Palette images with Transparency expressed in bytes should be \"\n",
            " 13%|█▎        | 7/52 [00:25<04:22,  5.83s/it]/usr/local/lib/python3.6/dist-packages/PIL/Image.py:932: UserWarning: Palette images with Transparency expressed in bytes should be converted to RGBA images\n",
            "  \"Palette images with Transparency expressed in bytes should be \"\n",
            " 56%|█████▌    | 29/52 [01:14<01:07,  2.93s/it]/usr/local/lib/python3.6/dist-packages/PIL/Image.py:932: UserWarning: Palette images with Transparency expressed in bytes should be converted to RGBA images\n",
            "  \"Palette images with Transparency expressed in bytes should be \"\n",
            "100%|██████████| 52/52 [01:58<00:00,  2.28s/it]\n",
            "  0%|          | 0/120 [00:00<?, ?it/s]"
          ],
          "name": "stderr"
        },
        {
          "output_type": "stream",
          "text": [
            "Test Loss= 0.7505274 Test Accuracy= 84.13086683993274\n",
            "lr=  0.009999999999999998\n"
          ],
          "name": "stdout"
        },
        {
          "output_type": "stream",
          "text": [
            "/usr/local/lib/python3.6/dist-packages/PIL/Image.py:932: UserWarning: Palette images with Transparency expressed in bytes should be converted to RGBA images\n",
            "  \"Palette images with Transparency expressed in bytes should be \"\n",
            "Epoch= 15 Loss=0.31440579891204834 Batch_id=4 Accuracy=89.06:   4%|▍         | 5/120 [00:15<05:51,  3.06s/it]/usr/local/lib/python3.6/dist-packages/PIL/Image.py:932: UserWarning: Palette images with Transparency expressed in bytes should be converted to RGBA images\n",
            "  \"Palette images with Transparency expressed in bytes should be \"\n",
            "Epoch= 15 Loss=0.3880976140499115 Batch_id=12 Accuracy=85.16:  11%|█         | 13/120 [00:40<03:27,  1.94s/it]/usr/local/lib/python3.6/dist-packages/PIL/Image.py:932: UserWarning: Palette images with Transparency expressed in bytes should be converted to RGBA images\n",
            "  \"Palette images with Transparency expressed in bytes should be \"\n",
            "Epoch= 15 Loss=0.39822083711624146 Batch_id=28 Accuracy=88.28:  24%|██▍       | 29/120 [01:20<02:07,  1.40s/it]/usr/local/lib/python3.6/dist-packages/PIL/Image.py:932: UserWarning: Palette images with Transparency expressed in bytes should be converted to RGBA images\n",
            "  \"Palette images with Transparency expressed in bytes should be \"\n",
            "Epoch= 15 Loss=0.403493732213974 Batch_id=70 Accuracy=82.81:  59%|█████▉    | 71/120 [03:09<02:10,  2.66s/it]/usr/local/lib/python3.6/dist-packages/PIL/TiffImagePlugin.py:788: UserWarning: Corrupt EXIF data.  Expecting to read 4 bytes but only got 0. \n",
            "  warnings.warn(str(msg))\n",
            "Epoch= 15 Loss=0.3350410461425781 Batch_id=119 Accuracy=88.46: 100%|██████████| 120/120 [04:56<00:00,  2.47s/it]\n",
            " 15%|█▌        | 8/52 [00:21<02:10,  2.96s/it]/usr/local/lib/python3.6/dist-packages/PIL/Image.py:932: UserWarning: Palette images with Transparency expressed in bytes should be converted to RGBA images\n",
            "  \"Palette images with Transparency expressed in bytes should be \"\n",
            " 19%|█▉        | 10/52 [00:27<02:07,  3.04s/it]/usr/local/lib/python3.6/dist-packages/PIL/Image.py:932: UserWarning: Palette images with Transparency expressed in bytes should be converted to RGBA images\n",
            "  \"Palette images with Transparency expressed in bytes should be \"\n",
            " 35%|███▍      | 18/52 [00:45<01:19,  2.33s/it]/usr/local/lib/python3.6/dist-packages/PIL/Image.py:932: UserWarning: Palette images with Transparency expressed in bytes should be converted to RGBA images\n",
            "  \"Palette images with Transparency expressed in bytes should be \"\n",
            " 69%|██████▉   | 36/52 [01:31<00:55,  3.48s/it]/usr/local/lib/python3.6/dist-packages/PIL/Image.py:932: UserWarning: Palette images with Transparency expressed in bytes should be converted to RGBA images\n",
            "  \"Palette images with Transparency expressed in bytes should be \"\n",
            "100%|██████████| 52/52 [01:59<00:00,  2.30s/it]\n",
            "  0%|          | 0/120 [00:00<?, ?it/s]"
          ],
          "name": "stderr"
        },
        {
          "output_type": "stream",
          "text": [
            "Test Loss= 0.6739791 Test Accuracy= 84.45191866687051\n",
            "lr=  0.009099999999999997\n"
          ],
          "name": "stdout"
        },
        {
          "output_type": "stream",
          "text": [
            "/usr/local/lib/python3.6/dist-packages/PIL/Image.py:932: UserWarning: Palette images with Transparency expressed in bytes should be converted to RGBA images\n",
            "  \"Palette images with Transparency expressed in bytes should be \"\n",
            "/usr/local/lib/python3.6/dist-packages/PIL/Image.py:932: UserWarning: Palette images with Transparency expressed in bytes should be converted to RGBA images\n",
            "  \"Palette images with Transparency expressed in bytes should be \"\n",
            "Epoch= 16 Loss=0.2751169502735138 Batch_id=18 Accuracy=87.50:  16%|█▌        | 19/120 [00:56<03:11,  1.90s/it]/usr/local/lib/python3.6/dist-packages/PIL/TiffImagePlugin.py:788: UserWarning: Corrupt EXIF data.  Expecting to read 4 bytes but only got 0. \n",
            "  warnings.warn(str(msg))\n",
            "/usr/local/lib/python3.6/dist-packages/PIL/Image.py:932: UserWarning: Palette images with Transparency expressed in bytes should be converted to RGBA images\n",
            "  \"Palette images with Transparency expressed in bytes should be \"\n",
            "Epoch= 16 Loss=0.3287779688835144 Batch_id=24 Accuracy=85.94:  21%|██        | 25/120 [01:13<03:25,  2.16s/it]/usr/local/lib/python3.6/dist-packages/PIL/Image.py:932: UserWarning: Palette images with Transparency expressed in bytes should be converted to RGBA images\n",
            "  \"Palette images with Transparency expressed in bytes should be \"\n",
            "Epoch= 16 Loss=0.5156840682029724 Batch_id=119 Accuracy=88.46: 100%|██████████| 120/120 [04:56<00:00,  2.47s/it]\n",
            " 13%|█▎        | 7/52 [00:23<03:28,  4.63s/it]/usr/local/lib/python3.6/dist-packages/PIL/Image.py:932: UserWarning: Palette images with Transparency expressed in bytes should be converted to RGBA images\n",
            "  \"Palette images with Transparency expressed in bytes should be \"\n",
            " 21%|██        | 11/52 [00:34<02:19,  3.40s/it]/usr/local/lib/python3.6/dist-packages/PIL/Image.py:932: UserWarning: Palette images with Transparency expressed in bytes should be converted to RGBA images\n",
            "  \"Palette images with Transparency expressed in bytes should be \"\n",
            " 37%|███▋      | 19/52 [00:52<01:12,  2.21s/it]/usr/local/lib/python3.6/dist-packages/PIL/Image.py:932: UserWarning: Palette images with Transparency expressed in bytes should be converted to RGBA images\n",
            "  \"Palette images with Transparency expressed in bytes should be \"\n",
            "100%|██████████| 52/52 [02:00<00:00,  2.32s/it]\n",
            "  0%|          | 0/120 [00:00<?, ?it/s]"
          ],
          "name": "stderr"
        },
        {
          "output_type": "stream",
          "text": [
            "Test Loss= 0.70903295 Test Accuracy= 84.32961320898946\n",
            "lr=  0.008199999999999995\n"
          ],
          "name": "stdout"
        },
        {
          "output_type": "stream",
          "text": [
            "/usr/local/lib/python3.6/dist-packages/PIL/Image.py:932: UserWarning: Palette images with Transparency expressed in bytes should be converted to RGBA images\n",
            "  \"Palette images with Transparency expressed in bytes should be \"\n",
            "/usr/local/lib/python3.6/dist-packages/PIL/Image.py:932: UserWarning: Palette images with Transparency expressed in bytes should be converted to RGBA images\n",
            "  \"Palette images with Transparency expressed in bytes should be \"\n",
            "Epoch= 17 Loss=0.3653852343559265 Batch_id=16 Accuracy=82.81:  14%|█▍        | 17/120 [00:43<02:52,  1.67s/it]/usr/local/lib/python3.6/dist-packages/PIL/TiffImagePlugin.py:788: UserWarning: Corrupt EXIF data.  Expecting to read 4 bytes but only got 0. \n",
            "  warnings.warn(str(msg))\n",
            "Epoch= 17 Loss=0.28219860792160034 Batch_id=22 Accuracy=90.62:  19%|█▉        | 23/120 [00:58<03:07,  1.93s/it]/usr/local/lib/python3.6/dist-packages/PIL/Image.py:932: UserWarning: Palette images with Transparency expressed in bytes should be converted to RGBA images\n",
            "  \"Palette images with Transparency expressed in bytes should be \"\n",
            "Epoch= 17 Loss=0.2677971124649048 Batch_id=30 Accuracy=92.97:  26%|██▌       | 31/120 [01:18<03:10,  2.14s/it]/usr/local/lib/python3.6/dist-packages/PIL/Image.py:932: UserWarning: Palette images with Transparency expressed in bytes should be converted to RGBA images\n",
            "  \"Palette images with Transparency expressed in bytes should be \"\n",
            "Epoch= 17 Loss=0.3122386336326599 Batch_id=119 Accuracy=80.77: 100%|██████████| 120/120 [04:54<00:00,  2.45s/it]\n",
            "  0%|          | 0/52 [00:00<?, ?it/s]/usr/local/lib/python3.6/dist-packages/PIL/Image.py:932: UserWarning: Palette images with Transparency expressed in bytes should be converted to RGBA images\n",
            "  \"Palette images with Transparency expressed in bytes should be \"\n",
            " 25%|██▌       | 13/52 [00:34<01:40,  2.57s/it]/usr/local/lib/python3.6/dist-packages/PIL/Image.py:932: UserWarning: Palette images with Transparency expressed in bytes should be converted to RGBA images\n",
            "  \"Palette images with Transparency expressed in bytes should be \"\n",
            " 29%|██▉       | 15/52 [00:40<01:46,  2.88s/it]/usr/local/lib/python3.6/dist-packages/PIL/Image.py:932: UserWarning: Palette images with Transparency expressed in bytes should be converted to RGBA images\n",
            "  \"Palette images with Transparency expressed in bytes should be \"\n",
            "100%|██████████| 52/52 [01:59<00:00,  2.30s/it]\n",
            "  0%|          | 0/120 [00:00<?, ?it/s]"
          ],
          "name": "stderr"
        },
        {
          "output_type": "stream",
          "text": [
            "Test Loss= 0.44058508 Test Accuracy= 83.24415227029506\n",
            "lr=  0.0073\n"
          ],
          "name": "stdout"
        },
        {
          "output_type": "stream",
          "text": [
            "Epoch= 18 Loss=0.32333123683929443 Batch_id=23 Accuracy=89.06:  20%|██        | 24/120 [01:00<02:37,  1.64s/it]/usr/local/lib/python3.6/dist-packages/PIL/Image.py:932: UserWarning: Palette images with Transparency expressed in bytes should be converted to RGBA images\n",
            "  \"Palette images with Transparency expressed in bytes should be \"\n",
            "Epoch= 18 Loss=0.3266614079475403 Batch_id=27 Accuracy=89.06:  23%|██▎       | 28/120 [01:09<02:04,  1.36s/it]/usr/local/lib/python3.6/dist-packages/PIL/Image.py:932: UserWarning: Palette images with Transparency expressed in bytes should be converted to RGBA images\n",
            "  \"Palette images with Transparency expressed in bytes should be \"\n",
            "Epoch= 18 Loss=0.2978968322277069 Batch_id=35 Accuracy=88.28:  30%|███       | 36/120 [01:32<02:18,  1.65s/it]/usr/local/lib/python3.6/dist-packages/PIL/TiffImagePlugin.py:788: UserWarning: Corrupt EXIF data.  Expecting to read 4 bytes but only got 0. \n",
            "  warnings.warn(str(msg))\n",
            "Epoch= 18 Loss=0.34957316517829895 Batch_id=37 Accuracy=86.72:  32%|███▏      | 38/120 [01:41<03:37,  2.65s/it]/usr/local/lib/python3.6/dist-packages/PIL/Image.py:932: UserWarning: Palette images with Transparency expressed in bytes should be converted to RGBA images\n",
            "  \"Palette images with Transparency expressed in bytes should be \"\n",
            "Epoch= 18 Loss=0.45409920811653137 Batch_id=59 Accuracy=81.25:  50%|█████     | 60/120 [02:34<01:29,  1.49s/it]/usr/local/lib/python3.6/dist-packages/PIL/Image.py:932: UserWarning: Palette images with Transparency expressed in bytes should be converted to RGBA images\n",
            "  \"Palette images with Transparency expressed in bytes should be \"\n",
            "Epoch= 18 Loss=0.2567511200904846 Batch_id=119 Accuracy=96.15: 100%|██████████| 120/120 [04:52<00:00,  2.44s/it]\n",
            "  0%|          | 0/52 [00:00<?, ?it/s]/usr/local/lib/python3.6/dist-packages/PIL/Image.py:932: UserWarning: Palette images with Transparency expressed in bytes should be converted to RGBA images\n",
            "  \"Palette images with Transparency expressed in bytes should be \"\n",
            " 38%|███▊      | 20/52 [00:48<00:53,  1.67s/it]/usr/local/lib/python3.6/dist-packages/PIL/Image.py:932: UserWarning: Palette images with Transparency expressed in bytes should be converted to RGBA images\n",
            "  \"Palette images with Transparency expressed in bytes should be \"\n",
            "100%|██████████| 52/52 [01:59<00:00,  2.29s/it]\n",
            "  0%|          | 0/120 [00:00<?, ?it/s]"
          ],
          "name": "stderr"
        },
        {
          "output_type": "stream",
          "text": [
            "Test Loss= 0.27656895 Test Accuracy= 83.91683228864088\n",
            "lr=  0.0063999999999999994\n"
          ],
          "name": "stdout"
        },
        {
          "output_type": "stream",
          "text": [
            "Epoch= 19 Loss=0.30560460686683655 Batch_id=6 Accuracy=91.41:   6%|▌         | 7/120 [00:17<04:01,  2.14s/it]/usr/local/lib/python3.6/dist-packages/PIL/Image.py:932: UserWarning: Palette images with Transparency expressed in bytes should be converted to RGBA images\n",
            "  \"Palette images with Transparency expressed in bytes should be \"\n",
            "Epoch= 19 Loss=0.3030577003955841 Batch_id=7 Accuracy=89.06:   7%|▋         | 8/120 [00:20<04:27,  2.39s/it]/usr/local/lib/python3.6/dist-packages/PIL/Image.py:932: UserWarning: Palette images with Transparency expressed in bytes should be converted to RGBA images\n",
            "  \"Palette images with Transparency expressed in bytes should be \"\n",
            "Epoch= 19 Loss=0.36550775170326233 Batch_id=10 Accuracy=86.72:   9%|▉         | 11/120 [00:24<02:57,  1.63s/it]/usr/local/lib/python3.6/dist-packages/PIL/TiffImagePlugin.py:788: UserWarning: Corrupt EXIF data.  Expecting to read 4 bytes but only got 0. \n",
            "  warnings.warn(str(msg))\n",
            "Epoch= 19 Loss=0.43553006649017334 Batch_id=12 Accuracy=85.16:  11%|█         | 13/120 [00:33<05:08,  2.88s/it]/usr/local/lib/python3.6/dist-packages/PIL/Image.py:932: UserWarning: Palette images with Transparency expressed in bytes should be converted to RGBA images\n",
            "  \"Palette images with Transparency expressed in bytes should be \"\n",
            "Epoch= 19 Loss=0.3359208405017853 Batch_id=21 Accuracy=89.84:  18%|█▊        | 22/120 [00:59<02:38,  1.62s/it]/usr/local/lib/python3.6/dist-packages/PIL/Image.py:932: UserWarning: Palette images with Transparency expressed in bytes should be converted to RGBA images\n",
            "  \"Palette images with Transparency expressed in bytes should be \"\n",
            "Epoch= 19 Loss=0.7310234904289246 Batch_id=119 Accuracy=69.23: 100%|██████████| 120/120 [04:55<00:00,  2.46s/it]\n",
            "  8%|▊         | 4/52 [00:09<03:26,  4.30s/it]/usr/local/lib/python3.6/dist-packages/PIL/Image.py:932: UserWarning: Palette images with Transparency expressed in bytes should be converted to RGBA images\n",
            "  \"Palette images with Transparency expressed in bytes should be \"\n",
            " 15%|█▌        | 8/52 [00:19<02:22,  3.25s/it]/usr/local/lib/python3.6/dist-packages/PIL/Image.py:932: UserWarning: Palette images with Transparency expressed in bytes should be converted to RGBA images\n",
            "  \"Palette images with Transparency expressed in bytes should be \"\n",
            " 23%|██▎       | 12/52 [00:25<01:25,  2.15s/it]/usr/local/lib/python3.6/dist-packages/PIL/Image.py:932: UserWarning: Palette images with Transparency expressed in bytes should be converted to RGBA images\n",
            "  \"Palette images with Transparency expressed in bytes should be \"\n",
            " 63%|██████▎   | 33/52 [01:17<00:42,  2.25s/it]/usr/local/lib/python3.6/dist-packages/PIL/Image.py:932: UserWarning: Palette images with Transparency expressed in bytes should be converted to RGBA images\n",
            "  \"Palette images with Transparency expressed in bytes should be \"\n",
            "100%|██████████| 52/52 [01:58<00:00,  2.28s/it]\n",
            "  0%|          | 0/120 [00:00<?, ?it/s]"
          ],
          "name": "stderr"
        },
        {
          "output_type": "stream",
          "text": [
            "Test Loss= 0.3533292 Test Accuracy= 84.25317229781379\n",
            "lr=  0.005499999999999999\n"
          ],
          "name": "stdout"
        },
        {
          "output_type": "stream",
          "text": [
            "Epoch= 20 Loss=0.3450172543525696 Batch_id=4 Accuracy=88.28:   4%|▍         | 5/120 [00:18<08:07,  4.24s/it]/usr/local/lib/python3.6/dist-packages/PIL/Image.py:932: UserWarning: Palette images with Transparency expressed in bytes should be converted to RGBA images\n",
            "  \"Palette images with Transparency expressed in bytes should be \"\n",
            "Epoch= 20 Loss=0.3036806285381317 Batch_id=17 Accuracy=89.06:  15%|█▌        | 18/120 [00:56<03:42,  2.18s/it]/usr/local/lib/python3.6/dist-packages/PIL/Image.py:932: UserWarning: Palette images with Transparency expressed in bytes should be converted to RGBA images\n",
            "  \"Palette images with Transparency expressed in bytes should be \"\n",
            "Epoch= 20 Loss=0.29734301567077637 Batch_id=29 Accuracy=85.16:  25%|██▌       | 30/120 [01:23<01:50,  1.23s/it]/usr/local/lib/python3.6/dist-packages/PIL/Image.py:932: UserWarning: Palette images with Transparency expressed in bytes should be converted to RGBA images\n",
            "  \"Palette images with Transparency expressed in bytes should be \"\n",
            "Epoch= 20 Loss=0.27350282669067383 Batch_id=33 Accuracy=91.41:  28%|██▊       | 34/120 [01:33<02:04,  1.45s/it]/usr/local/lib/python3.6/dist-packages/PIL/Image.py:932: UserWarning: Palette images with Transparency expressed in bytes should be converted to RGBA images\n",
            "  \"Palette images with Transparency expressed in bytes should be \"\n",
            "Epoch= 20 Loss=0.28115177154541016 Batch_id=77 Accuracy=90.62:  65%|██████▌   | 78/120 [03:18<01:23,  1.98s/it]/usr/local/lib/python3.6/dist-packages/PIL/TiffImagePlugin.py:788: UserWarning: Corrupt EXIF data.  Expecting to read 4 bytes but only got 0. \n",
            "  warnings.warn(str(msg))\n",
            "Epoch= 20 Loss=0.2458694726228714 Batch_id=119 Accuracy=92.31: 100%|██████████| 120/120 [04:53<00:00,  2.45s/it]\n",
            "  6%|▌         | 3/52 [00:15<08:18, 10.17s/it]/usr/local/lib/python3.6/dist-packages/PIL/Image.py:932: UserWarning: Palette images with Transparency expressed in bytes should be converted to RGBA images\n",
            "  \"Palette images with Transparency expressed in bytes should be \"\n",
            " 21%|██        | 11/52 [00:34<02:38,  3.85s/it]/usr/local/lib/python3.6/dist-packages/PIL/Image.py:932: UserWarning: Palette images with Transparency expressed in bytes should be converted to RGBA images\n",
            "  \"Palette images with Transparency expressed in bytes should be \"\n",
            " 29%|██▉       | 15/52 [00:44<01:51,  3.00s/it]/usr/local/lib/python3.6/dist-packages/PIL/Image.py:932: UserWarning: Palette images with Transparency expressed in bytes should be converted to RGBA images\n",
            "  \"Palette images with Transparency expressed in bytes should be \"\n",
            " 52%|█████▏    | 27/52 [01:11<00:47,  1.91s/it]/usr/local/lib/python3.6/dist-packages/PIL/Image.py:932: UserWarning: Palette images with Transparency expressed in bytes should be converted to RGBA images\n",
            "  \"Palette images with Transparency expressed in bytes should be \"\n",
            "100%|██████████| 52/52 [01:58<00:00,  2.28s/it]\n",
            "  0%|          | 0/120 [00:00<?, ?it/s]"
          ],
          "name": "stderr"
        },
        {
          "output_type": "stream",
          "text": [
            "Test Loss= 0.3745267 Test Accuracy= 84.46720684910564\n",
            "lr=  0.004600000000000003\n"
          ],
          "name": "stdout"
        },
        {
          "output_type": "stream",
          "text": [
            "/usr/local/lib/python3.6/dist-packages/PIL/Image.py:932: UserWarning: Palette images with Transparency expressed in bytes should be converted to RGBA images\n",
            "  \"Palette images with Transparency expressed in bytes should be \"\n",
            "Epoch= 21 Loss=0.4135437309741974 Batch_id=4 Accuracy=82.81:   4%|▍         | 5/120 [00:20<08:15,  4.30s/it]/usr/local/lib/python3.6/dist-packages/PIL/Image.py:932: UserWarning: Palette images with Transparency expressed in bytes should be converted to RGBA images\n",
            "  \"Palette images with Transparency expressed in bytes should be \"\n",
            "Epoch= 21 Loss=0.308562308549881 Batch_id=8 Accuracy=90.62:   8%|▊         | 9/120 [00:30<03:54,  2.11s/it]/usr/local/lib/python3.6/dist-packages/PIL/Image.py:932: UserWarning: Palette images with Transparency expressed in bytes should be converted to RGBA images\n",
            "  \"Palette images with Transparency expressed in bytes should be \"\n",
            "Epoch= 21 Loss=0.4414517879486084 Batch_id=26 Accuracy=82.81:  22%|██▎       | 27/120 [01:15<03:01,  1.95s/it]/usr/local/lib/python3.6/dist-packages/PIL/Image.py:932: UserWarning: Palette images with Transparency expressed in bytes should be converted to RGBA images\n",
            "  \"Palette images with Transparency expressed in bytes should be \"\n",
            "Epoch= 21 Loss=0.3372969627380371 Batch_id=32 Accuracy=87.50:  28%|██▊       | 33/120 [01:27<02:57,  2.04s/it]/usr/local/lib/python3.6/dist-packages/PIL/TiffImagePlugin.py:788: UserWarning: Corrupt EXIF data.  Expecting to read 4 bytes but only got 0. \n",
            "  warnings.warn(str(msg))\n",
            "Epoch= 21 Loss=0.32335492968559265 Batch_id=119 Accuracy=88.46: 100%|██████████| 120/120 [04:57<00:00,  2.48s/it]\n",
            "  8%|▊         | 4/52 [00:15<05:27,  6.83s/it]/usr/local/lib/python3.6/dist-packages/PIL/Image.py:932: UserWarning: Palette images with Transparency expressed in bytes should be converted to RGBA images\n",
            "  \"Palette images with Transparency expressed in bytes should be \"\n",
            " 23%|██▎       | 12/52 [00:35<01:46,  2.65s/it]/usr/local/lib/python3.6/dist-packages/PIL/Image.py:932: UserWarning: Palette images with Transparency expressed in bytes should be converted to RGBA images\n",
            "  \"Palette images with Transparency expressed in bytes should be \"\n",
            "/usr/local/lib/python3.6/dist-packages/PIL/Image.py:932: UserWarning: Palette images with Transparency expressed in bytes should be converted to RGBA images\n",
            "  \"Palette images with Transparency expressed in bytes should be \"\n",
            " 52%|█████▏    | 27/52 [01:08<00:41,  1.66s/it]/usr/local/lib/python3.6/dist-packages/PIL/Image.py:932: UserWarning: Palette images with Transparency expressed in bytes should be converted to RGBA images\n",
            "  \"Palette images with Transparency expressed in bytes should be \"\n",
            "100%|██████████| 52/52 [01:57<00:00,  2.27s/it]\n",
            "  0%|          | 0/120 [00:00<?, ?it/s]"
          ],
          "name": "stderr"
        },
        {
          "output_type": "stream",
          "text": [
            "Test Loss= 0.66944784 Test Accuracy= 84.1155786576976\n",
            "lr=  0.0037000000000000023\n"
          ],
          "name": "stdout"
        },
        {
          "output_type": "stream",
          "text": [
            "Epoch= 22 Loss=0.1949681043624878 Batch_id=3 Accuracy=90.62:   3%|▎         | 4/120 [00:13<08:39,  4.48s/it]/usr/local/lib/python3.6/dist-packages/PIL/Image.py:932: UserWarning: Palette images with Transparency expressed in bytes should be converted to RGBA images\n",
            "  \"Palette images with Transparency expressed in bytes should be \"\n",
            "Epoch= 22 Loss=0.3384005129337311 Batch_id=19 Accuracy=85.94:  17%|█▋        | 20/120 [00:53<02:15,  1.36s/it]/usr/local/lib/python3.6/dist-packages/PIL/Image.py:932: UserWarning: Palette images with Transparency expressed in bytes should be converted to RGBA images\n",
            "  \"Palette images with Transparency expressed in bytes should be \"\n",
            "Epoch= 22 Loss=0.3789953887462616 Batch_id=40 Accuracy=80.47:  34%|███▍      | 41/120 [01:45<02:12,  1.68s/it]/usr/local/lib/python3.6/dist-packages/PIL/Image.py:932: UserWarning: Palette images with Transparency expressed in bytes should be converted to RGBA images\n",
            "  \"Palette images with Transparency expressed in bytes should be \"\n",
            "Epoch= 22 Loss=0.33772557973861694 Batch_id=44 Accuracy=85.94:  38%|███▊      | 45/120 [01:55<01:55,  1.54s/it]/usr/local/lib/python3.6/dist-packages/PIL/Image.py:932: UserWarning: Palette images with Transparency expressed in bytes should be converted to RGBA images\n",
            "  \"Palette images with Transparency expressed in bytes should be \"\n",
            "Epoch= 22 Loss=0.3631078600883484 Batch_id=76 Accuracy=82.81:  64%|██████▍   | 77/120 [03:14<00:56,  1.32s/it]/usr/local/lib/python3.6/dist-packages/PIL/TiffImagePlugin.py:788: UserWarning: Corrupt EXIF data.  Expecting to read 4 bytes but only got 0. \n",
            "  warnings.warn(str(msg))\n",
            "Epoch= 22 Loss=0.2854444086551666 Batch_id=119 Accuracy=88.46: 100%|██████████| 120/120 [04:56<00:00,  2.47s/it]\n",
            " 15%|█▌        | 8/52 [00:28<03:48,  5.20s/it]/usr/local/lib/python3.6/dist-packages/PIL/Image.py:932: UserWarning: Palette images with Transparency expressed in bytes should be converted to RGBA images\n",
            "  \"Palette images with Transparency expressed in bytes should be \"\n",
            " 50%|█████     | 26/52 [01:04<00:39,  1.53s/it]/usr/local/lib/python3.6/dist-packages/PIL/Image.py:932: UserWarning: Palette images with Transparency expressed in bytes should be converted to RGBA images\n",
            "  \"Palette images with Transparency expressed in bytes should be \"\n",
            "/usr/local/lib/python3.6/dist-packages/PIL/Image.py:932: UserWarning: Palette images with Transparency expressed in bytes should be converted to RGBA images\n",
            "  \"Palette images with Transparency expressed in bytes should be \"\n",
            "100%|██████████| 52/52 [02:03<00:00,  2.37s/it]\n",
            "  0%|          | 0/120 [00:00<?, ?it/s]"
          ],
          "name": "stderr"
        },
        {
          "output_type": "stream",
          "text": [
            "Test Loss= 0.19402212 Test Accuracy= 83.93212047087601\n",
            "lr=  0.0028000000000000013\n"
          ],
          "name": "stdout"
        },
        {
          "output_type": "stream",
          "text": [
            "Epoch= 23 Loss=0.30205038189888 Batch_id=3 Accuracy=89.84:   3%|▎         | 4/120 [00:12<08:07,  4.21s/it]/usr/local/lib/python3.6/dist-packages/PIL/Image.py:932: UserWarning: Palette images with Transparency expressed in bytes should be converted to RGBA images\n",
            "  \"Palette images with Transparency expressed in bytes should be \"\n",
            "Epoch= 23 Loss=0.37927037477493286 Batch_id=11 Accuracy=80.47:  10%|█         | 12/120 [00:31<03:59,  2.22s/it]/usr/local/lib/python3.6/dist-packages/PIL/Image.py:932: UserWarning: Palette images with Transparency expressed in bytes should be converted to RGBA images\n",
            "  \"Palette images with Transparency expressed in bytes should be \"\n",
            "Epoch= 23 Loss=0.25837329030036926 Batch_id=17 Accuracy=89.06:  15%|█▌        | 18/120 [00:49<04:37,  2.73s/it]/usr/local/lib/python3.6/dist-packages/PIL/Image.py:932: UserWarning: Palette images with Transparency expressed in bytes should be converted to RGBA images\n",
            "  \"Palette images with Transparency expressed in bytes should be \"\n",
            "Epoch= 23 Loss=0.29183006286621094 Batch_id=31 Accuracy=86.72:  27%|██▋       | 32/120 [01:20<02:09,  1.47s/it]/usr/local/lib/python3.6/dist-packages/PIL/Image.py:932: UserWarning: Palette images with Transparency expressed in bytes should be converted to RGBA images\n",
            "  \"Palette images with Transparency expressed in bytes should be \"\n",
            "/usr/local/lib/python3.6/dist-packages/PIL/TiffImagePlugin.py:788: UserWarning: Corrupt EXIF data.  Expecting to read 4 bytes but only got 0. \n",
            "  warnings.warn(str(msg))\n",
            "Epoch= 23 Loss=0.7874984741210938 Batch_id=119 Accuracy=65.38: 100%|██████████| 120/120 [04:56<00:00,  2.47s/it]\n",
            "  6%|▌         | 3/52 [00:10<03:52,  4.75s/it]/usr/local/lib/python3.6/dist-packages/PIL/Image.py:932: UserWarning: Palette images with Transparency expressed in bytes should be converted to RGBA images\n",
            "  \"Palette images with Transparency expressed in bytes should be \"\n",
            " 54%|█████▍    | 28/52 [01:07<00:47,  1.97s/it]/usr/local/lib/python3.6/dist-packages/PIL/Image.py:932: UserWarning: Palette images with Transparency expressed in bytes should be converted to RGBA images\n",
            "  \"Palette images with Transparency expressed in bytes should be \"\n",
            " 85%|████████▍ | 44/52 [01:48<00:23,  2.89s/it]/usr/local/lib/python3.6/dist-packages/PIL/Image.py:932: UserWarning: Palette images with Transparency expressed in bytes should be converted to RGBA images\n",
            "  \"Palette images with Transparency expressed in bytes should be \"\n",
            " 88%|████████▊ | 46/52 [01:51<00:14,  2.49s/it]/usr/local/lib/python3.6/dist-packages/PIL/Image.py:932: UserWarning: Palette images with Transparency expressed in bytes should be converted to RGBA images\n",
            "  \"Palette images with Transparency expressed in bytes should be \"\n",
            "100%|██████████| 52/52 [01:58<00:00,  2.28s/it]\n",
            "  0%|          | 0/120 [00:00<?, ?it/s]"
          ],
          "name": "stderr"
        },
        {
          "output_type": "stream",
          "text": [
            "Test Loss= 0.15351926 Test Accuracy= 84.6353768536921\n",
            "lr=  0.0019000000000000006\n"
          ],
          "name": "stdout"
        },
        {
          "output_type": "stream",
          "text": [
            "Epoch= 24 Loss=0.2519387900829315 Batch_id=9 Accuracy=90.62:   8%|▊         | 10/120 [00:27<03:36,  1.97s/it]/usr/local/lib/python3.6/dist-packages/PIL/Image.py:932: UserWarning: Palette images with Transparency expressed in bytes should be converted to RGBA images\n",
            "  \"Palette images with Transparency expressed in bytes should be \"\n",
            "Epoch= 24 Loss=0.3119504451751709 Batch_id=17 Accuracy=87.50:  15%|█▌        | 18/120 [00:50<02:43,  1.60s/it]/usr/local/lib/python3.6/dist-packages/PIL/Image.py:932: UserWarning: Palette images with Transparency expressed in bytes should be converted to RGBA images\n",
            "  \"Palette images with Transparency expressed in bytes should be \"\n",
            "/usr/local/lib/python3.6/dist-packages/PIL/Image.py:932: UserWarning: Palette images with Transparency expressed in bytes should be converted to RGBA images\n",
            "  \"Palette images with Transparency expressed in bytes should be \"\n",
            "Epoch= 24 Loss=0.3381049633026123 Batch_id=33 Accuracy=89.06:  28%|██▊       | 34/120 [01:29<01:58,  1.37s/it]/usr/local/lib/python3.6/dist-packages/PIL/Image.py:932: UserWarning: Palette images with Transparency expressed in bytes should be converted to RGBA images\n",
            "  \"Palette images with Transparency expressed in bytes should be \"\n",
            "Epoch= 24 Loss=0.2814919352531433 Batch_id=73 Accuracy=86.72:  62%|██████▏   | 74/120 [03:04<01:10,  1.54s/it]/usr/local/lib/python3.6/dist-packages/PIL/TiffImagePlugin.py:788: UserWarning: Corrupt EXIF data.  Expecting to read 4 bytes but only got 0. \n",
            "  warnings.warn(str(msg))\n",
            "Epoch= 24 Loss=0.2563706636428833 Batch_id=119 Accuracy=96.15: 100%|██████████| 120/120 [04:54<00:00,  2.45s/it]\n",
            " 27%|██▋       | 14/52 [00:37<01:50,  2.91s/it]/usr/local/lib/python3.6/dist-packages/PIL/Image.py:932: UserWarning: Palette images with Transparency expressed in bytes should be converted to RGBA images\n",
            "  \"Palette images with Transparency expressed in bytes should be \"\n",
            "/usr/local/lib/python3.6/dist-packages/PIL/Image.py:932: UserWarning: Palette images with Transparency expressed in bytes should be converted to RGBA images\n",
            "  \"Palette images with Transparency expressed in bytes should be \"\n",
            "/usr/local/lib/python3.6/dist-packages/PIL/Image.py:932: UserWarning: Palette images with Transparency expressed in bytes should be converted to RGBA images\n",
            "  \"Palette images with Transparency expressed in bytes should be \"\n",
            " 50%|█████     | 26/52 [01:05<00:45,  1.74s/it]/usr/local/lib/python3.6/dist-packages/PIL/Image.py:932: UserWarning: Palette images with Transparency expressed in bytes should be converted to RGBA images\n",
            "  \"Palette images with Transparency expressed in bytes should be \"\n",
            "100%|██████████| 52/52 [01:59<00:00,  2.30s/it]\n",
            "  0%|          | 0/120 [00:00<?, ?it/s]"
          ],
          "name": "stderr"
        },
        {
          "output_type": "stream",
          "text": [
            "Test Loss= 0.3042388 Test Accuracy= 84.89527595168934\n",
            "lr=  0.001\n"
          ],
          "name": "stdout"
        },
        {
          "output_type": "stream",
          "text": [
            "Epoch= 25 Loss=0.27746671438217163 Batch_id=11 Accuracy=86.72:  10%|█         | 12/120 [00:29<02:50,  1.58s/it]/usr/local/lib/python3.6/dist-packages/PIL/Image.py:932: UserWarning: Palette images with Transparency expressed in bytes should be converted to RGBA images\n",
            "  \"Palette images with Transparency expressed in bytes should be \"\n",
            "Epoch= 25 Loss=0.27365005016326904 Batch_id=28 Accuracy=88.28:  24%|██▍       | 29/120 [01:18<04:12,  2.78s/it]/usr/local/lib/python3.6/dist-packages/PIL/Image.py:932: UserWarning: Palette images with Transparency expressed in bytes should be converted to RGBA images\n",
            "  \"Palette images with Transparency expressed in bytes should be \"\n",
            "Epoch= 25 Loss=0.30218973755836487 Batch_id=44 Accuracy=87.50:  38%|███▊      | 45/120 [01:52<01:48,  1.44s/it]/usr/local/lib/python3.6/dist-packages/PIL/Image.py:932: UserWarning: Palette images with Transparency expressed in bytes should be converted to RGBA images\n",
            "  \"Palette images with Transparency expressed in bytes should be \"\n",
            "Epoch= 25 Loss=0.2903886139392853 Batch_id=60 Accuracy=87.50:  51%|█████     | 61/120 [02:34<01:17,  1.31s/it]/usr/local/lib/python3.6/dist-packages/PIL/TiffImagePlugin.py:788: UserWarning: Corrupt EXIF data.  Expecting to read 4 bytes but only got 0. \n",
            "  warnings.warn(str(msg))\n",
            "Epoch= 25 Loss=0.32398539781570435 Batch_id=64 Accuracy=85.94:  54%|█████▍    | 65/120 [02:44<01:19,  1.44s/it]/usr/local/lib/python3.6/dist-packages/PIL/Image.py:932: UserWarning: Palette images with Transparency expressed in bytes should be converted to RGBA images\n",
            "  \"Palette images with Transparency expressed in bytes should be \"\n",
            "Epoch= 25 Loss=0.2491161972284317 Batch_id=119 Accuracy=88.46: 100%|██████████| 120/120 [04:54<00:00,  2.46s/it]\n",
            " 19%|█▉        | 10/52 [00:27<02:20,  3.35s/it]/usr/local/lib/python3.6/dist-packages/PIL/Image.py:932: UserWarning: Palette images with Transparency expressed in bytes should be converted to RGBA images\n",
            "  \"Palette images with Transparency expressed in bytes should be \"\n",
            " 31%|███       | 16/52 [00:40<01:40,  2.80s/it]/usr/local/lib/python3.6/dist-packages/PIL/Image.py:932: UserWarning: Palette images with Transparency expressed in bytes should be converted to RGBA images\n",
            "  \"Palette images with Transparency expressed in bytes should be \"\n",
            "100%|██████████| 52/52 [01:58<00:00,  2.28s/it]\n",
            "  0%|          | 0/120 [00:00<?, ?it/s]"
          ],
          "name": "stderr"
        },
        {
          "output_type": "stream",
          "text": [
            "Test Loss= 0.20952536 Test Accuracy= 84.69652958263262\n",
            "lr=  0.0028000000000000013\n"
          ],
          "name": "stdout"
        },
        {
          "output_type": "stream",
          "text": [
            "Epoch= 26 Loss=0.3999946415424347 Batch_id=7 Accuracy=83.59:   7%|▋         | 8/120 [00:25<03:45,  2.02s/it]/usr/local/lib/python3.6/dist-packages/PIL/Image.py:932: UserWarning: Palette images with Transparency expressed in bytes should be converted to RGBA images\n",
            "  \"Palette images with Transparency expressed in bytes should be \"\n",
            "Epoch= 26 Loss=0.35525596141815186 Batch_id=8 Accuracy=85.16:   8%|▊         | 9/120 [00:30<05:23,  2.91s/it]/usr/local/lib/python3.6/dist-packages/PIL/Image.py:932: UserWarning: Palette images with Transparency expressed in bytes should be converted to RGBA images\n",
            "  \"Palette images with Transparency expressed in bytes should be \"\n",
            "Epoch= 26 Loss=0.3712165057659149 Batch_id=20 Accuracy=85.94:  18%|█▊        | 21/120 [00:54<02:09,  1.31s/it]/usr/local/lib/python3.6/dist-packages/PIL/Image.py:932: UserWarning: Palette images with Transparency expressed in bytes should be converted to RGBA images\n",
            "  \"Palette images with Transparency expressed in bytes should be \"\n",
            "Epoch= 26 Loss=0.23896771669387817 Batch_id=24 Accuracy=92.19:  21%|██        | 25/120 [01:04<02:13,  1.40s/it]/usr/local/lib/python3.6/dist-packages/PIL/Image.py:932: UserWarning: Palette images with Transparency expressed in bytes should be converted to RGBA images\n",
            "  \"Palette images with Transparency expressed in bytes should be \"\n",
            "Epoch= 26 Loss=0.16442282497882843 Batch_id=86 Accuracy=95.31:  72%|███████▎  | 87/120 [03:37<00:40,  1.24s/it]/usr/local/lib/python3.6/dist-packages/PIL/TiffImagePlugin.py:788: UserWarning: Corrupt EXIF data.  Expecting to read 4 bytes but only got 0. \n",
            "  warnings.warn(str(msg))\n",
            "Epoch= 26 Loss=0.3528277575969696 Batch_id=119 Accuracy=84.62: 100%|██████████| 120/120 [04:54<00:00,  2.45s/it]\n",
            "  0%|          | 0/52 [00:00<?, ?it/s]/usr/local/lib/python3.6/dist-packages/PIL/Image.py:932: UserWarning: Palette images with Transparency expressed in bytes should be converted to RGBA images\n",
            "  \"Palette images with Transparency expressed in bytes should be \"\n",
            " 37%|███▋      | 19/52 [00:49<01:13,  2.23s/it]/usr/local/lib/python3.6/dist-packages/PIL/Image.py:932: UserWarning: Palette images with Transparency expressed in bytes should be converted to RGBA images\n",
            "  \"Palette images with Transparency expressed in bytes should be \"\n",
            " 69%|██████▉   | 36/52 [01:27<00:36,  2.27s/it]/usr/local/lib/python3.6/dist-packages/PIL/Image.py:932: UserWarning: Palette images with Transparency expressed in bytes should be converted to RGBA images\n",
            "  \"Palette images with Transparency expressed in bytes should be \"\n",
            " 77%|███████▋  | 40/52 [01:35<00:26,  2.18s/it]/usr/local/lib/python3.6/dist-packages/PIL/Image.py:932: UserWarning: Palette images with Transparency expressed in bytes should be converted to RGBA images\n",
            "  \"Palette images with Transparency expressed in bytes should be \"\n",
            "100%|██████████| 52/52 [01:59<00:00,  2.29s/it]\n",
            "  0%|          | 0/120 [00:00<?, ?it/s]"
          ],
          "name": "stderr"
        },
        {
          "output_type": "stream",
          "text": [
            "Test Loss= 0.4771956 Test Accuracy= 84.65066503592723\n",
            "lr=  0.004600000000000003\n"
          ],
          "name": "stdout"
        },
        {
          "output_type": "stream",
          "text": [
            "/usr/local/lib/python3.6/dist-packages/PIL/Image.py:932: UserWarning: Palette images with Transparency expressed in bytes should be converted to RGBA images\n",
            "  \"Palette images with Transparency expressed in bytes should be \"\n",
            "Epoch= 27 Loss=0.437552809715271 Batch_id=3 Accuracy=84.38:   3%|▎         | 4/120 [00:11<07:10,  3.71s/it]/usr/local/lib/python3.6/dist-packages/PIL/TiffImagePlugin.py:788: UserWarning: Corrupt EXIF data.  Expecting to read 4 bytes but only got 0. \n",
            "  warnings.warn(str(msg))\n",
            "Epoch= 27 Loss=0.29413020610809326 Batch_id=5 Accuracy=88.28:   5%|▌         | 6/120 [00:16<05:41,  2.99s/it]/usr/local/lib/python3.6/dist-packages/PIL/Image.py:932: UserWarning: Palette images with Transparency expressed in bytes should be converted to RGBA images\n",
            "  \"Palette images with Transparency expressed in bytes should be \"\n",
            "Epoch= 27 Loss=0.3337286412715912 Batch_id=6 Accuracy=87.50:   6%|▌         | 7/120 [00:18<05:05,  2.70s/it]/usr/local/lib/python3.6/dist-packages/PIL/Image.py:932: UserWarning: Palette images with Transparency expressed in bytes should be converted to RGBA images\n",
            "  \"Palette images with Transparency expressed in bytes should be \"\n",
            "Epoch= 27 Loss=0.26754888892173767 Batch_id=19 Accuracy=89.84:  17%|█▋        | 20/120 [00:48<02:48,  1.69s/it]/usr/local/lib/python3.6/dist-packages/PIL/Image.py:932: UserWarning: Palette images with Transparency expressed in bytes should be converted to RGBA images\n",
            "  \"Palette images with Transparency expressed in bytes should be \"\n",
            "Epoch= 27 Loss=0.36633971333503723 Batch_id=119 Accuracy=84.62: 100%|██████████| 120/120 [04:55<00:00,  2.46s/it]\n",
            "  0%|          | 0/52 [00:00<?, ?it/s]/usr/local/lib/python3.6/dist-packages/PIL/Image.py:932: UserWarning: Palette images with Transparency expressed in bytes should be converted to RGBA images\n",
            "  \"Palette images with Transparency expressed in bytes should be \"\n",
            " 33%|███▎      | 17/52 [00:41<01:16,  2.20s/it]/usr/local/lib/python3.6/dist-packages/PIL/Image.py:932: UserWarning: Palette images with Transparency expressed in bytes should be converted to RGBA images\n",
            "  \"Palette images with Transparency expressed in bytes should be \"\n",
            "/usr/local/lib/python3.6/dist-packages/PIL/Image.py:932: UserWarning: Palette images with Transparency expressed in bytes should be converted to RGBA images\n",
            "  \"Palette images with Transparency expressed in bytes should be \"\n",
            "100%|██████████| 52/52 [01:59<00:00,  2.30s/it]\n",
            "  0%|          | 0/120 [00:00<?, ?it/s]"
          ],
          "name": "stderr"
        },
        {
          "output_type": "stream",
          "text": [
            "Test Loss= 0.88877815 Test Accuracy= 84.26846048004892\n",
            "lr=  0.006400000000000005\n"
          ],
          "name": "stdout"
        },
        {
          "output_type": "stream",
          "text": [
            "/usr/local/lib/python3.6/dist-packages/PIL/Image.py:932: UserWarning: Palette images with Transparency expressed in bytes should be converted to RGBA images\n",
            "  \"Palette images with Transparency expressed in bytes should be \"\n",
            "Epoch= 28 Loss=0.3104724586009979 Batch_id=4 Accuracy=89.06:   4%|▍         | 5/120 [00:11<03:46,  1.97s/it]/usr/local/lib/python3.6/dist-packages/PIL/Image.py:932: UserWarning: Palette images with Transparency expressed in bytes should be converted to RGBA images\n",
            "  \"Palette images with Transparency expressed in bytes should be \"\n",
            "Epoch= 28 Loss=0.5324103832244873 Batch_id=20 Accuracy=82.81:  18%|█▊        | 21/120 [00:55<03:40,  2.23s/it]/usr/local/lib/python3.6/dist-packages/PIL/TiffImagePlugin.py:788: UserWarning: Corrupt EXIF data.  Expecting to read 4 bytes but only got 0. \n",
            "  warnings.warn(str(msg))\n",
            "/usr/local/lib/python3.6/dist-packages/PIL/Image.py:932: UserWarning: Palette images with Transparency expressed in bytes should be converted to RGBA images\n",
            "  \"Palette images with Transparency expressed in bytes should be \"\n",
            "Epoch= 28 Loss=0.3766712546348572 Batch_id=50 Accuracy=86.72:  42%|████▎     | 51/120 [02:12<02:00,  1.74s/it]/usr/local/lib/python3.6/dist-packages/PIL/Image.py:932: UserWarning: Palette images with Transparency expressed in bytes should be converted to RGBA images\n",
            "  \"Palette images with Transparency expressed in bytes should be \"\n",
            "Epoch= 28 Loss=0.24605730175971985 Batch_id=119 Accuracy=92.31: 100%|██████████| 120/120 [05:06<00:00,  2.55s/it]\n",
            "  0%|          | 0/52 [00:00<?, ?it/s]/usr/local/lib/python3.6/dist-packages/PIL/Image.py:932: UserWarning: Palette images with Transparency expressed in bytes should be converted to RGBA images\n",
            "  \"Palette images with Transparency expressed in bytes should be \"\n",
            " 17%|█▋        | 9/52 [00:25<02:13,  3.11s/it]/usr/local/lib/python3.6/dist-packages/PIL/Image.py:932: UserWarning: Palette images with Transparency expressed in bytes should be converted to RGBA images\n",
            "  \"Palette images with Transparency expressed in bytes should be \"\n",
            " 63%|██████▎   | 33/52 [01:22<00:37,  1.97s/it]/usr/local/lib/python3.6/dist-packages/PIL/Image.py:932: UserWarning: Palette images with Transparency expressed in bytes should be converted to RGBA images\n",
            "  \"Palette images with Transparency expressed in bytes should be \"\n",
            "100%|██████████| 52/52 [02:05<00:00,  2.41s/it]\n",
            "  0%|          | 0/120 [00:00<?, ?it/s]"
          ],
          "name": "stderr"
        },
        {
          "output_type": "stream",
          "text": [
            "Test Loss= 0.26808083 Test Accuracy= 82.61733679865463\n",
            "lr=  0.008200000000000006\n"
          ],
          "name": "stdout"
        },
        {
          "output_type": "stream",
          "text": [
            "Epoch= 29 Loss=0.4963030517101288 Batch_id=4 Accuracy=79.69:   4%|▍         | 5/120 [00:18<07:22,  3.84s/it]/usr/local/lib/python3.6/dist-packages/PIL/Image.py:932: UserWarning: Palette images with Transparency expressed in bytes should be converted to RGBA images\n",
            "  \"Palette images with Transparency expressed in bytes should be \"\n",
            "Epoch= 29 Loss=0.34557732939720154 Batch_id=7 Accuracy=87.50:   7%|▋         | 8/120 [00:24<04:24,  2.36s/it]/usr/local/lib/python3.6/dist-packages/PIL/Image.py:932: UserWarning: Palette images with Transparency expressed in bytes should be converted to RGBA images\n",
            "  \"Palette images with Transparency expressed in bytes should be \"\n",
            "Epoch= 29 Loss=0.34645965695381165 Batch_id=24 Accuracy=83.59:  21%|██        | 25/120 [01:17<03:49,  2.41s/it]/usr/local/lib/python3.6/dist-packages/PIL/TiffImagePlugin.py:788: UserWarning: Corrupt EXIF data.  Expecting to read 4 bytes but only got 0. \n",
            "  warnings.warn(str(msg))\n",
            "Epoch= 29 Loss=0.2947021424770355 Batch_id=40 Accuracy=89.84:  34%|███▍      | 41/120 [01:56<01:35,  1.20s/it]/usr/local/lib/python3.6/dist-packages/PIL/Image.py:932: UserWarning: Palette images with Transparency expressed in bytes should be converted to RGBA images\n",
            "  \"Palette images with Transparency expressed in bytes should be \"\n",
            "Epoch= 29 Loss=0.37762656807899475 Batch_id=84 Accuracy=85.16:  71%|███████   | 85/120 [03:40<00:43,  1.24s/it]/usr/local/lib/python3.6/dist-packages/PIL/Image.py:932: UserWarning: Palette images with Transparency expressed in bytes should be converted to RGBA images\n",
            "  \"Palette images with Transparency expressed in bytes should be \"\n",
            "Epoch= 29 Loss=0.39363163709640503 Batch_id=119 Accuracy=92.31: 100%|██████████| 120/120 [05:00<00:00,  2.51s/it]\n",
            "  0%|          | 0/52 [00:00<?, ?it/s]/usr/local/lib/python3.6/dist-packages/PIL/Image.py:932: UserWarning: Palette images with Transparency expressed in bytes should be converted to RGBA images\n",
            "  \"Palette images with Transparency expressed in bytes should be \"\n",
            " 33%|███▎      | 17/52 [00:45<01:43,  2.95s/it]/usr/local/lib/python3.6/dist-packages/PIL/Image.py:932: UserWarning: Palette images with Transparency expressed in bytes should be converted to RGBA images\n",
            "  \"Palette images with Transparency expressed in bytes should be \"\n",
            " 38%|███▊      | 20/52 [00:54<01:51,  3.48s/it]/usr/local/lib/python3.6/dist-packages/PIL/Image.py:932: UserWarning: Palette images with Transparency expressed in bytes should be converted to RGBA images\n",
            "  \"Palette images with Transparency expressed in bytes should be \"\n",
            " 77%|███████▋  | 40/52 [01:42<00:30,  2.56s/it]/usr/local/lib/python3.6/dist-packages/PIL/Image.py:932: UserWarning: Palette images with Transparency expressed in bytes should be converted to RGBA images\n",
            "  \"Palette images with Transparency expressed in bytes should be \"\n",
            "100%|██████████| 52/52 [01:59<00:00,  2.30s/it]\n",
            "  0%|          | 0/120 [00:00<?, ?it/s]"
          ],
          "name": "stderr"
        },
        {
          "output_type": "stream",
          "text": [
            "Test Loss= 0.44494992 Test Accuracy= 84.03913774652194\n",
            "lr=  0.009999999999999998\n"
          ],
          "name": "stdout"
        },
        {
          "output_type": "stream",
          "text": [
            "/usr/local/lib/python3.6/dist-packages/PIL/Image.py:932: UserWarning: Palette images with Transparency expressed in bytes should be converted to RGBA images\n",
            "  \"Palette images with Transparency expressed in bytes should be \"\n",
            "Epoch= 30 Loss=0.367799311876297 Batch_id=8 Accuracy=90.62:   8%|▊         | 9/120 [00:25<04:28,  2.42s/it]/usr/local/lib/python3.6/dist-packages/PIL/TiffImagePlugin.py:788: UserWarning: Corrupt EXIF data.  Expecting to read 4 bytes but only got 0. \n",
            "  warnings.warn(str(msg))\n",
            "Epoch= 30 Loss=0.31301361322402954 Batch_id=24 Accuracy=91.41:  21%|██        | 25/120 [01:06<01:50,  1.16s/it]/usr/local/lib/python3.6/dist-packages/PIL/Image.py:932: UserWarning: Palette images with Transparency expressed in bytes should be converted to RGBA images\n",
            "  \"Palette images with Transparency expressed in bytes should be \"\n",
            "Epoch= 30 Loss=0.2781357765197754 Batch_id=30 Accuracy=89.84:  26%|██▌       | 31/120 [01:21<02:56,  1.99s/it]/usr/local/lib/python3.6/dist-packages/PIL/Image.py:932: UserWarning: Palette images with Transparency expressed in bytes should be converted to RGBA images\n",
            "  \"Palette images with Transparency expressed in bytes should be \"\n",
            "Epoch= 30 Loss=0.43725037574768066 Batch_id=36 Accuracy=84.38:  31%|███       | 37/120 [01:35<02:40,  1.94s/it]/usr/local/lib/python3.6/dist-packages/PIL/Image.py:932: UserWarning: Palette images with Transparency expressed in bytes should be converted to RGBA images\n",
            "  \"Palette images with Transparency expressed in bytes should be \"\n",
            "Epoch= 30 Loss=0.40907081961631775 Batch_id=119 Accuracy=80.77: 100%|██████████| 120/120 [04:53<00:00,  2.44s/it]\n",
            " 13%|█▎        | 7/52 [00:21<02:34,  3.43s/it]/usr/local/lib/python3.6/dist-packages/PIL/Image.py:932: UserWarning: Palette images with Transparency expressed in bytes should be converted to RGBA images\n",
            "  \"Palette images with Transparency expressed in bytes should be \"\n",
            " 17%|█▋        | 9/52 [00:29<02:36,  3.63s/it]/usr/local/lib/python3.6/dist-packages/PIL/Image.py:932: UserWarning: Palette images with Transparency expressed in bytes should be converted to RGBA images\n",
            "  \"Palette images with Transparency expressed in bytes should be \"\n",
            " 29%|██▉       | 15/52 [00:39<01:43,  2.81s/it]/usr/local/lib/python3.6/dist-packages/PIL/Image.py:932: UserWarning: Palette images with Transparency expressed in bytes should be converted to RGBA images\n",
            "  \"Palette images with Transparency expressed in bytes should be \"\n",
            " 54%|█████▍    | 28/52 [01:05<01:03,  2.65s/it]/usr/local/lib/python3.6/dist-packages/PIL/Image.py:932: UserWarning: Palette images with Transparency expressed in bytes should be converted to RGBA images\n",
            "  \"Palette images with Transparency expressed in bytes should be \"\n",
            "100%|██████████| 52/52 [01:58<00:00,  2.29s/it]\n",
            "  0%|          | 0/120 [00:00<?, ?it/s]"
          ],
          "name": "stderr"
        },
        {
          "output_type": "stream",
          "text": [
            "Test Loss= 0.13363193 Test Accuracy= 84.62008867145697\n",
            "lr=  0.009549999999999996\n"
          ],
          "name": "stdout"
        },
        {
          "output_type": "stream",
          "text": [
            "/usr/local/lib/python3.6/dist-packages/PIL/Image.py:932: UserWarning: Palette images with Transparency expressed in bytes should be converted to RGBA images\n",
            "  \"Palette images with Transparency expressed in bytes should be \"\n",
            "Epoch= 31 Loss=0.35015109181404114 Batch_id=3 Accuracy=87.50:   3%|▎         | 4/120 [00:13<07:55,  4.10s/it]/usr/local/lib/python3.6/dist-packages/PIL/Image.py:932: UserWarning: Palette images with Transparency expressed in bytes should be converted to RGBA images\n",
            "  \"Palette images with Transparency expressed in bytes should be \"\n",
            "Epoch= 31 Loss=0.3828616142272949 Batch_id=57 Accuracy=85.16:  48%|████▊     | 58/120 [02:27<01:12,  1.17s/it]/usr/local/lib/python3.6/dist-packages/PIL/Image.py:932: UserWarning: Palette images with Transparency expressed in bytes should be converted to RGBA images\n",
            "  \"Palette images with Transparency expressed in bytes should be \"\n",
            "Epoch= 31 Loss=0.40135523676872253 Batch_id=70 Accuracy=83.59:  59%|█████▉    | 71/120 [03:05<02:49,  3.46s/it]/usr/local/lib/python3.6/dist-packages/PIL/Image.py:932: UserWarning: Palette images with Transparency expressed in bytes should be converted to RGBA images\n",
            "  \"Palette images with Transparency expressed in bytes should be \"\n",
            "Epoch= 31 Loss=0.3462662100791931 Batch_id=103 Accuracy=87.50:  87%|████████▋ | 104/120 [04:23<00:21,  1.34s/it]/usr/local/lib/python3.6/dist-packages/PIL/TiffImagePlugin.py:788: UserWarning: Corrupt EXIF data.  Expecting to read 4 bytes but only got 0. \n",
            "  warnings.warn(str(msg))\n",
            "Epoch= 31 Loss=0.21960900723934174 Batch_id=119 Accuracy=96.15: 100%|██████████| 120/120 [04:57<00:00,  2.48s/it]\n",
            " 13%|█▎        | 7/52 [00:22<03:24,  4.53s/it]/usr/local/lib/python3.6/dist-packages/PIL/Image.py:932: UserWarning: Palette images with Transparency expressed in bytes should be converted to RGBA images\n",
            "  \"Palette images with Transparency expressed in bytes should be \"\n",
            " 19%|█▉        | 10/52 [00:30<02:25,  3.47s/it]/usr/local/lib/python3.6/dist-packages/PIL/Image.py:932: UserWarning: Palette images with Transparency expressed in bytes should be converted to RGBA images\n",
            "  \"Palette images with Transparency expressed in bytes should be \"\n",
            " 50%|█████     | 26/52 [01:11<01:05,  2.53s/it]/usr/local/lib/python3.6/dist-packages/PIL/Image.py:932: UserWarning: Palette images with Transparency expressed in bytes should be converted to RGBA images\n",
            "  \"Palette images with Transparency expressed in bytes should be \"\n",
            " 85%|████████▍ | 44/52 [01:46<00:13,  1.68s/it]/usr/local/lib/python3.6/dist-packages/PIL/Image.py:932: UserWarning: Palette images with Transparency expressed in bytes should be converted to RGBA images\n",
            "  \"Palette images with Transparency expressed in bytes should be \"\n",
            "100%|██████████| 52/52 [02:01<00:00,  2.33s/it]\n",
            "  0%|          | 0/120 [00:00<?, ?it/s]"
          ],
          "name": "stderr"
        },
        {
          "output_type": "stream",
          "text": [
            "Test Loss= 0.7400395 Test Accuracy= 84.06971411099221\n",
            "lr=  0.009099999999999997\n"
          ],
          "name": "stdout"
        },
        {
          "output_type": "stream",
          "text": [
            "/usr/local/lib/python3.6/dist-packages/PIL/Image.py:932: UserWarning: Palette images with Transparency expressed in bytes should be converted to RGBA images\n",
            "  \"Palette images with Transparency expressed in bytes should be \"\n",
            "Epoch= 32 Loss=0.3256778120994568 Batch_id=2 Accuracy=87.50:   2%|▎         | 3/120 [00:08<07:10,  3.68s/it]/usr/local/lib/python3.6/dist-packages/PIL/Image.py:932: UserWarning: Palette images with Transparency expressed in bytes should be converted to RGBA images\n",
            "  \"Palette images with Transparency expressed in bytes should be \"\n",
            "Epoch= 32 Loss=0.27385103702545166 Batch_id=13 Accuracy=89.84:  12%|█▏        | 14/120 [00:33<02:38,  1.49s/it]/usr/local/lib/python3.6/dist-packages/PIL/Image.py:932: UserWarning: Palette images with Transparency expressed in bytes should be converted to RGBA images\n",
            "  \"Palette images with Transparency expressed in bytes should be \"\n",
            "Epoch= 32 Loss=0.2697892487049103 Batch_id=48 Accuracy=88.28:  41%|████      | 49/120 [02:07<01:31,  1.28s/it]/usr/local/lib/python3.6/dist-packages/PIL/TiffImagePlugin.py:788: UserWarning: Corrupt EXIF data.  Expecting to read 4 bytes but only got 0. \n",
            "  warnings.warn(str(msg))\n",
            "Epoch= 32 Loss=0.26618629693984985 Batch_id=92 Accuracy=89.06:  78%|███████▊  | 93/120 [03:56<00:31,  1.16s/it]/usr/local/lib/python3.6/dist-packages/PIL/Image.py:932: UserWarning: Palette images with Transparency expressed in bytes should be converted to RGBA images\n",
            "  \"Palette images with Transparency expressed in bytes should be \"\n",
            "Epoch= 32 Loss=0.275621622800827 Batch_id=119 Accuracy=84.62: 100%|██████████| 120/120 [04:54<00:00,  2.45s/it]\n",
            "  0%|          | 0/52 [00:00<?, ?it/s]/usr/local/lib/python3.6/dist-packages/PIL/Image.py:932: UserWarning: Palette images with Transparency expressed in bytes should be converted to RGBA images\n",
            "  \"Palette images with Transparency expressed in bytes should be \"\n",
            "  2%|▏         | 1/52 [00:09<07:55,  9.32s/it]/usr/local/lib/python3.6/dist-packages/PIL/Image.py:932: UserWarning: Palette images with Transparency expressed in bytes should be converted to RGBA images\n",
            "  \"Palette images with Transparency expressed in bytes should be \"\n",
            " 31%|███       | 16/52 [00:43<02:01,  3.38s/it]/usr/local/lib/python3.6/dist-packages/PIL/Image.py:932: UserWarning: Palette images with Transparency expressed in bytes should be converted to RGBA images\n",
            "  \"Palette images with Transparency expressed in bytes should be \"\n",
            "100%|██████████| 52/52 [02:00<00:00,  2.32s/it]\n",
            "  0%|          | 0/120 [00:00<?, ?it/s]"
          ],
          "name": "stderr"
        },
        {
          "output_type": "stream",
          "text": [
            "Test Loss= 0.45206815 Test Accuracy= 84.46720684910564\n",
            "lr=  0.008649999999999996\n"
          ],
          "name": "stdout"
        },
        {
          "output_type": "stream",
          "text": [
            "/usr/local/lib/python3.6/dist-packages/PIL/Image.py:932: UserWarning: Palette images with Transparency expressed in bytes should be converted to RGBA images\n",
            "  \"Palette images with Transparency expressed in bytes should be \"\n",
            "Epoch= 33 Loss=0.3728611171245575 Batch_id=3 Accuracy=89.06:   3%|▎         | 4/120 [00:15<10:17,  5.33s/it]/usr/local/lib/python3.6/dist-packages/PIL/Image.py:932: UserWarning: Palette images with Transparency expressed in bytes should be converted to RGBA images\n",
            "  \"Palette images with Transparency expressed in bytes should be \"\n",
            "Epoch= 33 Loss=0.23769675195217133 Batch_id=7 Accuracy=92.97:   7%|▋         | 8/120 [00:24<04:16,  2.29s/it]/usr/local/lib/python3.6/dist-packages/PIL/Image.py:932: UserWarning: Palette images with Transparency expressed in bytes should be converted to RGBA images\n",
            "  \"Palette images with Transparency expressed in bytes should be \"\n",
            "Epoch= 33 Loss=0.36354339122772217 Batch_id=23 Accuracy=86.72:  20%|██        | 24/120 [01:02<02:14,  1.40s/it]/usr/local/lib/python3.6/dist-packages/PIL/Image.py:932: UserWarning: Palette images with Transparency expressed in bytes should be converted to RGBA images\n",
            "  \"Palette images with Transparency expressed in bytes should be \"\n",
            "Epoch= 33 Loss=0.2204507291316986 Batch_id=35 Accuracy=91.41:  30%|███       | 36/120 [01:36<02:13,  1.58s/it]/usr/local/lib/python3.6/dist-packages/PIL/TiffImagePlugin.py:788: UserWarning: Corrupt EXIF data.  Expecting to read 4 bytes but only got 0. \n",
            "  warnings.warn(str(msg))\n",
            "Epoch= 33 Loss=0.6311885118484497 Batch_id=119 Accuracy=84.62: 100%|██████████| 120/120 [04:56<00:00,  2.47s/it]\n",
            "  0%|          | 0/52 [00:00<?, ?it/s]/usr/local/lib/python3.6/dist-packages/PIL/Image.py:932: UserWarning: Palette images with Transparency expressed in bytes should be converted to RGBA images\n",
            "  \"Palette images with Transparency expressed in bytes should be \"\n",
            " 21%|██        | 11/52 [00:29<02:28,  3.63s/it]/usr/local/lib/python3.6/dist-packages/PIL/Image.py:932: UserWarning: Palette images with Transparency expressed in bytes should be converted to RGBA images\n",
            "  \"Palette images with Transparency expressed in bytes should be \"\n",
            "/usr/local/lib/python3.6/dist-packages/PIL/Image.py:932: UserWarning: Palette images with Transparency expressed in bytes should be converted to RGBA images\n",
            "  \"Palette images with Transparency expressed in bytes should be \"\n",
            " 37%|███▋      | 19/52 [00:49<01:19,  2.41s/it]/usr/local/lib/python3.6/dist-packages/PIL/Image.py:932: UserWarning: Palette images with Transparency expressed in bytes should be converted to RGBA images\n",
            "  \"Palette images with Transparency expressed in bytes should be \"\n",
            "100%|██████████| 52/52 [02:01<00:00,  2.33s/it]\n",
            "  0%|          | 0/120 [00:00<?, ?it/s]"
          ],
          "name": "stderr"
        },
        {
          "output_type": "stream",
          "text": [
            "Test Loss= 0.6058018 Test Accuracy= 83.68750955511389\n",
            "lr=  0.008199999999999995\n"
          ],
          "name": "stdout"
        },
        {
          "output_type": "stream",
          "text": [
            "Epoch= 34 Loss=0.39214715361595154 Batch_id=0 Accuracy=86.72:   1%|          | 1/120 [00:12<23:55, 12.06s/it]/usr/local/lib/python3.6/dist-packages/PIL/Image.py:932: UserWarning: Palette images with Transparency expressed in bytes should be converted to RGBA images\n",
            "  \"Palette images with Transparency expressed in bytes should be \"\n",
            "Epoch= 34 Loss=0.25007086992263794 Batch_id=4 Accuracy=91.41:   4%|▍         | 5/120 [00:19<08:17,  4.33s/it]/usr/local/lib/python3.6/dist-packages/PIL/Image.py:932: UserWarning: Palette images with Transparency expressed in bytes should be converted to RGBA images\n",
            "  \"Palette images with Transparency expressed in bytes should be \"\n",
            "/usr/local/lib/python3.6/dist-packages/PIL/Image.py:932: UserWarning: Palette images with Transparency expressed in bytes should be converted to RGBA images\n",
            "  \"Palette images with Transparency expressed in bytes should be \"\n",
            "/usr/local/lib/python3.6/dist-packages/PIL/TiffImagePlugin.py:788: UserWarning: Corrupt EXIF data.  Expecting to read 4 bytes but only got 0. \n",
            "  warnings.warn(str(msg))\n",
            "Epoch= 34 Loss=0.36712509393692017 Batch_id=119 Accuracy=84.62: 100%|██████████| 120/120 [04:55<00:00,  2.46s/it]\n",
            "  8%|▊         | 4/52 [00:12<03:53,  4.86s/it]/usr/local/lib/python3.6/dist-packages/PIL/Image.py:932: UserWarning: Palette images with Transparency expressed in bytes should be converted to RGBA images\n",
            "  \"Palette images with Transparency expressed in bytes should be \"\n",
            " 23%|██▎       | 12/52 [00:31<01:51,  2.79s/it]/usr/local/lib/python3.6/dist-packages/PIL/Image.py:932: UserWarning: Palette images with Transparency expressed in bytes should be converted to RGBA images\n",
            "  \"Palette images with Transparency expressed in bytes should be \"\n",
            " 67%|██████▋   | 35/52 [01:20<00:29,  1.75s/it]/usr/local/lib/python3.6/dist-packages/PIL/Image.py:932: UserWarning: Palette images with Transparency expressed in bytes should be converted to RGBA images\n",
            "  \"Palette images with Transparency expressed in bytes should be \"\n",
            " 90%|█████████ | 47/52 [01:49<00:09,  2.00s/it]/usr/local/lib/python3.6/dist-packages/PIL/Image.py:932: UserWarning: Palette images with Transparency expressed in bytes should be converted to RGBA images\n",
            "  \"Palette images with Transparency expressed in bytes should be \"\n",
            "100%|██████████| 52/52 [01:59<00:00,  2.29s/it]\n",
            "  0%|          | 0/120 [00:00<?, ?it/s]"
          ],
          "name": "stderr"
        },
        {
          "output_type": "stream",
          "text": [
            "Test Loss= 0.23798722 Test Accuracy= 83.85567955970035\n",
            "lr=  0.007750000000000001\n"
          ],
          "name": "stdout"
        },
        {
          "output_type": "stream",
          "text": [
            "/usr/local/lib/python3.6/dist-packages/PIL/Image.py:932: UserWarning: Palette images with Transparency expressed in bytes should be converted to RGBA images\n",
            "  \"Palette images with Transparency expressed in bytes should be \"\n",
            "Epoch= 35 Loss=0.28311923146247864 Batch_id=7 Accuracy=89.06:   7%|▋         | 8/120 [00:23<04:12,  2.25s/it]/usr/local/lib/python3.6/dist-packages/PIL/Image.py:932: UserWarning: Palette images with Transparency expressed in bytes should be converted to RGBA images\n",
            "  \"Palette images with Transparency expressed in bytes should be \"\n",
            "Epoch= 35 Loss=0.29420924186706543 Batch_id=11 Accuracy=86.72:  10%|█         | 12/120 [00:32<02:48,  1.56s/it]/usr/local/lib/python3.6/dist-packages/PIL/Image.py:932: UserWarning: Palette images with Transparency expressed in bytes should be converted to RGBA images\n",
            "  \"Palette images with Transparency expressed in bytes should be \"\n",
            "Epoch= 35 Loss=0.42566657066345215 Batch_id=47 Accuracy=83.59:  40%|████      | 48/120 [02:07<01:48,  1.51s/it]/usr/local/lib/python3.6/dist-packages/PIL/Image.py:932: UserWarning: Palette images with Transparency expressed in bytes should be converted to RGBA images\n",
            "  \"Palette images with Transparency expressed in bytes should be \"\n",
            "Epoch= 35 Loss=0.4216059446334839 Batch_id=51 Accuracy=90.62:  43%|████▎     | 52/120 [02:18<01:44,  1.53s/it]/usr/local/lib/python3.6/dist-packages/PIL/TiffImagePlugin.py:788: UserWarning: Corrupt EXIF data.  Expecting to read 4 bytes but only got 0. \n",
            "  warnings.warn(str(msg))\n",
            "Epoch= 35 Loss=0.2653670012950897 Batch_id=119 Accuracy=88.46: 100%|██████████| 120/120 [04:55<00:00,  2.46s/it]\n",
            "  2%|▏         | 1/52 [00:11<09:48, 11.53s/it]/usr/local/lib/python3.6/dist-packages/PIL/Image.py:932: UserWarning: Palette images with Transparency expressed in bytes should be converted to RGBA images\n",
            "  \"Palette images with Transparency expressed in bytes should be \"\n",
            " 37%|███▋      | 19/52 [00:49<01:29,  2.72s/it]/usr/local/lib/python3.6/dist-packages/PIL/Image.py:932: UserWarning: Palette images with Transparency expressed in bytes should be converted to RGBA images\n",
            "  \"Palette images with Transparency expressed in bytes should be \"\n",
            " 42%|████▏     | 22/52 [00:56<01:00,  2.03s/it]/usr/local/lib/python3.6/dist-packages/PIL/Image.py:932: UserWarning: Palette images with Transparency expressed in bytes should be converted to RGBA images\n",
            "  \"Palette images with Transparency expressed in bytes should be \"\n",
            "100%|██████████| 52/52 [02:00<00:00,  2.31s/it]\n",
            "  0%|          | 0/120 [00:00<?, ?it/s]"
          ],
          "name": "stderr"
        },
        {
          "output_type": "stream",
          "text": [
            "Test Loss= 0.4293097 Test Accuracy= 84.26846048004892\n",
            "lr=  0.0073\n"
          ],
          "name": "stdout"
        },
        {
          "output_type": "stream",
          "text": [
            "/usr/local/lib/python3.6/dist-packages/PIL/Image.py:932: UserWarning: Palette images with Transparency expressed in bytes should be converted to RGBA images\n",
            "  \"Palette images with Transparency expressed in bytes should be \"\n",
            "Epoch= 36 Loss=0.2984362840652466 Batch_id=4 Accuracy=86.72:   4%|▍         | 5/120 [00:19<07:59,  4.17s/it]/usr/local/lib/python3.6/dist-packages/PIL/Image.py:932: UserWarning: Palette images with Transparency expressed in bytes should be converted to RGBA images\n",
            "  \"Palette images with Transparency expressed in bytes should be \"\n",
            "/usr/local/lib/python3.6/dist-packages/PIL/Image.py:932: UserWarning: Palette images with Transparency expressed in bytes should be converted to RGBA images\n",
            "  \"Palette images with Transparency expressed in bytes should be \"\n",
            "Epoch= 36 Loss=0.37077397108078003 Batch_id=16 Accuracy=89.84:  14%|█▍        | 17/120 [00:46<03:01,  1.76s/it]/usr/local/lib/python3.6/dist-packages/PIL/TiffImagePlugin.py:788: UserWarning: Corrupt EXIF data.  Expecting to read 4 bytes but only got 0. \n",
            "  warnings.warn(str(msg))\n",
            "Epoch= 36 Loss=0.2208019196987152 Batch_id=39 Accuracy=95.31:  33%|███▎      | 40/120 [01:45<02:21,  1.77s/it]/usr/local/lib/python3.6/dist-packages/PIL/Image.py:932: UserWarning: Palette images with Transparency expressed in bytes should be converted to RGBA images\n",
            "  \"Palette images with Transparency expressed in bytes should be \"\n",
            "Epoch= 36 Loss=0.5655657649040222 Batch_id=119 Accuracy=80.77: 100%|██████████| 120/120 [04:56<00:00,  2.47s/it]\n",
            "  0%|          | 0/52 [00:00<?, ?it/s]/usr/local/lib/python3.6/dist-packages/PIL/Image.py:932: UserWarning: Palette images with Transparency expressed in bytes should be converted to RGBA images\n",
            "  \"Palette images with Transparency expressed in bytes should be \"\n",
            "  2%|▏         | 1/52 [00:06<05:08,  6.05s/it]/usr/local/lib/python3.6/dist-packages/PIL/Image.py:932: UserWarning: Palette images with Transparency expressed in bytes should be converted to RGBA images\n",
            "  \"Palette images with Transparency expressed in bytes should be \"\n",
            "100%|██████████| 52/52 [01:59<00:00,  2.30s/it]\n",
            "  0%|          | 0/120 [00:00<?, ?it/s]"
          ],
          "name": "stderr"
        },
        {
          "output_type": "stream",
          "text": [
            "Test Loss= 0.6639543 Test Accuracy= 84.80354685827855\n",
            "lr=  0.00685\n"
          ],
          "name": "stdout"
        },
        {
          "output_type": "stream",
          "text": [
            "Epoch= 37 Loss=0.3358643352985382 Batch_id=19 Accuracy=86.72:  17%|█▋        | 20/120 [00:46<02:08,  1.29s/it]/usr/local/lib/python3.6/dist-packages/PIL/Image.py:932: UserWarning: Palette images with Transparency expressed in bytes should be converted to RGBA images\n",
            "  \"Palette images with Transparency expressed in bytes should be \"\n",
            "Epoch= 37 Loss=0.42026081681251526 Batch_id=23 Accuracy=85.94:  20%|██        | 24/120 [00:57<02:14,  1.41s/it]/usr/local/lib/python3.6/dist-packages/PIL/Image.py:932: UserWarning: Palette images with Transparency expressed in bytes should be converted to RGBA images\n",
            "  \"Palette images with Transparency expressed in bytes should be \"\n",
            "Epoch= 37 Loss=0.3970535099506378 Batch_id=31 Accuracy=84.38:  27%|██▋       | 32/120 [01:13<01:47,  1.22s/it]/usr/local/lib/python3.6/dist-packages/PIL/Image.py:932: UserWarning: Palette images with Transparency expressed in bytes should be converted to RGBA images\n",
            "  \"Palette images with Transparency expressed in bytes should be \"\n",
            "Epoch= 37 Loss=0.3914634585380554 Batch_id=39 Accuracy=87.50:  33%|███▎      | 40/120 [01:36<03:33,  2.67s/it]/usr/local/lib/python3.6/dist-packages/PIL/Image.py:932: UserWarning: Palette images with Transparency expressed in bytes should be converted to RGBA images\n",
            "  \"Palette images with Transparency expressed in bytes should be \"\n",
            "Epoch= 37 Loss=0.36199307441711426 Batch_id=92 Accuracy=85.16:  78%|███████▊  | 93/120 [03:58<00:54,  2.02s/it]/usr/local/lib/python3.6/dist-packages/PIL/TiffImagePlugin.py:788: UserWarning: Corrupt EXIF data.  Expecting to read 4 bytes but only got 0. \n",
            "  warnings.warn(str(msg))\n",
            "Epoch= 37 Loss=0.47521722316741943 Batch_id=119 Accuracy=84.62: 100%|██████████| 120/120 [04:55<00:00,  2.46s/it]\n",
            "  4%|▍         | 2/52 [00:10<04:50,  5.81s/it]/usr/local/lib/python3.6/dist-packages/PIL/Image.py:932: UserWarning: Palette images with Transparency expressed in bytes should be converted to RGBA images\n",
            "  \"Palette images with Transparency expressed in bytes should be \"\n",
            " 12%|█▏        | 6/52 [00:20<03:10,  4.14s/it]/usr/local/lib/python3.6/dist-packages/PIL/Image.py:932: UserWarning: Palette images with Transparency expressed in bytes should be converted to RGBA images\n",
            "  \"Palette images with Transparency expressed in bytes should be \"\n",
            " 38%|███▊      | 20/52 [00:53<01:05,  2.05s/it]/usr/local/lib/python3.6/dist-packages/PIL/Image.py:932: UserWarning: Palette images with Transparency expressed in bytes should be converted to RGBA images\n",
            "  \"Palette images with Transparency expressed in bytes should be \"\n",
            "/usr/local/lib/python3.6/dist-packages/PIL/Image.py:932: UserWarning: Palette images with Transparency expressed in bytes should be converted to RGBA images\n",
            "  \"Palette images with Transparency expressed in bytes should be \"\n",
            "100%|██████████| 52/52 [01:58<00:00,  2.28s/it]\n",
            "  0%|          | 0/120 [00:00<?, ?it/s]"
          ],
          "name": "stderr"
        },
        {
          "output_type": "stream",
          "text": [
            "Test Loss= 0.5956224 Test Accuracy= 84.39076593792998\n",
            "lr=  0.0063999999999999994\n"
          ],
          "name": "stdout"
        },
        {
          "output_type": "stream",
          "text": [
            "Epoch= 38 Loss=0.4128265082836151 Batch_id=4 Accuracy=86.72:   4%|▍         | 5/120 [00:15<06:43,  3.50s/it]/usr/local/lib/python3.6/dist-packages/PIL/Image.py:932: UserWarning: Palette images with Transparency expressed in bytes should be converted to RGBA images\n",
            "  \"Palette images with Transparency expressed in bytes should be \"\n",
            "Epoch= 38 Loss=0.34522804617881775 Batch_id=7 Accuracy=85.94:   7%|▋         | 8/120 [00:22<04:05,  2.19s/it]/usr/local/lib/python3.6/dist-packages/PIL/Image.py:932: UserWarning: Palette images with Transparency expressed in bytes should be converted to RGBA images\n",
            "  \"Palette images with Transparency expressed in bytes should be \"\n",
            "Epoch= 38 Loss=0.42446303367614746 Batch_id=23 Accuracy=86.72:  20%|██        | 24/120 [00:58<02:27,  1.53s/it]/usr/local/lib/python3.6/dist-packages/PIL/Image.py:932: UserWarning: Palette images with Transparency expressed in bytes should be converted to RGBA images\n",
            "  \"Palette images with Transparency expressed in bytes should be \"\n",
            "Epoch= 38 Loss=0.3400539457798004 Batch_id=31 Accuracy=87.50:  27%|██▋       | 32/120 [01:22<02:50,  1.94s/it]/usr/local/lib/python3.6/dist-packages/PIL/Image.py:932: UserWarning: Palette images with Transparency expressed in bytes should be converted to RGBA images\n",
            "  \"Palette images with Transparency expressed in bytes should be \"\n",
            "Epoch= 38 Loss=0.288920521736145 Batch_id=69 Accuracy=87.50:  58%|█████▊    | 70/120 [02:53<01:02,  1.26s/it]/usr/local/lib/python3.6/dist-packages/PIL/TiffImagePlugin.py:788: UserWarning: Corrupt EXIF data.  Expecting to read 4 bytes but only got 0. \n",
            "  warnings.warn(str(msg))\n",
            "Epoch= 38 Loss=0.4349258244037628 Batch_id=119 Accuracy=84.62: 100%|██████████| 120/120 [04:53<00:00,  2.45s/it]\n",
            "  0%|          | 0/52 [00:00<?, ?it/s]/usr/local/lib/python3.6/dist-packages/PIL/Image.py:932: UserWarning: Palette images with Transparency expressed in bytes should be converted to RGBA images\n",
            "  \"Palette images with Transparency expressed in bytes should be \"\n",
            "  6%|▌         | 3/52 [00:12<06:53,  8.44s/it]/usr/local/lib/python3.6/dist-packages/PIL/Image.py:932: UserWarning: Palette images with Transparency expressed in bytes should be converted to RGBA images\n",
            "  \"Palette images with Transparency expressed in bytes should be \"\n",
            " 13%|█▎        | 7/52 [00:20<03:41,  4.92s/it]/usr/local/lib/python3.6/dist-packages/PIL/Image.py:932: UserWarning: Palette images with Transparency expressed in bytes should be converted to RGBA images\n",
            "  \"Palette images with Transparency expressed in bytes should be \"\n",
            " 31%|███       | 16/52 [00:43<01:43,  2.88s/it]/usr/local/lib/python3.6/dist-packages/PIL/Image.py:932: UserWarning: Palette images with Transparency expressed in bytes should be converted to RGBA images\n",
            "  \"Palette images with Transparency expressed in bytes should be \"\n",
            "100%|██████████| 52/52 [01:59<00:00,  2.30s/it]\n",
            "  0%|          | 0/120 [00:00<?, ?it/s]"
          ],
          "name": "stderr"
        },
        {
          "output_type": "stream",
          "text": [
            "Test Loss= 0.39221743 Test Accuracy= 84.43663048463537\n",
            "lr=  0.005949999999999999\n"
          ],
          "name": "stdout"
        },
        {
          "output_type": "stream",
          "text": [
            "/usr/local/lib/python3.6/dist-packages/PIL/TiffImagePlugin.py:788: UserWarning: Corrupt EXIF data.  Expecting to read 4 bytes but only got 0. \n",
            "  warnings.warn(str(msg))\n",
            "/usr/local/lib/python3.6/dist-packages/PIL/Image.py:932: UserWarning: Palette images with Transparency expressed in bytes should be converted to RGBA images\n",
            "  \"Palette images with Transparency expressed in bytes should be \"\n",
            "Epoch= 39 Loss=0.3827952444553375 Batch_id=7 Accuracy=83.59:   7%|▋         | 8/120 [00:19<03:21,  1.80s/it]/usr/local/lib/python3.6/dist-packages/PIL/Image.py:932: UserWarning: Palette images with Transparency expressed in bytes should be converted to RGBA images\n",
            "  \"Palette images with Transparency expressed in bytes should be \"\n",
            "/usr/local/lib/python3.6/dist-packages/PIL/Image.py:932: UserWarning: Palette images with Transparency expressed in bytes should be converted to RGBA images\n",
            "  \"Palette images with Transparency expressed in bytes should be \"\n",
            "Epoch= 39 Loss=0.3936658799648285 Batch_id=84 Accuracy=85.16:  71%|███████   | 85/120 [03:43<00:59,  1.71s/it]/usr/local/lib/python3.6/dist-packages/PIL/Image.py:932: UserWarning: Palette images with Transparency expressed in bytes should be converted to RGBA images\n",
            "  \"Palette images with Transparency expressed in bytes should be \"\n",
            "Epoch= 39 Loss=0.3947221636772156 Batch_id=119 Accuracy=80.77: 100%|██████████| 120/120 [04:55<00:00,  2.46s/it]\n",
            "  4%|▍         | 2/52 [00:10<05:03,  6.08s/it]/usr/local/lib/python3.6/dist-packages/PIL/Image.py:932: UserWarning: Palette images with Transparency expressed in bytes should be converted to RGBA images\n",
            "  \"Palette images with Transparency expressed in bytes should be \"\n",
            " 13%|█▎        | 7/52 [00:19<02:27,  3.28s/it]/usr/local/lib/python3.6/dist-packages/PIL/Image.py:932: UserWarning: Palette images with Transparency expressed in bytes should be converted to RGBA images\n",
            "  \"Palette images with Transparency expressed in bytes should be \"\n",
            " 27%|██▋       | 14/52 [00:33<01:24,  2.23s/it]/usr/local/lib/python3.6/dist-packages/PIL/Image.py:932: UserWarning: Palette images with Transparency expressed in bytes should be converted to RGBA images\n",
            "  \"Palette images with Transparency expressed in bytes should be \"\n",
            " 48%|████▊     | 25/52 [01:01<01:01,  2.28s/it]/usr/local/lib/python3.6/dist-packages/PIL/Image.py:932: UserWarning: Palette images with Transparency expressed in bytes should be converted to RGBA images\n",
            "  \"Palette images with Transparency expressed in bytes should be \"\n",
            "100%|██████████| 52/52 [01:59<00:00,  2.31s/it]\n",
            "  0%|          | 0/120 [00:00<?, ?it/s]"
          ],
          "name": "stderr"
        },
        {
          "output_type": "stream",
          "text": [
            "Test Loss= 0.373689 Test Accuracy= 84.45191866687051\n",
            "lr=  0.005499999999999999\n"
          ],
          "name": "stdout"
        },
        {
          "output_type": "stream",
          "text": [
            "Epoch= 40 Loss=0.4153168201446533 Batch_id=7 Accuracy=85.94:   7%|▋         | 8/120 [00:21<03:18,  1.78s/it]/usr/local/lib/python3.6/dist-packages/PIL/Image.py:932: UserWarning: Palette images with Transparency expressed in bytes should be converted to RGBA images\n",
            "  \"Palette images with Transparency expressed in bytes should be \"\n",
            "Epoch= 40 Loss=0.2816503643989563 Batch_id=13 Accuracy=89.06:  12%|█▏        | 14/120 [00:37<03:15,  1.85s/it]/usr/local/lib/python3.6/dist-packages/PIL/Image.py:932: UserWarning: Palette images with Transparency expressed in bytes should be converted to RGBA images\n",
            "  \"Palette images with Transparency expressed in bytes should be \"\n",
            "Epoch= 40 Loss=0.3252473473548889 Batch_id=23 Accuracy=85.94:  20%|██        | 24/120 [00:56<02:05,  1.31s/it]/usr/local/lib/python3.6/dist-packages/PIL/Image.py:932: UserWarning: Palette images with Transparency expressed in bytes should be converted to RGBA images\n",
            "  \"Palette images with Transparency expressed in bytes should be \"\n",
            "Epoch= 40 Loss=0.26197993755340576 Batch_id=35 Accuracy=89.84:  30%|███       | 36/120 [01:30<02:11,  1.56s/it]/usr/local/lib/python3.6/dist-packages/PIL/Image.py:932: UserWarning: Palette images with Transparency expressed in bytes should be converted to RGBA images\n",
            "  \"Palette images with Transparency expressed in bytes should be \"\n",
            "Epoch= 40 Loss=0.3507654070854187 Batch_id=71 Accuracy=88.28:  60%|██████    | 72/120 [02:52<01:08,  1.42s/it]/usr/local/lib/python3.6/dist-packages/PIL/TiffImagePlugin.py:788: UserWarning: Corrupt EXIF data.  Expecting to read 4 bytes but only got 0. \n",
            "  warnings.warn(str(msg))\n",
            "Epoch= 40 Loss=0.35341864824295044 Batch_id=119 Accuracy=88.46: 100%|██████████| 120/120 [04:55<00:00,  2.47s/it]\n",
            "  0%|          | 0/52 [00:00<?, ?it/s]/usr/local/lib/python3.6/dist-packages/PIL/Image.py:932: UserWarning: Palette images with Transparency expressed in bytes should be converted to RGBA images\n",
            "  \"Palette images with Transparency expressed in bytes should be \"\n",
            "/usr/local/lib/python3.6/dist-packages/PIL/Image.py:932: UserWarning: Palette images with Transparency expressed in bytes should be converted to RGBA images\n",
            "  \"Palette images with Transparency expressed in bytes should be \"\n",
            " 44%|████▍     | 23/52 [01:03<01:19,  2.73s/it]/usr/local/lib/python3.6/dist-packages/PIL/Image.py:932: UserWarning: Palette images with Transparency expressed in bytes should be converted to RGBA images\n",
            "  \"Palette images with Transparency expressed in bytes should be \"\n",
            " 75%|███████▌  | 39/52 [01:40<00:26,  2.06s/it]/usr/local/lib/python3.6/dist-packages/PIL/Image.py:932: UserWarning: Palette images with Transparency expressed in bytes should be converted to RGBA images\n",
            "  \"Palette images with Transparency expressed in bytes should be \"\n",
            "100%|██████████| 52/52 [01:59<00:00,  2.30s/it]\n",
            "  0%|          | 0/120 [00:00<?, ?it/s]"
          ],
          "name": "stderr"
        },
        {
          "output_type": "stream",
          "text": [
            "Test Loss= 0.33844182 Test Accuracy= 83.68750955511389\n",
            "lr=  0.005050000000000003\n"
          ],
          "name": "stdout"
        },
        {
          "output_type": "stream",
          "text": [
            "/usr/local/lib/python3.6/dist-packages/PIL/Image.py:932: UserWarning: Palette images with Transparency expressed in bytes should be converted to RGBA images\n",
            "  \"Palette images with Transparency expressed in bytes should be \"\n",
            "Epoch= 41 Loss=0.43883368372917175 Batch_id=3 Accuracy=82.03:   3%|▎         | 4/120 [00:12<08:11,  4.24s/it]/usr/local/lib/python3.6/dist-packages/PIL/Image.py:932: UserWarning: Palette images with Transparency expressed in bytes should be converted to RGBA images\n",
            "  \"Palette images with Transparency expressed in bytes should be \"\n",
            "Epoch= 41 Loss=0.2697540819644928 Batch_id=7 Accuracy=85.94:   7%|▋         | 8/120 [00:20<03:37,  1.95s/it]/usr/local/lib/python3.6/dist-packages/PIL/Image.py:932: UserWarning: Palette images with Transparency expressed in bytes should be converted to RGBA images\n",
            "  \"Palette images with Transparency expressed in bytes should be \"\n",
            "Epoch= 41 Loss=0.3103579580783844 Batch_id=10 Accuracy=89.84:   9%|▉         | 11/120 [00:31<04:08,  2.28s/it]/usr/local/lib/python3.6/dist-packages/PIL/Image.py:932: UserWarning: Palette images with Transparency expressed in bytes should be converted to RGBA images\n",
            "  \"Palette images with Transparency expressed in bytes should be \"\n",
            "Epoch= 41 Loss=0.3164719343185425 Batch_id=105 Accuracy=86.72:  88%|████████▊ | 106/120 [04:25<00:17,  1.24s/it]/usr/local/lib/python3.6/dist-packages/PIL/TiffImagePlugin.py:788: UserWarning: Corrupt EXIF data.  Expecting to read 4 bytes but only got 0. \n",
            "  warnings.warn(str(msg))\n",
            "Epoch= 41 Loss=0.31826338171958923 Batch_id=119 Accuracy=80.77: 100%|██████████| 120/120 [04:56<00:00,  2.47s/it]\n",
            "  0%|          | 0/52 [00:00<?, ?it/s]/usr/local/lib/python3.6/dist-packages/PIL/Image.py:932: UserWarning: Palette images with Transparency expressed in bytes should be converted to RGBA images\n",
            "  \"Palette images with Transparency expressed in bytes should be \"\n",
            " 21%|██        | 11/52 [00:29<02:21,  3.44s/it]/usr/local/lib/python3.6/dist-packages/PIL/Image.py:932: UserWarning: Palette images with Transparency expressed in bytes should be converted to RGBA images\n",
            "  \"Palette images with Transparency expressed in bytes should be \"\n",
            " 31%|███       | 16/52 [00:41<01:35,  2.64s/it]/usr/local/lib/python3.6/dist-packages/PIL/Image.py:932: UserWarning: Palette images with Transparency expressed in bytes should be converted to RGBA images\n",
            "  \"Palette images with Transparency expressed in bytes should be \"\n",
            "100%|██████████| 52/52 [02:00<00:00,  2.33s/it]\n",
            "  0%|          | 0/120 [00:00<?, ?it/s]"
          ],
          "name": "stderr"
        },
        {
          "output_type": "stream",
          "text": [
            "Test Loss= 0.2723347 Test Accuracy= 85.03286959180554\n",
            "lr=  0.004600000000000003\n"
          ],
          "name": "stdout"
        },
        {
          "output_type": "stream",
          "text": [
            "/usr/local/lib/python3.6/dist-packages/PIL/Image.py:932: UserWarning: Palette images with Transparency expressed in bytes should be converted to RGBA images\n",
            "  \"Palette images with Transparency expressed in bytes should be \"\n",
            "/usr/local/lib/python3.6/dist-packages/PIL/Image.py:932: UserWarning: Palette images with Transparency expressed in bytes should be converted to RGBA images\n",
            "  \"Palette images with Transparency expressed in bytes should be \"\n",
            "Epoch= 42 Loss=0.3030339479446411 Batch_id=7 Accuracy=89.06:   7%|▋         | 8/120 [00:22<04:11,  2.25s/it]/usr/local/lib/python3.6/dist-packages/PIL/Image.py:932: UserWarning: Palette images with Transparency expressed in bytes should be converted to RGBA images\n",
            "  \"Palette images with Transparency expressed in bytes should be \"\n",
            "Epoch= 42 Loss=0.25724735856056213 Batch_id=14 Accuracy=91.41:  12%|█▎        | 15/120 [00:40<03:26,  1.97s/it]/usr/local/lib/python3.6/dist-packages/PIL/Image.py:932: UserWarning: Palette images with Transparency expressed in bytes should be converted to RGBA images\n",
            "  \"Palette images with Transparency expressed in bytes should be \"\n",
            "Epoch= 42 Loss=0.29774993658065796 Batch_id=35 Accuracy=87.50:  30%|███       | 36/120 [01:31<02:26,  1.74s/it]/usr/local/lib/python3.6/dist-packages/PIL/TiffImagePlugin.py:788: UserWarning: Corrupt EXIF data.  Expecting to read 4 bytes but only got 0. \n",
            "  warnings.warn(str(msg))\n",
            "Epoch= 42 Loss=0.3477553725242615 Batch_id=119 Accuracy=84.62: 100%|██████████| 120/120 [04:56<00:00,  2.47s/it]\n",
            "  2%|▏         | 1/52 [00:07<06:01,  7.08s/it]/usr/local/lib/python3.6/dist-packages/PIL/Image.py:932: UserWarning: Palette images with Transparency expressed in bytes should be converted to RGBA images\n",
            "  \"Palette images with Transparency expressed in bytes should be \"\n",
            " 63%|██████▎   | 33/52 [01:21<00:44,  2.34s/it]/usr/local/lib/python3.6/dist-packages/PIL/Image.py:932: UserWarning: Palette images with Transparency expressed in bytes should be converted to RGBA images\n",
            "  \"Palette images with Transparency expressed in bytes should be \"\n",
            "/usr/local/lib/python3.6/dist-packages/PIL/Image.py:932: UserWarning: Palette images with Transparency expressed in bytes should be converted to RGBA images\n",
            "  \"Palette images with Transparency expressed in bytes should be \"\n",
            "100%|██████████| 52/52 [01:59<00:00,  2.31s/it]\n",
            "  0%|          | 0/120 [00:00<?, ?it/s]"
          ],
          "name": "stderr"
        },
        {
          "output_type": "stream",
          "text": [
            "Test Loss= 0.589349 Test Accuracy= 84.20730775110839\n",
            "lr=  0.004150000000000003\n"
          ],
          "name": "stdout"
        },
        {
          "output_type": "stream",
          "text": [
            "Epoch= 43 Loss=0.34730803966522217 Batch_id=6 Accuracy=84.38:   6%|▌         | 7/120 [00:19<04:40,  2.48s/it]/usr/local/lib/python3.6/dist-packages/PIL/Image.py:932: UserWarning: Palette images with Transparency expressed in bytes should be converted to RGBA images\n",
            "  \"Palette images with Transparency expressed in bytes should be \"\n",
            "Epoch= 43 Loss=0.40115880966186523 Batch_id=7 Accuracy=85.16:   7%|▋         | 8/120 [00:22<04:44,  2.54s/it]/usr/local/lib/python3.6/dist-packages/PIL/Image.py:932: UserWarning: Palette images with Transparency expressed in bytes should be converted to RGBA images\n",
            "  \"Palette images with Transparency expressed in bytes should be \"\n",
            "/usr/local/lib/python3.6/dist-packages/PIL/Image.py:932: UserWarning: Palette images with Transparency expressed in bytes should be converted to RGBA images\n",
            "  \"Palette images with Transparency expressed in bytes should be \"\n",
            "Epoch= 43 Loss=0.4417344629764557 Batch_id=27 Accuracy=84.38:  23%|██▎       | 28/120 [01:12<01:46,  1.16s/it]/usr/local/lib/python3.6/dist-packages/PIL/Image.py:932: UserWarning: Palette images with Transparency expressed in bytes should be converted to RGBA images\n",
            "  \"Palette images with Transparency expressed in bytes should be \"\n",
            "Epoch= 43 Loss=0.3477151095867157 Batch_id=111 Accuracy=85.94:  93%|█████████▎| 112/120 [04:42<00:17,  2.13s/it]/usr/local/lib/python3.6/dist-packages/PIL/TiffImagePlugin.py:788: UserWarning: Corrupt EXIF data.  Expecting to read 4 bytes but only got 0. \n",
            "  warnings.warn(str(msg))\n",
            "Epoch= 43 Loss=0.6856966614723206 Batch_id=119 Accuracy=76.92: 100%|██████████| 120/120 [04:56<00:00,  2.47s/it]\n",
            "  0%|          | 0/52 [00:00<?, ?it/s]/usr/local/lib/python3.6/dist-packages/PIL/Image.py:932: UserWarning: Palette images with Transparency expressed in bytes should be converted to RGBA images\n",
            "  \"Palette images with Transparency expressed in bytes should be \"\n",
            " 23%|██▎       | 12/52 [00:32<01:55,  2.90s/it]/usr/local/lib/python3.6/dist-packages/PIL/Image.py:932: UserWarning: Palette images with Transparency expressed in bytes should be converted to RGBA images\n",
            "  \"Palette images with Transparency expressed in bytes should be \"\n",
            " 31%|███       | 16/52 [00:44<02:04,  3.45s/it]/usr/local/lib/python3.6/dist-packages/PIL/Image.py:932: UserWarning: Palette images with Transparency expressed in bytes should be converted to RGBA images\n",
            "  \"Palette images with Transparency expressed in bytes should be \"\n",
            "100%|██████████| 52/52 [02:00<00:00,  2.31s/it]\n",
            "  0%|          | 0/120 [00:00<?, ?it/s]"
          ],
          "name": "stderr"
        },
        {
          "output_type": "stream",
          "text": [
            "Test Loss= 0.70460165 Test Accuracy= 83.53462773276257\n",
            "lr=  0.0037000000000000023\n"
          ],
          "name": "stdout"
        },
        {
          "output_type": "stream",
          "text": [
            "/usr/local/lib/python3.6/dist-packages/PIL/Image.py:932: UserWarning: Palette images with Transparency expressed in bytes should be converted to RGBA images\n",
            "  \"Palette images with Transparency expressed in bytes should be \"\n",
            "Epoch= 44 Loss=0.2853126525878906 Batch_id=0 Accuracy=87.50:   1%|          | 1/120 [00:12<24:10, 12.19s/it]/usr/local/lib/python3.6/dist-packages/PIL/Image.py:932: UserWarning: Palette images with Transparency expressed in bytes should be converted to RGBA images\n",
            "  \"Palette images with Transparency expressed in bytes should be \"\n",
            "Epoch= 44 Loss=0.5659752488136292 Batch_id=7 Accuracy=78.12:   7%|▋         | 8/120 [00:22<03:45,  2.01s/it]/usr/local/lib/python3.6/dist-packages/PIL/Image.py:932: UserWarning: Palette images with Transparency expressed in bytes should be converted to RGBA images\n",
            "  \"Palette images with Transparency expressed in bytes should be \"\n",
            "Epoch= 44 Loss=0.42175009846687317 Batch_id=30 Accuracy=83.59:  26%|██▌       | 31/120 [01:26<03:16,  2.21s/it]/usr/local/lib/python3.6/dist-packages/PIL/Image.py:932: UserWarning: Palette images with Transparency expressed in bytes should be converted to RGBA images\n",
            "  \"Palette images with Transparency expressed in bytes should be \"\n",
            "Epoch= 44 Loss=0.3041215240955353 Batch_id=111 Accuracy=85.94:  93%|█████████▎| 112/120 [04:43<00:09,  1.14s/it]/usr/local/lib/python3.6/dist-packages/PIL/TiffImagePlugin.py:788: UserWarning: Corrupt EXIF data.  Expecting to read 4 bytes but only got 0. \n",
            "  warnings.warn(str(msg))\n",
            "Epoch= 44 Loss=0.16739624738693237 Batch_id=119 Accuracy=92.31: 100%|██████████| 120/120 [04:55<00:00,  2.46s/it]\n",
            "  0%|          | 0/52 [00:00<?, ?it/s]/usr/local/lib/python3.6/dist-packages/PIL/Image.py:932: UserWarning: Palette images with Transparency expressed in bytes should be converted to RGBA images\n",
            "  \"Palette images with Transparency expressed in bytes should be \"\n",
            " 15%|█▌        | 8/52 [00:20<02:19,  3.18s/it]/usr/local/lib/python3.6/dist-packages/PIL/Image.py:932: UserWarning: Palette images with Transparency expressed in bytes should be converted to RGBA images\n",
            "  \"Palette images with Transparency expressed in bytes should be \"\n",
            " 27%|██▋       | 14/52 [00:36<01:41,  2.67s/it]/usr/local/lib/python3.6/dist-packages/PIL/Image.py:932: UserWarning: Palette images with Transparency expressed in bytes should be converted to RGBA images\n",
            "  \"Palette images with Transparency expressed in bytes should be \"\n",
            " 69%|██████▉   | 36/52 [01:32<00:48,  3.02s/it]/usr/local/lib/python3.6/dist-packages/PIL/Image.py:932: UserWarning: Palette images with Transparency expressed in bytes should be converted to RGBA images\n",
            "  \"Palette images with Transparency expressed in bytes should be \"\n",
            "100%|██████████| 52/52 [02:01<00:00,  2.34s/it]\n",
            "  0%|          | 0/120 [00:00<?, ?it/s]"
          ],
          "name": "stderr"
        },
        {
          "output_type": "stream",
          "text": [
            "Test Loss= 1.3091439 Test Accuracy= 84.36018957345972\n",
            "lr=  0.003250000000000002\n"
          ],
          "name": "stdout"
        },
        {
          "output_type": "stream",
          "text": [
            "/usr/local/lib/python3.6/dist-packages/PIL/TiffImagePlugin.py:788: UserWarning: Corrupt EXIF data.  Expecting to read 4 bytes but only got 0. \n",
            "  warnings.warn(str(msg))\n",
            "Epoch= 45 Loss=0.32796987891197205 Batch_id=7 Accuracy=85.16:   7%|▋         | 8/120 [00:23<04:28,  2.40s/it]/usr/local/lib/python3.6/dist-packages/PIL/Image.py:932: UserWarning: Palette images with Transparency expressed in bytes should be converted to RGBA images\n",
            "  \"Palette images with Transparency expressed in bytes should be \"\n",
            "Epoch= 45 Loss=0.2622464895248413 Batch_id=11 Accuracy=92.19:  10%|█         | 12/120 [00:32<04:01,  2.23s/it]/usr/local/lib/python3.6/dist-packages/PIL/Image.py:932: UserWarning: Palette images with Transparency expressed in bytes should be converted to RGBA images\n",
            "  \"Palette images with Transparency expressed in bytes should be \"\n",
            "Epoch= 45 Loss=0.307473748922348 Batch_id=15 Accuracy=85.94:  13%|█▎        | 16/120 [00:42<03:28,  2.01s/it]/usr/local/lib/python3.6/dist-packages/PIL/Image.py:932: UserWarning: Palette images with Transparency expressed in bytes should be converted to RGBA images\n",
            "  \"Palette images with Transparency expressed in bytes should be \"\n",
            "Epoch= 45 Loss=0.24352240562438965 Batch_id=90 Accuracy=92.19:  76%|███████▌  | 91/120 [03:55<00:42,  1.48s/it]/usr/local/lib/python3.6/dist-packages/PIL/Image.py:932: UserWarning: Palette images with Transparency expressed in bytes should be converted to RGBA images\n",
            "  \"Palette images with Transparency expressed in bytes should be \"\n",
            "Epoch= 45 Loss=0.47083669900894165 Batch_id=119 Accuracy=80.77: 100%|██████████| 120/120 [04:55<00:00,  2.46s/it]\n",
            "  0%|          | 0/52 [00:00<?, ?it/s]/usr/local/lib/python3.6/dist-packages/PIL/Image.py:932: UserWarning: Palette images with Transparency expressed in bytes should be converted to RGBA images\n",
            "  \"Palette images with Transparency expressed in bytes should be \"\n",
            " 33%|███▎      | 17/52 [00:44<01:30,  2.58s/it]/usr/local/lib/python3.6/dist-packages/PIL/Image.py:932: UserWarning: Palette images with Transparency expressed in bytes should be converted to RGBA images\n",
            "  \"Palette images with Transparency expressed in bytes should be \"\n",
            " 63%|██████▎   | 33/52 [01:21<00:31,  1.67s/it]/usr/local/lib/python3.6/dist-packages/PIL/Image.py:932: UserWarning: Palette images with Transparency expressed in bytes should be converted to RGBA images\n",
            "  \"Palette images with Transparency expressed in bytes should be \"\n",
            "/usr/local/lib/python3.6/dist-packages/PIL/Image.py:932: UserWarning: Palette images with Transparency expressed in bytes should be converted to RGBA images\n",
            "  \"Palette images with Transparency expressed in bytes should be \"\n",
            "100%|██████████| 52/52 [01:59<00:00,  2.29s/it]\n",
            "  0%|          | 0/120 [00:00<?, ?it/s]"
          ],
          "name": "stderr"
        },
        {
          "output_type": "stream",
          "text": [
            "Test Loss= 0.40726346 Test Accuracy= 84.94114049839474\n",
            "lr=  0.0028000000000000013\n"
          ],
          "name": "stdout"
        },
        {
          "output_type": "stream",
          "text": [
            "Epoch= 46 Loss=0.44960662722587585 Batch_id=3 Accuracy=84.38:   3%|▎         | 4/120 [00:14<07:24,  3.83s/it]/usr/local/lib/python3.6/dist-packages/PIL/Image.py:932: UserWarning: Palette images with Transparency expressed in bytes should be converted to RGBA images\n",
            "  \"Palette images with Transparency expressed in bytes should be \"\n",
            "Epoch= 46 Loss=0.3684398829936981 Batch_id=7 Accuracy=86.72:   7%|▋         | 8/120 [00:28<04:30,  2.42s/it]/usr/local/lib/python3.6/dist-packages/PIL/Image.py:932: UserWarning: Palette images with Transparency expressed in bytes should be converted to RGBA images\n",
            "  \"Palette images with Transparency expressed in bytes should be \"\n",
            "Epoch= 46 Loss=0.33552369475364685 Batch_id=47 Accuracy=85.94:  40%|████      | 48/120 [01:58<01:47,  1.50s/it]/usr/local/lib/python3.6/dist-packages/PIL/TiffImagePlugin.py:788: UserWarning: Corrupt EXIF data.  Expecting to read 4 bytes but only got 0. \n",
            "  warnings.warn(str(msg))\n",
            "Epoch= 46 Loss=0.28128331899642944 Batch_id=54 Accuracy=85.94:  46%|████▌     | 55/120 [02:14<01:37,  1.50s/it]/usr/local/lib/python3.6/dist-packages/PIL/Image.py:932: UserWarning: Palette images with Transparency expressed in bytes should be converted to RGBA images\n",
            "  \"Palette images with Transparency expressed in bytes should be \"\n",
            "Epoch= 46 Loss=0.1981995850801468 Batch_id=119 Accuracy=92.31: 100%|██████████| 120/120 [04:57<00:00,  2.48s/it]\n",
            "  6%|▌         | 3/52 [00:11<04:18,  5.28s/it]/usr/local/lib/python3.6/dist-packages/PIL/Image.py:932: UserWarning: Palette images with Transparency expressed in bytes should be converted to RGBA images\n",
            "  \"Palette images with Transparency expressed in bytes should be \"\n",
            " 17%|█▋        | 9/52 [00:25<02:12,  3.07s/it]/usr/local/lib/python3.6/dist-packages/PIL/Image.py:932: UserWarning: Palette images with Transparency expressed in bytes should be converted to RGBA images\n",
            "  \"Palette images with Transparency expressed in bytes should be \"\n",
            " 63%|██████▎   | 33/52 [01:26<00:41,  2.20s/it]/usr/local/lib/python3.6/dist-packages/PIL/Image.py:932: UserWarning: Palette images with Transparency expressed in bytes should be converted to RGBA images\n",
            "  \"Palette images with Transparency expressed in bytes should be \"\n",
            "/usr/local/lib/python3.6/dist-packages/PIL/Image.py:932: UserWarning: Palette images with Transparency expressed in bytes should be converted to RGBA images\n",
            "  \"Palette images with Transparency expressed in bytes should be \"\n",
            "100%|██████████| 52/52 [01:59<00:00,  2.31s/it]\n",
            "  0%|          | 0/120 [00:00<?, ?it/s]"
          ],
          "name": "stderr"
        },
        {
          "output_type": "stream",
          "text": [
            "Test Loss= 0.16977763 Test Accuracy= 84.75768231157315\n",
            "lr=  0.0023500000000000014\n"
          ],
          "name": "stdout"
        },
        {
          "output_type": "stream",
          "text": [
            "Epoch= 47 Loss=0.29757407307624817 Batch_id=12 Accuracy=89.06:  11%|█         | 13/120 [00:38<03:47,  2.13s/it]/usr/local/lib/python3.6/dist-packages/PIL/Image.py:932: UserWarning: Palette images with Transparency expressed in bytes should be converted to RGBA images\n",
            "  \"Palette images with Transparency expressed in bytes should be \"\n",
            "Epoch= 47 Loss=0.3119104504585266 Batch_id=22 Accuracy=86.72:  19%|█▉        | 23/120 [01:01<03:53,  2.41s/it]/usr/local/lib/python3.6/dist-packages/PIL/Image.py:932: UserWarning: Palette images with Transparency expressed in bytes should be converted to RGBA images\n",
            "  \"Palette images with Transparency expressed in bytes should be \"\n",
            "/usr/local/lib/python3.6/dist-packages/PIL/Image.py:932: UserWarning: Palette images with Transparency expressed in bytes should be converted to RGBA images\n",
            "  \"Palette images with Transparency expressed in bytes should be \"\n",
            "Epoch= 47 Loss=0.27912259101867676 Batch_id=25 Accuracy=89.84:  22%|██▏       | 26/120 [01:08<02:54,  1.86s/it]/usr/local/lib/python3.6/dist-packages/PIL/TiffImagePlugin.py:788: UserWarning: Corrupt EXIF data.  Expecting to read 4 bytes but only got 0. \n",
            "  warnings.warn(str(msg))\n",
            "Epoch= 47 Loss=0.3517836332321167 Batch_id=26 Accuracy=87.50:  22%|██▎       | 27/120 [01:09<02:33,  1.65s/it]/usr/local/lib/python3.6/dist-packages/PIL/Image.py:932: UserWarning: Palette images with Transparency expressed in bytes should be converted to RGBA images\n",
            "  \"Palette images with Transparency expressed in bytes should be \"\n",
            "Epoch= 47 Loss=0.20304210484027863 Batch_id=119 Accuracy=92.31: 100%|██████████| 120/120 [04:50<00:00,  2.42s/it]\n",
            "  0%|          | 0/52 [00:00<?, ?it/s]/usr/local/lib/python3.6/dist-packages/PIL/Image.py:932: UserWarning: Palette images with Transparency expressed in bytes should be converted to RGBA images\n",
            "  \"Palette images with Transparency expressed in bytes should be \"\n",
            "/usr/local/lib/python3.6/dist-packages/PIL/Image.py:932: UserWarning: Palette images with Transparency expressed in bytes should be converted to RGBA images\n",
            "  \"Palette images with Transparency expressed in bytes should be \"\n",
            " 29%|██▉       | 15/52 [00:43<01:49,  2.96s/it]/usr/local/lib/python3.6/dist-packages/PIL/Image.py:932: UserWarning: Palette images with Transparency expressed in bytes should be converted to RGBA images\n",
            "  \"Palette images with Transparency expressed in bytes should be \"\n",
            " 65%|██████▌   | 34/52 [01:22<00:30,  1.68s/it]/usr/local/lib/python3.6/dist-packages/PIL/Image.py:932: UserWarning: Palette images with Transparency expressed in bytes should be converted to RGBA images\n",
            "  \"Palette images with Transparency expressed in bytes should be \"\n",
            "100%|██████████| 52/52 [01:58<00:00,  2.27s/it]\n",
            "  0%|          | 0/120 [00:00<?, ?it/s]"
          ],
          "name": "stderr"
        },
        {
          "output_type": "stream",
          "text": [
            "Test Loss= 0.34354335 Test Accuracy= 84.9258523161596\n",
            "lr=  0.0019000000000000006\n"
          ],
          "name": "stdout"
        },
        {
          "output_type": "stream",
          "text": [
            "Epoch= 48 Loss=0.3610494136810303 Batch_id=7 Accuracy=84.38:   7%|▋         | 8/120 [00:25<05:56,  3.18s/it]/usr/local/lib/python3.6/dist-packages/PIL/Image.py:932: UserWarning: Palette images with Transparency expressed in bytes should be converted to RGBA images\n",
            "  \"Palette images with Transparency expressed in bytes should be \"\n",
            "Epoch= 48 Loss=0.24942666292190552 Batch_id=8 Accuracy=91.41:   8%|▊         | 9/120 [00:27<04:50,  2.62s/it]/usr/local/lib/python3.6/dist-packages/PIL/Image.py:932: UserWarning: Palette images with Transparency expressed in bytes should be converted to RGBA images\n",
            "  \"Palette images with Transparency expressed in bytes should be \"\n",
            "Epoch= 48 Loss=0.3204861283302307 Batch_id=17 Accuracy=87.50:  15%|█▌        | 18/120 [00:48<03:00,  1.77s/it]/usr/local/lib/python3.6/dist-packages/PIL/Image.py:932: UserWarning: Palette images with Transparency expressed in bytes should be converted to RGBA images\n",
            "  \"Palette images with Transparency expressed in bytes should be \"\n",
            "Epoch= 48 Loss=0.2863209843635559 Batch_id=63 Accuracy=91.41:  52%|█████▎    | 63/120 [02:34<02:17,  2.42s/it]/usr/local/lib/python3.6/dist-packages/PIL/Image.py:932: UserWarning: Palette images with Transparency expressed in bytes should be converted to RGBA images\n",
            "  \"Palette images with Transparency expressed in bytes should be \"\n",
            "Epoch= 48 Loss=0.3411678671836853 Batch_id=97 Accuracy=87.50:  82%|████████▏ | 98/120 [04:00<01:05,  2.96s/it]/usr/local/lib/python3.6/dist-packages/PIL/TiffImagePlugin.py:788: UserWarning: Corrupt EXIF data.  Expecting to read 4 bytes but only got 0. \n",
            "  warnings.warn(str(msg))\n",
            "Epoch= 48 Loss=0.2057565152645111 Batch_id=119 Accuracy=100.00: 100%|██████████| 120/120 [04:47<00:00,  2.40s/it]\n",
            "  0%|          | 0/52 [00:00<?, ?it/s]/usr/local/lib/python3.6/dist-packages/PIL/Image.py:932: UserWarning: Palette images with Transparency expressed in bytes should be converted to RGBA images\n",
            "  \"Palette images with Transparency expressed in bytes should be \"\n",
            "/usr/local/lib/python3.6/dist-packages/PIL/Image.py:932: UserWarning: Palette images with Transparency expressed in bytes should be converted to RGBA images\n",
            "  \"Palette images with Transparency expressed in bytes should be \"\n",
            " 10%|▉         | 5/52 [00:17<04:42,  6.01s/it]/usr/local/lib/python3.6/dist-packages/PIL/Image.py:932: UserWarning: Palette images with Transparency expressed in bytes should be converted to RGBA images\n",
            "  \"Palette images with Transparency expressed in bytes should be \"\n",
            " 33%|███▎      | 17/52 [00:47<01:32,  2.63s/it]/usr/local/lib/python3.6/dist-packages/PIL/Image.py:932: UserWarning: Palette images with Transparency expressed in bytes should be converted to RGBA images\n",
            "  \"Palette images with Transparency expressed in bytes should be \"\n",
            "100%|██████████| 52/52 [01:56<00:00,  2.25s/it]\n",
            "  0%|          | 0/120 [00:00<?, ?it/s]"
          ],
          "name": "stderr"
        },
        {
          "output_type": "stream",
          "text": [
            "Test Loss= 0.31023172 Test Accuracy= 84.74239412933802\n",
            "lr=  0.0014500000000000003\n"
          ],
          "name": "stdout"
        },
        {
          "output_type": "stream",
          "text": [
            "/usr/local/lib/python3.6/dist-packages/PIL/Image.py:932: UserWarning: Palette images with Transparency expressed in bytes should be converted to RGBA images\n",
            "  \"Palette images with Transparency expressed in bytes should be \"\n",
            "Epoch= 49 Loss=0.3424089550971985 Batch_id=4 Accuracy=85.16:   4%|▍         | 5/120 [00:14<07:06,  3.71s/it]/usr/local/lib/python3.6/dist-packages/PIL/Image.py:932: UserWarning: Palette images with Transparency expressed in bytes should be converted to RGBA images\n",
            "  \"Palette images with Transparency expressed in bytes should be \"\n",
            "Epoch= 49 Loss=0.2658708691596985 Batch_id=16 Accuracy=90.62:  14%|█▍        | 17/120 [00:42<02:28,  1.44s/it]/usr/local/lib/python3.6/dist-packages/PIL/Image.py:932: UserWarning: Palette images with Transparency expressed in bytes should be converted to RGBA images\n",
            "  \"Palette images with Transparency expressed in bytes should be \"\n",
            "Epoch= 49 Loss=0.3476724624633789 Batch_id=28 Accuracy=86.72:  24%|██▍       | 29/120 [01:10<01:57,  1.30s/it]/usr/local/lib/python3.6/dist-packages/PIL/Image.py:932: UserWarning: Palette images with Transparency expressed in bytes should be converted to RGBA images\n",
            "  \"Palette images with Transparency expressed in bytes should be \"\n",
            "Epoch= 49 Loss=0.2673736810684204 Batch_id=92 Accuracy=89.84:  78%|███████▊  | 93/120 [03:47<00:36,  1.34s/it]/usr/local/lib/python3.6/dist-packages/PIL/TiffImagePlugin.py:788: UserWarning: Corrupt EXIF data.  Expecting to read 4 bytes but only got 0. \n",
            "  warnings.warn(str(msg))\n",
            "Epoch= 49 Loss=0.29037216305732727 Batch_id=119 Accuracy=88.46: 100%|██████████| 120/120 [04:48<00:00,  2.40s/it]\n",
            " 25%|██▌       | 13/52 [00:32<01:39,  2.55s/it]/usr/local/lib/python3.6/dist-packages/PIL/Image.py:932: UserWarning: Palette images with Transparency expressed in bytes should be converted to RGBA images\n",
            "  \"Palette images with Transparency expressed in bytes should be \"\n",
            " 38%|███▊      | 20/52 [00:50<01:17,  2.43s/it]/usr/local/lib/python3.6/dist-packages/PIL/Image.py:932: UserWarning: Palette images with Transparency expressed in bytes should be converted to RGBA images\n",
            "  \"Palette images with Transparency expressed in bytes should be \"\n",
            "/usr/local/lib/python3.6/dist-packages/PIL/Image.py:932: UserWarning: Palette images with Transparency expressed in bytes should be converted to RGBA images\n",
            "  \"Palette images with Transparency expressed in bytes should be \"\n",
            " 79%|███████▉  | 41/52 [01:35<00:17,  1.63s/it]/usr/local/lib/python3.6/dist-packages/PIL/Image.py:932: UserWarning: Palette images with Transparency expressed in bytes should be converted to RGBA images\n",
            "  \"Palette images with Transparency expressed in bytes should be \"\n",
            "100%|██████████| 52/52 [01:56<00:00,  2.25s/it]"
          ],
          "name": "stderr"
        },
        {
          "output_type": "stream",
          "text": [
            "Test Loss= 0.08027541 Test Accuracy= 84.32961320898946\n",
            "Finished Training\n"
          ],
          "name": "stdout"
        },
        {
          "output_type": "stream",
          "text": [
            "\n"
          ],
          "name": "stderr"
        }
      ]
    },
    {
      "cell_type": "markdown",
      "metadata": {
        "id": "48DT7XFk28E8",
        "colab_type": "text"
      },
      "source": [
        "#Save Model"
      ]
    },
    {
      "cell_type": "code",
      "metadata": {
        "id": "3XUHy_Yx2-aV",
        "colab_type": "code",
        "colab": {}
      },
      "source": [
        "torch.save(net.state_dict(), 'Generated_models/Model.pth')\n",
        "#modelnet.eval()"
      ],
      "execution_count": 12,
      "outputs": []
    },
    {
      "cell_type": "markdown",
      "metadata": {
        "id": "-8kmy-eb2UIi",
        "colab_type": "text"
      },
      "source": [
        "#Lr vs Epoch plot "
      ]
    },
    {
      "cell_type": "code",
      "metadata": {
        "id": "T_Pq9Duj2Tq2",
        "colab_type": "code",
        "colab": {
          "base_uri": "https://localhost:8080/",
          "height": 178
        },
        "outputId": "147022d2-d916-4eb6-d8f2-19e460533d68"
      },
      "source": [
        "import matplotlib.pyplot as plt\n",
        "fig = plt.figure()\n",
        "ax = fig.add_subplot(2, 1, 1)\n",
        "line, = ax.plot(lr_)\n",
        "ax.set_xlabel(\"Learning rate\")\n",
        "ax.set_ylabel(\"Epoch\")"
      ],
      "execution_count": 14,
      "outputs": [
        {
          "output_type": "execute_result",
          "data": {
            "text/plain": [
              "Text(0, 0.5, 'Epoch')"
            ]
          },
          "metadata": {
            "tags": []
          },
          "execution_count": 14
        },
        {
          "output_type": "display_data",
          "data": {
            "image/png": "[encoded data removed]",
            "text/plain": [
              "<Figure size 432x288 with 1 Axes>"
            ]
          },
          "metadata": {
            "tags": [],
            "needs_background": "light"
          }
        }
      ]
    },
    {
      "cell_type": "markdown",
      "metadata": {
        "id": "iUdIgLwE2Ys2",
        "colab_type": "text"
      },
      "source": [
        "#Plot Train/Test Accuracy and loss"
      ]
    },
    {
      "cell_type": "code",
      "metadata": {
        "id": "KnduiJPm2elX",
        "colab_type": "code",
        "colab": {
          "base_uri": "https://localhost:8080/",
          "height": 621
        },
        "outputId": "09126258-fb81-4910-f659-6b5b554db123"
      },
      "source": [
        "general_utils.plot_acc_loss(train_acc, test_acc, trainloss_, testloss_)"
      ],
      "execution_count": 13,
      "outputs": [
        {
          "output_type": "display_data",
          "data": {
            "image/png": "[encoded data removed]",
            "text/plain": [
              "<Figure size 720x720 with 4 Axes>"
            ]
          },
          "metadata": {
            "tags": [],
            "needs_background": "light"
          }
        }
      ]
    },
    {
      "cell_type": "markdown",
      "metadata": {
        "id": "tsLKwm_JQTAH",
        "colab_type": "text"
      },
      "source": [
        "#Load Model"
      ]
    },
    {
      "cell_type": "code",
      "metadata": {
        "id": "hWNH1ftEQQi_",
        "colab_type": "code",
        "colab": {
          "base_uri": "https://localhost:8080/",
          "height": 34
        },
        "outputId": "0e2d6650-5920-4804-aa83-b0ef21263039"
      },
      "source": [
        "device = torch.device(\"cuda\" if cudas.cuda else \"cpu\")\n",
        "modelnet = mobilenetv2().to(device)\n",
        "modelnet.load_state_dict(torch.load('Model.pth'))"
      ],
      "execution_count": 19,
      "outputs": [
        {
          "output_type": "execute_result",
          "data": {
            "text/plain": [
              "<All keys matched successfully>"
            ]
          },
          "metadata": {
            "tags": []
          },
          "execution_count": 19
        }
      ]
    },
    {
      "cell_type": "markdown",
      "metadata": {
        "id": "c9Bwsxy72pgB",
        "colab_type": "text"
      },
      "source": [
        "#Groundtruth vs Predictions"
      ]
    },
    {
      "cell_type": "code",
      "metadata": {
        "id": "Bq7R8OLTm5Rx",
        "colab_type": "code",
        "colab": {
          "base_uri": "https://localhost:8080/",
          "height": 187
        },
        "outputId": "dda62591-5604-4bf3-d3ce-f366ab27f918"
      },
      "source": [
        "import numpy\n",
        "dataiter = iter(testloader1)\n",
        "images, labels = dataiter.next()\n",
        "\n",
        "# print images\n",
        "general_utils.imshow(torchvision.utils.make_grid(images))\n",
        "print('GT   ', '      '.join('%5s' % classes[labels[j]] for j in range(4)))\n",
        "\n",
        "outputs = modelnet(images.cuda())\n",
        "_, predicted = torch.max(outputs, 1)\n",
        "print('Pred ', '      '.join('%5s' % classes[predicted[j].cpu().data.numpy()] for j in range(4)))"
      ],
      "execution_count": 20,
      "outputs": [
        {
          "output_type": "stream",
          "text": [
            "Clipping input data to the valid range for imshow with RGB data ([0..1] for floats or [0..255] for integers).\n"
          ],
          "name": "stderr"
        },
        {
          "output_type": "stream",
          "text": [
            "GT    Large QuadCopters      Small QuadCopters      Winged Drones      Large QuadCopters\n",
            "Pred  Flying Birds      Small QuadCopters      Flying Birds      Large QuadCopters\n"
          ],
          "name": "stdout"
        },
        {
          "output_type": "display_data",
          "data": {
            "image/png": "[encoded data removed]",
            "text/plain": [
              "<Figure size 432x288 with 1 Axes>"
            ]
          },
          "metadata": {
            "tags": [],
            "needs_background": "light"
          }
        }
      ]
    },
    {
      "cell_type": "code",
      "metadata": {
        "id": "d-SjmTAuoxsL",
        "colab_type": "code",
        "colab": {
          "base_uri": "https://localhost:8080/",
          "height": 241
        },
        "outputId": "2e75bb34-e3a1-460f-d5fa-211b7596e775"
      },
      "source": [
        "dataiter = iter(testloader1)\n",
        "images, labels = dataiter.next()\n",
        "# print images\n",
        "general_utils.imshow(torchvision.utils.make_grid(images))\n",
        "print('GT   ', '      '.join('%5s' % classes[labels[j]] for j in range(4)))\n",
        "\n",
        "outputs = modelnet(images.cuda())\n",
        "_, predicted = torch.max(outputs, 1)\n",
        "print('Pred ', '      '.join('%5s' % classes[predicted[j].cpu().data.numpy()] for j in range(4)))"
      ],
      "execution_count": 22,
      "outputs": [
        {
          "output_type": "stream",
          "text": [
            "/usr/local/lib/python3.6/dist-packages/PIL/Image.py:932: UserWarning: Palette images with Transparency expressed in bytes should be converted to RGBA images\n",
            "  \"Palette images with Transparency expressed in bytes should be \"\n",
            "Clipping input data to the valid range for imshow with RGB data ([0..1] for floats or [0..255] for integers).\n"
          ],
          "name": "stderr"
        },
        {
          "output_type": "stream",
          "text": [
            "GT    Large QuadCopters      Small QuadCopters      Flying Birds      Flying Birds\n",
            "Pred  Winged Drones      Winged Drones      Flying Birds      Flying Birds\n"
          ],
          "name": "stdout"
        },
        {
          "output_type": "display_data",
          "data": {
            "image/png": "[encoded data removed]",
            "text/plain": [
              "<Figure size 432x288 with 1 Axes>"
            ]
          },
          "metadata": {
            "tags": [],
            "needs_background": "light"
          }
        }
      ]
    },
    {
      "cell_type": "code",
      "metadata": {
        "id": "9gIycrGxPzro",
        "colab_type": "code",
        "colab": {
          "base_uri": "https://localhost:8080/",
          "height": 187
        },
        "outputId": "d991897d-d3a8-42cb-e160-c637abe9d3f7"
      },
      "source": [
        "dataiter = iter(testloader1)\n",
        "images, labels = dataiter.next()\n",
        "# print images\n",
        "general_utils.imshow(torchvision.utils.make_grid(images))\n",
        "print('GT   ', '      '.join('%5s' % classes[labels[j]] for j in range(4)))\n",
        "\n",
        "outputs = modelnet(images.cuda())\n",
        "_, predicted = torch.max(outputs, 1)\n",
        "print('Pred ', '      '.join('%5s' % classes[predicted[j].cpu().data.numpy()] for j in range(4)))"
      ],
      "execution_count": 23,
      "outputs": [
        {
          "output_type": "stream",
          "text": [
            "Clipping input data to the valid range for imshow with RGB data ([0..1] for floats or [0..255] for integers).\n"
          ],
          "name": "stderr"
        },
        {
          "output_type": "stream",
          "text": [
            "GT    Flying Birds      Flying Birds      Winged Drones      Large QuadCopters\n",
            "Pred  Flying Birds      Flying Birds      Winged Drones      Large QuadCopters\n"
          ],
          "name": "stdout"
        },
        {
          "output_type": "display_data",
          "data": {
            "image/png": "[encoded data removed]",
            "text/plain": [
              "<Figure size 432x288 with 1 Axes>"
            ]
          },
          "metadata": {
            "tags": [],
            "needs_background": "light"
          }
        }
      ]
    },
    {
      "cell_type": "code",
      "metadata": {
        "id": "HEU63FM9P4Rp",
        "colab_type": "code",
        "colab": {}
      },
      "source": [
        ""
      ],
      "execution_count": null,
      "outputs": []
    }
  ]
}
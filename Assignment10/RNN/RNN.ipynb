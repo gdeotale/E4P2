{
  "nbformat": 4,
  "nbformat_minor": 0,
  "metadata": {
    "colab": {
      "name": "Untitled15.ipynb",
      "provenance": []
    },
    "kernelspec": {
      "name": "python3",
      "display_name": "Python 3"
    },
    "accelerator": "GPU"
  },
  "cells": [
    {
      "cell_type": "code",
      "metadata": {
        "id": "E9Dzd6LYmhNZ"
      },
      "source": [
        "import torch\n",
        "from torchtext import data\n",
        "\n",
        "SEED = 1234\n",
        "\n",
        "torch.manual_seed(SEED)\n",
        "torch.backends.cudnn.deterministic = True\n",
        "\n",
        "TEXT = data.Field(tokenize = 'spacy')\n",
        "LABEL = data.LabelField(dtype = torch.float)"
      ],
      "execution_count": 1,
      "outputs": []
    },
    {
      "cell_type": "code",
      "metadata": {
        "id": "t7MpNOyJmjAh"
      },
      "source": [
        "from torchtext import datasets\n",
        "import random\n",
        "\n",
        "train_data, test_data = datasets.IMDB.splits(TEXT, LABEL)\n",
        "train_data, valid_data = train_data.split(random_state = random.seed(SEED))"
      ],
      "execution_count": 7,
      "outputs": []
    },
    {
      "cell_type": "code",
      "metadata": {
        "id": "QXvKSfmnmvyj",
        "outputId": "1d8c6a36-7696-4246-baa8-6a5f90934f56",
        "colab": {
          "base_uri": "https://localhost:8080/",
          "height": 68
        }
      },
      "source": [
        "print(f'Number of training examples: {len(train_data)}')\n",
        "print(f'Number of validation examples: {len(valid_data)}')\n",
        "print(f'Number of testing examples: {len(test_data)}')"
      ],
      "execution_count": 8,
      "outputs": [
        {
          "output_type": "stream",
          "text": [
            "Number of training examples: 17500\n",
            "Number of validation examples: 7500\n",
            "Number of testing examples: 25000\n"
          ],
          "name": "stdout"
        }
      ]
    },
    {
      "cell_type": "code",
      "metadata": {
        "id": "Qnj1O9vqnZ37",
        "outputId": "a7d53c39-89e3-48ba-9448-9892d7c9bb69",
        "colab": {
          "base_uri": "https://localhost:8080/",
          "height": 105
        }
      },
      "source": [
        "print(vars(train_data.examples[0]))\n",
        "print(vars(train_data.examples[1]))\n",
        "print(vars(train_data.examples[2]))\n",
        "print(vars(train_data.examples[3]))"
      ],
      "execution_count": 4,
      "outputs": [
        {
          "output_type": "stream",
          "text": [
            "{'text': ['I', 'have', 'the', 'entire', 'Weissmuller', 'Tarzan', 'series', 'on', 'DVD', '(', 'fully', 'restored', 'editions', ')', '&', 'I', 'never', 'tire', 'of', 'watching', 'them', '.', 'My', 'personal', 'favorite', 'is', '\"', 'Tarzan', 'and', 'His', 'Mate', '\"', ',', 'due', 'entirely', '(', 'well', 'almost', 'entirely', ')', 'to', 'Maureen', \"O'Sullivan\", \"'s\", 'costume', 'and', 'the', 'occasional', 'flashes', 'of', 'her', 'genital', 'area', 'beneath', 'that', 'leather', 'flap', 'hanging', 'in', 'front', '.', 'Before', 'anyone', 'claims', 'that', 'A', '-', 'It', 'was', \"n't\", 'really', 'her', ',', 'or', 'B', '-', 'It', 'was', \"n't\", 'really', 'what', 'it', 'looks', 'like', ',', 'let', 'me', 'say', 'that', 'I', 'have', 'watched', 'it', 'numerous', 'time', ',', 'in', 'high', 'zoom', 'mode', ',', 'and', 'trust', 'me', '...', 'it', 'IS', 'her', ',', 'AND', 'she', 'is', 'completely', 'naked', 'underneath', 'that', 'costume', '...', 'several', 'times', ',', 'especially', 'during', 'the', 'lion', 'attack', 'at', 'the', 'end', ',', 'careful', 'viewing', 'in', 'slow', 'motion', 'and', 'maximum', 'zoom', 'will', 'reveal', 'that', 'she', 'was', 'shaved', 'except', 'for', 'a', 'tiny', 'patch', 'of', 'dark', 'hair', 'covering', 'her', 'labia', '...', 'There', 'is', 'NO', 'mistake', 'about', 'that', 'at', 'all', '.', 'As', 'to', 'the', 'swimming', 'scene', 'being', 'a', 'body', 'double', 'in', 'a', '\"', 'skin', '\"', 'suit', ',', 'yes', ',', 'it', 'is', 'a', 'double', ',', 'BUT', 'she', 'is', 'NOT', 'wearing', 'any', '\"', 'skin', '\"', 'suit', 'or', 'anything', 'else', '...', 'again', ',', 'slow', 'motion', 'and', 'maximum', 'zoom', 'shows', 'everything', 'to', 'those', 'who', 'want', 'to', 'see', 'it', '.', 'Now', ',', 'that', 'controversy', 'out', 'of', 'the', 'way', ',', 'let', \"'s\", 'move', 'on', 'the', 'actual', 'movie', '...', 'I', 'thought', 'the', 'script', 'was', 'really', 'well', 'thought', 'out', 'and', 'written', 'tightly', '...', 'The', 'action', 'sequences', 'were', 'simply', 'great', ',', 'although', 'it', 'is', 'obviously', 'a', 'stuntman', 'riding', 'the', 'rhino', ',', 'Weissmuller', 'actually', 'wrestles', 'the', 'big', 'male', 'lion', '...', 'The', 'use', 'of', 'background', 'shots', 'that', 'were', 'second', 'unit', 'stuff', 'from', 'Africa', 'is', 'very', 'well', 'blended', 'with', 'the', 'studio', '&', 'US', 'locations', 'making', 'it', 'sometimes', 'hard', 'to', 'tell', 'which', 'is', 'which', '.', 'Do', \"n't\", 'complain', 'too', 'much', 'though', ',', 'remember', 'that', '90', '%', 'of', 'ALL', 'films', 'is', 'phony', 'anyway', ',', 'so', 'just', 'relax', 'and', 'enjoy', 'the', 'damned', 'thing', 'with', 'a', 'big', 'bowl', 'of', 'popcorn', ',', 'some', 'cold', 'beer', ',', 'and', 'a', 'fresh', 'pack', 'of', 'smokes', '...', 'a', 'sexy', 'and', 'willing', 'girlfriend', '/', 'wife', 'is', \"n't\", 'out', 'of', 'line', 'either', '...', 'lol', '.', 'Oh', '...', 'One', 'final', 'word', 'about', 'nudity', '...', 'at', 'the', 'very', 'beginning', ',', 'while', 'the', 'white', 'hunters', 'are', 'speaking', 'dialogue', ',', 'keep', 'your', 'eyes', 'on', 'the', 'background', 'extras', '...', 'there', 'are', 'several', 'good', 'shots', 'of', 'nude', 'African', 'girls', '(', 'obviously', 'shot', 'on', 'location', ')', 'behind', 'them', '.', 'One', 'more', 'thing', ',', 'the', 'movie', 'is', 'not', 'racist', 'by', 'the', 'standards', 'of', 'the', '1930', \"'s\", 'until', 'the', \"1960's\", '...', 'that', \"'s\", 'the', 'way', 'colored', 'people', 'were', 'thought', 'of', 'and', 'portrayed', 'back', 'then', '.', 'Shaft', 'had', \"n't\", 'even', 'been', 'thought', 'about', 'at', 'that', 'time', ',', 'nor', 'would', 'audiences', 'have', 'accepted', 'any', 'other', 'portrayals', 'of', 'them', 'at', 'the', 'time', 'in', 'history', '.', 'Safaris', 'actually', 'did', 'use', 'natives', 'carrying', 'luggage', 'on', 'their', 'heads', '...', 'and', 'Tiny', \"'s\", 'character', 'did', 'die', 'a', 'heroic', 'death', 'trying', 'to', 'save', 'the', 'white', 'hunters', 'and', 'Jane', '.', 'As', 'a', 'matter', 'of', 'fact', ',', 'it', 'was', \"n't\", 'until', 'Gene', 'Autry', 'treated', 'the', 'native', 'Americans', 'and', 'colored', 'people', 'in', 'his', 'Westerns', 'like', 'real', 'human', 'beings', 'that', 'Hollywood', 'began', 'to', 'see', 'that', 'it', 'was', 'okay', 'to', 'do', 'so', '.'], 'label': 'pos'}\n",
            "{'text': ['The', 'title', 'overstates', 'the', 'content', 'of', 'this', 'movie', 'somewhat', ',', 'which', 'might', 'lead', 'to', 'some', 'unrealized', 'expectations', '.', 'Frankly', 'speaking', ',', 'there', \"'s\", 'very', 'little', '\"', 'panic', 'in', 'the', 'streets', '\"', 'to', 'be', 'seen', 'here', '.', 'In', 'fact', ',', 'throughout', 'the', 'movie', 'very', 'few', 'people', 'actually', 'know', 'that', 'there', \"'s\", 'a', 'murderer', 'on', 'the', 'loose', 'who', 'may', 'well', 'be', 'spreading', 'the', 'plague', 'to', 'everyone', 'and', 'anyone', 'he', 'encounters', '.', 'Having', 'said', 'that', ',', 'what', 'we', 'do', 'have', 'here', 'is', 'a', 'very', 'well', 'done', 'story', 'with', 'a', 'level', 'of', 'suspense', 'that', 'starts', 'out', 'reasonably', 'high', 'anyway', '(', 'because', ',', 'unlike', 'the', 'people', '\"', 'in', 'the', 'streets', '\"', ',', 'the', 'viewer', 'knows', 'what', \"'s\", 'going', 'on', ')', 'and', 'that', 'director', 'Elia', 'Kazan', 'builds', 'very', 'deliberately', '.', 'As', 'the', 'plague', '-', 'infected', 'killer', 'is', 'sought', ',', 'one', 'of', 'the', 'more', 'interesting', 'sidebars', 'I', 'found', 'was', 'the', 'developing', 'relationship', 'between', 'Dr.', 'Reed', '(', 'Richard', 'Widmark', ')', 'and', 'Police', 'Captain', 'Warren', '(', 'Paul', 'Douglas', ')', '.', 'At', 'the', 'beginning', ',', 'the', 'two', 'really', 'do', \"n't\", 'like', 'each', 'other', ',', 'even', 'though', 'they', 'have', 'to', 'work', 'together', '.', 'By', 'the', 'end', ',', 'they', \"'ve\", 'forged', 'a', 'real', 'bond', 'of', 'respect', 'for', 'each', 'other', '.', 'Kazan', 'did', 'a', 'good', 'job', 'with', 'that.<br', '/><br', '/>Pretty', 'much', 'all', 'the', 'performances', 'here', 'were', 'excellent', '.', 'Widmark', 'and', 'Douglas', 'were', 'great', ',', 'and', 'I', 'was', 'quite', 'taken', 'with', 'a', 'very', 'early', 'look', 'at', 'Jack', 'Palance', 'playing', 'what', 'would', 'become', 'his', 'typical', '\"', 'heavy', '\"', 'role', '.', 'I', 'found', 'very', 'little', 'to', 'criticize', 'here', '.', 'Perhaps', 'Barbara', 'Bel', 'Geddes', 'came', 'across', 'as', 'a', 'little', 'bit', 'flat', 'as', 'Reed', \"'s\", 'wife', 'Nancy', ',', 'but', 'her', 'role', 'was', \"n't\", 'really', 'central', 'to', 'the', 'story', '.', 'All', 'in', 'all', ',', 'an', 'excellent', 'piece', 'of', 'work', '.', '9/10'], 'label': 'pos'}\n",
            "{'text': ['To', 'be', 'fair', ',', 'I', 'expected', 'car', 'chases', 'in', 'this', 'film', '.', 'There', 'was', 'only', 'really', 'one', ',', 'but', 'apart', 'from', 'that', ',', \"'\", 'Freeway', \"'\", 'was', 'a', 'great', 'movie', 'which', 'I', 'am', 'glad', 'to', 'own', 'on', 'DVD', '.', 'The', 'only', 'really', 'big', 'names', 'in', 'the', 'cast', 'are', 'HOMICIDE', \"'s\", 'Richard', 'Belzer', 'as', 'the', 'radio', 'psychiatrist', 'and', 'B', '-', 'Movie', 'villain', 'par', '-', 'excellance', 'Billy', 'Drago', 'as', 'the', 'Revelation', '-', 'quoting', 'Freeway', 'Killer', '.', 'But', 'the', 'rest', 'of', 'the', 'cast', 'generally', 'give', 'good', 'performances', '.', 'I', 'especially', 'liked', 'how', 'Darlanne', 'Fluegel', 'gave', 'her', 'character', ',', 'Sunny', ',', 'a', 'bit', 'of', 'guts', '.', 'She', 'could', 'have', 'been', 'a', 'helpless', 'victim', 'character', 'but', 'she', 'is', 'fully', 'rounded', 'as', 'she', 'seeks', 'out', 'Drago', 'with', 'the', 'help', 'of', 'bounty', 'hunter', 'James', 'Russo.<br', '/><br', '/>Russo', ',', 'I', \"'m\", 'afraid', ',', 'comes', 'across', 'as', 'rather', 'wooden', ',', 'but', 'then', 'again', ',', 'the', 'character', 'he', 'plays', ',', 'Frank', ',', 'is', \"n't\", 'very', 'well', 'fleshed', 'out', 'save', 'for', 'a', 'back', 'story', 'Sunny', 'is', 'given', 'by', 'his', 'former', 'commanding', 'officer', '.', 'The', 'tone', 'of', 'menace', 'is', 'kept', 'up', 'superbly', 'throughout', 'the', 'film', 'and', 'the', 'atmosphere', 'of', 'the', 'lonely', 'LA', 'freeway', 'at', 'night', 'with', 'the', 'killer', 'prowling', 'its', \"'\", 'length', 'in', 'his', 'sinister', 'grey', 'sedan', 'is', 'an', 'excellent', 'way', 'of', 'building', 'tension', ',', 'and', 'the', 'music', 'used', 'to', 'underscore', 'the', 'film', 'is', 'suitably', 'composed', '.', 'I', 'do', \"n't\", 'know', 'why', 'there', 'are', 'some', 'people', 'who', 'hate', 'this', 'movie', 'so', '.', 'Different', 'strokes', 'for', 'different', 'folks', ',', 'I', 'suppose', '.', 'But', 'I', 'absolutely', 'enjoyed', \"'\", 'Freeway', \"'\", 'and', 'I', 'can', 'strongly', 'recommend', 'it', '.'], 'label': 'pos'}\n",
            "{'text': ['No', 'sense', 'going', 'over', 'the', 'story', 'since', 'enough', 'reviewers', 'have', 'done', 'that', '.', 'Here', \"'s\", 'a', 'few', 'different', 'slants', 'on', 'it', 'from', 'one', 'of', 'those', '\"', 'religious', 'nuts', ',', '\"', 'as', 'one', 'bigoted', 'reviewer', 'puts', 'it', 'so', 'tolerantly', '.', '<', 'br', '/><br', '/>1', ')', '\"', 'Baby', 'Face', '\"', '(', '1933', ')', 'offers', 'perhaps', 'THE', 'classic', 'example', 'ever', 'put', 'on', 'film', 'of', 'how', 'women', 'can', 'manipulate', 'men', 'with', 'sex', '.', 'There', 'is', 'a', 'lot', 'of', 'truth', 'to', 'what', 'Barbara', 'Stanwyck', 'demonstrates', 'in', 'this', 'film', ':', 'look', 'cute', ',', 'bat', 'your', 'eyelashes', ',', 'offer', 'your', 'body', 'for', 'free', '.....', 'and', 'men', 'will', 'fall', 'over', 'themselves', 'to', 'help', 'you', 'out', 'with', 'whatever', 'you', 'want.<br', '/><br', '/>In', 'this', 'case', ',', 'it', 'was', 'job', 'advancement', 'with', 'the', 'ultimate', 'goal', 'of', 'money', '.....', 'lots', 'of', 'it', '.', 'At', 'least', 'four', 'men', 'in', 'this', 'film', 'do', 'provide', 'just', 'that', ',', 'even', 'if', 'it', 'ruins', 'their', 'lives', 'in', 'the', 'process', '.', '<', 'br', '/><br', '/>2', ')', 'The', 'ending', '-', 'which', 'many', 'of', 'the', 'reviewers', 'here', 'seemed', 'to', 'hate', '-', 'gives', 'another', 'great', 'message', ':', 'all', 'the', 'money', 'and', 'material', 'goods', 'in', 'the', 'world', 'wo', \"n't\", 'make', 'a', 'person', 'feel', 'fulfilled', '.', 'A', 'sad', 'comment', 'that', 'so', 'many', '\"', 'critics', '\"', 'here', 'would', 'rather', 'have', 'immoral', 'messages', ',', 'preferring', 'sleaze', 'over', 'substance', '.', 'No', 'surprise', ',', 'I', 'guess.<br', '/><br', '/>Any', 'way', 'you', 'look', 'at', 'it', ',', 'the', 'movie', 'is', 'entertaining', 'start', '-', 'to', '-', 'finish', 'and', 'Stanwyck', 'has', 'some', 'great', 'lines', ',', 'particularly', 'in', 'the', 'beginning', 'when', 'she', 'tells', 'off', 'her', 'crude', 'father', 'and', 'his', 'unruly', 'bar', 'customers', '.', 'At', 'a', 'little', 'over', '70', 'minutes', ',', 'this', 'film', 'moves', 'at', 'a', 'fast', 'pace', 'and', 'is', 'over', 'before', 'you', 'know', 'it', '.'], 'label': 'pos'}\n"
          ],
          "name": "stdout"
        }
      ]
    },
    {
      "cell_type": "code",
      "metadata": {
        "id": "UIrtXChWn-me",
        "outputId": "729f613b-af06-4d4d-978a-8c969c100de9",
        "colab": {
          "base_uri": "https://localhost:8080/",
          "height": 51
        }
      },
      "source": [
        "MAX_VOCAB_SIZE = 25_000\n",
        "\n",
        "TEXT.build_vocab(train_data, max_size = MAX_VOCAB_SIZE)\n",
        "LABEL.build_vocab(train_data)\n",
        "print(f\"Unique tokens in TEXT vocabulary: {len(TEXT.vocab)}\")\n",
        "print(f\"Unique tokens in LABEL vocabulary: {len(LABEL.vocab)}\")"
      ],
      "execution_count": 9,
      "outputs": [
        {
          "output_type": "stream",
          "text": [
            "Unique tokens in TEXT vocabulary: 25002\n",
            "Unique tokens in LABEL vocabulary: 2\n"
          ],
          "name": "stdout"
        }
      ]
    },
    {
      "cell_type": "code",
      "metadata": {
        "id": "_CVbzNzYob6S"
      },
      "source": [
        "BATCH_SIZE = 64\n",
        "\n",
        "device = torch.device('cuda' if torch.cuda.is_available() else 'cpu')\n",
        "\n",
        "train_iterator, valid_iterator, test_iterator = data.BucketIterator.splits(\n",
        "    (train_data, valid_data, test_data), \n",
        "    batch_size = BATCH_SIZE,\n",
        "    device = device)"
      ],
      "execution_count": 10,
      "outputs": []
    },
    {
      "cell_type": "code",
      "metadata": {
        "id": "63hpSy-KpBj3"
      },
      "source": [
        "import torch.nn as nn\n",
        "\n",
        "class RNN(nn.Module):\n",
        "    def __init__(self, input_dim, embedding_dim, hidden_dim, output_dim):\n",
        "        \n",
        "        super().__init__()\n",
        "        \n",
        "        self.embedding = nn.Embedding(input_dim, embedding_dim)       \n",
        "        self.rnn = nn.RNN(embedding_dim, hidden_dim)\n",
        "        self.fc = nn.Linear(hidden_dim, output_dim)\n",
        "        \n",
        "    def forward(self, text):\n",
        "        embedded = self.embedding(text)\n",
        "        output, hidden = self.rnn(embedded)\n",
        "        #assert torch.equal(output[-1,:,:], hidden.squeeze(0))\n",
        "        \n",
        "        return self.fc(hidden.squeeze(0))"
      ],
      "execution_count": 20,
      "outputs": []
    },
    {
      "cell_type": "code",
      "metadata": {
        "id": "bsNgERczp1Vq"
      },
      "source": [
        "INPUT_DIM = len(TEXT.vocab)\n",
        "EMBEDDING_DIM = 100\n",
        "HIDDEN_DIM = 256\n",
        "OUTPUT_DIM = 1\n",
        "\n",
        "model = RNN(INPUT_DIM, EMBEDDING_DIM, HIDDEN_DIM, OUTPUT_DIM)"
      ],
      "execution_count": 21,
      "outputs": []
    },
    {
      "cell_type": "code",
      "metadata": {
        "id": "MmW3B0vEp7nS",
        "outputId": "cff03e1f-b976-4a67-a6c0-b705710ffee4",
        "colab": {
          "base_uri": "https://localhost:8080/",
          "height": 34
        }
      },
      "source": [
        "def count_parameters(model):\n",
        "    return sum(p.numel() for p in model.parameters() if p.requires_grad)\n",
        "\n",
        "print(f'The model has {count_parameters(model):,} trainable parameters')"
      ],
      "execution_count": 22,
      "outputs": [
        {
          "output_type": "stream",
          "text": [
            "The model has 2,592,105 trainable parameters\n"
          ],
          "name": "stdout"
        }
      ]
    },
    {
      "cell_type": "code",
      "metadata": {
        "id": "ljSiKY4aqG3l"
      },
      "source": [
        "import torch.optim as optim\n",
        "\n",
        "optimizer = optim.SGD(model.parameters(), lr=1e-3)\n",
        "criterion = nn.BCEWithLogitsLoss()\n",
        "model = model.to(device)\n",
        "criterion = criterion.to(device)"
      ],
      "execution_count": 23,
      "outputs": []
    },
    {
      "cell_type": "code",
      "metadata": {
        "id": "ddh82c0OqXpv"
      },
      "source": [
        "def binary_accuracy(preds, y):\n",
        "    \"\"\"\n",
        "    Returns accuracy per batch, i.e. if you get 8/10 right, this returns 0.8, NOT 8\n",
        "    \"\"\"\n",
        "\n",
        "    #round predictions to the closest integer\n",
        "    rounded_preds = torch.round(torch.sigmoid(preds))\n",
        "    correct = (rounded_preds == y).float() #convert into float for division \n",
        "    acc = correct.sum() / len(correct)\n",
        "    return acc"
      ],
      "execution_count": 24,
      "outputs": []
    },
    {
      "cell_type": "code",
      "metadata": {
        "id": "wcLNfKhDqqUV"
      },
      "source": [
        "def train(model, iterator, optimizer, criterion):\n",
        "    \n",
        "    epoch_loss = 0\n",
        "    epoch_acc = 0\n",
        "    \n",
        "    model.train()\n",
        "    \n",
        "    for batch in iterator:\n",
        "        \n",
        "        optimizer.zero_grad()\n",
        "                \n",
        "        predictions = model(batch.text).squeeze(1)\n",
        "        \n",
        "        loss = criterion(predictions, batch.label)\n",
        "        \n",
        "        acc = binary_accuracy(predictions, batch.label)\n",
        "        \n",
        "        loss.backward()\n",
        "        \n",
        "        optimizer.step()\n",
        "        \n",
        "        epoch_loss += loss.item()\n",
        "        epoch_acc += acc.item()\n",
        "        \n",
        "    return epoch_loss / len(iterator), epoch_acc / len(iterator)\n",
        "\n",
        "def evaluate(model, iterator, criterion):\n",
        "    \n",
        "    epoch_loss = 0\n",
        "    epoch_acc = 0\n",
        "    \n",
        "    model.eval()\n",
        "    \n",
        "    with torch.no_grad():\n",
        "    \n",
        "        for batch in iterator:\n",
        "\n",
        "            predictions = model(batch.text).squeeze(1)\n",
        "            \n",
        "            loss = criterion(predictions, batch.label)\n",
        "            \n",
        "            acc = binary_accuracy(predictions, batch.label)\n",
        "\n",
        "            epoch_loss += loss.item()\n",
        "            epoch_acc += acc.item()\n",
        "        \n",
        "    return epoch_loss / len(iterator), epoch_acc / len(iterator)"
      ],
      "execution_count": 25,
      "outputs": []
    },
    {
      "cell_type": "code",
      "metadata": {
        "id": "7qUt3z-gq6tB"
      },
      "source": [
        "import time\n",
        "\n",
        "def epoch_time(start_time, end_time):\n",
        "    elapsed_time = end_time - start_time\n",
        "    elapsed_mins = int(elapsed_time / 60)\n",
        "    elapsed_secs = int(elapsed_time - (elapsed_mins * 60))\n",
        "    return elapsed_mins, elapsed_secs"
      ],
      "execution_count": 26,
      "outputs": []
    },
    {
      "cell_type": "code",
      "metadata": {
        "id": "K8uMixk9rFeM",
        "outputId": "884c4dde-73e8-4791-ee77-b59306975cb6",
        "colab": {
          "base_uri": "https://localhost:8080/",
          "height": 272
        }
      },
      "source": [
        "N_EPOCHS = 5\n",
        "\n",
        "best_valid_loss = float('inf')\n",
        "\n",
        "for epoch in range(N_EPOCHS):\n",
        "\n",
        "    start_time = time.time()\n",
        "    \n",
        "    train_loss, train_acc = train(model, train_iterator, optimizer, criterion)\n",
        "    valid_loss, valid_acc = evaluate(model, valid_iterator, criterion)\n",
        "    \n",
        "    end_time = time.time()\n",
        "\n",
        "    epoch_mins, epoch_secs = epoch_time(start_time, end_time)\n",
        "    \n",
        "    if valid_loss < best_valid_loss:\n",
        "        best_valid_loss = valid_loss\n",
        "        torch.save(model.state_dict(), 'tut1-model.pt')\n",
        "    \n",
        "    print(f'Epoch: {epoch+1:02} | Epoch Time: {epoch_mins}m {epoch_secs}s')\n",
        "    print(f'\\tTrain Loss: {train_loss:.3f} | Train Acc: {train_acc*100:.2f}%')\n",
        "    print(f'\\t Val. Loss: {valid_loss:.3f} |  Val. Acc: {valid_acc*100:.2f}%')"
      ],
      "execution_count": 27,
      "outputs": [
        {
          "output_type": "stream",
          "text": [
            "Epoch: 01 | Epoch Time: 0m 14s\n",
            "\tTrain Loss: 0.694 | Train Acc: 50.23%\n",
            "\t Val. Loss: 0.694 |  Val. Acc: 49.36%\n",
            "Epoch: 02 | Epoch Time: 0m 14s\n",
            "\tTrain Loss: 0.693 | Train Acc: 49.68%\n",
            "\t Val. Loss: 0.694 |  Val. Acc: 49.79%\n",
            "Epoch: 03 | Epoch Time: 0m 14s\n",
            "\tTrain Loss: 0.693 | Train Acc: 49.98%\n",
            "\t Val. Loss: 0.694 |  Val. Acc: 49.63%\n",
            "Epoch: 04 | Epoch Time: 0m 14s\n",
            "\tTrain Loss: 0.693 | Train Acc: 49.82%\n",
            "\t Val. Loss: 0.695 |  Val. Acc: 49.46%\n",
            "Epoch: 05 | Epoch Time: 0m 15s\n",
            "\tTrain Loss: 0.693 | Train Acc: 50.36%\n",
            "\t Val. Loss: 0.694 |  Val. Acc: 51.21%\n"
          ],
          "name": "stdout"
        }
      ]
    },
    {
      "cell_type": "code",
      "metadata": {
        "id": "M2jET1vorRHf",
        "outputId": "4ddf24aa-cc71-416b-856e-7153546eab5c",
        "colab": {
          "base_uri": "https://localhost:8080/",
          "height": 34
        }
      },
      "source": [
        "model.load_state_dict(torch.load('tut1-model.pt'))\n",
        "\n",
        "test_loss, test_acc = evaluate(model, test_iterator, criterion)\n",
        "\n",
        "print(f'Test Loss: {test_loss:.3f} | Test Acc: {test_acc*100:.2f}%')"
      ],
      "execution_count": 29,
      "outputs": [
        {
          "output_type": "stream",
          "text": [
            "Test Loss: 0.687 | Test Acc: 58.85%\n"
          ],
          "name": "stdout"
        }
      ]
    },
    {
      "cell_type": "code",
      "metadata": {
        "id": "VukatzPVt6mh"
      },
      "source": [
        ""
      ],
      "execution_count": null,
      "outputs": []
    }
  ]
}
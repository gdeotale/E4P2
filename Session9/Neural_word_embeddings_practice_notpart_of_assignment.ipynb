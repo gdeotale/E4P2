{
  "nbformat": 4,
  "nbformat_minor": 0,
  "metadata": {
    "colab": {
      "name": "Neural_word_embeddings_practice_notpart_of_assignment.ipynb",
      "provenance": [],
      "collapsed_sections": [],
      "authorship_tag": "ABX9TyNaRlNVTfrc9bdW8n8ABDUw",
      "include_colab_link": true
    },
    "kernelspec": {
      "name": "python3",
      "display_name": "Python 3"
    },
    "accelerator": "GPU"
  },
  "cells": [
    {
      "cell_type": "markdown",
      "metadata": {
        "id": "view-in-github",
        "colab_type": "text"
      },
      "source": [
        "<a href=\"https://colab.research.google.com/github/gdeotale/E4P2/blob/master/Session9/Neural_word_embeddings_practice_notpart_of_assignment.ipynb\" target=\"_parent\"><img src=\"https://colab.research.google.com/assets/colab-badge.svg\" alt=\"Open In Colab\"/></a>"
      ]
    },
    {
      "cell_type": "code",
      "metadata": {
        "id": "T9wfZw4roU_P",
        "outputId": "700b58a5-5672-46dd-84af-ee31716bde23",
        "colab": {
          "base_uri": "https://localhost:8080/",
          "height": 34
        }
      },
      "source": [
        "import torch\n",
        "import torch.nn as nn\n",
        "import torch.nn.functional as F\n",
        "import torch.optim as optim\n",
        "\n",
        "torch.manual_seed(1)"
      ],
      "execution_count": 1,
      "outputs": [
        {
          "output_type": "execute_result",
          "data": {
            "text/plain": [
              "<torch._C.Generator at 0x7fbed6e015a0>"
            ]
          },
          "metadata": {
            "tags": []
          },
          "execution_count": 1
        }
      ]
    },
    {
      "cell_type": "code",
      "metadata": {
        "id": "bepJQHJvok2h",
        "outputId": "2a8e25f9-fdda-4046-bf4c-3353f7857516",
        "colab": {
          "base_uri": "https://localhost:8080/",
          "height": 51
        }
      },
      "source": [
        "word_to_ix = {\"hello\": 0, \"world\": 1}\n",
        "embeds = nn.Embedding(2, 5)  # 2 words in vocab, 5 dimensional embeddings\n",
        "lookup_tensor = torch.tensor([word_to_ix[\"hello\"]], dtype=torch.long)\n",
        "hello_embed = embeds(lookup_tensor)\n",
        "print(hello_embed)"
      ],
      "execution_count": 2,
      "outputs": [
        {
          "output_type": "stream",
          "text": [
            "tensor([[ 0.6614,  0.2669,  0.0617,  0.6213, -0.4519]],\n",
            "       grad_fn=<EmbeddingBackward>)\n"
          ],
          "name": "stdout"
        }
      ]
    },
    {
      "cell_type": "code",
      "metadata": {
        "id": "GRA9VPHYooQy",
        "outputId": "3a2c9a0b-c146-4d90-d49c-7630635d3897",
        "colab": {
          "base_uri": "https://localhost:8080/",
          "height": 1000
        }
      },
      "source": [
        "CONTEXT_SIZE = 2\n",
        "EMBEDDING_DIM = 10\n",
        "# We will use Shakespeare Sonnet 2\n",
        "test_sentence = \"\"\"When forty winters shall besiege thy brow,\n",
        "And dig deep trenches in thy beauty's field,\n",
        "Thy youth's proud livery so gazed on now,\n",
        "Will be a totter'd weed of small worth held:\n",
        "Then being asked, where all thy beauty lies,\n",
        "Where all the treasure of thy lusty days;\n",
        "To say, within thine own deep sunken eyes,\n",
        "Were an all-eating shame, and thriftless praise.\n",
        "How much more praise deserv'd thy beauty's use,\n",
        "If thou couldst answer 'This fair child of mine\n",
        "Shall sum my count, and make my old excuse,'\n",
        "Proving his beauty by succession thine!\n",
        "This were to be new made when thou art old,\n",
        "And see thy blood warm when thou feel'st it cold.\"\"\".split()\n",
        "\n",
        "\n",
        "raw_text = \"\"\"We are about to study the idea of a computational process.\n",
        "Computational processes are abstract beings that inhabit computers.\n",
        "As they evolve, processes manipulate other abstract things called data.\n",
        "The evolution of a process is directed by a pattern of rules\n",
        "called a program. People create programs to direct processes. In effect,\n",
        "we conjure the spirits of the computer with our spells.\"\"\".split()\n",
        "\n",
        "# test_sentence\n",
        "# raw_text"
      ],
      "execution_count": 23,
      "outputs": [
        {
          "output_type": "execute_result",
          "data": {
            "text/plain": [
              "['We',\n",
              " 'are',\n",
              " 'about',\n",
              " 'to',\n",
              " 'study',\n",
              " 'the',\n",
              " 'idea',\n",
              " 'of',\n",
              " 'a',\n",
              " 'computational',\n",
              " 'process.',\n",
              " 'Computational',\n",
              " 'processes',\n",
              " 'are',\n",
              " 'abstract',\n",
              " 'beings',\n",
              " 'that',\n",
              " 'inhabit',\n",
              " 'computers.',\n",
              " 'As',\n",
              " 'they',\n",
              " 'evolve,',\n",
              " 'processes',\n",
              " 'manipulate',\n",
              " 'other',\n",
              " 'abstract',\n",
              " 'things',\n",
              " 'called',\n",
              " 'data.',\n",
              " 'The',\n",
              " 'evolution',\n",
              " 'of',\n",
              " 'a',\n",
              " 'process',\n",
              " 'is',\n",
              " 'directed',\n",
              " 'by',\n",
              " 'a',\n",
              " 'pattern',\n",
              " 'of',\n",
              " 'rules',\n",
              " 'called',\n",
              " 'a',\n",
              " 'program.',\n",
              " 'People',\n",
              " 'create',\n",
              " 'programs',\n",
              " 'to',\n",
              " 'direct',\n",
              " 'processes.',\n",
              " 'In',\n",
              " 'effect,',\n",
              " 'we',\n",
              " 'conjure',\n",
              " 'the',\n",
              " 'spirits',\n",
              " 'of',\n",
              " 'the',\n",
              " 'computer',\n",
              " 'with',\n",
              " 'our',\n",
              " 'spells.']"
            ]
          },
          "metadata": {
            "tags": []
          },
          "execution_count": 23
        }
      ]
    },
    {
      "cell_type": "code",
      "metadata": {
        "id": "U_sFNxAupIkI",
        "outputId": "9fce08e7-dfab-479c-ddd9-ec0b1a179f7e",
        "colab": {
          "base_uri": "https://localhost:8080/",
          "height": 54
        }
      },
      "source": [
        "# we should tokenize the input, but we will ignore that for now\n",
        "# build a list of tuples.  Each tuple is ([ word_i-2, word_i-1 ], target word)\n",
        "\n",
        "# trigrams = [([test_sentence[i], test_sentence[i + 1]], test_sentence[i + 2])\n",
        "#             for i in range(len(test_sentence) - 2)]\n",
        "# # print the first 3, just so you can see what they look like\n",
        "# print(trigrams[:3])\n",
        "\n",
        "data = []\n",
        "for i in range(2, len(raw_text) - 2):\n",
        "    context = [raw_text[i - 2], raw_text[i - 1],\n",
        "               raw_text[i + 1], raw_text[i + 2]]\n",
        "    target = raw_text[i]\n",
        "    data.append((context, target))\n",
        "print(data[:5])\n"
      ],
      "execution_count": 24,
      "outputs": [
        {
          "output_type": "stream",
          "text": [
            "[(['We', 'are', 'to', 'study'], 'about'), (['are', 'about', 'study', 'the'], 'to'), (['about', 'to', 'the', 'idea'], 'study'), (['to', 'study', 'idea', 'of'], 'the'), (['study', 'the', 'of', 'a'], 'idea')]\n"
          ],
          "name": "stdout"
        }
      ]
    },
    {
      "cell_type": "code",
      "metadata": {
        "id": "oeXhLT9TpJ_n",
        "outputId": "ce4210b5-95fb-44bb-d206-cca839c71f71",
        "colab": {
          "base_uri": "https://localhost:8080/",
          "height": 34
        }
      },
      "source": [
        "# vocab = set(test_sentence)\n",
        "\n",
        "vocab = set(raw_text)\n",
        "vocab_size = len(vocab)\n",
        "print(vocab_size)\n",
        "word_to_ix = {word: i for i, word in enumerate(vocab)}\n",
        "# word_to_ix"
      ],
      "execution_count": 30,
      "outputs": [
        {
          "output_type": "stream",
          "text": [
            "49\n"
          ],
          "name": "stdout"
        }
      ]
    },
    {
      "cell_type": "code",
      "metadata": {
        "id": "D4U5c6XqpvmC",
        "outputId": "d0c3ca7e-103f-4edf-dc24-bf9210086ce8",
        "colab": {
          "base_uri": "https://localhost:8080/",
          "height": 612
        }
      },
      "source": [
        "# class NGramLanguageModeler(nn.Module):\n",
        "\n",
        "#     def __init__(self, vocab_size, embedding_dim, context_size):\n",
        "#         super(NGramLanguageModeler, self).__init__()\n",
        "#         self.embeddings = nn.Embedding(vocab_size, embedding_dim)\n",
        "#         self.linear1 = nn.Linear(context_size * embedding_dim, 128)\n",
        "#         self.linear2 = nn.Linear(128, vocab_size)\n",
        "\n",
        "#     def forward(self, inputs):\n",
        "#         # print(inputs.shape)\n",
        "#         embeds = self.embeddings(inputs).view((1, -1))\n",
        "#         # print(embeds.shape)\n",
        "#         out = F.relu(self.linear1(embeds))\n",
        "#         out = self.linear2(out)\n",
        "#         log_probs = F.log_softmax(out, dim=1)\n",
        "#         return log_probs\n",
        "\n",
        "class CBOW(nn.Module):\n",
        "\n",
        "    def __init__(self, vocab_size, embedding_dim, context_size):\n",
        "      super(CBOW, self).__init__()\n",
        "      self.embeddings = nn.Embedding(vocab_size, embedding_dim)\n",
        "      self.linear1 = nn.Linear(context_size * 2 * embedding_dim, 128)\n",
        "      self.linear2 = nn.Linear(128, vocab_size)\n",
        "        # pass\n",
        "\n",
        "    def forward(self, inputs):\n",
        "      embeds = self.embeddings(inputs).view((1, -1))\n",
        "      # print(embeds.shape)\n",
        "      out = F.relu(self.linear1(embeds))\n",
        "      out = self.linear2(out)\n",
        "      log_probs = F.log_softmax(out, dim=1)\n",
        "      return log_probs\n",
        "        # pass\n",
        "\n",
        "\n",
        "# !pip install torchsummary\n",
        "!pip install torch-summary\n",
        "from torchsummary import summary\n",
        "use_cuda = torch.cuda.is_available()\n",
        "device = torch.device(\"cuda\" if use_cuda else \"cpu\")\n",
        "# model = NGramLanguageModeler(len(vocab), EMBEDDING_DIM, CONTEXT_SIZE)\n",
        "model = CBOW(vocab_size, EMBEDDING_DIM, CONTEXT_SIZE)\n",
        "summary(model, (2,), dtypes=[torch.long],)"
      ],
      "execution_count": 41,
      "outputs": [
        {
          "output_type": "stream",
          "text": [
            "Requirement already satisfied: torch-summary in /usr/local/lib/python3.6/dist-packages (1.4.3)\n",
            "==========================================================================================\n",
            "Layer (type:depth-idx)                   Output Shape              Param #\n",
            "==========================================================================================\n",
            "├─Embedding: 1-1                         [-1, 2, 10]               490\n",
            "├─Linear: 1-2                            [-1, 128]                 5,248\n",
            "├─Linear: 1-3                            [-1, 49]                  6,321\n",
            "==========================================================================================\n",
            "Total params: 12,059\n",
            "Trainable params: 12,059\n",
            "Non-trainable params: 0\n",
            "Total mult-adds (M): 0.01\n",
            "==========================================================================================\n",
            "Input size (MB): 0.00\n",
            "Forward/backward pass size (MB): 0.00\n",
            "Params size (MB): 0.05\n",
            "Estimated Total Size (MB): 0.05\n",
            "==========================================================================================\n"
          ],
          "name": "stdout"
        },
        {
          "output_type": "execute_result",
          "data": {
            "text/plain": [
              "==========================================================================================\n",
              "Layer (type:depth-idx)                   Output Shape              Param #\n",
              "==========================================================================================\n",
              "├─Embedding: 1-1                         [-1, 2, 10]               490\n",
              "├─Linear: 1-2                            [-1, 128]                 5,248\n",
              "├─Linear: 1-3                            [-1, 49]                  6,321\n",
              "==========================================================================================\n",
              "Total params: 12,059\n",
              "Trainable params: 12,059\n",
              "Non-trainable params: 0\n",
              "Total mult-adds (M): 0.01\n",
              "==========================================================================================\n",
              "Input size (MB): 0.00\n",
              "Forward/backward pass size (MB): 0.00\n",
              "Params size (MB): 0.05\n",
              "Estimated Total Size (MB): 0.05\n",
              "=========================================================================================="
            ]
          },
          "metadata": {
            "tags": []
          },
          "execution_count": 41
        }
      ]
    },
    {
      "cell_type": "code",
      "metadata": {
        "id": "XxPWFOtRDSau"
      },
      "source": [
        "?summary "
      ],
      "execution_count": 42,
      "outputs": []
    },
    {
      "cell_type": "code",
      "metadata": {
        "id": "MArdj7jp9IhO",
        "outputId": "2d4faa4f-0831-45b0-d2c9-c39b72d378e0",
        "colab": {
          "base_uri": "https://localhost:8080/",
          "height": 102
        }
      },
      "source": [
        "model"
      ],
      "execution_count": 43,
      "outputs": [
        {
          "output_type": "execute_result",
          "data": {
            "text/plain": [
              "CBOW(\n",
              "  (embeddings): Embedding(49, 10)\n",
              "  (linear1): Linear(in_features=40, out_features=128, bias=True)\n",
              "  (linear2): Linear(in_features=128, out_features=49, bias=True)\n",
              ")"
            ]
          },
          "metadata": {
            "tags": []
          },
          "execution_count": 43
        }
      ]
    },
    {
      "cell_type": "code",
      "metadata": {
        "id": "dTKHm390qsJC"
      },
      "source": [
        "losses = []\n",
        "loss_function = nn.NLLLoss()\n",
        "# model = NGramLanguageModeler(len(vocab), EMBEDDING_DIM, CONTEXT_SIZE)\n",
        "model = CBOW(vocab_size, EMBEDDING_DIM, CONTEXT_SIZE)\n",
        "optimizer = optim.SGD(model.parameters(), lr=0.001)"
      ],
      "execution_count": 44,
      "outputs": []
    },
    {
      "cell_type": "code",
      "metadata": {
        "id": "5WAiRrlWqvTX"
      },
      "source": [
        "def make_context_vector(context, word_to_ix):\n",
        "    idxs = [word_to_ix[w] for w in context]\n",
        "    return torch.tensor(idxs, dtype=torch.long)\n",
        "\n",
        "for epoch in range(200):\n",
        "    total_loss = 0\n",
        "    # for context, target in trigrams:\n",
        "    for context, target in data:\n",
        "\n",
        "        # Step 1. Prepare the inputs to be passed to the model (i.e, turn the words\n",
        "        # into integer indices and wrap them in tensors)\n",
        "        # context_idxs = torch.tensor([word_to_ix[w] for w in context], dtype=torch.long)\n",
        "        context_idxs = make_context_vector(context, word_to_ix)\n",
        "        # context_idxs = context_idxs.to(device)\n",
        "        # print(context_idxs.shape)\n",
        "        # Step 2. Recall that torch *accumulates* gradients. Before passing in a\n",
        "        # new instance, you need to zero out the gradients from the old\n",
        "        # instance\n",
        "        model.zero_grad()\n",
        "\n",
        "        # Step 3. Run the forward pass, getting log probabilities over next\n",
        "        # words\n",
        "        log_probs = model(context_idxs)\n",
        "\n",
        "        # Step 4. Compute your loss function. (Again, Torch wants the target\n",
        "        # word wrapped in a tensor)\n",
        "        loss = loss_function(log_probs, torch.tensor([word_to_ix[target]], dtype=torch.long))\n",
        "\n",
        "        # Step 5. Do the backward pass and update the gradient\n",
        "        loss.backward()\n",
        "        optimizer.step()\n",
        "\n",
        "        # Get the Python number from a 1-element Tensor by calling tensor.item()\n",
        "        total_loss += loss.item()\n",
        "    losses.append(total_loss)\n"
      ],
      "execution_count": 45,
      "outputs": []
    },
    {
      "cell_type": "code",
      "metadata": {
        "id": "kRuWSM1iq4V5",
        "outputId": "c9ca6ae3-7cf7-4f9b-8ce0-58ea2b316a28",
        "colab": {
          "base_uri": "https://localhost:8080/",
          "height": 54
        }
      },
      "source": [
        "print(losses)  "
      ],
      "execution_count": 46,
      "outputs": [
        {
          "output_type": "stream",
          "text": [
            "[229.22864627838135, 227.83819675445557, 226.45723843574524, 225.08503818511963, 223.72229075431824, 222.3670620918274, 221.0209686756134, 219.68244695663452, 218.35019326210022, 217.023530960083, 215.70147800445557, 214.38367748260498, 213.07029628753662, 211.7609121799469, 210.4551877975464, 209.15214252471924, 207.85123753547668, 206.55268740653992, 205.2561662197113, 203.9607560634613, 202.66791224479675, 201.37641429901123, 200.08639311790466, 198.7975790500641, 197.50996279716492, 196.22253155708313, 194.93501567840576, 193.64668464660645, 192.35688638687134, 191.06495761871338, 189.76912140846252, 188.473379611969, 187.17629647254944, 185.87804174423218, 184.57839179039001, 183.2786670923233, 181.97783386707306, 180.6752896308899, 179.37168955802917, 178.066836476326, 176.75898158550262, 175.44882345199585, 174.13671624660492, 172.82328927516937, 171.50844359397888, 170.1907823085785, 168.8705039024353, 167.55089402198792, 166.22871053218842, 164.9056135416031, 163.5813649892807, 162.2536644935608, 160.92574155330658, 159.5964114665985, 158.2640643119812, 156.92960810661316, 155.5962780714035, 154.25904285907745, 152.92152738571167, 151.5808961391449, 150.2408812046051, 148.89850533008575, 147.55596601963043, 146.21205127239227, 144.86689364910126, 143.52188152074814, 142.17344003915787, 140.82624185085297, 139.47857058048248, 138.128866314888, 136.78017181158066, 135.43155735731125, 134.08218586444855, 132.7307739853859, 131.38186210393906, 130.03238701820374, 128.68294870853424, 127.33336871862411, 125.98342448472977, 124.63734942674637, 123.28841656446457, 121.94501358270645, 120.59879094362259, 119.25660771131516, 117.9164981842041, 116.57705688476562, 115.24069648981094, 113.9060435295105, 112.57520949840546, 111.24628120660782, 109.92038387060165, 108.59601506590843, 107.27741888165474, 105.96172294020653, 104.65156686306, 103.34503388404846, 102.04442811012268, 100.7492102086544, 99.45512825250626, 98.16985210776329, 96.88995045423508, 95.61342889070511, 94.34386748075485, 93.08029642701149, 91.82322734594345, 90.57221856713295, 89.32854494452477, 88.09478226304054, 86.86590006947517, 85.64576643705368, 84.43466010689735, 83.23078188300133, 82.03770476579666, 80.85223826766014, 79.67492309212685, 78.50797620415688, 77.35093501210213, 76.2014229297638, 75.06463727355003, 73.9352755844593, 72.81903621554375, 71.71075242757797, 70.61530095338821, 69.52939569950104, 68.45482248067856, 67.39406701922417, 66.34138378500938, 65.30031679570675, 64.27287492156029, 63.254315599799156, 62.24891059100628, 61.256022945046425, 60.272636115550995, 59.30307884514332, 58.34508815407753, 57.398010328412056, 56.463890850543976, 55.54197509586811, 54.63305255770683, 53.735612109303474, 52.848983228206635, 51.97868648171425, 51.11759880185127, 50.269490629434586, 49.43379154801369, 48.610208332538605, 47.79966229200363, 47.00256994366646, 46.2167396992445, 45.44460029900074, 44.68305125832558, 43.935605958104134, 43.19922786951065, 42.474394142627716, 41.76249074935913, 41.062329053878784, 40.37283390760422, 39.69654069840908, 39.0318888425827, 38.37864676117897, 37.736339032649994, 37.105406388640404, 36.48575523495674, 35.8785424977541, 35.28093348443508, 34.695113092660904, 34.120242923498154, 33.55628600716591, 33.00138892233372, 32.45915438234806, 31.925930976867676, 31.402435779571533, 30.8899727165699, 30.386951878666878, 29.893519021570683, 29.409871339797974, 28.935723900794983, 28.4703606441617, 28.014182344079018, 27.56725884974003, 27.128657460212708, 26.698967419564724, 26.278019592165947, 25.865288868546486, 25.46099504083395, 25.06398916989565, 24.675945520401, 24.294793233275414, 23.921600982546806, 23.55590571463108, 23.197562411427498, 22.84655850380659, 22.502665653824806, 22.165200851857662, 21.835198678076267, 21.511582486331463, 21.194448702037334, 20.883993543684483, 20.579206980764866, 20.281121127307415]\n"
          ],
          "name": "stdout"
        }
      ]
    },
    {
      "cell_type": "code",
      "metadata": {
        "id": "NNXZ1y6Aq9VI",
        "outputId": "6897f97c-046b-4b75-dd66-d8567ebb5257",
        "colab": {
          "base_uri": "https://localhost:8080/",
          "height": 34
        }
      },
      "source": [
        "make_context_vector(data[0][0], word_to_ix)"
      ],
      "execution_count": 47,
      "outputs": [
        {
          "output_type": "execute_result",
          "data": {
            "text/plain": [
              "tensor([38,  5, 47, 21])"
            ]
          },
          "metadata": {
            "tags": []
          },
          "execution_count": 47
        }
      ]
    },
    {
      "cell_type": "code",
      "metadata": {
        "id": "3azQ1db_beS_"
      },
      "source": [
        ""
      ],
      "execution_count": null,
      "outputs": []
    }
  ]
}